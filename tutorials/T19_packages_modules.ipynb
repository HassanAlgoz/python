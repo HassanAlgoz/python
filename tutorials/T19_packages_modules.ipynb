{
 "cells": [
  {
   "cell_type": "markdown",
   "metadata": {},
   "source": [
    "# Packages and Module"
   ]
  },
  {
   "cell_type": "markdown",
   "metadata": {},
   "source": [
    "First you have to create a file `my_module.py` with the following content:\n",
    "\n",
    "```py\n",
    "def my_function():\n",
    "    print(\"Hello from my_module!\")\n",
    "    \n",
    "class MyClass:\n",
    "    def __init__(self):\n",
    "        print(\"An instance of MyClass was created!\")\n",
    "\n",
    "my_variable = 99\n",
    "```"
   ]
  },
  {
   "cell_type": "markdown",
   "metadata": {},
   "source": [
    "Now we can import the module and use it."
   ]
  },
  {
   "cell_type": "code",
   "execution_count": null,
   "metadata": {},
   "outputs": [],
   "source": [
    "import mymodule"
   ]
  },
  {
   "cell_type": "code",
   "execution_count": null,
   "metadata": {},
   "outputs": [
    {
     "name": "stdout",
     "output_type": "stream",
     "text": [
      "Hello from my_module!\n"
     ]
    }
   ],
   "source": [
    "mymodule.my_function()"
   ]
  },
  {
   "cell_type": "code",
   "execution_count": null,
   "metadata": {},
   "outputs": [
    {
     "name": "stdout",
     "output_type": "stream",
     "text": [
      "An instance of MyClass was created!\n"
     ]
    }
   ],
   "source": [
    "obj = mymodule.MyClass()"
   ]
  },
  {
   "cell_type": "code",
   "execution_count": null,
   "metadata": {},
   "outputs": [
    {
     "data": {
      "text/plain": [
       "99"
      ]
     },
     "metadata": {},
     "output_type": "display_data"
    }
   ],
   "source": [
    "mymodule.my_variable"
   ]
  },
  {
   "cell_type": "markdown",
   "metadata": {},
   "source": [
    "Using `dir` to explore the `my_module`:"
   ]
  },
  {
   "cell_type": "code",
   "execution_count": null,
   "metadata": {},
   "outputs": [
    {
     "data": {
      "text/plain": [
       "['MyClass',\n",
       " '__builtins__',\n",
       " '__cached__',\n",
       " '__doc__',\n",
       " '__file__',\n",
       " '__loader__',\n",
       " '__name__',\n",
       " '__package__',\n",
       " '__spec__',\n",
       " 'my_function',\n",
       " 'my_variable']"
      ]
     },
     "metadata": {},
     "output_type": "display_data"
    }
   ],
   "source": [
    "dir(mymodule)"
   ]
  },
  {
   "cell_type": "markdown",
   "metadata": {},
   "source": [
    "We notice a couple of things here:\n",
    "\n",
    "- `dir()` returns a list of defined names in a namespace.\n",
    "- We can see our defined `MyClass`, `my_function`, and `my_variable`\n",
    "- But we also see names with the pattern `__<something>__`; these are special names in Python"
   ]
  },
  {
   "cell_type": "code",
   "execution_count": null,
   "metadata": {},
   "outputs": [
    {
     "name": "stdout",
     "output_type": "stream",
     "text": [
      "__main__\n",
      "mymodule\n"
     ]
    }
   ],
   "source": [
    "print(__name__) # <-- this is the name of the current module\n",
    "print(mymodule.__name__)"
   ]
  },
  {
   "cell_type": "code",
   "execution_count": null,
   "metadata": {},
   "outputs": [
    {
     "name": "stdout",
     "output_type": "stream",
     "text": [
      "MyClass\n",
      "my_function\n",
      "my_variable\n"
     ]
    }
   ],
   "source": [
    "# let's remove any dunder names (names that start and end with __)\n",
    "for name in dir(mymodule):\n",
    "    if not name.startswith('__'):\n",
    "        print(name)"
   ]
  },
  {
   "cell_type": "markdown",
   "metadata": {},
   "source": [
    "- We can import the names directly and expose them to current namespace using `from my_module import *`.\n",
    "- This is not recommended because it can overwrite existing names in the current namespace."
   ]
  },
  {
   "cell_type": "code",
   "execution_count": null,
   "metadata": {},
   "outputs": [
    {
     "name": "stdout",
     "output_type": "stream",
     "text": [
      "A\n",
      "B\n",
      "In\n",
      "MyClass\n",
      "Out\n",
      "_\n",
      "_17\n",
      "_18\n",
      "_19\n",
      "_2\n",
      "_20\n",
      "_29\n",
      "_3\n",
      "_30\n",
      "_dh\n",
      "_i\n",
      "_i1\n",
      "_i10\n",
      "_i11\n",
      "_i12\n",
      "_i13\n",
      "_i14\n",
      "_i15\n",
      "_i16\n",
      "_i17\n",
      "_i18\n",
      "_i19\n",
      "_i2\n",
      "_i20\n",
      "_i21\n",
      "_i22\n",
      "_i23\n",
      "_i24\n",
      "_i25\n",
      "_i26\n",
      "_i27\n",
      "_i28\n",
      "_i29\n",
      "_i3\n",
      "_i30\n",
      "_i31\n",
      "_i32\n",
      "_i33\n",
      "_i34\n",
      "_i4\n",
      "_i5\n",
      "_i6\n",
      "_i7\n",
      "_i8\n",
      "_i9\n",
      "_ih\n",
      "_ii\n",
      "_iii\n",
      "_oh\n",
      "a\n",
      "add\n",
      "b\n",
      "calculate\n",
      "date\n",
      "datetime\n",
      "exit\n",
      "get_ipython\n",
      "greet\n",
      "math\n",
      "my_function\n",
      "my_square\n",
      "my_variable\n",
      "mymodule\n",
      "name\n",
      "obj\n",
      "open\n",
      "outer\n",
      "p\n",
      "quit\n",
      "result_diff\n",
      "result_sum\n",
      "s1\n",
      "s2\n",
      "show\n",
      "sqrt\n",
      "square_root\n",
      "today_date\n",
      "val\n",
      "x\n"
     ]
    }
   ],
   "source": [
    "from mymodule import *\n",
    "\n",
    "for name in dir(): # <-- this will list all the names in the current module\n",
    "    if not name.startswith('__'):\n",
    "        print(name)"
   ]
  },
  {
   "cell_type": "markdown",
   "metadata": {},
   "source": [
    "Notice the current module has `my_function`, `MyClass`, and `my_variable` in its namespace."
   ]
  },
  {
   "cell_type": "code",
   "execution_count": null,
   "metadata": {},
   "outputs": [
    {
     "name": "stdout",
     "output_type": "stream",
     "text": [
      "Hello from my_module!\n"
     ]
    }
   ],
   "source": [
    "# call it directly\n",
    "my_function()"
   ]
  },
  {
   "cell_type": "markdown",
   "metadata": {},
   "source": [
    "### Packages\n",
    "\n",
    "- Packages allow modular code to be organized hierarchically using dot notation, like modules.\n",
    "- They help prevent name collisions between modules, just as modules prevent name collisions between global variables.\n",
    "- By structuring related modules into packages with a common prefix, namespaces remain distinct and organized."
   ]
  },
  {
   "cell_type": "markdown",
   "metadata": {},
   "source": [
    "We assume the following hierarchy:\n",
    "\n",
    "```plaintext\n",
    "current_file.py\n",
    "pkg/\n",
    "    __init__.py\n",
    "    module1.py\n",
    "    module2.py\n",
    "```\n",
    "\n",
    "Where the content of `module1.py` and `module2.py` contain a simple `my_function`.\n",
    "\n",
    "\n",
    "We also assume the content of `__init__.py` is just one line:\n",
    "\n",
    "```py\n",
    "print(\"package initialized!\")\n",
    "```"
   ]
  },
  {
   "cell_type": "code",
   "execution_count": null,
   "metadata": {},
   "outputs": [
    {
     "name": "stdout",
     "output_type": "stream",
     "text": [
      "package initialized!\n",
      "I am a function inside module1.py\n",
      "I am a function inside module2.py\n"
     ]
    }
   ],
   "source": [
    "import pkg.module1 as m1\n",
    "import pkg.module2 as m2\n",
    "\n",
    "m1.my_function()\n",
    "m2.my_function()"
   ]
  },
  {
   "cell_type": "markdown",
   "metadata": {},
   "source": [
    "Notice that:\n",
    "\n",
    "- The file `pkg/__init__.py` file is no longer required in Python 3.3 and later.\n",
    "- However, it is used for intialization code for the package."
   ]
  }
 ],
 "metadata": {
  "language_info": {
   "name": "python"
  }
 },
 "nbformat": 4,
 "nbformat_minor": 2
}
