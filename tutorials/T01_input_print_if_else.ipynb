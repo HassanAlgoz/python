{
 "cells": [
  {
   "cell_type": "markdown",
   "metadata": {},
   "source": [
    "# 1. Python's Interactive Mode\n",
    "\n",
    "Python has an interactive mode which allows you to type commands and get immediate feedback.\n",
    "\n",
    "If we just type `2 + 5` we will see the result immediately:"
   ]
  },
  {
   "cell_type": "code",
   "execution_count": 1,
   "metadata": {},
   "outputs": [
    {
     "data": {
      "text/plain": [
       "7"
      ]
     },
     "execution_count": 1,
     "metadata": {},
     "output_type": "execute_result"
    }
   ],
   "source": [
    "2 + 5"
   ]
  },
  {
   "cell_type": "markdown",
   "metadata": {},
   "source": [
    "#### Exercise:\n",
    "\n",
    "- Create a **code** cell below this one by clicking on this cell and then clicking the `+` button in the toolbar above.\n",
    "- Type `5 + 5` in the cell below and press `Ctrl + Enter` to run the code (make sure the cell is selected).\n",
    "- Note: if you press `Shift + Enter` it will run the code and move to the next cell"
   ]
  },
  {
   "cell_type": "code",
   "execution_count": null,
   "metadata": {},
   "outputs": [],
   "source": [
    "# try it"
   ]
  },
  {
   "cell_type": "markdown",
   "metadata": {},
   "source": [
    "Try out different mathematical operations in the cell below:\n",
    "\n",
    "- add: `5 + 5`\n",
    "- subtract: `9 - 4`\n",
    "- multily: `2 * 5`\n",
    "- divide: `5 / 5`\n",
    "- power: `2 ** 4`"
   ]
  },
  {
   "cell_type": "code",
   "execution_count": null,
   "metadata": {},
   "outputs": [],
   "source": [
    "# try it"
   ]
  },
  {
   "cell_type": "markdown",
   "metadata": {},
   "source": [
    "Note that if you place two commands in the same cell, only the last one will be printed. So, if you type `5 + 5` and then `9 - 4` only `9 - 4` will be printed. If you want to print both, you need to use the `print()` function, like so:"
   ]
  },
  {
   "cell_type": "code",
   "execution_count": null,
   "metadata": {},
   "outputs": [],
   "source": [
    "print(5 + 5)\n",
    "print(9 - 4)"
   ]
  },
  {
   "cell_type": "markdown",
   "metadata": {},
   "source": [
    "The `print()` function is used to print things to the screen. It can be used to print text, numbers, or the results of calculations.\n",
    "\n",
    "You can also print multiple things at once by separating them with commas, like so:"
   ]
  },
  {
   "cell_type": "code",
   "execution_count": 2,
   "metadata": {},
   "outputs": [
    {
     "name": "stdout",
     "output_type": "stream",
     "text": [
      "My age is: 40\n"
     ]
    }
   ],
   "source": [
    "print(\"My age is:\", 40)"
   ]
  },
  {
   "cell_type": "code",
   "execution_count": null,
   "metadata": {},
   "outputs": [],
   "source": [
    "# try it"
   ]
  },
  {
   "cell_type": "markdown",
   "metadata": {},
   "source": [
    "## Take input from the user\n",
    "\n",
    "We can use the `input()` function to take input from the user. The `input()` function will print a message to the screen and then wait for the user to type something and press `Enter`. Once the user presses `Enter`, the `input()` function will return whatever the user typed."
   ]
  },
  {
   "cell_type": "code",
   "execution_count": 3,
   "metadata": {},
   "outputs": [],
   "source": [
    "name = input(\"What is your name? \")"
   ]
  },
  {
   "cell_type": "code",
   "execution_count": null,
   "metadata": {},
   "outputs": [],
   "source": []
  },
  {
   "cell_type": "markdown",
   "metadata": {},
   "source": [
    "We can now use the `name` variable to greet the user:"
   ]
  },
  {
   "cell_type": "code",
   "execution_count": 4,
   "metadata": {},
   "outputs": [
    {
     "name": "stdout",
     "output_type": "stream",
     "text": [
      "Hello and welcome John to the Python course\n"
     ]
    }
   ],
   "source": [
    "print(\"Welcome\", name, \"to the Python course\")"
   ]
  },
  {
   "cell_type": "markdown",
   "metadata": {},
   "source": [
    "We can also take numbers. However, since `input` always returns a string, we need to convert the string to a number using the `int()` function:"
   ]
  },
  {
   "cell_type": "code",
   "execution_count": 5,
   "metadata": {},
   "outputs": [],
   "source": [
    "str_age = input(\"Enter your age: \")\n",
    "age = int(str_age)"
   ]
  },
  {
   "cell_type": "code",
   "execution_count": 6,
   "metadata": {},
   "outputs": [
    {
     "name": "stdout",
     "output_type": "stream",
     "text": [
      "not enough\n"
     ]
    }
   ],
   "source": [
    "if age > 18:\n",
    "    print(\"You are old enough to vote\")\n",
    "else:\n",
    "    print(\"not enough\")"
   ]
  },
  {
   "cell_type": "markdown",
   "metadata": {},
   "source": [
    "#### Exercise:\n",
    "\n",
    "- Use the `input` function to ask the user for their first name and store it in a variable called `first_name`\n",
    "- Use the `input` function to ask the user for their last name and store it in a variable called `last_name`\n",
    "- Print a greeting to the user using their first and last name\n",
    "\n",
    "Write your code below:"
   ]
  },
  {
   "cell_type": "code",
   "execution_count": null,
   "metadata": {},
   "outputs": [],
   "source": [
    "# try it"
   ]
  },
  {
   "cell_type": "markdown",
   "metadata": {},
   "source": [
    "#### Exercise\n",
    "\n",
    "Calculate the area of a rectangle:\n",
    "\n",
    "- Use the `input` function to ask the user for `width` of a rectangle\n",
    "- Use the `input` function to ask the user for `height` of a rectangle\n",
    "- Calculate the area of the rectangle and store it in a variable called `area`\n",
    "- Print the area of the rectangle\n",
    "\n",
    "Don't forget to convert the `width` and `height` to numbers using the `int()` function.\n",
    "\n",
    "Write your code below:"
   ]
  },
  {
   "cell_type": "code",
   "execution_count": 7,
   "metadata": {},
   "outputs": [],
   "source": [
    "# try it"
   ]
  },
  {
   "cell_type": "markdown",
   "metadata": {},
   "source": [
    "#### Try it your self\n",
    "\n",
    "Determine if a number is even or odd:\n",
    "\n",
    "- Use the `input` function to ask the user for a number\n",
    "- Convert the number to an integer using the `int()` function\n",
    "- Determine if the number is even or odd and store the result in a variable called `result`\n",
    "    - note: the `%` operator returns the remainder of a division\n",
    "    - note: if the remainder is 0, the number is even, otherwise it is odd\n",
    "- Finally, print the result"
   ]
  },
  {
   "cell_type": "code",
   "execution_count": 8,
   "metadata": {},
   "outputs": [],
   "source": [
    "# try it"
   ]
  },
  {
   "cell_type": "markdown",
   "metadata": {},
   "source": [
    "#### Try it your self\n",
    "\n",
    "Asks the user for their `age` and tell them how old they will be in 10 years."
   ]
  },
  {
   "cell_type": "code",
   "execution_count": 9,
   "metadata": {},
   "outputs": [],
   "source": [
    "# try it"
   ]
  },
  {
   "cell_type": "markdown",
   "metadata": {},
   "source": [
    "# 2. Control Flow"
   ]
  },
  {
   "cell_type": "markdown",
   "metadata": {},
   "source": [
    "## 2.1 Order of execution\n",
    "\n",
    "Python is a ***procedural programming language*** (as opposed to ***Declarative***). This means that code is executed in the order that it is written. For example, if we write the following code:"
   ]
  },
  {
   "cell_type": "code",
   "execution_count": null,
   "metadata": {},
   "outputs": [],
   "source": [
    "x = 5\n",
    "x = 2"
   ]
  },
  {
   "cell_type": "markdown",
   "metadata": {},
   "source": [
    "The value of x will be 2, because the last line of code sets the value of x to 2."
   ]
  },
  {
   "cell_type": "markdown",
   "metadata": {},
   "source": [
    "#### Exercise\n",
    "\n",
    "- Create a variable `name` and set it to someone's name\n",
    "- Reassign the variable `name` to someone else's name\n",
    "- Print the value of `name` to see the value it holds now"
   ]
  },
  {
   "cell_type": "code",
   "execution_count": 13,
   "metadata": {},
   "outputs": [],
   "source": [
    "# try it"
   ]
  },
  {
   "cell_type": "markdown",
   "metadata": {},
   "source": [
    "## 2.2 Boolean Expressions"
   ]
  },
  {
   "cell_type": "markdown",
   "metadata": {},
   "source": [
    "Boolean expressions are expressions that evaluate to either `True` or `False`. The following operators are used to compare values:\n",
    "\n",
    "| Operator | Description |\n",
    "| --- | --- |\n",
    "| `==` | Equal to |\n",
    "| `!=` | Not equal to |\n",
    "| `>` | Greater than |\n",
    "| `<` | Less than |\n",
    "| `>=` | Greater than or equal to |\n",
    "| `<=` | Less than or equal to |"
   ]
  },
  {
   "cell_type": "markdown",
   "metadata": {},
   "source": [
    "Let's try few examples of boolean expressions:"
   ]
  },
  {
   "cell_type": "code",
   "execution_count": 14,
   "metadata": {},
   "outputs": [
    {
     "data": {
      "text/plain": [
       "False"
      ]
     },
     "execution_count": 14,
     "metadata": {},
     "output_type": "execute_result"
    }
   ],
   "source": [
    "5 > 9"
   ]
  },
  {
   "cell_type": "code",
   "execution_count": null,
   "metadata": {},
   "outputs": [
    {
     "name": "stdout",
     "output_type": "stream",
     "text": [
      "False\n"
     ]
    }
   ],
   "source": [
    "b1 = 5 > 9\n",
    "print(b1)"
   ]
  },
  {
   "cell_type": "code",
   "execution_count": null,
   "metadata": {},
   "outputs": [
    {
     "name": "stdout",
     "output_type": "stream",
     "text": [
      "True\n"
     ]
    }
   ],
   "source": [
    "b2 = len('aaa') > len('bc')\n",
    "print(b2)"
   ]
  },
  {
   "cell_type": "markdown",
   "metadata": {},
   "source": [
    "Boolean expressions can be combined using the `and`, `or`, and `not` operators:"
   ]
  },
  {
   "cell_type": "code",
   "execution_count": null,
   "metadata": {},
   "outputs": [
    {
     "name": "stdout",
     "output_type": "stream",
     "text": [
      "False\n"
     ]
    }
   ],
   "source": [
    "b3 = b1 and b2\n",
    "print(b3)"
   ]
  },
  {
   "cell_type": "code",
   "execution_count": null,
   "metadata": {},
   "outputs": [
    {
     "name": "stdout",
     "output_type": "stream",
     "text": [
      "True\n"
     ]
    }
   ],
   "source": [
    "b4 = b1 or b2 or b3\n",
    "print(b4)"
   ]
  },
  {
   "cell_type": "code",
   "execution_count": null,
   "metadata": {},
   "outputs": [
    {
     "name": "stdout",
     "output_type": "stream",
     "text": [
      "True\n"
     ]
    }
   ],
   "source": [
    "b5 = not b1\n",
    "print(b5)"
   ]
  },
  {
   "cell_type": "markdown",
   "metadata": {},
   "source": [
    "#### Exercise\n",
    "\n",
    "- Write two boolean expressions and assign them to two variables called `true1` and `true2`\n",
    "- Write two boolean expressions and assign them to two variables called `false1` and `false2`\n",
    "- Use the `and` and the `or` operators to combine the boolean expressions you created above"
   ]
  },
  {
   "cell_type": "code",
   "execution_count": null,
   "metadata": {},
   "outputs": [],
   "source": [
    "# try it"
   ]
  },
  {
   "cell_type": "markdown",
   "metadata": {},
   "source": [
    "## Conditional Statements\n",
    "\n",
    "Conditional statements are used to execute different pieces of code depending on the value of a boolean expression. The syntax for a conditional statement is as follows:\n",
    "\n",
    "```python\n",
    "if <boolean expression>:\n",
    "    <code>\n",
    "elif <boolean expression>:\n",
    "    <code>\n",
    "else:\n",
    "    <code>\n",
    "```\n",
    "\n",
    "The `elif` and `else` clauses are optional. The `elif` clause can be repeated as many times as needed. The `else` clause can only appear once and must be at the end of the conditional statement."
   ]
  },
  {
   "cell_type": "code",
   "execution_count": null,
   "metadata": {},
   "outputs": [],
   "source": [
    "x = 5\n",
    "if x < 10:\n",
    "    print('Smaller')\n",
    "if x > 20:\n",
    "    print('Bigger')\n",
    "\n",
    "print('Finish')"
   ]
  },
  {
   "cell_type": "markdown",
   "metadata": {},
   "source": [
    "### The `if`"
   ]
  },
  {
   "cell_type": "code",
   "execution_count": 15,
   "metadata": {},
   "outputs": [
    {
     "name": "stdout",
     "output_type": "stream",
     "text": [
      "You are eligible to donate blood\n"
     ]
    }
   ],
   "source": [
    "age = 20\n",
    "height = 175\n",
    "\n",
    "if age > 18 and height > 170:\n",
    "  print(\"You are eligible to donate blood\")"
   ]
  },
  {
   "cell_type": "code",
   "execution_count": 16,
   "metadata": {},
   "outputs": [
    {
     "name": "stdout",
     "output_type": "stream",
     "text": [
      "It's too hot or raining, don't go outside\n"
     ]
    }
   ],
   "source": [
    "temp = 30 # short for temperature\n",
    "rain = False\n",
    "\n",
    "if temp > 25 or rain == True:\n",
    "  print(\"It's too hot or raining, don't go outside\")"
   ]
  },
  {
   "cell_type": "markdown",
   "metadata": {},
   "source": [
    "#### Exercise\n",
    "\n",
    "- Take two inputs from the user:\n",
    "    - `username`\n",
    "    - `passsword`\n",
    "- Check if the username is \"admin\" and the password is \"secret\", then, print: \"Welcome admin!\""
   ]
  },
  {
   "cell_type": "code",
   "execution_count": 17,
   "metadata": {},
   "outputs": [],
   "source": [
    "# try it"
   ]
  },
  {
   "cell_type": "markdown",
   "metadata": {},
   "source": [
    "### Multiple `if`s\n",
    "\n",
    "It is possible to have multiple `if` statements on one level. Example:\n",
    "\n",
    "```python\n",
    "if <boolean expression>:\n",
    "    <code>\n",
    "    \n",
    "if <boolean expression>:\n",
    "    <code>\n",
    "```\n",
    "\n",
    "In this case, the two `if` conditions are independent of each other:\n",
    "- If the first condition is `True`, the code in the first `if` block will be executed.\n",
    "- If the second condition is `True`, the code in the second `if` block will be executed.\n",
    "- If both conditions are `True`, both blocks will be executed."
   ]
  },
  {
   "cell_type": "markdown",
   "metadata": {},
   "source": [
    "#### Exercise\n",
    "\n",
    "- Ask the user to enter their a number\n",
    "- Convert the input to an integer using the `int()` function\n",
    "- If the number is positive, print: \"Positive number\"\n",
    "- If the number is zero, print: \"Zero\"\n",
    "- If the number is negative, print: \"Negative number\""
   ]
  },
  {
   "cell_type": "markdown",
   "metadata": {},
   "source": [
    "### The `else`\n",
    "\n",
    "The `else` clause is used to execute a piece of code if the boolean expression is `False`."
   ]
  },
  {
   "cell_type": "code",
   "execution_count": 20,
   "metadata": {},
   "outputs": [
    {
     "name": "stdout",
     "output_type": "stream",
     "text": [
      "You are not eligible to vote\n",
      "done\n"
     ]
    }
   ],
   "source": [
    "age = 12\n",
    "\n",
    "if age >= 18:\n",
    "  print(\"You are eligible to vote\")\n",
    "else:\n",
    "  print(\"You are not eligible to vote\")\n",
    "\n",
    "print('done')"
   ]
  },
  {
   "cell_type": "markdown",
   "metadata": {},
   "source": [
    "#### Exercise\n",
    "\n",
    "- Define variable `balance` that stores the balance of the user's bank account\n",
    "- Set `balance = 10000`\n",
    "- Ask the user to enter the amount of money they want to withdraw\n",
    "    - Convert the input to an integer using the `int()` function\n",
    "- Check if the balance is greater than or equal to the amount the user wants to withdraw\n",
    "    - If it is, print: \"Here is your money\"\n",
    "    - If it is not, print: \"Insufficient funds\""
   ]
  },
  {
   "cell_type": "markdown",
   "metadata": {},
   "source": [
    "### The `elif`"
   ]
  },
  {
   "cell_type": "markdown",
   "metadata": {},
   "source": [
    "The following makes use of `if` and `elif`, which is short for \"else if\": if the first condition is not met, it will check the next one, and so on. If none of the conditions are met, it will execute the `else` block.\n",
    "\n",
    "Say we want to assign a grade to a student based on their score, according to the following table:\n",
    "\n",
    "| Mark | Grade |\n",
    "|---|---|\n",
    "| 90-100 | A |\n",
    "| 80-89 | B |\n",
    "| 70-79 | C |\n",
    "| 60-69 | D |\n",
    "| 0-59 | F |"
   ]
  },
  {
   "cell_type": "code",
   "execution_count": 25,
   "metadata": {},
   "outputs": [
    {
     "name": "stdout",
     "output_type": "stream",
     "text": [
      "Your grade is a B\n"
     ]
    }
   ],
   "source": [
    "score = input(\"Enter your exam score: \")\n",
    "\n",
    "score = int(score)\n",
    "\n",
    "if score >= 90:\n",
    "  print(\"Your grade is an A\")\n",
    "elif score >= 80:\n",
    "  print(\"Your grade is a B\")  \n",
    "elif score >= 70:\n",
    "  print(\"Your grade is a C\")\n",
    "elif score >= 60: \n",
    "  print(\"Your grade is a D\")\n",
    "else:\n",
    "  print(\"Your grade is an F\")"
   ]
  },
  {
   "cell_type": "markdown",
   "metadata": {},
   "source": [
    "#### Exercise\n",
    "\n",
    "- Ask the user to enter their age\n",
    "- Convert the input to an integer using the `int()` function\n",
    "- If the age is less than 5, print: `\"Early childhood\"`\n",
    "- Else If the age is between 5 and 12, print: `\"Childhood\"`\n",
    "- Else If the age is between 12 and 18, print: `\"Teenager\"`\n",
    "- Else If the age is between 18 and 65, print: `\"Adult\"`\n",
    "- Else print: `\"Senior citizen\"`\n",
    "\n",
    "Note: using `elif` makes it possible to check ranges based on the previous condition.\n",
    "\n",
    "<details>\n",
    "<summary>Click to see solution</summary>\n",
    "\n",
    "```py\n",
    "age = int(input(\"Enter your age: \"))\n",
    "\n",
    "if age < 5:\n",
    "  print(\"Early childhood\")\n",
    "elif age < 12:\n",
    "  print(\"Childhood\")\n",
    "elif age < 18:\n",
    "  print(\"Teenager\")  \n",
    "elif age < 65:\n",
    "  print(\"Adult\")\n",
    "else:\n",
    "  print(\"Senior citizen\")\n",
    "```\n",
    "\n",
    "</details>\n",
    "\n"
   ]
  },
  {
   "cell_type": "code",
   "execution_count": null,
   "metadata": {},
   "outputs": [],
   "source": [
    "# try it"
   ]
  },
  {
   "cell_type": "markdown",
   "metadata": {},
   "source": [
    "### Nested `if`s\n",
    "\n",
    "Nested `if` statements are `if` statements inside other `if` statements. For example:\n",
    "\n",
    "```python\n",
    "\n",
    "if <boolean expression>:\n",
    "    if <boolean expression>:\n",
    "        <code>\n",
    "    else:\n",
    "        <code>\n",
    "else:\n",
    "    <code>\n",
    "```\n",
    "\n",
    "- In this case, the inner `if` statement will only be tested if the outer `if` statement is `True`.\n",
    "- Also note that the indentation is important. The inner `if` statement must be indented more than the outer `if` statement.\n",
    "- The `else` clause belongs to the `if` statement at the same indentation level."
   ]
  },
  {
   "cell_type": "markdown",
   "metadata": {},
   "source": [
    "The following example assigns the letter grade for score ranges, and then prints an additional message depending on sub-ranges:"
   ]
  },
  {
   "cell_type": "code",
   "execution_count": null,
   "metadata": {},
   "outputs": [],
   "source": [
    "score = int(input(\"Enter your test score: \"))\n",
    "\n",
    "if score >= 90:\n",
    "  letter_grade = \"A\"\n",
    "  \n",
    "  if score >= 95:\n",
    "    print(\"Outstanding, you scored an A+!\")\n",
    "  else:\n",
    "    print(\"Well done, you scored an A.\")\n",
    "  \n",
    "elif score >= 80:  \n",
    "  letter_grade = \"B\"\n",
    "  \n",
    "  if score >= 85:\n",
    "    print(\"Great work, you scored a B+!\") \n",
    "  else:\n",
    "    print(\"Nice job, you scored a B.\")\n",
    "    \n",
    "elif score >= 70:\n",
    "  letter_grade = \"C\"\n",
    "  print(\"Good effort, you scored a C.\")\n",
    "  \n",
    "else: \n",
    "  letter_grade = \"F\"\n",
    "  print(\"Better luck next time, you scored an F.\")\n",
    "  \n",
    "print(\"Your letter grade is\", letter_grade)"
   ]
  },
  {
   "cell_type": "markdown",
   "metadata": {},
   "source": [
    "#### Exercise\n",
    "\n",
    "Build a program that determines a person's fitness category based on their age and time to run 1 mile.\n",
    "\n",
    "The categories are:\n",
    "\n",
    "- **Excellent**: Under 30 years and run time less than 6 minutes \n",
    "- **Good**: Under 30 years and run time 6-8 minutes OR 30-40 years and run time less than 7 minutes\n",
    "- **Fair**: Under 30 years and run time 8-10 minutes OR 30-40 years and run time 7-9 minutes OR over 40 years and run time less than 10 minutes\n",
    "- **Needs improvement**: Anytime outside the above ranges\n",
    "\n",
    "Ask the user to input their age and run time. Then use nested if statements to determine and print their fitness category.\n",
    "\n",
    "Some hints:\n",
    "\n",
    "- Use nested ifs to check age ranges first before time ranges \n",
    "- Multiple conditions can apply within age ranges using and/or\n",
    "- Have an else clause to catch invalid/remaining inputs"
   ]
  },
  {
   "cell_type": "markdown",
   "metadata": {},
   "source": [
    "Please complete the following code to solove the problem:"
   ]
  },
  {
   "cell_type": "code",
   "execution_count": null,
   "metadata": {},
   "outputs": [],
   "source": [
    "age = int(input(\"Enter your age: \"))\n",
    "time = float(input(\"Enter your run time in minutes: \"))\n",
    "\n",
    "category = \"\"\n",
    "\n",
    "if age < 30:\n",
    "  if time < 6:\n",
    "    category = \"Excellent\"\n",
    "  elif time >= 6 and time <= 8:\n",
    "    category = \"Good\"\n",
    "  elif time > 8 and time <= 10:\n",
    "    category = \"Fair\"\n",
    "  else:\n",
    "    category = \"Needs improvement\"\n",
    "\n",
    "# try it\n",
    "elif "
   ]
  },
  {
   "cell_type": "markdown",
   "metadata": {},
   "source": [
    "End of Tutorial."
   ]
  }
 ],
 "metadata": {
  "kernelspec": {
   "display_name": "Python 3",
   "language": "python",
   "name": "python3"
  },
  "language_info": {
   "codemirror_mode": {
    "name": "ipython",
    "version": 3
   },
   "file_extension": ".py",
   "mimetype": "text/x-python",
   "name": "python",
   "nbconvert_exporter": "python",
   "pygments_lexer": "ipython3",
   "version": "3.9.18"
  }
 },
 "nbformat": 4,
 "nbformat_minor": 2
}
