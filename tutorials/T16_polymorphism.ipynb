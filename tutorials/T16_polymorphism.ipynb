{
 "cells": [
  {
   "cell_type": "markdown",
   "metadata": {},
   "source": [
    "# Polymorphism\n",
    "\n",
    "***Polymorphism*** is the ability to present the same interface for differing underlying forms (data types).\n",
    "\n",
    "What makes `len()` work on many different types in Python? Polymorphism!"
   ]
  },
  {
   "cell_type": "code",
   "execution_count": null,
   "metadata": {},
   "outputs": [],
   "source": [
    "len() # <-- Ctrl + Click to see the documentation"
   ]
  },
  {
   "cell_type": "code",
   "execution_count": 6,
   "metadata": {},
   "outputs": [
    {
     "name": "stdout",
     "output_type": "stream",
     "text": [
      "size of a list: 3\n",
      "cardinality of a set: 5\n",
      "number of pairs in a dictionary: 3\n"
     ]
    }
   ],
   "source": [
    "my_list = [1,2,3]\n",
    "my_set = {1,2,3,4,5}\n",
    "my_dict = {'a': 1, 'b': 2, 'c': 3}\n",
    "print('size of a list:', len(my_list))\n",
    "print('cardinality of a set:', len(my_set))\n",
    "print('number of pairs in a dictionary:', len(my_dict))"
   ]
  },
  {
   "cell_type": "markdown",
   "metadata": {},
   "source": [
    "### Implementing the length interface"
   ]
  },
  {
   "cell_type": "code",
   "execution_count": 1,
   "metadata": {},
   "outputs": [
    {
     "data": {
      "text/plain": [
       "5"
      ]
     },
     "execution_count": 1,
     "metadata": {},
     "output_type": "execute_result"
    }
   ],
   "source": [
    "class A:\n",
    "    def __len__(self):\n",
    "        return 5\n",
    "\n",
    "a = A()\n",
    "len(a)"
   ]
  },
  {
   "cell_type": "markdown",
   "metadata": {},
   "source": [
    "The word itself means \"many forms\", and it can be achieved in Python through **inheritance**, **overriding** and **duck typing**."
   ]
  },
  {
   "cell_type": "markdown",
   "metadata": {},
   "source": [
    "## Superclass"
   ]
  },
  {
   "cell_type": "markdown",
   "metadata": {},
   "source": [
    "### Example 1: Animal (Concrete Class)\n",
    "\n",
    "- Concrete classes are classes that have a complete implementation and can be instantiated."
   ]
  },
  {
   "cell_type": "code",
   "execution_count": null,
   "metadata": {},
   "outputs": [],
   "source": [
    "class Animal:\n",
    "    def __init__(self, name, level):\n",
    "        self.name = name\n",
    "        self.level = level\n",
    "\n",
    "    def speak(self):\n",
    "        pass\n",
    "\n",
    "class Dog(Animal):\n",
    "    def speak(self):\n",
    "        return f\"Woof! \" * self.level\n",
    "\n",
    "class Cat(Animal):\n",
    "    def speak(self):\n",
    "        return f\"Meow! \" * self.level\n",
    "\n",
    "class Dragon(Animal):\n",
    "    def speak(self):\n",
    "        return f\"ROAR! \" * self.level"
   ]
  },
  {
   "cell_type": "code",
   "execution_count": null,
   "metadata": {},
   "outputs": [],
   "source": [
    "# Create a list of animals\n",
    "animals = [\n",
    "    Dog(\"Barko\", 3),\n",
    "    Cat(\"Meme\", 1),\n",
    "    Dragon(\"Dogma\", 2),\n",
    "    Dragon(\"Darko\", 4),\n",
    "]"
   ]
  },
  {
   "cell_type": "code",
   "execution_count": null,
   "metadata": {},
   "outputs": [
    {
     "name": "stdout",
     "output_type": "stream",
     "text": [
      "Barko says: WOOF! WOOF! WOOF! \n",
      "Meme says: MEOW! \n",
      "Dogma says: ROAR! ROAR! \n",
      "Darko says: ROAR! ROAR! ROAR! ROAR! \n"
     ]
    }
   ],
   "source": [
    "# Make each animal speak\n",
    "for a in animals:\n",
    "    print(f'{a.name} says: {a.speak().upper()}')"
   ]
  },
  {
   "cell_type": "markdown",
   "metadata": {},
   "source": [
    "### Example 2: Shape (Abstract Class)\n",
    "\n",
    "- Abstract classes are classes that contain one or more abstract methods.\n",
    "- An abstract method is a method that is declared, but contains no implementation. \n",
    "- Abstract classes may not be instantiated, and require subclasses to provide implementations for the abstract methods."
   ]
  },
  {
   "cell_type": "code",
   "execution_count": null,
   "metadata": {},
   "outputs": [],
   "source": [
    "class Shape:\n",
    "    def area(self):\n",
    "        pass\n",
    "    \n",
    "    def perimeter(self):\n",
    "        pass\n",
    "\n",
    "\n",
    "class Circle(Shape):\n",
    "    def __init__(self, radius):\n",
    "        self.radius = radius\n",
    "\n",
    "    def area(self):\n",
    "        return 3.14 * self.radius ** 2\n",
    "\n",
    "    def perimeter(self):\n",
    "        return 2 * 3.14 * self.radius\n",
    "\n",
    "\n",
    "class Rectangle(Shape):\n",
    "    def __init__(self, width, height):\n",
    "        self.width = width\n",
    "        self.height = height\n",
    "        \n",
    "    def area(self):\n",
    "        return self.width * self.height\n",
    "\n",
    "    def perimeter(self):\n",
    "        return 2 * (self.width + self.height)\n",
    "\n",
    "\n",
    "class Triangle(Shape):\n",
    "    def __init__(self, base, height, s1, s2, s3):\n",
    "        self.base = base\n",
    "        self.height = height\n",
    "        self.s1 = s1\n",
    "        self.s2 = s2\n",
    "        self.s3 = s3\n",
    "        \n",
    "    def area(self):\n",
    "        return (self.base * self.height) / 2\n",
    "\n",
    "    def perimeter(self):\n",
    "        return self.s1 + self.s2 + self.s3"
   ]
  },
  {
   "cell_type": "code",
   "execution_count": null,
   "metadata": {},
   "outputs": [
    {
     "name": "stdout",
     "output_type": "stream",
     "text": [
      "78.50 , 31.40\n",
      "12.56 , 12.56\n",
      "12.00 , 14.00\n",
      "2.50 , 12.00\n"
     ]
    }
   ],
   "source": [
    "shapes = [\n",
    "    Circle(5),\n",
    "    Circle(2),\n",
    "    Rectangle(3, 4),\n",
    "    Triangle(5, 1, 3, 4, 5)\n",
    "]\n",
    "for s in shapes:\n",
    "    print(f'{s.area():.2f} , {s.perimeter():.2f}')"
   ]
  },
  {
   "cell_type": "markdown",
   "metadata": {},
   "source": [
    "### Exercise: Vehicles\n",
    "\n",
    "Consider the following superclass `Vehicle`, and the subclasses `Car` and `Truck`:\n",
    "\n",
    "- Create class `Boat` that also implements `Vehicle`\n",
    "- Create class `Plane` that also implements `Vehicle`"
   ]
  },
  {
   "cell_type": "code",
   "execution_count": null,
   "metadata": {},
   "outputs": [],
   "source": [
    "class Vehicle:\n",
    "    def __init__(self, brand, model):\n",
    "        self.brand = brand\n",
    "        self.model = model\n",
    "\n",
    "    def move(self):\n",
    "        print(\"Move!\")\n",
    "\n",
    "class Car(Vehicle):\n",
    "    def __init__(self, brand, model, size):\n",
    "        super().__init__(brand, model)\n",
    "        self.size = size\n",
    "\n",
    "    def move(self):\n",
    "        print(\"Drive!\")\n",
    "\n",
    "\n",
    "class Boat(Vehicle):\n",
    "    # try it\n",
    "    pass\n",
    "\n",
    "class Plane(Vehicle):\n",
    "    # try it\n",
    "    pass"
   ]
  },
  {
   "cell_type": "markdown",
   "metadata": {},
   "source": [
    "- Now, create a list of vehicles\n",
    "- Loop over the list and call `move()` on each vehicle"
   ]
  },
  {
   "cell_type": "code",
   "execution_count": null,
   "metadata": {},
   "outputs": [],
   "source": [
    "# try it\n",
    "vehicles = [   ]"
   ]
  },
  {
   "cell_type": "markdown",
   "metadata": {},
   "source": [
    "### Inheritance Chain\n",
    "\n",
    "A class can inherit from another class, and that class can inherit from another class, and so on.\n",
    "\n",
    "The following demonstrate a chain of 3 objects: A `Manager` is an `Employee` which is a `Person`."
   ]
  },
  {
   "cell_type": "code",
   "execution_count": 1,
   "metadata": {},
   "outputs": [],
   "source": [
    "class Person:\n",
    "    def __init__(self, name, age):\n",
    "        self.name = name\n",
    "        self.age = age\n",
    "\n",
    "    def info(self):\n",
    "        return f\"{self.name} ({self.age} years old)\"\n",
    "\n",
    "\n",
    "class Employee(Person):\n",
    "    def __init__(self, name, age, salary):\n",
    "        super().__init__(name, age)\n",
    "        self.salary = salary\n",
    "\n",
    "    def info(self):\n",
    "        return f\"{self.name} ({self.age} years old) - ${self.salary:.2f} per year\"\n",
    "\n",
    "\n",
    "class Manager(Employee):\n",
    "    def __init__(self, name, age, salary, team):\n",
    "        super().__init__(name, age, salary)\n",
    "        self.team = team\n",
    "\n",
    "    def info(self):\n",
    "        return f\"{self.name} ({self.age} years old) - ${self.salary:.2f} per year - manages {len(self.team)} employees\"\n"
   ]
  },
  {
   "cell_type": "code",
   "execution_count": null,
   "metadata": {},
   "outputs": [
    {
     "name": "stdout",
     "output_type": "stream",
     "text": [
      "John Smith (30 years old)\n"
     ]
    }
   ],
   "source": [
    "p = Person(\"John Smith\", 30)\n",
    "print(p.info())"
   ]
  },
  {
   "cell_type": "code",
   "execution_count": null,
   "metadata": {},
   "outputs": [
    {
     "name": "stdout",
     "output_type": "stream",
     "text": [
      "Jane Doe (25 years old) - $50000.00 per year\n"
     ]
    }
   ],
   "source": [
    "e = Employee(\"Jane Doe\", 25, 50000)\n",
    "print(e.info())"
   ]
  },
  {
   "cell_type": "code",
   "execution_count": null,
   "metadata": {},
   "outputs": [
    {
     "name": "stdout",
     "output_type": "stream",
     "text": [
      "Alice Johnson (35 years old) - $100000.00 per year - manages 2 employees\n"
     ]
    }
   ],
   "source": [
    "m = Manager(\"Alice Johnson\", 35, 100000, [\"Bob\", \"Charlie\"])\n",
    "print(m.info())"
   ]
  },
  {
   "cell_type": "markdown",
   "metadata": {},
   "source": [
    "### Exercise: Shoe is a Product\n",
    "\n",
    "Create class `Shoe` and have it inherit from `Product` with:\n",
    "\n",
    "- additional properties: `size`, `color`, and `type`\n",
    "- `shoe.show()` shall call `super().show()` and extend it to print its additional properties as well."
   ]
  },
  {
   "cell_type": "code",
   "execution_count": null,
   "metadata": {},
   "outputs": [],
   "source": [
    "class Product:\n",
    "\n",
    "    def __init__(self, pid, name, brand, price):\n",
    "        self.pid = pid\n",
    "        self.name = name\n",
    "        self.brand = brand\n",
    "        self.price = price\n",
    "\n",
    "    def show(self):\n",
    "        print(\"Product\", self.pid)\n",
    "        print(\"Details:-\")\n",
    "        print(\"Name:\", self.name)\n",
    "        print(\"Brand:\", self.brand)\n",
    "        print(\"Price:\", self.price)\n",
    "\n",
    "\n",
    "class Shoe(Product):\n",
    "    # try it\n",
    "    pass"
   ]
  },
  {
   "cell_type": "markdown",
   "metadata": {},
   "source": [
    "Example Usage:\n",
    "\n",
    "```python\n",
    "product = Product(101, \"Alphabounce\", \"Adidas\", 5000)\n",
    "product.show()\n",
    "```\n",
    "\n",
    "\n",
    "```\n",
    "=== OUTPUT ===\n",
    "Product 101\n",
    "Details:-\n",
    "Name: Alphabounce\n",
    "Brand: Adidas\n",
    "Price: 5000\n",
    "```\n",
    "\n",
    "```python\n",
    "shoe = Shoe(101, \"Ultraboost\", \"Adidas\", 8000, 9, \"Black\", \"Boost\")\n",
    "shoe.show()\n",
    "```\n",
    "\n",
    "\n",
    "```\n",
    "=== OUTPUT ===\n",
    "Product 101\n",
    "Details:-\n",
    "Name: Ultraboost\n",
    "Brand: Adidas\n",
    "Price: 8000\n",
    "Size: 9\n",
    "Color: Black\n",
    "Type: Boost\n",
    "```"
   ]
  }
 ],
 "metadata": {
  "kernelspec": {
   "display_name": "base",
   "language": "python",
   "name": "python3"
  },
  "language_info": {
   "codemirror_mode": {
    "name": "ipython",
    "version": 3
   },
   "file_extension": ".py",
   "mimetype": "text/x-python",
   "name": "python",
   "nbconvert_exporter": "python",
   "pygments_lexer": "ipython3",
   "version": "3.10.11"
  }
 },
 "nbformat": 4,
 "nbformat_minor": 2
}
