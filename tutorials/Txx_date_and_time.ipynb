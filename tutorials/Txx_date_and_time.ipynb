{
 "cells": [
  {
   "cell_type": "markdown",
   "id": "b987bd6b-2f21-46c9-9454-68ca756739f5",
   "metadata": {},
   "source": [
    "## Time and date\n",
    "\n",
    "Python provides a variety of modules for working with time and date data. The most common module is the `datetime` module.\n",
    "\n",
    "**Common functions:**\n",
    "\n",
    "* `datetime.datetime.now()`: Returns the current date and time.\n",
    "* `datetime.date(year, month, day)`: Creates a `datetime.date` object for the specified date.\n",
    "* `datetime.time(hour, minute, second)`: Creates a `datetime.time` object for the specified time.\n",
    "* `datetime.timedelta(days, seconds, microseconds)`: Creates a `datetime.timedelta` object for the specified time interval.\n",
    "\n",
    "**Common operators:**\n",
    "\n",
    "* `+`, `-`: Add or subtract time intervals.\n",
    "* `*`, `/`: Multiply or divide time intervals.\n",
    "* `==`, `!=`, `<`, `>`, `<=`, `>=`: Compare time intervals.\n",
    "\n",
    "**Common use cases:**\n",
    "\n",
    "* Time and date data can be used to represent events, such as appointments and meetings.\n",
    "* Time and date data can be used to calculate time intervals, such as the duration of an event.\n",
    "* Time and date data can be used to format output, such as printing the current date and time.\n",
    "\n",
    "Docs: https://docs.python.org/3/library/datetime.html"
   ]
  },
  {
   "cell_type": "code",
   "execution_count": 6,
   "id": "8612abc0-31c4-4492-9666-d50bea70e3b6",
   "metadata": {
    "tags": []
   },
   "outputs": [
    {
     "name": "stdout",
     "output_type": "stream",
     "text": [
      "2023-10-05 09:40:03.516702\n"
     ]
    }
   ],
   "source": [
    "import datetime\n",
    "\n",
    "# Get the current date and time\n",
    "now = datetime.datetime.now()\n",
    "print(now)"
   ]
  },
  {
   "cell_type": "code",
   "execution_count": 8,
   "id": "b2550174-e9bf-4a0f-883a-640bca6b534d",
   "metadata": {
    "tags": []
   },
   "outputs": [
    {
     "data": {
      "text/plain": [
       "datetime.datetime(2023, 10, 5, 9, 40, 27, 835465)"
      ]
     },
     "execution_count": 8,
     "metadata": {},
     "output_type": "execute_result"
    }
   ],
   "source": [
    "datetime.datetime.now()"
   ]
  },
  {
   "cell_type": "code",
   "execution_count": 107,
   "id": "2c9de5c4-a9cf-4dd5-8339-07db6fc90446",
   "metadata": {
    "tags": []
   },
   "outputs": [
    {
     "name": "stdout",
     "output_type": "stream",
     "text": [
      "30\n"
     ]
    }
   ],
   "source": [
    "# Calculate the time difference between two dates\n",
    "start_date = datetime.date(2023, 8, 1)\n",
    "end_date = datetime.date(2023, 8, 31)\n",
    "time_difference = end_date - start_date\n",
    "\n",
    "# Print the time difference in days\n",
    "print(time_difference.days)"
   ]
  },
  {
   "cell_type": "markdown",
   "id": "4731e526-8d82-4eb2-97fe-76035e596b9c",
   "metadata": {},
   "source": [
    "### Compare date & time with datetime"
   ]
  },
  {
   "cell_type": "code",
   "execution_count": 108,
   "id": "70139d26-e0f6-433b-b8b6-db7c36d47218",
   "metadata": {
    "tags": []
   },
   "outputs": [
    {
     "name": "stdout",
     "output_type": "stream",
     "text": [
      "<class 'datetime.datetime'>\n",
      "<class 'datetime.date'>\n",
      "<class 'datetime.time'>\n",
      "--- convert ---\n",
      "<class 'datetime.date'>\n",
      "<class 'datetime.time'>\n"
     ]
    }
   ],
   "source": [
    "print(type(now))\n",
    "print(type(datetime.date(2023, 8, 31)))\n",
    "print(type(datetime.time(10, 30)))\n",
    "print('--- convert ---')\n",
    "print(type(now.date()))\n",
    "print(type(now.time()))"
   ]
  },
  {
   "cell_type": "code",
   "execution_count": 37,
   "id": "fb0e5d30-dbad-41be-8f37-24541bea8c3e",
   "metadata": {
    "tags": []
   },
   "outputs": [
    {
     "data": {
      "text/plain": [
       "True"
      ]
     },
     "execution_count": 37,
     "metadata": {},
     "output_type": "execute_result"
    }
   ],
   "source": [
    "# Check if the current date is greater than the date 2023-08-31\n",
    "is_greater = now.date() > datetime.date(2023, 8, 31)\n",
    "is_greater"
   ]
  },
  {
   "cell_type": "code",
   "execution_count": 38,
   "id": "83fd6ec1-e7c1-4fd3-b1c1-ace6d44b3047",
   "metadata": {
    "tags": []
   },
   "outputs": [
    {
     "data": {
      "text/plain": [
       "False"
      ]
     },
     "execution_count": 38,
     "metadata": {},
     "output_type": "execute_result"
    }
   ],
   "source": [
    "# Check if the current time is less than the time 10:30\n",
    "is_less = now.time() < datetime.time(10, 30)\n",
    "is_less"
   ]
  },
  {
   "cell_type": "code",
   "execution_count": 39,
   "id": "1a20b7e5-0786-4bd7-be7a-0a8697596bb3",
   "metadata": {
    "tags": []
   },
   "outputs": [
    {
     "data": {
      "text/plain": [
       "31"
      ]
     },
     "execution_count": 39,
     "metadata": {},
     "output_type": "execute_result"
    }
   ],
   "source": [
    "# Get the number of days in a month:\n",
    "month = 8\n",
    "year = 2023\n",
    "number_of_days = datetime.date(year, month + 1, 1) - datetime.date(year, month, 1)\n",
    "number_of_days.days"
   ]
  },
  {
   "cell_type": "markdown",
   "id": "d8a972a1-69c3-4c91-84be-e37f958d5a49",
   "metadata": {
    "tags": []
   },
   "source": [
    "### Format Date and Time"
   ]
  },
  {
   "cell_type": "code",
   "execution_count": 178,
   "id": "62a275b3-d8cf-4130-abe5-be859f412f09",
   "metadata": {
    "tags": []
   },
   "outputs": [
    {
     "name": "stdout",
     "output_type": "stream",
     "text": [
      "2023-09-30 12:00:00\n"
     ]
    }
   ],
   "source": [
    "import datetime\n",
    "\n",
    "# Format datetime\n",
    "date = datetime.datetime(2023, 9, 30, 12, 0, 0)\n",
    "formatted_date = date.strftime(\"%Y-%m-%d %H:%M:%S\")\n",
    "\n",
    "print(formatted_date)"
   ]
  },
  {
   "cell_type": "code",
   "execution_count": 42,
   "id": "beb96d58-318d-47be-9dfb-b8f500b0467c",
   "metadata": {
    "tags": []
   },
   "outputs": [
    {
     "name": "stdout",
     "output_type": "stream",
     "text": [
      "12:00:00\n"
     ]
    }
   ],
   "source": [
    "import datetime\n",
    "\n",
    "# Format time\n",
    "time = datetime.time(12, 0, 0)\n",
    "formatted_time = time.strftime(\"%H:%M:%S\")\n",
    "\n",
    "print(formatted_time)"
   ]
  },
  {
   "cell_type": "markdown",
   "id": "cedddd7e-f02e-43cc-a68d-268203d73f51",
   "metadata": {},
   "source": [
    "For more about formatting see:\n",
    "- https://note.nkmk.me/en/python-format-zero-hex/\n",
    "- https://pyformat.info/"
   ]
  },
  {
   "cell_type": "markdown",
   "id": "b22925fd",
   "metadata": {},
   "source": [
    "# Exercises"
   ]
  },
  {
   "cell_type": "markdown",
   "id": "3691a823",
   "metadata": {},
   "source": [
    "Q: Write a program to print the current date and time."
   ]
  },
  {
   "cell_type": "code",
   "execution_count": null,
   "id": "af1b641d",
   "metadata": {},
   "outputs": [
    {
     "name": "stdout",
     "output_type": "stream",
     "text": [
      "2023-10-04 09:27:34.333363\n"
     ]
    }
   ],
   "source": [
    "import datetime\n",
    "\n",
    "now = datetime.datetime.now()\n",
    "print(now)"
   ]
  },
  {
   "cell_type": "markdown",
   "id": "10e98429",
   "metadata": {},
   "source": [
    "Q: Write a program to calculate the time difference between two dates."
   ]
  },
  {
   "cell_type": "code",
   "execution_count": null,
   "id": "03bb3eb4",
   "metadata": {},
   "outputs": [
    {
     "name": "stdout",
     "output_type": "stream",
     "text": [
      "3652 days, 0:00:00\n"
     ]
    }
   ],
   "source": [
    "d1 = datetime.date(2013, 10, 3)\n",
    "d2 = datetime.date(2023, 10, 3)\n",
    "print(d2 - d1)"
   ]
  },
  {
   "cell_type": "markdown",
   "id": "bf79277f",
   "metadata": {},
   "source": [
    "Q: Write a program to find the next working day after a given date."
   ]
  },
  {
   "cell_type": "code",
   "execution_count": null,
   "id": "23988041",
   "metadata": {},
   "outputs": [
    {
     "data": {
      "text/plain": [
       "\u001b[1;31mDocstring:\u001b[0m\n",
       "Return the day of the week represented by the date.\n",
       "Monday == 0 ... Sunday == 6\n",
       "\u001b[1;31mType:\u001b[0m      builtin_function_or_method"
      ]
     },
     "metadata": {},
     "output_type": "display_data"
    }
   ],
   "source": [
    "?d1.weekday"
   ]
  },
  {
   "cell_type": "code",
   "execution_count": null,
   "id": "e2399b4f",
   "metadata": {},
   "outputs": [
    {
     "name": "stdout",
     "output_type": "stream",
     "text": [
      "2 <class 'int'>\n"
     ]
    }
   ],
   "source": [
    "d1 = datetime.date(2023, 10, 4)\n",
    "print(d1.weekday(), type(d1.weekday()))"
   ]
  },
  {
   "cell_type": "code",
   "execution_count": null,
   "id": "58ed77db",
   "metadata": {},
   "outputs": [
    {
     "name": "stdout",
     "output_type": "stream",
     "text": [
      "next working day is: Thursday\n"
     ]
    }
   ],
   "source": [
    "import datetime\n",
    "\n",
    "weekdays = ['Monday', 'Tuesday', 'Wednesday', 'Thursday', 'Firday', 'Saturday', 'Sunday']\n",
    "\n",
    "day = d1.weekday()\n",
    "for i in range(day + 1, day + 7):\n",
    "    next_day = i % 7\n",
    "    if next_day not in [4, 5]:\n",
    "        print('next working day is:', weekdays[next_day])\n",
    "        break"
   ]
  },
  {
   "cell_type": "markdown",
   "id": "524e6723",
   "metadata": {},
   "source": [
    "Q: Write a program to find the number of days in a month.\n"
   ]
  },
  {
   "cell_type": "code",
   "execution_count": null,
   "id": "5d902b1d",
   "metadata": {},
   "outputs": [
    {
     "name": "stdout",
     "output_type": "stream",
     "text": [
      "31\n"
     ]
    }
   ],
   "source": [
    "month = 8\n",
    "year = 2023\n",
    "number_of_days = datetime.date(year, month + 1, 1) - datetime.date(year, month, 1)\n",
    "print(number_of_days.days)"
   ]
  },
  {
   "cell_type": "code",
   "execution_count": null,
   "id": "208f268a",
   "metadata": {},
   "outputs": [
    {
     "data": {
      "text/plain": [
       "\u001b[1;31mSignature:\u001b[0m \u001b[0mcalendar\u001b[0m\u001b[1;33m.\u001b[0m\u001b[0mmonthrange\u001b[0m\u001b[1;33m(\u001b[0m\u001b[0myear\u001b[0m\u001b[1;33m,\u001b[0m \u001b[0mmonth\u001b[0m\u001b[1;33m)\u001b[0m\u001b[1;33m\u001b[0m\u001b[1;33m\u001b[0m\u001b[0m\n",
       "\u001b[1;31mDocstring:\u001b[0m\n",
       "Return weekday (0-6 ~ Mon-Sun) and number of days (28-31) for\n",
       "year, month.\n",
       "\u001b[1;31mFile:\u001b[0m      c:\\users\\hgoz\\anaconda3\\lib\\calendar.py\n",
       "\u001b[1;31mType:\u001b[0m      function"
      ]
     },
     "metadata": {},
     "output_type": "display_data"
    }
   ],
   "source": [
    "import calendar\n",
    "?calendar.monthrange"
   ]
  },
  {
   "cell_type": "markdown",
   "id": "1f5fff50",
   "metadata": {},
   "source": [
    "Q: Write a program to find the day of the week for a given date."
   ]
  },
  {
   "cell_type": "code",
   "execution_count": null,
   "id": "10c11dec",
   "metadata": {},
   "outputs": [
    {
     "data": {
      "text/plain": [
       "1"
      ]
     },
     "metadata": {},
     "output_type": "display_data"
    }
   ],
   "source": [
    "d = datetime.date(2023, 10, 3)\n",
    "d.weekday()"
   ]
  }
 ],
 "metadata": {
  "kernelspec": {
   "display_name": "Python 3 (ipykernel)",
   "language": "python",
   "name": "python3"
  },
  "language_info": {
   "codemirror_mode": {
    "name": "ipython",
    "version": 3
   },
   "file_extension": ".py",
   "mimetype": "text/x-python",
   "name": "python",
   "nbconvert_exporter": "python",
   "pygments_lexer": "ipython3",
   "version": "3.11.5"
  }
 },
 "nbformat": 4,
 "nbformat_minor": 5
}
