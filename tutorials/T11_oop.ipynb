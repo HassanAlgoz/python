{
 "cells": [
  {
   "cell_type": "markdown",
   "id": "40ae90bb-f397-4fa6-a8c8-6fd013878aff",
   "metadata": {
    "tags": []
   },
   "source": [
    "# Python Classes and Objects\n",
    "\n",
    "- Python is an object oriented programming (OOP) language. Meaning that almost everything in Python is an object\n",
    "- Objects have: **properties** and **methods**\n",
    "- A **Class** is a \"blueprint\" for creating objects"
   ]
  },
  {
   "cell_type": "markdown",
   "id": "a261c47f-1ee7-42c7-81ac-e517e9451cda",
   "metadata": {},
   "source": [
    "### Object initialization\n",
    "\n",
    "- All classes have a function called `__init__()`, which is always executed when the class is being initiated.\n",
    "- The `__init__()` method is also known as: **Constructor**"
   ]
  },
  {
   "cell_type": "code",
   "execution_count": 2,
   "id": "91f1c94f-a20d-4ae1-8e8d-19da59b5f353",
   "metadata": {
    "tags": []
   },
   "outputs": [],
   "source": [
    "class Person:\n",
    "    def __init__(self, name, age):\n",
    "        self.name = name\n",
    "        self.age = age"
   ]
  },
  {
   "cell_type": "code",
   "execution_count": 3,
   "id": "0ead2b87",
   "metadata": {},
   "outputs": [],
   "source": [
    "p1 = Person(\"John\", 36)\n",
    "p2 = Person(\"Adam\", 25)"
   ]
  },
  {
   "cell_type": "code",
   "execution_count": 6,
   "id": "ed196394",
   "metadata": {},
   "outputs": [
    {
     "name": "stdout",
     "output_type": "stream",
     "text": [
      "John 36\n",
      "Adam 25\n"
     ]
    }
   ],
   "source": [
    "print(p1.name, p1.age)\n",
    "print(p2.name, p2.age)"
   ]
  },
  {
   "cell_type": "code",
   "execution_count": 7,
   "id": "730c19d4-c0a3-4857-91d2-4f7b244dfac1",
   "metadata": {
    "tags": []
   },
   "outputs": [],
   "source": [
    "# read this as: instantiate an object of class Person\n",
    "# passing arguments: 'Ahmad' and 19\n",
    "p1 = Person('Ahmad', 19)"
   ]
  },
  {
   "cell_type": "code",
   "execution_count": 8,
   "id": "52054bbd-e4ea-4129-8011-34a18d5e6e64",
   "metadata": {
    "tags": []
   },
   "outputs": [
    {
     "name": "stdout",
     "output_type": "stream",
     "text": [
      "<__main__.Person object at 0x00000280B018AAD0>\n"
     ]
    }
   ],
   "source": [
    "print(p1)"
   ]
  },
  {
   "cell_type": "code",
   "execution_count": 7,
   "id": "ecf83d23-4c7a-4740-8a94-3403710b4e09",
   "metadata": {
    "tags": []
   },
   "outputs": [
    {
     "name": "stdout",
     "output_type": "stream",
     "text": [
      "<class '__main__.Person'>\n",
      "True\n"
     ]
    }
   ],
   "source": [
    "# Two ways to check the type\n",
    "print(type(p1))\n",
    "print(isinstance(p1, Person))"
   ]
  },
  {
   "cell_type": "code",
   "execution_count": 8,
   "id": "0baa1f3b",
   "metadata": {},
   "outputs": [
    {
     "data": {
      "text/plain": [
       "int"
      ]
     },
     "execution_count": 8,
     "metadata": {},
     "output_type": "execute_result"
    }
   ],
   "source": [
    "type(14)"
   ]
  },
  {
   "cell_type": "code",
   "execution_count": 11,
   "id": "4e77e2e6-b16c-4904-bb1b-62901fb2fcc4",
   "metadata": {
    "tags": []
   },
   "outputs": [
    {
     "name": "stdout",
     "output_type": "stream",
     "text": [
      "Ahmad\n",
      "19\n"
     ]
    }
   ],
   "source": [
    "# access properties of an object\n",
    "print(p1.name)\n",
    "print(p1.age)"
   ]
  },
  {
   "cell_type": "code",
   "execution_count": 12,
   "id": "519455a9-8d30-48a7-8741-004b73870bb5",
   "metadata": {
    "tags": []
   },
   "outputs": [
    {
     "name": "stdout",
     "output_type": "stream",
     "text": [
      "42\n"
     ]
    }
   ],
   "source": [
    "# modify property\n",
    "p1.age = 42\n",
    "print(p1.age)"
   ]
  },
  {
   "cell_type": "code",
   "execution_count": 9,
   "id": "c065d290",
   "metadata": {},
   "outputs": [
    {
     "name": "stdout",
     "output_type": "stream",
     "text": [
      "<__main__.Person object at 0x000001BFA2C06390>\n"
     ]
    }
   ],
   "source": [
    "print(p1)"
   ]
  },
  {
   "cell_type": "markdown",
   "id": "5ed4f761-99a4-4b6a-b2c9-5be87827c471",
   "metadata": {},
   "source": [
    "### Object string and representation"
   ]
  },
  {
   "cell_type": "code",
   "execution_count": 18,
   "id": "184678a1-a17c-4212-8146-9dbec2d24e54",
   "metadata": {
    "tags": []
   },
   "outputs": [],
   "source": [
    "class Person:\n",
    "    def __init__(self, name, age):\n",
    "        self.name = name\n",
    "        self.age = age\n",
    "\n",
    "    def __str__(self):\n",
    "        return f\"{self.name} is {self.age} years old\"\n",
    "\n",
    "    def __repr__(self):\n",
    "        return f\"({self.name}, {self.age})\"\n"
   ]
  },
  {
   "cell_type": "code",
   "execution_count": 19,
   "id": "c713e033-b1de-4f35-a7a3-dd093fe52375",
   "metadata": {
    "tags": []
   },
   "outputs": [],
   "source": [
    "p2 = Person(\"John\", 36)"
   ]
  },
  {
   "cell_type": "code",
   "execution_count": 20,
   "id": "aa27c119",
   "metadata": {},
   "outputs": [
    {
     "name": "stdout",
     "output_type": "stream",
     "text": [
      "(John, 36)\n"
     ]
    }
   ],
   "source": [
    "print(p2)"
   ]
  },
  {
   "cell_type": "markdown",
   "id": "eeb326ee",
   "metadata": {},
   "source": [
    "The following invokes `__str__()` which provides the informal string representation of an object, aimed at the user."
   ]
  },
  {
   "cell_type": "code",
   "execution_count": 16,
   "id": "0e957a91-b568-4fc4-8f93-a61576d2c78d",
   "metadata": {
    "tags": []
   },
   "outputs": [
    {
     "name": "stdout",
     "output_type": "stream",
     "text": [
      "John is 36 years old\n"
     ]
    }
   ],
   "source": [
    "print(p2)"
   ]
  },
  {
   "cell_type": "markdown",
   "id": "a15aa4a7",
   "metadata": {},
   "source": [
    "The following invokes `__repr__()` which provides the official string representation of an object, aimed at the programmer."
   ]
  },
  {
   "cell_type": "code",
   "execution_count": 17,
   "id": "61dd8426-a025-46e1-98d6-b4e82cb6c796",
   "metadata": {
    "tags": []
   },
   "outputs": [
    {
     "data": {
      "text/plain": [
       "(John, 36)"
      ]
     },
     "execution_count": 17,
     "metadata": {},
     "output_type": "execute_result"
    }
   ],
   "source": [
    "p2"
   ]
  },
  {
   "cell_type": "markdown",
   "id": "d391b69a-7e8d-42ca-9e0c-dfb1e357f225",
   "metadata": {},
   "source": [
    "### Methods"
   ]
  },
  {
   "cell_type": "code",
   "execution_count": 21,
   "id": "9c93b1f1-b97a-4513-9b7f-98323986cb2d",
   "metadata": {
    "tags": []
   },
   "outputs": [],
   "source": [
    "class Person:\n",
    "    def __init__(self, name, rank):\n",
    "        self.name = name\n",
    "        self.rank = rank\n",
    "\n",
    "    def promote(self, steps):\n",
    "        self.rank += steps"
   ]
  },
  {
   "cell_type": "code",
   "execution_count": 22,
   "id": "0e29399b-b381-4af0-8086-ec4e1e21f8ae",
   "metadata": {
    "tags": []
   },
   "outputs": [],
   "source": [
    "p1 = Person(\"Ahmad\", 10)\n",
    "p2 = Person(\"Belal\", 10)"
   ]
  },
  {
   "cell_type": "code",
   "execution_count": 23,
   "id": "5facc785-b81e-4a5f-85b1-15b5b699b8c7",
   "metadata": {
    "tags": []
   },
   "outputs": [],
   "source": [
    "p1.promote(5)"
   ]
  },
  {
   "cell_type": "code",
   "execution_count": 24,
   "id": "88f84fb6-b6e3-4408-be75-ca23193f15f5",
   "metadata": {
    "tags": []
   },
   "outputs": [
    {
     "name": "stdout",
     "output_type": "stream",
     "text": [
      "15\n"
     ]
    }
   ],
   "source": [
    "print(p1.rank)"
   ]
  },
  {
   "cell_type": "code",
   "execution_count": 25,
   "id": "4b0aad6c-5e27-4e05-b86f-d12b94c360f5",
   "metadata": {
    "tags": []
   },
   "outputs": [
    {
     "data": {
      "text/plain": [
       "10"
      ]
     },
     "execution_count": 25,
     "metadata": {},
     "output_type": "execute_result"
    }
   ],
   "source": [
    "p2.rank"
   ]
  },
  {
   "cell_type": "markdown",
   "id": "fc2e939a",
   "metadata": {},
   "source": [
    "#### Exercise (solved)\n",
    "\n",
    "- Create a class called `Point2D`, use the `__init__()` function to assign values for `x` and `y`.\n",
    "- Create a method `move()` which takes two parameters `dx` and `dy` and moves the point by adding `dx` to `x` and `dy` to `y`.\n",
    "- Create a method called `distance()` which calculates the distance between two points.\n",
    "- Create a method called `__repr__()` which returns the string representation of the object as: `(x, y)`."
   ]
  },
  {
   "cell_type": "code",
   "execution_count": 57,
   "id": "ed12ed00",
   "metadata": {},
   "outputs": [],
   "source": [
    "class Point2D:\n",
    "\n",
    "  def __init__(self, x, y):\n",
    "    self.x = x\n",
    "    self.y = y\n",
    "    print(f\"Point created at ({self.x}, {self.y})\")\n",
    "\n",
    "  def move(self, dx, dy):\n",
    "    self.x += dx\n",
    "    self.y += dy\n",
    "  \n",
    "  def distance(self, other):\n",
    "    return ((self.x - other.x) **2 + (self.y - other.y) **2) **0.5\n",
    "  \n",
    "  def __repr__(self):\n",
    "    return f\"({self.x}, {self.y})\""
   ]
  },
  {
   "cell_type": "code",
   "execution_count": 58,
   "id": "98614968",
   "metadata": {},
   "outputs": [
    {
     "name": "stdout",
     "output_type": "stream",
     "text": [
      "Point created at (1, 2)\n",
      "Point created at (5, 3)\n"
     ]
    }
   ],
   "source": [
    "p1 = Point2D(1, 2)\n",
    "p2 = Point2D(5, 3)"
   ]
  },
  {
   "cell_type": "code",
   "execution_count": 59,
   "id": "94a0d388",
   "metadata": {},
   "outputs": [
    {
     "data": {
      "text/plain": [
       "(1, 2)"
      ]
     },
     "execution_count": 59,
     "metadata": {},
     "output_type": "execute_result"
    }
   ],
   "source": [
    "p1"
   ]
  },
  {
   "cell_type": "code",
   "execution_count": 60,
   "id": "9a38a012",
   "metadata": {},
   "outputs": [],
   "source": [
    "p1.move(2, 1)"
   ]
  },
  {
   "cell_type": "code",
   "execution_count": 61,
   "id": "b71ceed5",
   "metadata": {},
   "outputs": [
    {
     "data": {
      "text/plain": [
       "(3, 3)"
      ]
     },
     "execution_count": 61,
     "metadata": {},
     "output_type": "execute_result"
    }
   ],
   "source": [
    "p1"
   ]
  },
  {
   "cell_type": "code",
   "execution_count": 62,
   "id": "6bda6c2b",
   "metadata": {},
   "outputs": [
    {
     "data": {
      "text/plain": [
       "2.0"
      ]
     },
     "execution_count": 62,
     "metadata": {},
     "output_type": "execute_result"
    }
   ],
   "source": [
    "p1.distance(p2)"
   ]
  },
  {
   "cell_type": "markdown",
   "id": "3658c3d6-bf23-4d17-8d04-5340e496b9b3",
   "metadata": {},
   "source": [
    "### Encapsulation: Setters and Getters\n",
    "\n",
    "The goal of encapsulation with setters and getters is to control access to and manipulation of the variable."
   ]
  },
  {
   "cell_type": "code",
   "execution_count": 26,
   "id": "05c8a026-06c4-4521-8bdf-a82d69cd8b92",
   "metadata": {
    "tags": []
   },
   "outputs": [],
   "source": [
    "class Person:\n",
    "    def __init__(self, name, rank):\n",
    "        self.name = name\n",
    "        self.__rank = rank # the __ makes the variable private (not accessible from outside)\n",
    "\n",
    "    def set_rank(self, new_rank):\n",
    "        if new_rank < 10:\n",
    "            self.__rank = new_rank\n",
    "        else:\n",
    "            self.__rank = 10\n",
    "    \n",
    "    def get_rank(self):\n",
    "        return self.__rank"
   ]
  },
  {
   "cell_type": "code",
   "execution_count": 27,
   "id": "10ed0802-a6c1-40c5-b7f5-51e6a0f6f6c3",
   "metadata": {
    "tags": []
   },
   "outputs": [],
   "source": [
    "p1 = Person(\"Ahmad\", 2)\n",
    "p2 = Person(\"Belal\", 1)"
   ]
  },
  {
   "cell_type": "code",
   "execution_count": 28,
   "id": "259ebd3a-2142-4867-9db5-3eccadf6abec",
   "metadata": {
    "tags": []
   },
   "outputs": [],
   "source": [
    "p1.set_rank(99999)"
   ]
  },
  {
   "cell_type": "code",
   "execution_count": 29,
   "id": "7ae869b4-629d-4499-bdcc-b0d321e87494",
   "metadata": {
    "tags": []
   },
   "outputs": [
    {
     "data": {
      "text/plain": [
       "10"
      ]
     },
     "execution_count": 29,
     "metadata": {},
     "output_type": "execute_result"
    }
   ],
   "source": [
    "p1.get_rank()"
   ]
  },
  {
   "cell_type": "code",
   "execution_count": 35,
   "id": "88cc6414",
   "metadata": {},
   "outputs": [],
   "source": [
    "p1.set_rank(9)"
   ]
  },
  {
   "cell_type": "code",
   "execution_count": 36,
   "id": "f6d59cd7",
   "metadata": {},
   "outputs": [
    {
     "data": {
      "text/plain": [
       "9"
      ]
     },
     "execution_count": 36,
     "metadata": {},
     "output_type": "execute_result"
    }
   ],
   "source": [
    "p1.get_rank()"
   ]
  },
  {
   "cell_type": "markdown",
   "id": "2d1b93e5",
   "metadata": {},
   "source": [
    "Encapsulation means that we \"protect\" the variable from direct access:\n",
    "\n",
    "- If we try to access `rank` or `__rank` directly we get an error.\n",
    "- We can only access and modify through: `get_rank()` (the **getter**) and `set_rank()` (the **setter**)."
   ]
  },
  {
   "cell_type": "code",
   "execution_count": 12,
   "id": "a0d4c7f6-7e11-41cf-89a4-54cfdb81d608",
   "metadata": {
    "tags": []
   },
   "outputs": [
    {
     "ename": "AttributeError",
     "evalue": "'Person' object has no attribute 'rank'",
     "output_type": "error",
     "traceback": [
      "\u001b[1;31m---------------------------------------------------------------------------\u001b[0m",
      "\u001b[1;31mAttributeError\u001b[0m                            Traceback (most recent call last)",
      "Cell \u001b[1;32mIn[12], line 2\u001b[0m\n\u001b[0;32m      1\u001b[0m \u001b[38;5;66;03m# this will error!\u001b[39;00m\n\u001b[1;32m----> 2\u001b[0m \u001b[38;5;28mprint\u001b[39m(\u001b[43mp1\u001b[49m\u001b[38;5;241;43m.\u001b[39;49m\u001b[43mrank\u001b[49m)\n",
      "\u001b[1;31mAttributeError\u001b[0m: 'Person' object has no attribute 'rank'"
     ]
    }
   ],
   "source": [
    "# this will error!\n",
    "print(p1.rank)"
   ]
  },
  {
   "cell_type": "code",
   "execution_count": 13,
   "id": "fb56b1f4-1e7e-4803-b6a4-618938ac24f1",
   "metadata": {
    "tags": []
   },
   "outputs": [
    {
     "ename": "AttributeError",
     "evalue": "'Person' object has no attribute '__rank'",
     "output_type": "error",
     "traceback": [
      "\u001b[1;31m---------------------------------------------------------------------------\u001b[0m",
      "\u001b[1;31mAttributeError\u001b[0m                            Traceback (most recent call last)",
      "Cell \u001b[1;32mIn[13], line 2\u001b[0m\n\u001b[0;32m      1\u001b[0m \u001b[38;5;66;03m# this will error!\u001b[39;00m\n\u001b[1;32m----> 2\u001b[0m \u001b[43mp1\u001b[49m\u001b[38;5;241;43m.\u001b[39;49m\u001b[43m__rank\u001b[49m\n",
      "\u001b[1;31mAttributeError\u001b[0m: 'Person' object has no attribute '__rank'"
     ]
    }
   ],
   "source": [
    "# this will error!\n",
    "p1.__rank"
   ]
  },
  {
   "cell_type": "code",
   "execution_count": 14,
   "id": "29fbb19b-92b4-4472-8d35-d1025c63e6ff",
   "metadata": {
    "tags": []
   },
   "outputs": [],
   "source": [
    "p1.set_rank(7)"
   ]
  },
  {
   "cell_type": "code",
   "execution_count": 15,
   "id": "5894cca5-3316-47a9-b539-df3e5f505519",
   "metadata": {
    "tags": []
   },
   "outputs": [
    {
     "data": {
      "text/plain": [
       "7"
      ]
     },
     "execution_count": 15,
     "metadata": {},
     "output_type": "execute_result"
    }
   ],
   "source": [
    "p1.get_rank()"
   ]
  },
  {
   "cell_type": "markdown",
   "id": "a88aca6f-fd86-4c37-82ec-e5d2967785de",
   "metadata": {},
   "source": [
    "### Exercise: Account Balance\n",
    "\n",
    "Write class `Account` with property `balance` and encapsulated such that both `get_balance()` and `set_balance(value)` always `print` how much money is in the account."
   ]
  },
  {
   "cell_type": "code",
   "execution_count": 37,
   "id": "5d9233ce-0b23-4277-9c27-85e2921910c1",
   "metadata": {
    "tags": []
   },
   "outputs": [],
   "source": [
    "class Account:\n",
    "    def __init__(self, balance):\n",
    "        self.__balance = balance\n",
    "    \n",
    "    def get_balance(self):\n",
    "        # your code here...\n",
    "        return self.__balance\n",
    "    \n",
    "    def set_balance(self, balance):\n",
    "        # your code here...\n",
    "        self.__balance = balance"
   ]
  },
  {
   "cell_type": "code",
   "execution_count": 38,
   "id": "8e9469c3-d5ea-49dd-9259-55f23c1dc3be",
   "metadata": {
    "tags": []
   },
   "outputs": [
    {
     "data": {
      "text/plain": [
       "100.0"
      ]
     },
     "execution_count": 38,
     "metadata": {},
     "output_type": "execute_result"
    }
   ],
   "source": [
    "a = Account(100.0)\n",
    "a.get_balance()"
   ]
  },
  {
   "cell_type": "code",
   "execution_count": 39,
   "id": "f75af2e7-745d-41b6-bd68-86a26801d3f5",
   "metadata": {
    "tags": []
   },
   "outputs": [],
   "source": [
    "a.set_balance(10000000)"
   ]
  },
  {
   "cell_type": "code",
   "execution_count": 40,
   "id": "e559678e-306e-4b37-a4e2-18d638fac4a9",
   "metadata": {
    "tags": []
   },
   "outputs": [
    {
     "data": {
      "text/plain": [
       "10000000"
      ]
     },
     "execution_count": 40,
     "metadata": {},
     "output_type": "execute_result"
    }
   ],
   "source": [
    "a.get_balance()"
   ]
  },
  {
   "cell_type": "markdown",
   "id": "7473be36-427a-4927-b452-9a4d3cd3216f",
   "metadata": {
    "tags": []
   },
   "source": [
    "### Destructor"
   ]
  },
  {
   "cell_type": "code",
   "execution_count": 43,
   "id": "62a2045d-dea6-452c-853f-8b56604dd782",
   "metadata": {
    "tags": []
   },
   "outputs": [],
   "source": [
    "class Person:\n",
    "    # Construnctor Method\n",
    "    def __init__(self, name):\n",
    "        self.name = name\n",
    "\n",
    "    # Destructor\n",
    "    def __del__(self):\n",
    "        print(f\"{self.name} has been deleted.\")"
   ]
  },
  {
   "cell_type": "code",
   "execution_count": 44,
   "id": "62e627be-c698-4322-afa1-8c6709b5cbe5",
   "metadata": {
    "tags": []
   },
   "outputs": [
    {
     "name": "stdout",
     "output_type": "stream",
     "text": [
      "John Doe has been deleted.\n"
     ]
    }
   ],
   "source": [
    "# instantiate then delete the object\n",
    "p1 = Person(\"John Doe\")\n",
    "del p1"
   ]
  },
  {
   "cell_type": "markdown",
   "id": "8f85c93a-0d25-4d67-a85a-86c738ceed75",
   "metadata": {},
   "source": [
    "# Operator Overloading"
   ]
  },
  {
   "cell_type": "markdown",
   "id": "6634cf44",
   "metadata": {},
   "source": [
    "- What is: `[1, 2, 3] + [4, 5, 6]`? A student answered: element-wise addition. But it is actually **concatenation**.\n",
    "- What is: `[1, 2, 3] * 5`? A student answered: scalar multiplication on each element. But it is actually **repetition**.\n",
    "- This feature in Python that allows the same operator to have different meaning according to the context is called **operator overloading**"
   ]
  },
  {
   "cell_type": "code",
   "execution_count": 82,
   "id": "d41a1c9c",
   "metadata": {},
   "outputs": [
    {
     "data": {
      "text/plain": [
       "[1, 2, 3, 4, 5, 6]"
      ]
     },
     "execution_count": 82,
     "metadata": {},
     "output_type": "execute_result"
    }
   ],
   "source": [
    "[1, 2, 3] + [4, 5, 6]"
   ]
  },
  {
   "cell_type": "code",
   "execution_count": 83,
   "id": "7fde6c1b",
   "metadata": {},
   "outputs": [
    {
     "data": {
      "text/plain": [
       "[1, 2, 3, 1, 2, 3, 1, 2, 3, 1, 2, 3, 1, 2, 3]"
      ]
     },
     "execution_count": 83,
     "metadata": {},
     "output_type": "execute_result"
    }
   ],
   "source": [
    "[1, 2, 3] * 5"
   ]
  },
  {
   "cell_type": "markdown",
   "id": "7461559c",
   "metadata": {},
   "source": [
    "We can define our own behavior for operators by defining methods in our class:\n",
    "\n",
    "- `__add__(self, other)` for `+`\n",
    "- `__sub__(self, other)` for `-`\n",
    "\n",
    "and so on."
   ]
  },
  {
   "cell_type": "code",
   "execution_count": 64,
   "id": "7b6fb4ff",
   "metadata": {},
   "outputs": [],
   "source": [
    "class Vector:\n",
    "    def __init__(self, x, y, z):\n",
    "        self.x = x\n",
    "        self.y = y\n",
    "        self.z = z\n",
    "    \n",
    "    # + operator overloading\n",
    "    def __add__(self, other):\n",
    "        return Vector(self.x + other.x, self.y + other.y, self.z + other.z)\n",
    "\n",
    "    def __repr__(self):\n",
    "        return f\"<{self.x}, {self.y}, {self.z}>\"\n",
    "\n",
    "v1 = Vector(1, 2, 3)\n",
    "v2 = Vector(6, 5, 4)"
   ]
  },
  {
   "cell_type": "code",
   "execution_count": 65,
   "id": "ccfa9096",
   "metadata": {},
   "outputs": [
    {
     "data": {
      "text/plain": [
       "<7, 7, 7>"
      ]
     },
     "execution_count": 65,
     "metadata": {},
     "output_type": "execute_result"
    }
   ],
   "source": [
    "v1 + v2"
   ]
  },
  {
   "cell_type": "markdown",
   "id": "32a58208",
   "metadata": {},
   "source": [
    "Let's look at a complete example of class `Vector`:"
   ]
  },
  {
   "cell_type": "code",
   "execution_count": 66,
   "id": "2b1f598a-cb17-4c58-b72e-67d6af848695",
   "metadata": {
    "tags": []
   },
   "outputs": [],
   "source": [
    "class Vector:\n",
    "    def __init__(self, x, y, z):\n",
    "        self.x = x\n",
    "        self.y = y\n",
    "        self.z = z\n",
    "\n",
    "    def __repr__(self): # this is what is printed when you print the object\n",
    "        return f\"Vector({self.x}, {self.y}, {self.z})\"\n",
    "\n",
    "    # +\n",
    "    def __add__(self, other):\n",
    "        return Vector(self.x + other.x, self.y + other.y, self.z + other.z)\n",
    "\n",
    "    # -\n",
    "    def __sub__(self, other):\n",
    "        return Vector(self.x - other.x, self.y - other.y, self.z - other.z)\n",
    "\n",
    "    # *\n",
    "    def __mul__(self, other):\n",
    "        return Vector(self.x * other.x, self.y * other.y, self.z * other.z)\n",
    "\n",
    "    # @\n",
    "    def __matmul__(self, other):\n",
    "        return self.x * other.x + self.y * other.y + self.z * other.z\n",
    "\n",
    "    # []\n",
    "    def __getitem__(self, idx):\n",
    "        return [self.x, self.y, self.z][idx]\n",
    "\n",
    "    # len()\n",
    "    def __len__(self):\n",
    "        return len(vars(self))"
   ]
  },
  {
   "cell_type": "code",
   "execution_count": 67,
   "id": "5616672d-d286-407f-8335-713de243904b",
   "metadata": {
    "tags": []
   },
   "outputs": [],
   "source": [
    "# Create two vectors.\n",
    "u = Vector(1, 2, 3)\n",
    "v = Vector(4, 5, 6)"
   ]
  },
  {
   "cell_type": "code",
   "execution_count": 68,
   "id": "ee5c20c6-d933-4d50-b56a-047e98dfe82a",
   "metadata": {
    "tags": []
   },
   "outputs": [
    {
     "name": "stdout",
     "output_type": "stream",
     "text": [
      "Vector(1, 2, 3)\n",
      "Vector(4, 5, 6)\n",
      "---------\n",
      "Vector(5, 7, 9) addition\n",
      "Vector(-3, -3, -3) subtraction\n",
      "Vector(4, 10, 18) multiplication\n",
      "32 dot product\n"
     ]
    }
   ],
   "source": [
    "print(u)\n",
    "print(v)\n",
    "print('---------')\n",
    "print(u + v, 'addition')\n",
    "print(u - v, 'subtraction')\n",
    "print(u * v, 'multiplication')\n",
    "print(u @ v, 'dot product')"
   ]
  },
  {
   "cell_type": "code",
   "execution_count": 69,
   "id": "ad2347b4",
   "metadata": {},
   "outputs": [
    {
     "name": "stdout",
     "output_type": "stream",
     "text": [
      "4\n",
      "5\n",
      "6\n"
     ]
    }
   ],
   "source": [
    "for c in v:\n",
    "    print(c)"
   ]
  },
  {
   "cell_type": "markdown",
   "id": "01123179-2f91-4886-9184-cf28efab2cc1",
   "metadata": {},
   "source": [
    "### (Optional) Exercise: n-dimensional Vector\n",
    "\n",
    "Generalize the current 3D Vector class to be n-dimensional.\n",
    "\n",
    "Hint: use `*args`."
   ]
  },
  {
   "cell_type": "code",
   "execution_count": null,
   "id": "d5b50c63-4d25-42f6-b31c-4ae7d1199d3b",
   "metadata": {},
   "outputs": [],
   "source": [
    "# your code here..."
   ]
  },
  {
   "cell_type": "markdown",
   "id": "f8bef734-ba3c-4b5c-9c28-d2bc020dd594",
   "metadata": {},
   "source": [
    "### (Optional) Quesiton: Matrix\n",
    "\n",
    "Write a class for a Matrix.\n",
    "\n",
    "Hint: You may want to reuse the Vector class."
   ]
  },
  {
   "cell_type": "code",
   "execution_count": 60,
   "id": "2497c836-30d6-4678-b9dd-006a07610dad",
   "metadata": {
    "tags": []
   },
   "outputs": [],
   "source": [
    "# your code here..."
   ]
  },
  {
   "cell_type": "markdown",
   "id": "ee912d49-816e-44a7-9c69-7a4d1ec3d643",
   "metadata": {},
   "source": [
    "Read more (optional) about operator overloading in this Article: https://mathspp.com/blog/pydonts/overloading-arithmetic-operators-with-dunder-methods"
   ]
  },
  {
   "cell_type": "markdown",
   "id": "7ebc5be2-224c-4d80-96e6-585e13a1af9f",
   "metadata": {},
   "source": [
    "# Polymorphism\n",
    "\n",
    "*Polymorphism* is the ability (in programming) to present the same interface for differing underlying forms (data types)."
   ]
  },
  {
   "cell_type": "markdown",
   "id": "dcd8fdee",
   "metadata": {},
   "source": [
    "What makes `len()` work on many different types in Python? Polymorphism!"
   ]
  },
  {
   "cell_type": "code",
   "execution_count": null,
   "id": "771f3f21",
   "metadata": {},
   "outputs": [
    {
     "name": "stdout",
     "output_type": "stream",
     "text": [
      "3\n",
      "5\n",
      "3\n"
     ]
    }
   ],
   "source": [
    "my_list = [1,2,3]\n",
    "my_set = {1,2,3,4,5}\n",
    "my_dict = {'a': 1, 'b': 2, 'c': 3}\n",
    "print(len(my_list))\n",
    "print(len(my_set))\n",
    "print(len(my_dict))"
   ]
  },
  {
   "cell_type": "markdown",
   "id": "19937ff1",
   "metadata": {},
   "source": [
    "The word itself means \"many forms\", and it can be achieved in Python through **inheritance**, **overriding** and **duck typing**."
   ]
  },
  {
   "cell_type": "markdown",
   "id": "82ceae38-9ce9-4470-b3e8-5defc6759a22",
   "metadata": {},
   "source": [
    "## Abstract Class"
   ]
  },
  {
   "cell_type": "markdown",
   "id": "b47074c5-f3ac-4ff2-bfcb-f7aed79d4df9",
   "metadata": {},
   "source": [
    "### Example 1: Animal"
   ]
  },
  {
   "cell_type": "code",
   "execution_count": 74,
   "id": "ee9194c9-a013-4fe6-bdb1-5cd7968116b7",
   "metadata": {
    "tags": []
   },
   "outputs": [],
   "source": [
    "class Animal:\n",
    "    def __init__(self, name, level):\n",
    "        self.name = name\n",
    "        self.level = level\n",
    "\n",
    "    def speak(self):\n",
    "        pass\n",
    "\n",
    "class Dog(Animal):\n",
    "    def speak(self):\n",
    "        return f\"Woof! \" * self.level\n",
    "\n",
    "class Cat(Animal):\n",
    "    def speak(self):\n",
    "        return f\"Meow! \" * self.level\n",
    "\n",
    "class Dragon(Animal):\n",
    "    def speak(self):\n",
    "        return f\"ROAR! \" * self.level"
   ]
  },
  {
   "cell_type": "code",
   "execution_count": 75,
   "id": "0889ae08-73f7-4ddc-83cc-4186de42826a",
   "metadata": {
    "tags": []
   },
   "outputs": [],
   "source": [
    "# Create a list of animals\n",
    "animals = [\n",
    "    Dog(\"Barko\", 3),\n",
    "    Cat(\"Meme\", 1),\n",
    "    Dragon(\"Dogma\", 2),\n",
    "    Dragon(\"Darko\", 4),\n",
    "]"
   ]
  },
  {
   "cell_type": "code",
   "execution_count": 97,
   "id": "185a8b54-73bc-4aed-a7e3-c30d16e7d866",
   "metadata": {
    "tags": []
   },
   "outputs": [
    {
     "name": "stdout",
     "output_type": "stream",
     "text": [
      "Barko says: WOOF! WOOF! WOOF! \n",
      "Meme says: MEOW! \n",
      "Dogma says: ROAR! ROAR! \n",
      "Darko says: ROAR! ROAR! ROAR! ROAR! \n"
     ]
    }
   ],
   "source": [
    "# Make each animal speak\n",
    "for a in animals:\n",
    "    print(f'{a.name} says: {a.speak().upper()}')"
   ]
  },
  {
   "cell_type": "markdown",
   "id": "dc7f9e8b-e4e2-489f-9845-810fb21ceade",
   "metadata": {},
   "source": [
    "### Example 2: Shape"
   ]
  },
  {
   "cell_type": "code",
   "execution_count": 76,
   "id": "581bd9e4-7cc6-4edf-8574-aa129c282144",
   "metadata": {
    "tags": []
   },
   "outputs": [],
   "source": [
    "class Shape:\n",
    "    def area(self):\n",
    "        pass\n",
    "    \n",
    "    def perimeter(self):\n",
    "        pass\n",
    "\n",
    "\n",
    "class Circle(Shape):\n",
    "    def __init__(self, radius):\n",
    "        self.radius = radius\n",
    "\n",
    "    def area(self):\n",
    "        return 3.14 * self.radius ** 2\n",
    "\n",
    "    def perimeter(self):\n",
    "        return 2 * 3.14 * self.radius\n",
    "\n",
    "\n",
    "class Rectangle(Shape):\n",
    "    def __init__(self, width, height):\n",
    "        self.width = width\n",
    "        self.height = height\n",
    "        \n",
    "    def area(self):\n",
    "        return self.width * self.height\n",
    "\n",
    "    def perimeter(self):\n",
    "        return 2 * (self.width + self.height)\n",
    "\n",
    "\n",
    "class Triangle(Shape):\n",
    "    def __init__(self, base, height, s1, s2, s3):\n",
    "        self.base = base\n",
    "        self.height = height\n",
    "        self.s1 = s1\n",
    "        self.s2 = s2\n",
    "        self.s3 = s3\n",
    "        \n",
    "    def area(self):\n",
    "        return (self.base * self.height) / 2\n",
    "\n",
    "    def perimeter(self):\n",
    "        return self.s1 + self.s2 + self.s3"
   ]
  },
  {
   "cell_type": "code",
   "execution_count": 77,
   "id": "2c0abd8b-bfc7-4fb6-b619-572fecd0dc87",
   "metadata": {
    "tags": []
   },
   "outputs": [
    {
     "name": "stdout",
     "output_type": "stream",
     "text": [
      "78.50 , 31.40\n",
      "12.56 , 12.56\n",
      "12.00 , 14.00\n",
      "2.50 , 12.00\n"
     ]
    }
   ],
   "source": [
    "shapes = [\n",
    "    Circle(5),\n",
    "    Circle(2),\n",
    "    Rectangle(3, 4),\n",
    "    Triangle(5, 1, 3, 4, 5)\n",
    "]\n",
    "for s in shapes:\n",
    "    print(f'{s.area():.2f} , {s.perimeter():.2f}')"
   ]
  },
  {
   "cell_type": "markdown",
   "id": "4c2ddf0f-0f87-47f0-a4bb-9aade8347fcb",
   "metadata": {},
   "source": [
    "### Exercise: Vehicles\n",
    "\n",
    "Consider the following superclass `Vehicle`, and the subclasses `Car` and `Truck`:\n",
    "\n",
    "- Create class `Boat` that also implements `Vehicle`\n",
    "- Create class `Plane` that also implements `Vehicle`"
   ]
  },
  {
   "cell_type": "code",
   "execution_count": 4,
   "id": "12b9c981-8218-4613-b06c-414fd05084da",
   "metadata": {
    "tags": []
   },
   "outputs": [],
   "source": [
    "class Vehicle:\n",
    "    def __init__(self, brand, model):\n",
    "        self.brand = brand\n",
    "        self.model = model\n",
    "\n",
    "    def move(self):\n",
    "        print(\"Move!\")\n",
    "\n",
    "class Car:\n",
    "    def __init__(self, brand, model):\n",
    "        super().__init__(brand, model)\n",
    "\n",
    "    def move(self):\n",
    "        print(\"Drive!\")\n",
    "\n",
    "\n",
    "class Boat(Vehicle):\n",
    "    # try it\n",
    "    pass\n",
    "\n",
    "class Plane(Vehicle):\n",
    "    # try it\n",
    "    pass"
   ]
  },
  {
   "cell_type": "markdown",
   "id": "a43c38e1",
   "metadata": {},
   "source": [
    "- Now, create a list of vehicles\n",
    "- Loop over the list and call `move()` on each vehicle"
   ]
  },
  {
   "cell_type": "code",
   "execution_count": null,
   "id": "5f90c935",
   "metadata": {},
   "outputs": [],
   "source": [
    "# try it\n",
    "vehicles = [   ]"
   ]
  },
  {
   "cell_type": "markdown",
   "id": "d9a7b066-0bec-4006-9e40-7e3a5cac4019",
   "metadata": {},
   "source": [
    "### Inheritance\n",
    "\n",
    "The following demonstrate a chain of 3 objects: A `Manager` is an `Employee` which is a `Person`."
   ]
  },
  {
   "cell_type": "code",
   "execution_count": 78,
   "id": "de47cd15-1ecc-4f69-9008-9e1e377cffb2",
   "metadata": {
    "tags": []
   },
   "outputs": [],
   "source": [
    "class Person:\n",
    "    def __init__(self, name, age):\n",
    "        self.name = name\n",
    "        self.age = age\n",
    "\n",
    "    def info(self):\n",
    "        return f\"{self.name} ({self.age} years old)\"\n",
    "\n",
    "\n",
    "class Employee(Person):\n",
    "    def __init__(self, name, age, salary):\n",
    "        super().__init__(name, age)\n",
    "        self.salary = salary\n",
    "\n",
    "    def info(self):\n",
    "        return f\"{self.name} ({self.age} years old) - ${self.salary:.2f} per year\"\n",
    "\n",
    "\n",
    "class Manager(Employee):\n",
    "    def __init__(self, name, age, salary, team):\n",
    "        super().__init__(name, age, salary)\n",
    "        self.team = team\n",
    "\n",
    "    def info(self):\n",
    "        return f\"{self.name} ({self.age} years old) - ${self.salary:.2f} per year - manages {len(self.team)} employees\"\n"
   ]
  },
  {
   "cell_type": "code",
   "execution_count": 79,
   "id": "f02965d5-d76f-431a-b0fa-d810e62fb7ea",
   "metadata": {
    "tags": []
   },
   "outputs": [
    {
     "name": "stdout",
     "output_type": "stream",
     "text": [
      "John Smith (30 years old)\n"
     ]
    }
   ],
   "source": [
    "p = Person(\"John Smith\", 30)\n",
    "print(p.info())"
   ]
  },
  {
   "cell_type": "code",
   "execution_count": 80,
   "id": "d03f6f89-3848-4efc-9542-a33a654dedce",
   "metadata": {
    "tags": []
   },
   "outputs": [
    {
     "name": "stdout",
     "output_type": "stream",
     "text": [
      "Jane Doe (25 years old) - $50000.00 per year\n"
     ]
    }
   ],
   "source": [
    "e = Employee(\"Jane Doe\", 25, 50000)\n",
    "print(e.info())"
   ]
  },
  {
   "cell_type": "code",
   "execution_count": 81,
   "id": "13d13a6c-97ab-41a7-a247-088ce103cca1",
   "metadata": {
    "tags": []
   },
   "outputs": [
    {
     "name": "stdout",
     "output_type": "stream",
     "text": [
      "Alice Johnson (35 years old) - $100000.00 per year - manages 2 employees\n"
     ]
    }
   ],
   "source": [
    "m = Manager(\"Alice Johnson\", 35, 100000, [\"Bob\", \"Charlie\"])\n",
    "print(m.info())"
   ]
  },
  {
   "cell_type": "markdown",
   "id": "d1b6ce72-2231-47e8-8c42-cb58105fec30",
   "metadata": {},
   "source": [
    "### Exercise: Shoe is a Product\n",
    "\n",
    "Create class `Shoe` and have it inherit from `Product` with:\n",
    "\n",
    "- additional properties: `size`, `color`, and `type`\n",
    "- `shoe.show()` shall call `super().show()` and extend it to print its additional properties as well."
   ]
  },
  {
   "cell_type": "code",
   "execution_count": null,
   "id": "05f6136e-829c-4c3d-9cfb-4ebee8d28286",
   "metadata": {
    "tags": []
   },
   "outputs": [],
   "source": [
    "class Product:\n",
    "\n",
    "    def __init__(self, pid, name, brand, price):\n",
    "        self.pid = pid\n",
    "        self.name = name\n",
    "        self.brand = brand\n",
    "        self.price = price\n",
    "\n",
    "    def show(self):\n",
    "        print(\"Product\", self.pid)\n",
    "        print(\"Details:-\")\n",
    "        print(\"Name:\", self.name)\n",
    "        print(\"Brand:\", self.brand)\n",
    "        print(\"Price:\", self.price)\n",
    "\n",
    "\n",
    "class Shoe(Product):\n",
    "    # try it\n",
    "    pass"
   ]
  },
  {
   "cell_type": "markdown",
   "id": "758890bf-303d-42c8-a836-46f9cf29516b",
   "metadata": {},
   "source": [
    "Example Usage:\n",
    "\n",
    "```python\n",
    "product = Product(101, \"Alphabounce\", \"Adidas\", 5000)\n",
    "product.show()\n",
    "```\n",
    "\n",
    "\n",
    "```\n",
    "=== OUTPUT ===\n",
    "Product 101\n",
    "Details:-\n",
    "Name: Alphabounce\n",
    "Brand: Adidas\n",
    "Price: 5000\n",
    "```\n",
    "\n",
    "```python\n",
    "shoe = Shoe(101, \"Ultraboost\", \"Adidas\", 8000, 9, \"Black\", \"Boost\")\n",
    "shoe.show()\n",
    "```\n",
    "\n",
    "\n",
    "```\n",
    "=== OUTPUT ===\n",
    "Product 101\n",
    "Details:-\n",
    "Name: Ultraboost\n",
    "Brand: Adidas\n",
    "Price: 8000\n",
    "Size: 9\n",
    "Color: Black\n",
    "Type: Boost\n",
    "```"
   ]
  }
 ],
 "metadata": {
  "kernelspec": {
   "display_name": "Python 3 (ipykernel)",
   "language": "python",
   "name": "python3"
  },
  "language_info": {
   "codemirror_mode": {
    "name": "ipython",
    "version": 3
   },
   "file_extension": ".py",
   "mimetype": "text/x-python",
   "name": "python",
   "nbconvert_exporter": "python",
   "pygments_lexer": "ipython3",
   "version": "3.11.5"
  }
 },
 "nbformat": 4,
 "nbformat_minor": 5
}
