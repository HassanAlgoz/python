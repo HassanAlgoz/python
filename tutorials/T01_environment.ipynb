{
 "cells": [
  {
   "cell_type": "markdown",
   "metadata": {},
   "source": [
    "# Coding Environment"
   ]
  },
  {
   "cell_type": "markdown",
   "metadata": {},
   "source": [
    "**Activity: Learn about the development environment (20 minutes)**\n",
    "\n",
    "Objectives:\n",
    "\n",
    "- Learn how Interactive Notebooks work with Python\n",
    "- Learn how to work with Google Colab"
   ]
  },
  {
   "cell_type": "markdown",
   "metadata": {},
   "source": [
    "**Questions**\n",
    "\n",
    "Overview of Colaboratory:\n",
    "\n",
    "1. What is Colaboratory and how is it beneficial for data scientists?\n",
    "2. Describe the steps to upload a file from your local machine to Colaboratory.\n",
    "3. How can you install Python packages in Colaboratory? Provide an example.\n",
    "4. Explain how to mount Google Drive in Colaboratory and why it might be useful.\n",
    "\n",
    "Guide to Markdown:\n",
    "\n",
    "5. What is Markdown and why is it useful in Colaboratory notebooks?\n",
    "6. List three basic text formatting options in Markdown and provide an example for each.\n",
    "7. How can you create a table using Markdown in a Colaboratory notebook? Provide a sample table.\n",
    "8. Explain how to add images to a Colaboratory notebook using Markdown."
   ]
  },
  {
   "cell_type": "markdown",
   "metadata": {},
   "source": [
    "**Resources:**\n",
    "\n",
    "- [Overview of Colaboratory](https://colab.research.google.com/notebooks/basic_features_overview.ipynb)\n",
    "- [Guide to Markdown](https://colab.research.google.com/notebooks/markdown_guide.ipynb)\n",
    "- [Markdown Basic Syntax](https://www.markdownguide.org/basic-syntax/)"
   ]
  }
 ],
 "metadata": {
  "language_info": {
   "name": "python"
  }
 },
 "nbformat": 4,
 "nbformat_minor": 2
}
