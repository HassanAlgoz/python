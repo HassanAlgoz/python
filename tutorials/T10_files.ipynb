{
 "cells": [
  {
   "cell_type": "markdown",
   "metadata": {},
   "source": [
    "# File Handling"
   ]
  },
  {
   "cell_type": "markdown",
   "metadata": {},
   "source": [
    "### File Path\n",
    "\n",
    "A ***path*** is a string that gives the location of a file. It is made up of a directory path and a file name.\n",
    "\n",
    "For example, in the file path `C:\\Users\\john\\hello.txt`, `C:\\Users\\john` is the directory path and `hello.txt` is the file name."
   ]
  },
  {
   "cell_type": "markdown",
   "metadata": {},
   "source": [
    "### Careful about backward slashes\n",
    "\n",
    "Note that:\n",
    "\n",
    "- Windows uses backward slashes: `C:\\Users\\john\\hello.txt`\n",
    "- macOS use forward slashes: `/Users/john/hello.txt`\n",
    "\n",
    "When copying and pasting file paths, you should change the backward slash to forward slash.\n",
    "\n",
    "```python\n",
    "'C:/Users/john/hello.txt'\n",
    "```"
   ]
  },
  {
   "cell_type": "code",
   "execution_count": 2,
   "metadata": {},
   "outputs": [
    {
     "name": "stdout",
     "output_type": "stream",
     "text": [
      "C:/Users/John/Documents\n",
      "file.txt\n"
     ]
    }
   ],
   "source": [
    "import os.path\n",
    "\n",
    "windows_path = \"C:/Users/John/Documents/file.txt\"\n",
    "\n",
    "head, tail = os.path.split(windows_path)\n",
    "print(head)\n",
    "print(tail)"
   ]
  },
  {
   "cell_type": "code",
   "execution_count": 3,
   "metadata": {},
   "outputs": [
    {
     "name": "stdout",
     "output_type": "stream",
     "text": [
      "/home/user\n",
      "my_file.txt\n"
     ]
    }
   ],
   "source": [
    "import os.path\n",
    "\n",
    "unix_path = \"/home/user/my_file.txt\"\n",
    "\n",
    "head, tail = os.path.split(unix_path)\n",
    "print(head)\n",
    "print(tail)"
   ]
  },
  {
   "cell_type": "markdown",
   "metadata": {},
   "source": [
    "#### Exercise\n",
    "\n",
    "Which of the following is invalid file path in Python?\n",
    "\n",
    "- `file_path_a = \"C:\\Users\\john\\hello.txt\"`\n",
    "- `file_path_b = \"C:\\\\Users\\\\john\\\\hello.txt\"`\n",
    "- `file_path_c = \"C:/Users/john/hello.txt\"`\n",
    "- `file_path_d = \"/Users/john/hello.txt\"`"
   ]
  },
  {
   "cell_type": "markdown",
   "metadata": {},
   "source": [
    "Answer: "
   ]
  },
  {
   "cell_type": "markdown",
   "metadata": {},
   "source": [
    "The following is a list of methods often used with files:\n",
    "\n",
    "```py\n",
    "\n",
    "import os\n",
    "\n",
    "# Create a directory\n",
    "os.mkdir('new_dir') \n",
    "\n",
    "# Get current directory \n",
    "current_dir = os.getcwd()\n",
    "\n",
    "# Change directory\n",
    "os.chdir('new_dir')\n",
    "\n",
    "# Create a new file\n",
    "with open('file.txt', 'w') as f:\n",
    "   f.write('Hello World!')\n",
    "   \n",
    "# Rename file   \n",
    "os.rename('file.txt', 'hello.txt') \n",
    "\n",
    "# Get file size\n",
    "file_size = os.path.getsize('hello.txt')\n",
    "\n",
    "# Check if file exists\n",
    "file_exists = os.path.isfile('hello.txt') \n",
    "\n",
    "# Delete file\n",
    "os.remove('hello.txt')\n",
    "\n",
    "# Delete directory \n",
    "os.rmdir('new_dir')\n",
    "\n",
    "# List files in directory  \n",
    "files = os.listdir('.')\n",
    "\n",
    "print(files)\n",
    "\n",
    "```"
   ]
  },
  {
   "cell_type": "markdown",
   "metadata": {},
   "source": [
    "### Current Working Directory `os.getcwd()`\n",
    "\n",
    "- Absolute file paths always begin with the root folder. Example: `C:\\` or `/`.\n",
    "\n",
    "- Relative file paths do not begin with the root folder. Example: `example.txt` or `./example.txt`.\n",
    "\n",
    "Run the following to get the current working directory:"
   ]
  },
  {
   "cell_type": "code",
   "execution_count": 1,
   "metadata": {},
   "outputs": [
    {
     "data": {
      "text/plain": [
       "'c:\\\\Users\\\\thund\\\\OneDrive\\\\Teach\\\\Python\\\\tutorials'"
      ]
     },
     "execution_count": 1,
     "metadata": {},
     "output_type": "execute_result"
    }
   ],
   "source": [
    "import os\n",
    "\n",
    "os.getcwd()"
   ]
  },
  {
   "cell_type": "markdown",
   "metadata": {},
   "source": [
    "### What does the `.` and `..` mean in file paths\n",
    "\n",
    "- `.` means the current directory\n",
    "- `..` means the parent directory\n",
    "\n",
    "Hence, `os.listdir('.')` means list all files in the current directory."
   ]
  },
  {
   "cell_type": "markdown",
   "metadata": {},
   "source": [
    "#### Exercise\n",
    "\n",
    "- Use `os.listdir('.')`\n",
    "- Use `os.listdir('..')`"
   ]
  },
  {
   "cell_type": "code",
   "execution_count": null,
   "metadata": {},
   "outputs": [],
   "source": [
    "# try it"
   ]
  },
  {
   "cell_type": "markdown",
   "metadata": {},
   "source": [
    "### Create and remove file"
   ]
  },
  {
   "cell_type": "code",
   "execution_count": 2,
   "metadata": {},
   "outputs": [],
   "source": [
    "# Create a new file\n",
    "with open('example.txt', 'w') as f:\n",
    "   f.write('Hello World!')"
   ]
  },
  {
   "cell_type": "code",
   "execution_count": 5,
   "metadata": {},
   "outputs": [
    {
     "name": "stdout",
     "output_type": "stream",
     "text": [
      "Not Found\n"
     ]
    }
   ],
   "source": [
    "# Check if a file exists\n",
    "file_path = \"./example.txt\"\n",
    "if os.path.exists(file_path):\n",
    "    print(\"Yes. Exists\")\n",
    "else:\n",
    "    print(\"Not Found\")"
   ]
  },
  {
   "cell_type": "code",
   "execution_count": 4,
   "metadata": {},
   "outputs": [],
   "source": [
    "os.remove('example.txt')"
   ]
  },
  {
   "cell_type": "markdown",
   "metadata": {},
   "source": [
    "### Create and remove directory"
   ]
  },
  {
   "cell_type": "code",
   "execution_count": 6,
   "metadata": {},
   "outputs": [],
   "source": [
    "import os\n",
    "\n",
    "os.mkdir(\"new_directory\")"
   ]
  },
  {
   "cell_type": "code",
   "execution_count": 9,
   "metadata": {},
   "outputs": [
    {
     "name": "stdout",
     "output_type": "stream",
     "text": [
      "Not Found\n"
     ]
    }
   ],
   "source": [
    "# Check if a file exists\n",
    "file_path = \"new_directory\"\n",
    "if os.path.exists(file_path):\n",
    "    print(\"Yes. Exists\")\n",
    "else:\n",
    "    print(\"Not Found\")"
   ]
  },
  {
   "cell_type": "code",
   "execution_count": 8,
   "metadata": {},
   "outputs": [],
   "source": [
    "os.rmdir(\"new_directory\")"
   ]
  },
  {
   "cell_type": "markdown",
   "metadata": {},
   "source": [
    "### Find files on your system"
   ]
  },
  {
   "cell_type": "code",
   "execution_count": 15,
   "metadata": {},
   "outputs": [],
   "source": [
    "# Convert file sizes to MBs and GBs\n",
    "def get_file_size(file_path):\n",
    "    # see: https://stackoverflow.com/a/1392549\n",
    "    size = sum( os.path.getsize(os.path.join(dirpath,filename)) for dirpath, dirnames, filenames in os.walk( file_path ) for filename in filenames )\n",
    "    size_kb = size / 1024\n",
    "    size_mb = size_kb / 1024\n",
    "    size_gb = size_mb / 1024\n",
    "    if size_gb > 0.1:\n",
    "        return size_gb, \"GB\"\n",
    "    elif size_mb > 0.1:\n",
    "        return size_mb, \"MB\"\n",
    "    return size_kb, \"KB\""
   ]
  },
  {
   "cell_type": "code",
   "execution_count": 2,
   "metadata": {},
   "outputs": [],
   "source": [
    "import os\n",
    "import platform\n",
    "\n",
    "def walk_directory(root_dir):\n",
    "    \"\"\"Walks through a directory and prints information about its files and subdirectories.\"\"\"\n",
    "\n",
    "    for root, directories, files in os.walk(root_dir):\n",
    "        print(f\"Root directory: {root}\")\n",
    "\n",
    "        # Print directories\n",
    "        for directory in directories:\n",
    "            print(f\"- Directory: {os.path.join(root, directory)}\")\n",
    "\n",
    "        # Print files\n",
    "        for file in files:\n",
    "            print(f\"- File: {os.path.join(root, file)}\")\n",
    "\n",
    "        print(\"-\" * 20)  # Separate entries for readability"
   ]
  },
  {
   "cell_type": "code",
   "execution_count": 23,
   "metadata": {},
   "outputs": [
    {
     "name": "stdout",
     "output_type": "stream",
     "text": [
      "C:\\Windows\n",
      "['appcompat', 'apppatch', 'AppReadiness', 'assembly', 'bcastdvr', 'bfsvc.exe', 'BitLockerDiscoveryVolumeContents', 'Boot', 'bootstat.dat', 'Branding', 'BrowserCore', 'CbsTemp', 'Containers', 'Core.xml', 'CSC', 'Cursors', 'debug', 'diagnostics', 'DiagTrack', 'DigitalLocker', 'Downloaded Program Files', 'DtcInstall.log', 'ELAMBKUP', 'en-US', 'explorer.exe', 'Fonts', 'GameBarPresenceWriter', 'Globalization', 'Help', 'HelpPane.exe', 'hh.exe', 'IdentityCRL', 'IME', 'ImmersiveControlPanel', 'InboxApps', 'INF', 'InputMethod', 'Installer', 'L2Schemas', 'LanguageOverlayCache', 'LiveKernelReports', 'Logs', 'lsasetup.log', 'Media', 'mib.bin', 'Microsoft.NET', 'Migration', 'ModemLogs', 'notepad.exe', 'OCR', 'Offline Web Pages', 'Panther', 'Performance', 'PFRO.log', 'PLA', 'PolicyDefinitions', 'Prefetch', 'PrintDialog', 'Professional.xml', 'Provisioning', 'py.exe', 'pyshellext.amd64.dll', 'pyw.exe', 'regedit.exe', 'Registration', 'RemotePackages', 'rescache', 'Resources', 'SchCache', 'schemas', 'security', 'ServiceProfiles', 'ServiceState', 'servicing', 'Setup', 'setuperr.log', 'ShellComponents', 'ShellExperiences', 'SKB', 'SoftwareDistribution', 'Speech', 'Speech_OneCore', 'splwow64.exe', 'System', 'system.ini', 'System32', 'SystemApps', 'SystemResources', 'SystemTemp', 'SysWOW64', 'TAPI', 'Tasks', 'Temp', 'tracing', 'twain_32', 'twain_32.dll', 'UUS', 'Vss', 'WaaS', 'Web', 'win.ini', 'WindowsShell.Manifest', 'WindowsUpdate.log', 'winhlp32.exe', 'WinSxS', 'WMSysPr9.prx', 'write.exe', 'WUModels']\n",
      "C:\\Users\\thund\n",
      "['.aws', '.azure', '.bash_history', '.cache', '.conda', '.condarc', '.docker', '.gitconfig', '.ipython', '.jupyter', '.keras', '.matplotlib', '.ms-ad', '.python_history', '.ssh', '.vscode', 'AppData', 'Application Data', 'Contacts', 'Cookies', 'Documents', 'Downloads', 'Favorites', 'gensim-data', 'IntelGraphicsProfiles', 'Links', 'Local Settings', 'miniconda3', 'Music', 'My Documents', 'NetHood', 'NTUSER.DAT', 'ntuser.dat.LOG1', 'ntuser.dat.LOG2', 'NTUSER.DAT{a2332f18-cdbf-11ec-8680-002248483d79}.TM.blf', 'NTUSER.DAT{a2332f18-cdbf-11ec-8680-002248483d79}.TMContainer00000000000000000001.regtrans-ms', 'NTUSER.DAT{a2332f18-cdbf-11ec-8680-002248483d79}.TMContainer00000000000000000002.regtrans-ms', 'ntuser.ini', 'OneDrive', 'Pictures', 'PrintHood', 'Recent', 'Saved Games', 'scikit_learn_data', 'Searches', 'SendTo', 'Start Menu', 'T5_Bootcamp', 'Templates', 'tensorflow_datasets', 'Videos']\n",
      "Size of C:\\Program Files: 13.60 GB\n",
      "Size of C:\\Users\\thund\\Downloads: 22.67 GB\n",
      "Size of C:\\Windows\\System32: 6.93 GB\n"
     ]
    }
   ],
   "source": [
    "# Operating system-specific file paths\n",
    "if platform.system() == \"Windows\":\n",
    "    user_folder = os.path.expanduser(\"~\")\n",
    "    downloads_folder = os.path.join(user_folder, \"Downloads\")\n",
    "    \n",
    "    system_root = os.environ.get(\"SystemRoot\", \"C:\\\\Windows\")\n",
    "    built_in_apps_folder = os.path.join(system_root, \"System32\")\n",
    "    \n",
    "    apps_folder = os.environ.get(\"ProgramFiles\", \"C:\\\\Program Files\")\n",
    "elif platform.system() == \"Darwin\":  # macOS\n",
    "    user_folder = os.path.expanduser(\"~\")\n",
    "    downloads_folder = os.path.join(user_folder, \"Downloads\")\n",
    "    \n",
    "    system_root = \"/\"\n",
    "    built_in_apps_folder = \"/System/Applications\"\n",
    "    \n",
    "    apps_folder = \"/Applications\"\n",
    "\n",
    "# Walk through common file paths\n",
    "print(f'{system_root}')\n",
    "print(os.listdir(system_root))\n",
    "\n",
    "print(f'{user_folder}')\n",
    "print(os.listdir(user_folder))\n",
    "\n",
    "# File Size\n",
    "size, unit = get_file_size(apps_folder)\n",
    "print(f\"Size of {apps_folder}: {size:.2f} {unit}\")\n",
    "\n",
    "size, unit = get_file_size(downloads_folder)\n",
    "print(f\"Size of {downloads_folder}: {size:.2f} {unit}\")\n",
    "\n",
    "size, unit = get_file_size(built_in_apps_folder)\n",
    "print(f\"Size of {built_in_apps_folder}: {size:.2f} {unit}\")\n",
    "\n",
    "print('downloads folder:')\n",
    "walk_directory(downloads_folder)"
   ]
  },
  {
   "cell_type": "markdown",
   "metadata": {},
   "source": [
    "# File I/O\n",
    "\n",
    "*Reading* and *writing* files is the primary way for a program to **interact with the real-world**:\n",
    "\n",
    "* `I: input:  read files`\n",
    "* `O: output: write files`\n",
    "\n",
    "The key function for working with files in Python is the `open()` function.\n",
    "\n",
    "The `open()` function takes two parameters; `<filename>`, and `<mode>` which accepts characters having the following meaning:"
   ]
  },
  {
   "cell_type": "markdown",
   "metadata": {},
   "source": [
    "| Character | Meaning |\n",
    "|---|---|\n",
    "| r | Open for reading (default) |\n",
    "| w | Open for writing, truncating the file first |\n",
    "| x | Open for exclusive creation, failing if the file already exists |\n",
    "| a | Open for writing, appending to the end of file if it exists |\n",
    "| b | Binary mode (e.g., images, audio, or video) |\n",
    "| t | Text mode (default) |\n",
    "| + | Open for updating (reading and writing) |"
   ]
  },
  {
   "cell_type": "markdown",
   "metadata": {},
   "source": [
    "### Read the file in one go\n",
    "\n",
    "`file.read()` reads the entire file and returns it as a string."
   ]
  },
  {
   "cell_type": "code",
   "execution_count": 10,
   "metadata": {},
   "outputs": [
    {
     "name": "stdout",
     "output_type": "stream",
     "text": [
      "Sophia\n",
      "Bell\n",
      "Firdaus\n"
     ]
    }
   ],
   "source": [
    "file = open('./data/students.txt')\n",
    "print(file.read())\n",
    "file.close()"
   ]
  },
  {
   "cell_type": "markdown",
   "metadata": {},
   "source": [
    "### Read line by line\n",
    "\n",
    "`file.readline()` reads a single line from the file; a newline character (`\\n`) is left at the end of the string, and is only omitted on the last line of the file if the file doesn’t end in a newline."
   ]
  },
  {
   "cell_type": "code",
   "execution_count": 13,
   "metadata": {},
   "outputs": [
    {
     "name": "stdout",
     "output_type": "stream",
     "text": [
      "Sophia\n",
      "\n",
      "Bell\n",
      "\n"
     ]
    }
   ],
   "source": [
    "file = open('./data/students.txt')\n",
    "print(file.readline())\n",
    "print(file.readline())\n",
    "file.close()"
   ]
  },
  {
   "cell_type": "code",
   "execution_count": 14,
   "metadata": {},
   "outputs": [
    {
     "name": "stdout",
     "output_type": "stream",
     "text": [
      "Sophia\n",
      "Bell\n",
      "Firdaus\n"
     ]
    }
   ],
   "source": [
    "file = open('./data/students.txt')\n",
    "while True:\n",
    "    line = file.readline()\n",
    "    line = line.rstrip() # remove the newline character \"\\n\"\n",
    "    if line == '':\n",
    "        break\n",
    "    print(line)\n",
    "file.close()"
   ]
  },
  {
   "cell_type": "markdown",
   "metadata": {},
   "source": [
    "### Automatically close files using the `with` block (Context Manager)"
   ]
  },
  {
   "cell_type": "code",
   "execution_count": 20,
   "metadata": {},
   "outputs": [
    {
     "name": "stdout",
     "output_type": "stream",
     "text": [
      "1 Sophia\n",
      "2 Bell\n",
      "3 Firdaus\n"
     ]
    }
   ],
   "source": [
    "file_path = './data/students.txt'\n",
    "with open(file_path, \"r\") as f:\n",
    "    while True:\n",
    "        line = f.readline()\n",
    "        line = line.rstrip() # remove the newline character \"\\n\"\n",
    "        if line == '':\n",
    "            break\n",
    "        print(line)"
   ]
  },
  {
   "cell_type": "markdown",
   "metadata": {},
   "source": [
    "Let's now print the line number as well: `i` starting from `1`."
   ]
  },
  {
   "cell_type": "code",
   "execution_count": 15,
   "metadata": {},
   "outputs": [
    {
     "name": "stdout",
     "output_type": "stream",
     "text": [
      "1 Sophia\n",
      "2 Bell\n",
      "3 Firdaus\n"
     ]
    }
   ],
   "source": [
    "file_path = './data/students.txt'\n",
    "i = 1\n",
    "with open(file_path, \"r\") as f:\n",
    "    while True:\n",
    "        line = f.readline()\n",
    "        line = line.rstrip() # remove the newline character \"\\n\"\n",
    "        if line == '':\n",
    "            break\n",
    "        print(i, line)\n",
    "        i += 1"
   ]
  },
  {
   "cell_type": "markdown",
   "metadata": {},
   "source": [
    "#### Exercise\n",
    "\n",
    "- Read the file `customer.csv` in the `data` folder and print it.\n",
    "- Count the number of **lines** in the file.\n",
    "- Count the number of **characters** in the file.\n",
    "- Count the number of **words** in the file."
   ]
  },
  {
   "cell_type": "code",
   "execution_count": null,
   "metadata": {},
   "outputs": [],
   "source": [
    "# try it"
   ]
  },
  {
   "cell_type": "markdown",
   "metadata": {},
   "source": [
    "### Handle File Errors\n",
    "\n",
    "When working with files, it is important to handle errors that can occur. For example:\n",
    "\n",
    "1. the file may not exist\n",
    "1. the file may be write-protected\n",
    "\n",
    "To handle errors when working with files, you can use a `try...except` block. The `try` block contains the code that you want to execute. If an error occurs, the `except` block will be executed.\n",
    "\n",
    "Here is an example of how to handle errors when working with files in Python:"
   ]
  },
  {
   "cell_type": "code",
   "execution_count": 16,
   "metadata": {},
   "outputs": [],
   "source": [
    "file_path = 'new_file.txt'\n",
    "with open(file_path, \"w\") as f:\n",
    "    f.write(\"zip zap\")"
   ]
  },
  {
   "cell_type": "code",
   "execution_count": 16,
   "metadata": {},
   "outputs": [
    {
     "name": "stdout",
     "output_type": "stream",
     "text": [
      "The file does not exist!\n"
     ]
    }
   ],
   "source": [
    "try:\n",
    "    with open(\"new_file.txt\", \"r\") as f:\n",
    "        contents = f.read()\n",
    "        print('success')\n",
    "except FileNotFoundError:\n",
    "    print(\"The file does not exist!\")\n",
    "except PermissionError:\n",
    "    print(\"The file is write-protected!\")\n",
    "except Exception as e:\n",
    "    print(\"some error happend:\", e)"
   ]
  },
  {
   "cell_type": "markdown",
   "metadata": {},
   "source": [
    "# The `csv` module\n",
    "\n",
    "CSV stands for: Comma Separated Values.\n",
    "\n",
    "The `csv` module implements classes to read and write tabular data in CSV format."
   ]
  },
  {
   "cell_type": "code",
   "execution_count": 17,
   "metadata": {},
   "outputs": [],
   "source": [
    "import csv"
   ]
  },
  {
   "cell_type": "code",
   "execution_count": 23,
   "metadata": {},
   "outputs": [
    {
     "name": "stdout",
     "output_type": "stream",
     "text": [
      "[['name', 'phone', 'email'], ['Anna', '+91 99999 11111', 'anna@example.com'], ['Sia', '+91 98765 12345', 'sia@example.com'], ['Leo', '+91 90909 10101', 'leo@example.com'], ['Bob', '+91 99999 23232', 'bob@example.com'], ['Den', '+91 98765 11223', 'den@example.com'], ['Mark', '+91 90909 88776', 'mark@example.com']]\n"
     ]
    }
   ],
   "source": [
    "data = []\n",
    "with open('./data/customers.csv', 'r') as f:\n",
    "    reader = csv.reader(f)\n",
    "    for row in reader:\n",
    "        data.append(row)\n",
    "\n",
    "print(data)"
   ]
  },
  {
   "cell_type": "code",
   "execution_count": 28,
   "metadata": {},
   "outputs": [],
   "source": [
    "# Open the CSV file for reading.\n",
    "data = []\n",
    "with open('./data/customers.csv', \"r\") as f:\n",
    "    reader = csv.reader(f)\n",
    "\n",
    "    # Iterate over the rows of the CSV file.\n",
    "    for row in reader:\n",
    "        data.append(row)\n",
    "\n",
    "header = data[0]\n",
    "rows = data[1:]"
   ]
  },
  {
   "cell_type": "code",
   "execution_count": 29,
   "metadata": {},
   "outputs": [
    {
     "name": "stdout",
     "output_type": "stream",
     "text": [
      "['name', 'phone', 'email']\n",
      "[['Anna', '+91 99999 11111', 'anna@example.com'], ['Sia', '+91 98765 12345', 'sia@example.com'], ['Leo', '+91 90909 10101', 'leo@example.com'], ['Bob', '+91 99999 23232', 'bob@example.com'], ['Den', '+91 98765 11223', 'den@example.com'], ['Mark', '+91 90909 88776', 'mark@example.com']]\n"
     ]
    }
   ],
   "source": [
    "print(header)\n",
    "print(rows)"
   ]
  },
  {
   "cell_type": "code",
   "execution_count": 31,
   "metadata": {},
   "outputs": [],
   "source": [
    "# Open the CSV file for writing.\n",
    "with open(\"asdf.csv\", \"w\") as f:\n",
    "    writer = csv.writer(f, lineterminator='\\n')\n",
    "\n",
    "    # Write the header row.\n",
    "    writer.writerow([\"name\", \"age\"])\n",
    "\n",
    "    # Write the data rows.\n",
    "    rows = [\n",
    "        [\"Alice\", 25],\n",
    "        [\"Bob\", 30],\n",
    "    ]\n",
    "    writer.writerows(rows)"
   ]
  }
 ],
 "metadata": {
  "kernelspec": {
   "display_name": "Python 3",
   "language": "python",
   "name": "python3"
  },
  "language_info": {
   "codemirror_mode": {
    "name": "ipython",
    "version": 3
   },
   "file_extension": ".py",
   "mimetype": "text/x-python",
   "name": "python",
   "nbconvert_exporter": "python",
   "pygments_lexer": "ipython3",
   "version": "3.9.18"
  }
 },
 "nbformat": 4,
 "nbformat_minor": 2
}
