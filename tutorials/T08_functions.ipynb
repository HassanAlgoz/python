{
 "cells": [
  {
   "cell_type": "markdown",
   "metadata": {},
   "source": [
    "# Functions\n",
    "\n",
    "Functions are reusable pieces of code that can be called from anywhere in your program."
   ]
  },
  {
   "cell_type": "markdown",
   "metadata": {},
   "source": [
    "Recall that we have been using **built-in** functions like:\n",
    "\n",
    "- `print()`\n",
    "- `input()`\n",
    "- `int()`\n",
    "\n",
    "We also have seen some functions from the `math` **standard library** module:\n",
    "\n",
    "- `math.sqrt()`\n",
    "- `math.pow()`"
   ]
  },
  {
   "cell_type": "markdown",
   "metadata": {},
   "source": [
    "### Standard library functions"
   ]
  },
  {
   "cell_type": "markdown",
   "metadata": {},
   "source": [
    "To access additional math functions: we [`import math`](https://docs.python.org/3/library/math.html), and then use the `math.` prefix to access the functions."
   ]
  },
  {
   "cell_type": "code",
   "execution_count": 6,
   "metadata": {},
   "outputs": [
    {
     "name": "stdout",
     "output_type": "stream",
     "text": [
      "80.0\n"
     ]
    }
   ],
   "source": [
    "import math\n",
    "\n",
    "x = abs(-2) + math.pow(2, 3)\n",
    "y = math.sqrt(64)\n",
    "z = x * y\n",
    "print(z)"
   ]
  },
  {
   "cell_type": "markdown",
   "metadata": {},
   "source": [
    "To find out what functions are available in the `math` module, you can use the `dir()` function:\n"
   ]
  },
  {
   "cell_type": "code",
   "execution_count": 7,
   "metadata": {},
   "outputs": [
    {
     "data": {
      "text/plain": [
       "['__doc__',\n",
       " '__loader__',\n",
       " '__name__',\n",
       " '__package__',\n",
       " '__spec__',\n",
       " 'acos',\n",
       " 'acosh',\n",
       " 'asin',\n",
       " 'asinh',\n",
       " 'atan',\n",
       " 'atan2',\n",
       " 'atanh',\n",
       " 'ceil',\n",
       " 'comb',\n",
       " 'copysign',\n",
       " 'cos',\n",
       " 'cosh',\n",
       " 'degrees',\n",
       " 'dist',\n",
       " 'e',\n",
       " 'erf',\n",
       " 'erfc',\n",
       " 'exp',\n",
       " 'expm1',\n",
       " 'fabs',\n",
       " 'factorial',\n",
       " 'floor',\n",
       " 'fmod',\n",
       " 'frexp',\n",
       " 'fsum',\n",
       " 'gamma',\n",
       " 'gcd',\n",
       " 'hypot',\n",
       " 'inf',\n",
       " 'isclose',\n",
       " 'isfinite',\n",
       " 'isinf',\n",
       " 'isnan',\n",
       " 'isqrt',\n",
       " 'lcm',\n",
       " 'ldexp',\n",
       " 'lgamma',\n",
       " 'log',\n",
       " 'log10',\n",
       " 'log1p',\n",
       " 'log2',\n",
       " 'modf',\n",
       " 'nan',\n",
       " 'nextafter',\n",
       " 'perm',\n",
       " 'pi',\n",
       " 'pow',\n",
       " 'prod',\n",
       " 'radians',\n",
       " 'remainder',\n",
       " 'sin',\n",
       " 'sinh',\n",
       " 'sqrt',\n",
       " 'tan',\n",
       " 'tanh',\n",
       " 'tau',\n",
       " 'trunc',\n",
       " 'ulp']"
      ]
     },
     "execution_count": 7,
     "metadata": {},
     "output_type": "execute_result"
    }
   ],
   "source": [
    "dir(math)"
   ]
  },
  {
   "cell_type": "markdown",
   "metadata": {},
   "source": [
    "#### The `from import` syntax\n",
    "\n",
    "We can also use the `from` syntax to import specific functions from a module:\n",
    "\n",
    "```python\n",
    "from math import sqrt, pow\n",
    "```\n"
   ]
  },
  {
   "cell_type": "markdown",
   "metadata": {},
   "source": [
    "### User-defined functions\n",
    "\n",
    "Becareful not to pick names for your functions that are already used by Python. For example, don't name your function `sum`, `min`, `max`, `print` or `input` or `int` or `math`. If you do, you will not be able to use the built-in functions with those names."
   ]
  },
  {
   "cell_type": "markdown",
   "metadata": {},
   "source": [
    "Now, let us define our own functions.\n",
    "\n",
    "The syntax for defining a function is:\n",
    "\n",
    "```python\n",
    "def function_name(parameters):\n",
    "    # code block\n",
    "    return value\n",
    "```"
   ]
  },
  {
   "cell_type": "markdown",
   "metadata": {},
   "source": [
    "The following is a function that takes 2 arguments and returns the sum of them."
   ]
  },
  {
   "cell_type": "code",
   "execution_count": 2,
   "metadata": {},
   "outputs": [],
   "source": [
    "\n",
    "def add(num1, num2):\n",
    "    result = num1 + num2\n",
    "    return result"
   ]
  },
  {
   "cell_type": "markdown",
   "metadata": {},
   "source": [
    "To call a defined function, we simply write the function name followed by parentheses and pass in the arguments (if any)."
   ]
  },
  {
   "cell_type": "code",
   "execution_count": 7,
   "metadata": {},
   "outputs": [
    {
     "data": {
      "text/plain": [
       "30"
      ]
     },
     "execution_count": 7,
     "metadata": {},
     "output_type": "execute_result"
    }
   ],
   "source": [
    "add(10, 20)"
   ]
  },
  {
   "cell_type": "code",
   "execution_count": 8,
   "metadata": {},
   "outputs": [
    {
     "data": {
      "text/plain": [
       "100"
      ]
     },
     "execution_count": 8,
     "metadata": {},
     "output_type": "execute_result"
    }
   ],
   "source": [
    "add(40, 60)"
   ]
  },
  {
   "cell_type": "markdown",
   "metadata": {},
   "source": [
    "We can use function return values to assign them to variables:"
   ]
  },
  {
   "cell_type": "code",
   "execution_count": null,
   "metadata": {},
   "outputs": [
    {
     "ename": "NameError",
     "evalue": "name 'add' is not defined",
     "output_type": "error",
     "traceback": [
      "\u001b[1;31m---------------------------------------------------------------------------\u001b[0m\n",
      "\u001b[1;31mNameError\u001b[0m                                 Traceback (most recent call last)\n",
      "Cell \u001b[1;32mIn[1], line 1\u001b[0m\n",
      "\u001b[1;32m----> 1\u001b[0m s1 \u001b[38;5;241m=\u001b[39m \u001b[43madd\u001b[49m(\u001b[38;5;241m10\u001b[39m, \u001b[38;5;241m20\u001b[39m)\n",
      "\u001b[0;32m      2\u001b[0m s2 \u001b[38;5;241m=\u001b[39m add(\u001b[38;5;241m11\u001b[39m, \u001b[38;5;241m22\u001b[39m)\n",
      "\n",
      "\u001b[1;31mNameError\u001b[0m: name 'add' is not defined"
     ]
    }
   ],
   "source": [
    "s1 = add(10, 20)\n",
    "s2 = add(11, 22)"
   ]
  },
  {
   "cell_type": "markdown",
   "metadata": {},
   "source": [
    "### Void functions\n",
    "\n",
    "- Some functions do not return any value. They are called **void** functions.\n",
    "- They are used to perform an action, but do not return a value."
   ]
  },
  {
   "cell_type": "markdown",
   "metadata": {},
   "source": [
    "The following is a function that takes no arguments and returns nothing. It only prints a message."
   ]
  },
  {
   "cell_type": "code",
   "execution_count": 15,
   "metadata": {},
   "outputs": [],
   "source": [
    "def show():\n",
    "    print(\"this is not a return, rather, it is a print statement.\")"
   ]
  },
  {
   "cell_type": "code",
   "execution_count": 14,
   "metadata": {},
   "outputs": [
    {
     "name": "stdout",
     "output_type": "stream",
     "text": [
      "this is not a return, rather, it is a print statement\n"
     ]
    }
   ],
   "source": [
    "show()"
   ]
  },
  {
   "cell_type": "markdown",
   "metadata": {},
   "source": [
    "### Exercise\n",
    "\n",
    "Write the function $\\text{multiply}(a, b, c) = a \\times b \\times c$.\n",
    "\n",
    "Remember the syntax for defining a function:\n",
    "\n",
    "```python\n",
    "def function_name(argument1, argument2, ...):\n",
    "    # code\n",
    "    return something\n",
    "```"
   ]
  },
  {
   "cell_type": "markdown",
   "metadata": {},
   "source": [
    "Then, call the function with some arguments."
   ]
  },
  {
   "cell_type": "markdown",
   "metadata": {},
   "source": [
    "#### Exercise\n",
    "\n",
    "Write a function that takes 2 arguments and returns the difference of them."
   ]
  },
  {
   "cell_type": "code",
   "execution_count": 21,
   "metadata": {},
   "outputs": [],
   "source": [
    "# try it"
   ]
  },
  {
   "cell_type": "markdown",
   "metadata": {},
   "source": [
    "Define a function that takes two arguments, name and age, and print their value."
   ]
  },
  {
   "cell_type": "code",
   "execution_count": null,
   "metadata": {},
   "outputs": [],
   "source": [
    "# try it"
   ]
  },
  {
   "cell_type": "markdown",
   "metadata": {},
   "source": [
    "Define a function `check_password_stength(password)` which returns 'Strong' if the password is more than 8 characters long. Otherwise, it returns 'Weak'.\n",
    "\n",
    "Hint: use `len(password)` to get the length of a string."
   ]
  },
  {
   "cell_type": "code",
   "execution_count": 22,
   "metadata": {},
   "outputs": [],
   "source": [
    "# try it"
   ]
  },
  {
   "cell_type": "markdown",
   "metadata": {},
   "source": [
    "## Returning multiple values\n",
    "\n",
    "- Python functions can return multiple values. This is done by separating the values with commas.\n",
    "- The values are returned as a tuple."
   ]
  },
  {
   "cell_type": "code",
   "execution_count": 2,
   "metadata": {},
   "outputs": [
    {
     "name": "stdout",
     "output_type": "stream",
     "text": [
      "<class 'tuple'>\n"
     ]
    }
   ],
   "source": [
    "\n",
    "def calculate(num1, num2):\n",
    "  sum = num1 + num2\n",
    "  diff = num1 - num2\n",
    "  return sum, diff\n",
    "\n",
    "val = calculate(10, 5)\n",
    "print(type(val))"
   ]
  },
  {
   "cell_type": "code",
   "execution_count": null,
   "metadata": {},
   "outputs": [
    {
     "name": "stdout",
     "output_type": "stream",
     "text": [
      "15 5\n"
     ]
    }
   ],
   "source": [
    "result_sum, result_diff = calculate(10, 5)\n",
    "print(result_sum, result_diff)"
   ]
  },
  {
   "cell_type": "markdown",
   "metadata": {},
   "source": [
    "#### Exercise\n",
    "\n",
    "Write a function that takes 2 arguments, `a` and `b`, and returns the sum, difference of of them."
   ]
  },
  {
   "cell_type": "code",
   "execution_count": null,
   "metadata": {},
   "outputs": [],
   "source": [
    "# try it"
   ]
  },
  {
   "cell_type": "markdown",
   "metadata": {},
   "source": [
    "#### Exercise\n",
    "\n",
    "Write a function that takes 2 arguments, `a` and `b`, and returns the uppercase and lowercase of of them."
   ]
  },
  {
   "cell_type": "code",
   "execution_count": null,
   "metadata": {},
   "outputs": [],
   "source": [
    "# try it"
   ]
  },
  {
   "cell_type": "markdown",
   "metadata": {},
   "source": [
    "## Functions calling other functions"
   ]
  },
  {
   "cell_type": "code",
   "execution_count": 5,
   "metadata": {},
   "outputs": [
    {
     "name": "stdout",
     "output_type": "stream",
     "text": [
      "a: 14.385164807134505\n",
      "b: 13.47213595499958\n"
     ]
    }
   ],
   "source": [
    "import math\n",
    "\n",
    "p = 9\n",
    "\n",
    "def square_root(x):\n",
    "    return math.sqrt(x)\n",
    "\n",
    "def my_square(x, y):\n",
    "    z = square_root((x ** 2) + (y ** 2)) + p\n",
    "    return z\n",
    "\n",
    "a = my_square(2, 5)\n",
    "b = my_square(4, 2)\n",
    "\n",
    "print('a:', a)\n",
    "print('b:', b)"
   ]
  },
  {
   "cell_type": "markdown",
   "metadata": {},
   "source": [
    "## Default Arguments\n",
    "\n",
    "We can define default values for function arguments. If the caller does not pass in a value for that argument, the default value will be used."
   ]
  },
  {
   "cell_type": "code",
   "execution_count": null,
   "metadata": {},
   "outputs": [
    {
     "name": "stdout",
     "output_type": "stream",
     "text": [
      "Hello John\n",
      "Hi Mary\n"
     ]
    }
   ],
   "source": [
    "# Default arguments\n",
    "def greet(name, greeting=\"Hello\"):\n",
    "  print(greeting, name)\n",
    "\n",
    "greet(\"John\") \n",
    "greet(\"Mary\", \"Hi\")"
   ]
  },
  {
   "cell_type": "markdown",
   "metadata": {},
   "source": [
    "Note: `name` `name` is a **positional argument**; meaning that its position is important. Unlike `greeting`, which is a **keyword argument**."
   ]
  },
  {
   "cell_type": "markdown",
   "metadata": {},
   "source": [
    "#### Exercise\n",
    "\n",
    "Write a function that takes name and salary. If the employee's salary is not provided. It defaults to `9000`."
   ]
  },
  {
   "cell_type": "code",
   "execution_count": null,
   "metadata": {},
   "outputs": [],
   "source": [
    "# try it"
   ]
  },
  {
   "cell_type": "markdown",
   "metadata": {},
   "source": [
    "### `from import` syntax"
   ]
  },
  {
   "cell_type": "code",
   "execution_count": null,
   "metadata": {},
   "outputs": [
    {
     "data": {
      "text/plain": [
       "2.0"
      ]
     },
     "metadata": {},
     "output_type": "display_data"
    }
   ],
   "source": [
    "import math\n",
    "\n",
    "math.sqrt(4)"
   ]
  },
  {
   "cell_type": "code",
   "execution_count": null,
   "metadata": {},
   "outputs": [
    {
     "data": {
      "text/plain": [
       "2.0"
      ]
     },
     "metadata": {},
     "output_type": "display_data"
    }
   ],
   "source": [
    "from math import sqrt\n",
    "\n",
    "sqrt(4)"
   ]
  },
  {
   "cell_type": "code",
   "execution_count": null,
   "metadata": {},
   "outputs": [
    {
     "data": {
      "text/plain": [
       "datetime.date(2021, 12, 24)"
      ]
     },
     "metadata": {},
     "output_type": "display_data"
    }
   ],
   "source": [
    "import datetime\n",
    "\n",
    "datetime.date(2021, 12, 24)"
   ]
  },
  {
   "cell_type": "code",
   "execution_count": null,
   "metadata": {},
   "outputs": [
    {
     "data": {
      "text/plain": [
       "datetime.date(2021, 12, 24)"
      ]
     },
     "metadata": {},
     "output_type": "display_data"
    }
   ],
   "source": [
    "from datetime import date\n",
    "\n",
    "date(2021, 12, 24)"
   ]
  },
  {
   "cell_type": "markdown",
   "metadata": {},
   "source": [
    "### Datetime"
   ]
  },
  {
   "cell_type": "code",
   "execution_count": null,
   "metadata": {},
   "outputs": [
    {
     "name": "stdout",
     "output_type": "stream",
     "text": [
      "Current Year 2023\n",
      "Current Month 12\n",
      "Current Day 25\n"
     ]
    }
   ],
   "source": [
    "from datetime import date\n",
    "\n",
    "today_date = date.today()\n",
    "\n",
    "print(\"Current Year\", today_date.year)\n",
    "print(\"Current Month\", today_date.month)\n",
    "print(\"Current Day\", today_date.day)"
   ]
  },
  {
   "cell_type": "markdown",
   "metadata": {},
   "source": [
    "## Variable Scope"
   ]
  },
  {
   "cell_type": "markdown",
   "metadata": {},
   "source": [
    "Here, the variables `x` and `x` have the same name, but they have no relation whatsoever to each other, because they are in different **scopes**."
   ]
  },
  {
   "cell_type": "code",
   "execution_count": null,
   "metadata": {},
   "outputs": [],
   "source": [
    "def A(a):\n",
    "    x = a + 10\n",
    "    return x\n",
    "\n",
    "def B(b):\n",
    "    x = b + 20\n",
    "    return x"
   ]
  },
  {
   "cell_type": "code",
   "execution_count": null,
   "metadata": {},
   "outputs": [],
   "source": [
    "# Global scope\n",
    "x = 0\n",
    "\n",
    "def outer():\n",
    "    # Enclosed scope\n",
    "    x = 1\n",
    "    def inner():\n",
    "        # Local scope\n",
    "        x = 2\n",
    "        \n",
    "print(x)"
   ]
  },
  {
   "cell_type": "markdown",
   "metadata": {},
   "source": [
    "### Local scope\n",
    "\n",
    "A variable defined inside a function. It can only be accessed inside of the function in which it is defined."
   ]
  },
  {
   "cell_type": "code",
   "execution_count": null,
   "metadata": {},
   "outputs": [
    {
     "name": "stdout",
     "output_type": "stream",
     "text": [
      "Hello, Alice!\n"
     ]
    },
    {
     "ename": "NameError",
     "evalue": "name 'message' is not defined",
     "output_type": "error",
     "traceback": [
      "\u001b[1;31m---------------------------------------------------------------------------\u001b[0m\n",
      "\u001b[1;31mNameError\u001b[0m                                 Traceback (most recent call last)\n",
      "Cell \u001b[1;32mIn[53], line 9\u001b[0m\n",
      "\u001b[0;32m      6\u001b[0m greet(\u001b[38;5;124m\"\u001b[39m\u001b[38;5;124mAlice\u001b[39m\u001b[38;5;124m\"\u001b[39m)\n",
      "\u001b[0;32m      8\u001b[0m \u001b[38;5;66;03m# uncomment the following line and run it to see the error:\u001b[39;00m\n",
      "\u001b[1;32m----> 9\u001b[0m \u001b[38;5;28mprint\u001b[39m(message)\n",
      "\n",
      "\u001b[1;31mNameError\u001b[0m: name 'message' is not defined"
     ]
    }
   ],
   "source": [
    "def greet(name):\n",
    "    # Local variable\n",
    "    message = \"Hello, {}!\".format(name)\n",
    "    print(message)\n",
    "\n",
    "greet(\"Alice\")\n",
    "\n",
    "# uncomment the following line and run it to see the error:\n",
    "print(message) # NameError: name 'message' is not defined"
   ]
  },
  {
   "cell_type": "markdown",
   "metadata": {},
   "source": [
    "### Global scope\n",
    "\n",
    "A variable defined outside of any function (usually right after imports). It can be accessed from anywhere in the program."
   ]
  },
  {
   "cell_type": "code",
   "execution_count": null,
   "metadata": {},
   "outputs": [
    {
     "name": "stdout",
     "output_type": "stream",
     "text": [
      "Hello, world!\n"
     ]
    }
   ],
   "source": [
    "# Global variable (defined at the outer-level of indentation, usually right after imports)\n",
    "message2 = \"Hello, world!\"\n",
    "\n",
    "def greet():\n",
    "    print(message2)\n",
    "\n",
    "greet()"
   ]
  },
  {
   "cell_type": "markdown",
   "metadata": {},
   "source": [
    "### Built-in scope\n",
    "\n",
    "A variable or function that is predefined in Python. It can be accessed from anywhere in the program.\n",
    "\n",
    "See docs for a full list of built-in functions: https://docs.python.org/3/library/functions.html\n",
    "\n",
    "Functions like:\n",
    "\n",
    "- `print`\n",
    "- `len`"
   ]
  },
  {
   "cell_type": "code",
   "execution_count": null,
   "metadata": {},
   "outputs": [
    {
     "name": "stdout",
     "output_type": "stream",
     "text": [
      "13\n"
     ]
    }
   ],
   "source": [
    "x = len(\"Hello, world!\")\n",
    "print(x)"
   ]
  },
  {
   "cell_type": "markdown",
   "metadata": {},
   "source": [
    "#### Exercises"
   ]
  },
  {
   "cell_type": "markdown",
   "metadata": {},
   "source": [
    "Ex: Will the following code work? Why or why not?\n",
    "\n",
    "```py\n",
    "# Snippet 1\n",
    "x = 5\n",
    "\n",
    "def func1():\n",
    "  print(x)\n",
    "  \n",
    "func1()\n",
    "```"
   ]
  },
  {
   "cell_type": "code",
   "execution_count": null,
   "metadata": {},
   "outputs": [],
   "source": []
  },
  {
   "cell_type": "markdown",
   "metadata": {},
   "source": [
    "Ex: What will each print statement print in Snippet 2? Explain how the variable x is scoped.\n",
    "\n",
    "```py\n",
    "# Snippet 2\n",
    "x = 5\n",
    "\n",
    "def func2():\n",
    "  x = 10\n",
    "  print(x)\n",
    "  \n",
    "func2()\n",
    "print(x)\n",
    "```"
   ]
  },
  {
   "cell_type": "markdown",
   "metadata": {},
   "source": [
    "Ex: What will each print statement print in Snippet 3? Explain how the variable y is scoped.\n",
    "\n",
    "```py\n",
    "# Snippet 3  \n",
    "y = 10\n",
    "\n",
    "def func3():\n",
    "  global y\n",
    "  y = 20\n",
    "  print(y)\n",
    "  \n",
    "func3()\n",
    "print(y)\n",
    "```"
   ]
  },
  {
   "cell_type": "markdown",
   "metadata": {},
   "source": [
    "# Imports"
   ]
  },
  {
   "cell_type": "markdown",
   "metadata": {},
   "source": [
    "First you have to create a file `my_module.py` with the following content:\n",
    "\n",
    "```py\n",
    "def my_function():\n",
    "    print(\"Hello from my_module!\")\n",
    "    \n",
    "class MyClass:\n",
    "    def __init__(self):\n",
    "        print(\"An instance of MyClass was created!\")\n",
    "\n",
    "my_variable = 99\n",
    "```"
   ]
  },
  {
   "cell_type": "markdown",
   "metadata": {},
   "source": [
    "Now we can import the module and use it."
   ]
  },
  {
   "cell_type": "code",
   "execution_count": null,
   "metadata": {},
   "outputs": [
    {
     "ename": "ModuleNotFoundError",
     "evalue": "No module named 'tutorials'",
     "output_type": "error",
     "traceback": [
      "\u001b[1;31m---------------------------------------------------------------------------\u001b[0m\n",
      "\u001b[1;31mModuleNotFoundError\u001b[0m                       Traceback (most recent call last)\n",
      "Cell \u001b[1;32mIn[7], line 1\u001b[0m\n",
      "\u001b[1;32m----> 1\u001b[0m \u001b[38;5;28;01mimport\u001b[39;00m \u001b[38;5;21;01mtutorials\u001b[39;00m\u001b[38;5;21;01m.\u001b[39;00m\u001b[38;5;21;01mmymodule\u001b[39;00m \u001b[38;5;28;01mas\u001b[39;00m \u001b[38;5;21;01mmymodule\u001b[39;00m\n",
      "\n",
      "\u001b[1;31mModuleNotFoundError\u001b[0m: No module named 'tutorials'"
     ]
    }
   ],
   "source": [
    "import tutorials.mymodule as mymodule"
   ]
  },
  {
   "cell_type": "code",
   "execution_count": null,
   "metadata": {},
   "outputs": [
    {
     "name": "stdout",
     "output_type": "stream",
     "text": [
      "Hello from my_module!\n"
     ]
    }
   ],
   "source": [
    "mymodule.my_function()"
   ]
  },
  {
   "cell_type": "code",
   "execution_count": null,
   "metadata": {},
   "outputs": [
    {
     "name": "stdout",
     "output_type": "stream",
     "text": [
      "An instance of MyClass was created!\n"
     ]
    }
   ],
   "source": [
    "obj = mymodule.MyClass()"
   ]
  },
  {
   "cell_type": "code",
   "execution_count": null,
   "metadata": {},
   "outputs": [
    {
     "data": {
      "text/plain": [
       "99"
      ]
     },
     "metadata": {},
     "output_type": "display_data"
    }
   ],
   "source": [
    "mymodule.my_variable"
   ]
  },
  {
   "cell_type": "markdown",
   "metadata": {},
   "source": [
    "Using `dir` to explore the `my_module`:"
   ]
  },
  {
   "cell_type": "code",
   "execution_count": null,
   "metadata": {},
   "outputs": [
    {
     "data": {
      "text/plain": [
       "['MyClass',\n",
       " '__builtins__',\n",
       " '__cached__',\n",
       " '__doc__',\n",
       " '__file__',\n",
       " '__loader__',\n",
       " '__name__',\n",
       " '__package__',\n",
       " '__spec__',\n",
       " 'my_function',\n",
       " 'my_variable']"
      ]
     },
     "metadata": {},
     "output_type": "display_data"
    }
   ],
   "source": [
    "dir(mymodule)"
   ]
  },
  {
   "cell_type": "markdown",
   "metadata": {},
   "source": [
    "We notice a couple of things here:\n",
    "\n",
    "- `dir()` returns a list of defined names in a namespace.\n",
    "- We can see our defined `MyClass`, `my_function`, and `my_variable`\n",
    "- But we also see names with the pattern `__<something>__`; these are special names in Python"
   ]
  },
  {
   "cell_type": "code",
   "execution_count": null,
   "metadata": {},
   "outputs": [
    {
     "name": "stdout",
     "output_type": "stream",
     "text": [
      "__main__\n",
      "my_module\n"
     ]
    }
   ],
   "source": [
    "print(__name__) # <-- this is the name of the current module\n",
    "print(mymodule.__name__)"
   ]
  },
  {
   "cell_type": "code",
   "execution_count": null,
   "metadata": {},
   "outputs": [
    {
     "name": "stdout",
     "output_type": "stream",
     "text": [
      "MyClass\n",
      "my_function\n",
      "my_variable\n"
     ]
    }
   ],
   "source": [
    "# let's remove any dunder names (names that start and end with __)\n",
    "for name in dir(mymodule):\n",
    "    if not name.startswith('__'):\n",
    "        print(name)"
   ]
  },
  {
   "cell_type": "markdown",
   "metadata": {},
   "source": [
    "- We can import the names directly and expose them to current namespace using `from my_module import *`.\n",
    "- This is not recommended because it can overwrite existing names in the current namespace."
   ]
  },
  {
   "cell_type": "code",
   "execution_count": null,
   "metadata": {},
   "outputs": [
    {
     "name": "stdout",
     "output_type": "stream",
     "text": [
      "In\n",
      "MyClass\n",
      "Out\n",
      "_\n",
      "_dh\n",
      "_i\n",
      "_i1\n",
      "_i2\n",
      "_ih\n",
      "_ii\n",
      "_iii\n",
      "_oh\n",
      "exit\n",
      "get_ipython\n",
      "my_function\n",
      "my_variable\n",
      "name\n",
      "open\n",
      "quit\n"
     ]
    }
   ],
   "source": [
    "from tutorials.mymodule import *\n",
    "\n",
    "for name in dir(): # <-- this will list all the names in the current module\n",
    "    if not name.startswith('__'):\n",
    "        print(name)"
   ]
  },
  {
   "cell_type": "markdown",
   "metadata": {},
   "source": [
    "Notice the current module has `my_function`, `MyClass`, and `my_variable` in its namespace."
   ]
  },
  {
   "cell_type": "code",
   "execution_count": null,
   "metadata": {},
   "outputs": [
    {
     "name": "stdout",
     "output_type": "stream",
     "text": [
      "Hello from my_module!\n"
     ]
    }
   ],
   "source": [
    "# call it directly\n",
    "my_function()"
   ]
  },
  {
   "cell_type": "markdown",
   "metadata": {},
   "source": [
    "### Packages\n",
    "\n",
    "- Packages allow modular code to be organized hierarchically using dot notation, like modules.\n",
    "- They help prevent name collisions between modules, just as modules prevent name collisions between global variables.\n",
    "- By structuring related modules into packages with a common prefix, namespaces remain distinct and organized."
   ]
  },
  {
   "cell_type": "markdown",
   "metadata": {},
   "source": [
    "We assume the following hierarchy:\n",
    "\n",
    "```plaintext\n",
    "current_file.py\n",
    "pkg/\n",
    "    __init__.py\n",
    "    module1.py\n",
    "    module2.py\n",
    "```\n",
    "\n",
    "Where the content of `module1.py` and `module2.py` contain a simple `my_function`.\n",
    "\n",
    "\n",
    "We also assume the content of `__init__.py` is just one line:\n",
    "\n",
    "```py\n",
    "print(\"package initialized!\")\n",
    "```"
   ]
  },
  {
   "cell_type": "code",
   "execution_count": null,
   "metadata": {},
   "outputs": [
    {
     "name": "stdout",
     "output_type": "stream",
     "text": [
      "package initialized!\n",
      "I am a function inside module1.py\n",
      "I am a function inside module2.py\n"
     ]
    }
   ],
   "source": [
    "import pkg.module1 as m1\n",
    "import pkg.module2 as m2\n",
    "\n",
    "m1.my_function()\n",
    "m2.my_function()"
   ]
  },
  {
   "cell_type": "markdown",
   "metadata": {},
   "source": [
    "Notice that:\n",
    "\n",
    "- The file `pkg/__init__.py` file is no longer required in Python 3.3 and later.\n",
    "- However, it is used for intialization code for the package."
   ]
  }
 ],
 "metadata": {
  "kernelspec": {
   "display_name": "Python 3",
   "language": "python",
   "name": "python3"
  },
  "language_info": {
   "codemirror_mode": {
    "name": "ipython",
    "version": 3
   },
   "file_extension": ".py",
   "mimetype": "text/x-python",
   "name": "python",
   "nbconvert_exporter": "python",
   "pygments_lexer": "ipython3",
   "version": "3.11.6"
  }
 },
 "nbformat": 4,
 "nbformat_minor": 2
}
