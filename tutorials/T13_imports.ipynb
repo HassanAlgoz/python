{
 "cells": [
  {
   "cell_type": "markdown",
   "metadata": {},
   "source": [
    "# Imports"
   ]
  },
  {
   "cell_type": "markdown",
   "metadata": {},
   "source": [
    "First you have to create a file `my_module.py` with the following content:\n",
    "\n",
    "```py\n",
    "def my_function():\n",
    "    print(\"Hello from my_module!\")\n",
    "    \n",
    "class MyClass:\n",
    "    def __init__(self):\n",
    "        print(\"An instance of MyClass was created!\")\n",
    "\n",
    "my_variable = 99\n",
    "```"
   ]
  },
  {
   "cell_type": "markdown",
   "metadata": {},
   "source": [
    "Now we can import the module and use it."
   ]
  },
  {
   "cell_type": "code",
   "execution_count": 7,
   "metadata": {},
   "outputs": [
    {
     "ename": "ModuleNotFoundError",
     "evalue": "No module named 'tutorials'",
     "output_type": "error",
     "traceback": [
      "\u001b[1;31m---------------------------------------------------------------------------\u001b[0m",
      "\u001b[1;31mModuleNotFoundError\u001b[0m                       Traceback (most recent call last)",
      "Cell \u001b[1;32mIn[7], line 1\u001b[0m\n\u001b[1;32m----> 1\u001b[0m \u001b[38;5;28;01mimport\u001b[39;00m \u001b[38;5;21;01mtutorials\u001b[39;00m\u001b[38;5;21;01m.\u001b[39;00m\u001b[38;5;21;01mmymodule\u001b[39;00m \u001b[38;5;28;01mas\u001b[39;00m \u001b[38;5;21;01mmymodule\u001b[39;00m\n",
      "\u001b[1;31mModuleNotFoundError\u001b[0m: No module named 'tutorials'"
     ]
    }
   ],
   "source": [
    "import tutorials.mymodule as mymodule"
   ]
  },
  {
   "cell_type": "code",
   "execution_count": null,
   "metadata": {},
   "outputs": [
    {
     "name": "stdout",
     "output_type": "stream",
     "text": [
      "Hello from my_module!\n"
     ]
    }
   ],
   "source": [
    "mymodule.my_function()"
   ]
  },
  {
   "cell_type": "code",
   "execution_count": null,
   "metadata": {},
   "outputs": [
    {
     "name": "stdout",
     "output_type": "stream",
     "text": [
      "An instance of MyClass was created!\n"
     ]
    }
   ],
   "source": [
    "obj = mymodule.MyClass()"
   ]
  },
  {
   "cell_type": "code",
   "execution_count": null,
   "metadata": {},
   "outputs": [
    {
     "data": {
      "text/plain": [
       "99"
      ]
     },
     "execution_count": 4,
     "metadata": {},
     "output_type": "execute_result"
    }
   ],
   "source": [
    "mymodule.my_variable"
   ]
  },
  {
   "cell_type": "markdown",
   "metadata": {},
   "source": [
    "Using `dir` to explore the `my_module`:"
   ]
  },
  {
   "cell_type": "code",
   "execution_count": null,
   "metadata": {},
   "outputs": [
    {
     "data": {
      "text/plain": [
       "['MyClass',\n",
       " '__builtins__',\n",
       " '__cached__',\n",
       " '__doc__',\n",
       " '__file__',\n",
       " '__loader__',\n",
       " '__name__',\n",
       " '__package__',\n",
       " '__spec__',\n",
       " 'my_function',\n",
       " 'my_variable']"
      ]
     },
     "execution_count": 7,
     "metadata": {},
     "output_type": "execute_result"
    }
   ],
   "source": [
    "dir(mymodule)"
   ]
  },
  {
   "cell_type": "markdown",
   "metadata": {},
   "source": [
    "We notice a couple of things here:\n",
    "\n",
    "- `dir()` returns a list of defined names in a namespace.\n",
    "- We can see our defined `MyClass`, `my_function`, and `my_variable`\n",
    "- But we also see names with the pattern `__<something>__`; these are special names in Python"
   ]
  },
  {
   "cell_type": "code",
   "execution_count": null,
   "metadata": {},
   "outputs": [
    {
     "name": "stdout",
     "output_type": "stream",
     "text": [
      "__main__\n",
      "my_module\n"
     ]
    }
   ],
   "source": [
    "print(__name__) # <-- this is the name of the current module\n",
    "print(mymodule.__name__)"
   ]
  },
  {
   "cell_type": "code",
   "execution_count": null,
   "metadata": {},
   "outputs": [
    {
     "name": "stdout",
     "output_type": "stream",
     "text": [
      "MyClass\n",
      "my_function\n",
      "my_variable\n"
     ]
    }
   ],
   "source": [
    "# let's remove any dunder names (names that start and end with __)\n",
    "for name in dir(mymodule):\n",
    "    if not name.startswith('__'):\n",
    "        print(name)"
   ]
  },
  {
   "cell_type": "markdown",
   "metadata": {},
   "source": [
    "- We can import the names directly and expose them to current namespace using `from my_module import *`.\n",
    "- This is not recommended because it can overwrite existing names in the current namespace."
   ]
  },
  {
   "cell_type": "code",
   "execution_count": null,
   "metadata": {},
   "outputs": [
    {
     "name": "stdout",
     "output_type": "stream",
     "text": [
      "In\n",
      "MyClass\n",
      "Out\n",
      "_\n",
      "_dh\n",
      "_i\n",
      "_i1\n",
      "_i2\n",
      "_ih\n",
      "_ii\n",
      "_iii\n",
      "_oh\n",
      "exit\n",
      "get_ipython\n",
      "my_function\n",
      "my_variable\n",
      "name\n",
      "open\n",
      "quit\n"
     ]
    }
   ],
   "source": [
    "from tutorials.mymodule import *\n",
    "\n",
    "for name in dir(): # <-- this will list all the names in the current module\n",
    "    if not name.startswith('__'):\n",
    "        print(name)"
   ]
  },
  {
   "cell_type": "markdown",
   "metadata": {},
   "source": [
    "Notice the current module has `my_function`, `MyClass`, and `my_variable` in its namespace."
   ]
  },
  {
   "cell_type": "code",
   "execution_count": null,
   "metadata": {},
   "outputs": [
    {
     "name": "stdout",
     "output_type": "stream",
     "text": [
      "Hello from my_module!\n"
     ]
    }
   ],
   "source": [
    "# call it directly\n",
    "my_function()"
   ]
  },
  {
   "cell_type": "markdown",
   "metadata": {},
   "source": [
    "### Packages\n",
    "\n",
    "- Packages allow modular code to be organized hierarchically using dot notation, like modules.\n",
    "- They help prevent name collisions between modules, just as modules prevent name collisions between global variables.\n",
    "- By structuring related modules into packages with a common prefix, namespaces remain distinct and organized."
   ]
  },
  {
   "cell_type": "markdown",
   "metadata": {},
   "source": [
    "We assume the following hierarchy:\n",
    "\n",
    "```plaintext\n",
    "current_file.py\n",
    "pkg/\n",
    "    __init__.py\n",
    "    module1.py\n",
    "    module2.py\n",
    "```\n",
    "\n",
    "Where the content of `module1.py` and `module2.py` contain a simple `my_function`.\n",
    "\n",
    "\n",
    "We also assume the content of `__init__.py` is just one line:\n",
    "\n",
    "```py\n",
    "print(\"package initialized!\")\n",
    "```"
   ]
  },
  {
   "cell_type": "code",
   "execution_count": 1,
   "metadata": {},
   "outputs": [
    {
     "name": "stdout",
     "output_type": "stream",
     "text": [
      "package initialized!\n",
      "I am a function inside module1.py\n",
      "I am a function inside module2.py\n"
     ]
    }
   ],
   "source": [
    "import pkg.module1 as m1\n",
    "import pkg.module2 as m2\n",
    "\n",
    "m1.my_function()\n",
    "m2.my_function()"
   ]
  },
  {
   "cell_type": "markdown",
   "metadata": {},
   "source": [
    "Notice that:\n",
    "\n",
    "- The file `pkg/__init__.py` file is no longer required in Python 3.3 and later.\n",
    "- However, it is used for intialization code for the package."
   ]
  }
 ],
 "metadata": {
  "kernelspec": {
   "display_name": "base",
   "language": "python",
   "name": "python3"
  },
  "language_info": {
   "codemirror_mode": {
    "name": "ipython",
    "version": 3
   },
   "file_extension": ".py",
   "mimetype": "text/x-python",
   "name": "python",
   "nbconvert_exporter": "python",
   "pygments_lexer": "ipython3",
   "version": "3.11.6"
  }
 },
 "nbformat": 4,
 "nbformat_minor": 2
}
