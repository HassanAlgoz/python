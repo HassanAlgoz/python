{
 "cells": [
  {
   "cell_type": "markdown",
   "id": "0250e2c0-581e-4115-a557-f3f8664d93c9",
   "metadata": {
    "tags": []
   },
   "source": [
    "# Set and Dictionary"
   ]
  },
  {
   "cell_type": "markdown",
   "id": "e17353a3",
   "metadata": {},
   "source": [
    "### The `set`"
   ]
  },
  {
   "cell_type": "code",
   "execution_count": null,
   "id": "5c5b6575",
   "metadata": {},
   "outputs": [
    {
     "name": "stdout",
     "output_type": "stream",
     "text": [
      "{1, 2, 3, 4, 5}\n"
     ]
    }
   ],
   "source": [
    "my_set = {1, 2, 3, 4, 5}\n",
    "print(my_set)"
   ]
  },
  {
   "cell_type": "markdown",
   "id": "ef99e0c8",
   "metadata": {},
   "source": [
    "You can also convert a list to a set:"
   ]
  },
  {
   "cell_type": "code",
   "execution_count": 2,
   "id": "35c74333",
   "metadata": {},
   "outputs": [
    {
     "name": "stdout",
     "output_type": "stream",
     "text": [
      "{1, 2, 3, 4, 5}\n"
     ]
    }
   ],
   "source": [
    "my_list = [1, 2, 3, 4, 5]\n",
    "my_set = set(my_list)\n",
    "print(my_set)"
   ]
  },
  {
   "cell_type": "code",
   "execution_count": null,
   "id": "a2b91ac0",
   "metadata": {},
   "outputs": [
    {
     "name": "stdout",
     "output_type": "stream",
     "text": [
      "{1, 2, 3, 4, 5, 6}\n"
     ]
    }
   ],
   "source": [
    "my_set.add(6)\n",
    "print(my_set)"
   ]
  },
  {
   "cell_type": "code",
   "execution_count": null,
   "id": "4a19062b",
   "metadata": {},
   "outputs": [
    {
     "name": "stdout",
     "output_type": "stream",
     "text": [
      "{1, 2, 3, 5, 6}\n"
     ]
    }
   ],
   "source": [
    "my_set.remove(4)\n",
    "print(my_set)"
   ]
  },
  {
   "cell_type": "markdown",
   "id": "cd8de7f0",
   "metadata": {},
   "source": [
    "Since sets are unoreded, we cannot index them. The following code will throw an error:"
   ]
  },
  {
   "cell_type": "code",
   "execution_count": 1,
   "id": "3dba4fd1",
   "metadata": {},
   "outputs": [
    {
     "ename": "NameError",
     "evalue": "name 'my_set' is not defined",
     "output_type": "error",
     "traceback": [
      "\u001b[1;31m---------------------------------------------------------------------------\u001b[0m",
      "\u001b[1;31mNameError\u001b[0m                                 Traceback (most recent call last)",
      "Cell \u001b[1;32mIn[1], line 1\u001b[0m\n\u001b[1;32m----> 1\u001b[0m \u001b[38;5;28mprint\u001b[39m(\u001b[43mmy_set\u001b[49m[\u001b[38;5;241m0\u001b[39m])\n",
      "\u001b[1;31mNameError\u001b[0m: name 'my_set' is not defined"
     ]
    }
   ],
   "source": [
    "print(my_set[0])"
   ]
  },
  {
   "cell_type": "code",
   "execution_count": null,
   "id": "f0a8a691",
   "metadata": {},
   "outputs": [
    {
     "name": "stdout",
     "output_type": "stream",
     "text": [
      "yes\n"
     ]
    }
   ],
   "source": [
    "# or check if value exists\n",
    "if 3 in my_set:\n",
    "    print('yes')"
   ]
  },
  {
   "cell_type": "code",
   "execution_count": 13,
   "id": "46a04b38",
   "metadata": {},
   "outputs": [
    {
     "name": "stdout",
     "output_type": "stream",
     "text": [
      "5\n"
     ]
    }
   ],
   "source": [
    "print(len(my_set))"
   ]
  },
  {
   "cell_type": "markdown",
   "id": "f7b25c24",
   "metadata": {},
   "source": [
    "Create a set of even numbers from 1 to 10 and a set of odd numbers from 1 to 10. Then, find the union and intersection of the two sets."
   ]
  },
  {
   "cell_type": "code",
   "execution_count": null,
   "id": "297fa709",
   "metadata": {},
   "outputs": [
    {
     "name": "stdout",
     "output_type": "stream",
     "text": [
      "{1, 2, 3, 4, 5, 6, 7, 8, 9, 10}\n",
      "set()\n"
     ]
    }
   ],
   "source": [
    "even_numbers = {2, 4, 6, 8, 10}\n",
    "odd_numbers = {1, 3, 5, 7, 9}\n",
    "\n",
    "# Union of the two sets\n",
    "union_of_sets = even_numbers | odd_numbers\n",
    "\n",
    "# Intersection of the two sets\n",
    "intersection_of_sets = even_numbers & odd_numbers\n",
    "\n",
    "# Print the results\n",
    "print(union_of_sets)\n",
    "print(intersection_of_sets)"
   ]
  },
  {
   "cell_type": "markdown",
   "id": "b91eb3a8",
   "metadata": {},
   "source": [
    "Create a set of students in class A and a set of students in class B. Then, find the students who are in both classes and the students who are only in one class.\n",
    "\n"
   ]
  },
  {
   "cell_type": "code",
   "execution_count": 3,
   "id": "7f1c3924",
   "metadata": {},
   "outputs": [
    {
     "data": {
      "text/plain": [
       "{'Bob', 'Carol'}"
      ]
     },
     "execution_count": 3,
     "metadata": {},
     "output_type": "execute_result"
    }
   ],
   "source": [
    "class_a = {\"Alice\", \"Bob\", \"Carol\"}\n",
    "class_b = {\"Bob\", \"Carol\", \"Dave\"}"
   ]
  },
  {
   "cell_type": "code",
   "execution_count": 7,
   "id": "19dfa975",
   "metadata": {},
   "outputs": [
    {
     "data": {
      "text/plain": [
       "{'Bob', 'Carol'}"
      ]
     },
     "execution_count": 7,
     "metadata": {},
     "output_type": "execute_result"
    }
   ],
   "source": [
    "# Students in both classes\n",
    "print(class_a & class_b)\n",
    "print(class_a.intersection(class_b))"
   ]
  },
  {
   "cell_type": "code",
   "execution_count": 8,
   "id": "3d2b9488",
   "metadata": {},
   "outputs": [
    {
     "data": {
      "text/plain": [
       "{'Bob', 'Carol'}"
      ]
     },
     "execution_count": 8,
     "metadata": {},
     "output_type": "execute_result"
    }
   ],
   "source": [
    "# Students in either classes\n",
    "print(class_a | class_b)\n",
    "class_a.union(class_b)"
   ]
  },
  {
   "cell_type": "code",
   "execution_count": 10,
   "id": "605825fa",
   "metadata": {},
   "outputs": [
    {
     "data": {
      "text/plain": [
       "{'Alice'}"
      ]
     },
     "execution_count": 10,
     "metadata": {},
     "output_type": "execute_result"
    }
   ],
   "source": [
    "# Students only in class A\n",
    "class_a - class_b"
   ]
  },
  {
   "cell_type": "code",
   "execution_count": 11,
   "id": "0d41f2ec",
   "metadata": {},
   "outputs": [
    {
     "data": {
      "text/plain": [
       "{'Dave'}"
      ]
     },
     "execution_count": 11,
     "metadata": {},
     "output_type": "execute_result"
    }
   ],
   "source": [
    "# Students only in class B\n",
    "class_b - class_a"
   ]
  },
  {
   "cell_type": "code",
   "execution_count": 12,
   "id": "ae22161e",
   "metadata": {},
   "outputs": [
    {
     "data": {
      "text/plain": [
       "{'Alice', 'Dave'}"
      ]
     },
     "execution_count": 12,
     "metadata": {},
     "output_type": "execute_result"
    }
   ],
   "source": [
    "# Students in one class, but not both\n",
    "class_a.symmetric_difference(class_b)"
   ]
  },
  {
   "cell_type": "markdown",
   "id": "e5303156",
   "metadata": {},
   "source": [
    "#### Exercise\n",
    "\n",
    "Given the following two sets:"
   ]
  },
  {
   "cell_type": "code",
   "execution_count": null,
   "id": "a60436f2",
   "metadata": {},
   "outputs": [],
   "source": [
    "student_ids = {101, 102, 103}\n",
    "enrollment_ids = {101, 102, 104}"
   ]
  },
  {
   "cell_type": "markdown",
   "id": "60a61599",
   "metadata": {},
   "source": [
    "1. Find the elements that are present in both sets.\n",
    "2. Find the elements that are only in the first set. \n",
    "3. Find the elements that are only in the second set.\n",
    "4. Add an element to the first set and print it.\n",
    "5. Remove an element from the second set and print it.\n",
    "6. Check if a given element is present in the first set.\n",
    "7. Find the length of the second set."
   ]
  },
  {
   "cell_type": "code",
   "execution_count": 1,
   "id": "684263de",
   "metadata": {},
   "outputs": [],
   "source": [
    "# try it"
   ]
  },
  {
   "cell_type": "markdown",
   "id": "6a33fdc0-c097-482d-b682-66e2dbc38fa6",
   "metadata": {},
   "source": [
    "### The Dictionary\n",
    "\n",
    "Dictionary is a collection which is unordered, changeable and indexed. In Python dictionaries are written with curly brackets, and they have **keys** and **values**.\n",
    "\n",
    "- As of Python version 3.7, dictionaries are ordered.\n",
    "- In Python 3.6 and earlier, dictionaries are unordered."
   ]
  },
  {
   "cell_type": "code",
   "execution_count": 15,
   "id": "4e6f9d40-1f11-4210-821b-c109a7f1360f",
   "metadata": {
    "tags": []
   },
   "outputs": [
    {
     "name": "stdout",
     "output_type": "stream",
     "text": [
      "{'name': 'Alice', 'age': 25, 'courses': ['ICS-410', 'MATH-422', 'STAT-301']}\n"
     ]
    }
   ],
   "source": [
    "# Create a dictionary\n",
    "my_dictionary = {\n",
    "    \"name\": \"Alice\",\n",
    "    \"age\": 25,\n",
    "    \"courses\": [\"ICS-410\", \"MATH-422\", \"STAT-301\"]\n",
    "}\n",
    "print(my_dictionary)"
   ]
  },
  {
   "cell_type": "code",
   "execution_count": 29,
   "id": "73fc9e5e-1ac1-4b54-bd9d-16d98e7ca19c",
   "metadata": {
    "tags": []
   },
   "outputs": [
    {
     "name": "stdout",
     "output_type": "stream",
     "text": [
      "Alice\n"
     ]
    }
   ],
   "source": [
    "# Read\n",
    "name = my_dictionary[\"name\"]\n",
    "print(name)"
   ]
  },
  {
   "cell_type": "code",
   "execution_count": 30,
   "id": "05eba208-0f8c-4bcc-8871-01d94696db48",
   "metadata": {
    "tags": []
   },
   "outputs": [
    {
     "name": "stdout",
     "output_type": "stream",
     "text": [
      "{'name': 'Alice', 'courses': ['ICS-410', 'MATH-422', 'STAT-301'], 'age': 99}\n"
     ]
    }
   ],
   "source": [
    "# Write\n",
    "my_dictionary[\"age\"] = 99\n",
    "print(my_dictionary)"
   ]
  },
  {
   "cell_type": "code",
   "execution_count": 31,
   "id": "5438458c-5cbc-4e15-bef3-98e6a7ba8268",
   "metadata": {
    "tags": []
   },
   "outputs": [],
   "source": [
    "# Delete (free up memory)\n",
    "del my_dictionary['age']"
   ]
  },
  {
   "cell_type": "code",
   "execution_count": 32,
   "id": "94d7ecf8-aa97-4212-ac50-eb7c78e5b951",
   "metadata": {
    "tags": []
   },
   "outputs": [
    {
     "name": "stdout",
     "output_type": "stream",
     "text": [
      "{'name': 'Alice', 'courses': ['ICS-410', 'MATH-422', 'STAT-301']}\n"
     ]
    }
   ],
   "source": [
    "print(my_dictionary)"
   ]
  },
  {
   "cell_type": "markdown",
   "id": "f1726e38",
   "metadata": {},
   "source": [
    "#### Exercise\n",
    "\n",
    "1. Create a dictionary to store information about a book (title, author, year published).\n",
    "1. Read from the dictionary to print title and author.\n",
    "1. Change the year published to 2030\n",
    "1. Add a new key-value pair (publisher)\n",
    "1. Delete the key-value pair (author)"
   ]
  },
  {
   "cell_type": "code",
   "execution_count": 2,
   "id": "99dd1fb3",
   "metadata": {},
   "outputs": [],
   "source": [
    "# try it"
   ]
  },
  {
   "cell_type": "markdown",
   "id": "6106124e-57e0-4e1d-8a72-15fcd4620333",
   "metadata": {},
   "source": [
    "### Iteration over keys and values"
   ]
  },
  {
   "cell_type": "code",
   "execution_count": 19,
   "id": "12cf0691-85da-41eb-92ba-372402553f0e",
   "metadata": {
    "tags": []
   },
   "outputs": [],
   "source": [
    "country_capitals = {\n",
    "    \"France\": \"Paris\",\n",
    "    \"Germany\": \"Berlin\",\n",
    "    \"United Kingdom\": \"London\",\n",
    "    \"United States\": \"Washington, D.C.\",\n",
    "    \"China\": \"Beijing\"\n",
    "}"
   ]
  },
  {
   "cell_type": "code",
   "execution_count": 20,
   "id": "725ce6bb",
   "metadata": {},
   "outputs": [
    {
     "name": "stdout",
     "output_type": "stream",
     "text": [
      "France\n",
      "Germany\n",
      "United Kingdom\n",
      "United States\n",
      "China\n"
     ]
    }
   ],
   "source": [
    "# just keys\n",
    "for country in country_capitals.keys():\n",
    "    print(country)"
   ]
  },
  {
   "cell_type": "code",
   "execution_count": 21,
   "id": "30a69f06",
   "metadata": {},
   "outputs": [
    {
     "name": "stdout",
     "output_type": "stream",
     "text": [
      "Paris\n",
      "Berlin\n",
      "London\n",
      "Washington, D.C.\n",
      "Beijing\n"
     ]
    }
   ],
   "source": [
    "# just values\n",
    "for country in country_capitals.values():\n",
    "    print(country)"
   ]
  },
  {
   "cell_type": "code",
   "execution_count": 26,
   "id": "7a355643-b299-4aa6-bc3d-29f9dc329e29",
   "metadata": {
    "tags": []
   },
   "outputs": [
    {
     "name": "stdout",
     "output_type": "stream",
     "text": [
      "- The capital of France is Paris\n",
      "- The capital of Germany is Berlin\n",
      "- The capital of United Kingdom is London\n",
      "- The capital of United States is Washington, D.C.\n",
      "- The capital of China is Beijing\n"
     ]
    }
   ],
   "source": [
    "for country, capital in country_capitals.items():\n",
    "    print(f\"- The capital of {country} is {capital}\")"
   ]
  },
  {
   "cell_type": "markdown",
   "id": "c2b704a7-57a8-4db4-8a67-b3430d852dd4",
   "metadata": {},
   "source": [
    "### Examples of Usage"
   ]
  },
  {
   "cell_type": "markdown",
   "id": "341e59d4",
   "metadata": {},
   "source": [
    "#### Exercise\n",
    "\n",
    "Create a dictionary of words and their meanings:\n",
    "\n",
    "- Then, loop over the dictionary keys and print them.\n",
    "- Then, loop over the dictionary values and print them.\n",
    "- Then, loop over the dictionary items (keys and values) and print them."
   ]
  },
  {
   "cell_type": "code",
   "execution_count": 29,
   "id": "6de6f4d6-a677-4938-b8ac-4447e4ca7898",
   "metadata": {
    "tags": []
   },
   "outputs": [],
   "source": [
    "words_and_meaning = {\n",
    "  \"success\": \"the accomplishment of an aim or purpose\",\n",
    "  # Add your own words and definitions here ...\n",
    "}"
   ]
  },
  {
   "cell_type": "markdown",
   "id": "4f8dd4f5",
   "metadata": {},
   "source": [
    "#### Exercise\n",
    "\n",
    "Create a dictionary of fruits and prices:\n",
    "\n",
    "- Add a new item to the dictionary: `bananas` with a price of `3.5`.\n",
    "- Using the `update` method, add a new item to the dictionary: `apples` with a price of `4.5`.\n",
    "- Using the `update` method, change the price of `bananas` to `5.5` and also add `hazelnuts` with a price of `12.5`\n",
    "- Using the `pop` method, remove the item `bananas` from the dictionary."
   ]
  },
  {
   "cell_type": "code",
   "execution_count": 20,
   "id": "73bd4465-81e7-4489-bd7b-4dcba698f57d",
   "metadata": {
    "tags": []
   },
   "outputs": [],
   "source": [
    "fruits_and_prices = {\n",
    "  \"apple\": 1.00,\n",
    "  # Add your own fruits and prices here ...\n",
    "}"
   ]
  },
  {
   "cell_type": "code",
   "execution_count": 21,
   "id": "95e663b4-5047-4e15-9b12-a1701bfdac42",
   "metadata": {
    "tags": []
   },
   "outputs": [
    {
     "name": "stdout",
     "output_type": "stream",
     "text": [
      "{'apple': 2.5, 'banana': 0.5, 'orange': 0.75, 'hazelnut': 3.0}\n"
     ]
    }
   ],
   "source": [
    "new_prices = {\n",
    "    # your code here ...\n",
    "}\n",
    "fruits_and_prices.update(new_prices)\n",
    "print(fruits_and_prices)"
   ]
  },
  {
   "cell_type": "markdown",
   "id": "489a7c8e",
   "metadata": {},
   "source": [
    "Let's create a basket of purchases and calculate the total price of the basket by looping over the items in the basket, and looking up their price in the dictionary."
   ]
  },
  {
   "cell_type": "code",
   "execution_count": 22,
   "id": "64048e6d-8347-402c-9e70-05d4ef0f172e",
   "metadata": {
    "tags": []
   },
   "outputs": [
    {
     "name": "stdout",
     "output_type": "stream",
     "text": [
      "The total price is 5.25.\n"
     ]
    }
   ],
   "source": [
    "# Calculate the total price of a list of fruits\n",
    "basket = [\"apple\", \"banana\", \"orange\", \"orange\", \"orange\"]\n",
    "\n",
    "total_price = 0.0\n",
    "\n",
    "for fruit in basket:\n",
    "    price = fruits_and_prices[fruit]\n",
    "    total_price += price\n",
    "\n",
    "# Print the total price\n",
    "print(f\"The total price is {total_price}.\")"
   ]
  },
  {
   "cell_type": "markdown",
   "id": "8d54bfaf",
   "metadata": {},
   "source": [
    "#### Exercise\n",
    "\n",
    "Print the value of key ‘history’ from the below dict\n",
    "\n",
    "```py\n",
    "sampleDict = {\n",
    "    \"class\": {\n",
    "        \"student\": {\n",
    "            \"name\": \"Mike\",\n",
    "            \"marks\": {\n",
    "                \"physics\": 70,\n",
    "                \"history\": 80\n",
    "            }\n",
    "        }\n",
    "    }\n",
    "}\n",
    "```"
   ]
  },
  {
   "cell_type": "markdown",
   "id": "a66fab55",
   "metadata": {},
   "source": [
    "# Tuples"
   ]
  },
  {
   "cell_type": "code",
   "execution_count": 32,
   "id": "9a273247",
   "metadata": {},
   "outputs": [],
   "source": [
    "tuple1 = (\"apple\", \"banana\", \"cherry\")\n",
    "tuple2 = (1, 5, 7, 9, 3)\n",
    "tuple3 = (True, False, False)"
   ]
  },
  {
   "cell_type": "code",
   "execution_count": 33,
   "id": "43b2fb46",
   "metadata": {},
   "outputs": [
    {
     "name": "stdout",
     "output_type": "stream",
     "text": [
      "apple\n",
      "banana\n",
      "cherry\n"
     ]
    }
   ],
   "source": [
    "a, b, c = tuple1\n",
    "print(a)\n",
    "print(b)\n",
    "print(c)"
   ]
  },
  {
   "cell_type": "markdown",
   "id": "3f475c0c",
   "metadata": {},
   "source": [
    "Access elements of a tuple just like a list."
   ]
  },
  {
   "cell_type": "code",
   "execution_count": 36,
   "id": "657f62d3",
   "metadata": {},
   "outputs": [
    {
     "data": {
      "text/plain": [
       "'apple'"
      ]
     },
     "execution_count": 36,
     "metadata": {},
     "output_type": "execute_result"
    }
   ],
   "source": [
    "tuple1[0]"
   ]
  },
  {
   "cell_type": "markdown",
   "id": "4be80485",
   "metadata": {},
   "source": [
    "### Immutable\n",
    "\n",
    "The following code will throw an error:"
   ]
  },
  {
   "cell_type": "code",
   "execution_count": 35,
   "id": "a2114d3b",
   "metadata": {},
   "outputs": [
    {
     "ename": "TypeError",
     "evalue": "'tuple' object does not support item assignment",
     "output_type": "error",
     "traceback": [
      "\u001b[1;31m---------------------------------------------------------------------------\u001b[0m",
      "\u001b[1;31mTypeError\u001b[0m                                 Traceback (most recent call last)",
      "Cell \u001b[1;32mIn[35], line 1\u001b[0m\n\u001b[1;32m----> 1\u001b[0m \u001b[43mtuple1\u001b[49m\u001b[43m[\u001b[49m\u001b[38;5;241;43m0\u001b[39;49m\u001b[43m]\u001b[49m \u001b[38;5;241m=\u001b[39m \u001b[38;5;124m\"\u001b[39m\u001b[38;5;124mpear\u001b[39m\u001b[38;5;124m\"\u001b[39m\n",
      "\u001b[1;31mTypeError\u001b[0m: 'tuple' object does not support item assignment"
     ]
    }
   ],
   "source": [
    "tuple1[0] = \"pear\""
   ]
  },
  {
   "cell_type": "markdown",
   "id": "849bfa8e",
   "metadata": {},
   "source": [
    "### Common Usage of Tuples\n",
    "\n",
    "Functions **returning multiple values**."
   ]
  },
  {
   "cell_type": "code",
   "execution_count": null,
   "id": "468c221a",
   "metadata": {},
   "outputs": [
    {
     "name": "stdout",
     "output_type": "stream",
     "text": [
      "15 5\n"
     ]
    }
   ],
   "source": [
    "\n",
    "def calculate(num1, num2):\n",
    "  sum = num1 + num2\n",
    "  diff = num1 - num2\n",
    "  return sum, diff\n",
    "\n",
    "result_sum, result_diff = calculate(10, 5)\n",
    "print(result_sum, result_diff)"
   ]
  },
  {
   "cell_type": "markdown",
   "id": "7c1bc6f7",
   "metadata": {},
   "source": [
    "#### Exercise\n",
    "\n",
    "Write a function that takes 2 arguments, `a` and `b`, and returns the square and cube of of them."
   ]
  },
  {
   "cell_type": "code",
   "execution_count": null,
   "id": "52b242e4",
   "metadata": {},
   "outputs": [],
   "source": [
    "# try it"
   ]
  },
  {
   "cell_type": "markdown",
   "id": "cb63f68a",
   "metadata": {},
   "source": [
    "### Associated Lists (with `zip`)\n",
    "\n",
    "Turn associated lists into a list of tuples:"
   ]
  },
  {
   "cell_type": "code",
   "execution_count": 1,
   "id": "47edd799",
   "metadata": {},
   "outputs": [
    {
     "name": "stdout",
     "output_type": "stream",
     "text": [
      "[('John', 90), ('Mary', 80), ('Bob', 75), ('Sara', 85)]\n"
     ]
    }
   ],
   "source": [
    "students = ['John', 'Mary', 'Bob', 'Sara']\n",
    "marks = [90, 80, 75, 85]\n",
    "\n",
    "student_data = list(zip(students, marks))\n",
    "\n",
    "print(student_data)"
   ]
  },
  {
   "cell_type": "markdown",
   "id": "5dc2698a",
   "metadata": {},
   "source": [
    "Turn associated lists into a dictionary:"
   ]
  },
  {
   "cell_type": "code",
   "execution_count": 2,
   "id": "8c8519bd",
   "metadata": {},
   "outputs": [
    {
     "name": "stdout",
     "output_type": "stream",
     "text": [
      "{'John': 90, 'Mary': 80, 'Bob': 75, 'Sara': 85}\n"
     ]
    }
   ],
   "source": [
    "student_data = dict(zip(students, marks))\n",
    "print(student_data)"
   ]
  },
  {
   "cell_type": "markdown",
   "id": "f9bb2c5c-ca0b-473f-81ed-0eb6ff2fa447",
   "metadata": {},
   "source": [
    "### Lists, Dictionary, Sets, and Tuples\n",
    "\n",
    "- List is ordered\n",
    "- Set is unordered, and has unique elements\n",
    "- Tuple is ordered, and immutable"
   ]
  },
  {
   "cell_type": "code",
   "execution_count": null,
   "id": "21ff406a",
   "metadata": {},
   "outputs": [],
   "source": [
    "# List of strings with type hint\n",
    "my_fruits: list[str] = [\"apple\", \"banana\", \"orange\"]\n",
    "\n",
    "# List of mixed types (not recommended, but possible)\n",
    "mixed_data: list = [10, \"hello\", True]\n",
    "\n",
    "# Tuple of integers with type hint\n",
    "product_dimensions: tuple[int, int, int] = (10, 20, 30)\n",
    "\n",
    "# Set of unique colors with type hint\n",
    "unique_colors: set[str] = {\"red\", \"green\", \"blue\"}\n",
    "\n",
    "# Dictionary with string keys and integer values with type hint\n",
    "customer_info: dict[str, int] = {\"name\": \"John Doe\", \"age\": 30}"
   ]
  },
  {
   "cell_type": "code",
   "execution_count": 1,
   "id": "5066472a",
   "metadata": {},
   "outputs": [],
   "source": [
    "fruits = ['Apple', 'Banana', 'Orange', 'Lemon']"
   ]
  },
  {
   "cell_type": "code",
   "execution_count": 2,
   "id": "eb5eb793",
   "metadata": {},
   "outputs": [
    {
     "data": {
      "text/plain": [
       "'Apple'"
      ]
     },
     "execution_count": 2,
     "metadata": {},
     "output_type": "execute_result"
    }
   ],
   "source": [
    "fruits[0] # Apple\n",
    "fruits[1] # Banana\n",
    "fruits[4] # IndexError: list index out of range\n",
    "fruits[-1] # Lemon\n",
    "fruits[-2] # Orange\n",
    "fruits[-5] # IndexError: list index out of range\n",
    "\n",
    "fruits[1:3] # ['Banana', 'Orange']\n",
    "fruits[:3] # ['Apple', 'Banana', 'Orange']\n",
    "\n",
    "fruits[-3:-1] # ['Banana', 'Orange']\n",
    "fruits[-3:] # ['Banana', 'Orange', 'Lemon']\n",
    "fruits[:-1] # ['Apple', 'Banana', 'Orange']"
   ]
  },
  {
   "cell_type": "code",
   "execution_count": 3,
   "id": "71eef8f9",
   "metadata": {},
   "outputs": [
    {
     "data": {
      "text/plain": [
       "'Banana'"
      ]
     },
     "execution_count": 3,
     "metadata": {},
     "output_type": "execute_result"
    }
   ],
   "source": [
    "fruits[1]"
   ]
  },
  {
   "cell_type": "code",
   "execution_count": 4,
   "id": "c903565b",
   "metadata": {},
   "outputs": [
    {
     "ename": "IndexError",
     "evalue": "list index out of range",
     "output_type": "error",
     "traceback": [
      "\u001b[1;31m---------------------------------------------------------------------------\u001b[0m",
      "\u001b[1;31mIndexError\u001b[0m                                Traceback (most recent call last)",
      "Cell \u001b[1;32mIn[4], line 1\u001b[0m\n\u001b[1;32m----> 1\u001b[0m \u001b[43mfruits\u001b[49m\u001b[43m[\u001b[49m\u001b[38;5;241;43m4\u001b[39;49m\u001b[43m]\u001b[49m\n",
      "\u001b[1;31mIndexError\u001b[0m: list index out of range"
     ]
    }
   ],
   "source": [
    "fruits[4]"
   ]
  },
  {
   "cell_type": "code",
   "execution_count": 5,
   "id": "bd1bada3",
   "metadata": {},
   "outputs": [
    {
     "data": {
      "text/plain": [
       "'Lemon'"
      ]
     },
     "execution_count": 5,
     "metadata": {},
     "output_type": "execute_result"
    }
   ],
   "source": [
    "fruits[-1]"
   ]
  },
  {
   "cell_type": "code",
   "execution_count": 9,
   "id": "425d11a0",
   "metadata": {},
   "outputs": [],
   "source": [
    "my_2dlist = [[10, 20, 30], [100, 200, 300]]"
   ]
  },
  {
   "cell_type": "code",
   "execution_count": 15,
   "id": "035afa1e",
   "metadata": {},
   "outputs": [
    {
     "data": {
      "text/plain": [
       "30"
      ]
     },
     "execution_count": 15,
     "metadata": {},
     "output_type": "execute_result"
    }
   ],
   "source": [
    "my_2dlist[0][2] # 30"
   ]
  }
 ],
 "metadata": {
  "kernelspec": {
   "display_name": "Python 3 (ipykernel)",
   "language": "python",
   "name": "python3"
  },
  "language_info": {
   "codemirror_mode": {
    "name": "ipython",
    "version": 3
   },
   "file_extension": ".py",
   "mimetype": "text/x-python",
   "name": "python",
   "nbconvert_exporter": "python",
   "pygments_lexer": "ipython3",
   "version": "3.11.6"
  }
 },
 "nbformat": 4,
 "nbformat_minor": 5
}
