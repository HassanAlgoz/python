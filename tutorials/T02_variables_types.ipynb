{
 "cells": [
  {
   "cell_type": "markdown",
   "metadata": {
    "editable": true,
    "slideshow": {
     "slide_type": "slide"
    },
    "tags": []
   },
   "source": [
    "# Hello Python"
   ]
  },
  {
   "cell_type": "markdown",
   "metadata": {
    "editable": true,
    "slideshow": {
     "slide_type": "subslide"
    },
    "tags": []
   },
   "source": [
    "Python has an interactive mode which allows you to type commands and get immediate feedback.\n",
    "\n",
    "If we just type `2 + 5` we will see the result immediately:"
   ]
  },
  {
   "cell_type": "code",
   "execution_count": 1,
   "metadata": {
    "editable": true,
    "slideshow": {
     "slide_type": "subslide"
    },
    "tags": []
   },
   "outputs": [
    {
     "data": {
      "text/plain": [
       "7"
      ]
     },
     "execution_count": 1,
     "metadata": {},
     "output_type": "execute_result"
    }
   ],
   "source": [
    "2 + 5"
   ]
  },
  {
   "cell_type": "markdown",
   "metadata": {
    "editable": true,
    "slideshow": {
     "slide_type": "slide"
    },
    "tags": []
   },
   "source": [
    "#### Exercise:\n",
    "\n",
    "- Create a **code** cell below this one by clicking on this cell and then clicking the `+` button in the toolbar above.\n",
    "- Type `5 + 5` in the cell below and press `Ctrl + Enter` to run the code (make sure the cell is selected).\n",
    "- Note: if you press `Shift + Enter` it will run the code and move to the next cell"
   ]
  },
  {
   "cell_type": "code",
   "execution_count": null,
   "metadata": {
    "editable": true,
    "slideshow": {
     "slide_type": "subslide"
    },
    "tags": []
   },
   "outputs": [],
   "source": [
    "# try it"
   ]
  },
  {
   "cell_type": "markdown",
   "metadata": {
    "editable": true,
    "slideshow": {
     "slide_type": "fragment"
    },
    "tags": []
   },
   "source": [
    "Try out different mathematical operations in the cell below:\n",
    "\n",
    "- add: `5 + 5`\n",
    "- subtract: `9 - 4`\n",
    "- multily: `2 * 5`\n",
    "- divide: `5 / 5`\n",
    "- power: `2 ** 4`"
   ]
  },
  {
   "cell_type": "code",
   "execution_count": null,
   "metadata": {
    "editable": true,
    "slideshow": {
     "slide_type": "fragment"
    },
    "tags": []
   },
   "outputs": [],
   "source": [
    "# try it"
   ]
  },
  {
   "cell_type": "markdown",
   "metadata": {},
   "source": [
    "Note that if you place two commands in the same cell, only the last one will be printed. So, if you type `5 + 5` and then `9 - 4` only `9 - 4` will be printed. If you want to print both, you need to use the `print()` function, like so:"
   ]
  },
  {
   "cell_type": "code",
   "execution_count": null,
   "metadata": {},
   "outputs": [],
   "source": [
    "print(5 + 5)\n",
    "print(9 - 4)"
   ]
  },
  {
   "cell_type": "markdown",
   "metadata": {},
   "source": [
    "The `print()` function is used to print things to the screen. It can be used to print text, numbers, or the results of calculations.\n",
    "\n",
    "You can also print multiple things at once by separating them with commas, like so:"
   ]
  },
  {
   "cell_type": "code",
   "execution_count": 2,
   "metadata": {},
   "outputs": [
    {
     "name": "stdout",
     "output_type": "stream",
     "text": [
      "My age is: 40\n"
     ]
    }
   ],
   "source": [
    "print(\"My age is:\", 40)"
   ]
  },
  {
   "cell_type": "code",
   "execution_count": null,
   "metadata": {},
   "outputs": [],
   "source": [
    "# try it"
   ]
  },
  {
   "cell_type": "markdown",
   "metadata": {},
   "source": [
    "### Definitions\n",
    "\n",
    "1. A ***variable*** is a name that refers to a value.\n",
    "1. An ***assignment statement*** creates new variables and gives them values\n",
    "1. The ***assignment operator*** is `=`, not to be confused with the ***equality operator*** `==`\n",
    "1. The ***type*** of a variable is the type of the value it refers to.\n",
    "1. The `print` function displays the value of a variable."
   ]
  },
  {
   "cell_type": "markdown",
   "metadata": {},
   "source": [
    "#### Exercise\n",
    "\n",
    "1. Create a variable called `first_name` and assign it the value `\"Alice\"`.\n",
    "1. Create a variable called `last_name` and assign it the value `\"Smith\"`.\n",
    "1. Create a variable called `full_name` and assign it the value of `first_name` and `last_name` concatenated together with a space between them.\n",
    "1. Print the value of `full_name`."
   ]
  },
  {
   "cell_type": "code",
   "execution_count": null,
   "metadata": {},
   "outputs": [],
   "source": [
    "# Try it"
   ]
  },
  {
   "cell_type": "markdown",
   "metadata": {},
   "source": [
    "## Take input from the user\n",
    "\n",
    "We can use the `input()` function to take input from the user. The `input()` function will print a message to the screen and then wait for the user to type something and press `Enter`. Once the user presses `Enter`, the `input()` function will return whatever the user typed."
   ]
  },
  {
   "cell_type": "code",
   "execution_count": 3,
   "metadata": {},
   "outputs": [],
   "source": [
    "name = input(\"What is your name? \")"
   ]
  },
  {
   "cell_type": "markdown",
   "metadata": {},
   "source": [
    "We can now use the `name` variable to greet the user:"
   ]
  },
  {
   "cell_type": "code",
   "execution_count": 4,
   "metadata": {},
   "outputs": [
    {
     "name": "stdout",
     "output_type": "stream",
     "text": [
      "Hello and welcome John to the Python course\n"
     ]
    }
   ],
   "source": [
    "print(\"Welcome\", name, \"to the Python course\")"
   ]
  },
  {
   "cell_type": "markdown",
   "metadata": {},
   "source": [
    "We can also take numbers. However, since `input` always returns a string, we need to convert the string to a number using the `int()` function:"
   ]
  },
  {
   "cell_type": "code",
   "execution_count": 7,
   "metadata": {},
   "outputs": [
    {
     "name": "stdout",
     "output_type": "stream",
     "text": [
      "Welcome to the course\n"
     ]
    }
   ],
   "source": [
    "password = input(\"Enter password: \")\n",
    "\n",
    "if password == \"T5\":\n",
    "    print(\"Welcome to the course\")\n",
    "else:\n",
    "    print(\"Sorry, wrong password\")"
   ]
  },
  {
   "cell_type": "markdown",
   "metadata": {},
   "source": [
    "#### Exercise:\n",
    "\n",
    "- Use the `input` function to ask the user for their first name and store it in a variable called `first_name`\n",
    "- Use the `input` function to ask the user for their last name and store it in a variable called `last_name`\n",
    "- Print a greeting to the user using their first and last name\n",
    "\n",
    "Write your code below:"
   ]
  },
  {
   "cell_type": "code",
   "execution_count": null,
   "metadata": {},
   "outputs": [],
   "source": [
    "# try it"
   ]
  },
  {
   "cell_type": "markdown",
   "metadata": {},
   "source": [
    "# Variables and Data Types"
   ]
  },
  {
   "cell_type": "markdown",
   "metadata": {},
   "source": [
    "### Values and Types"
   ]
  },
  {
   "cell_type": "markdown",
   "metadata": {},
   "source": [
    "Here:\n",
    "\n",
    "- `10` is a **value** of **type** `int`\n",
    "- `\"Alice\"` is a **value** of **type** `str`"
   ]
  },
  {
   "cell_type": "code",
   "execution_count": null,
   "metadata": {},
   "outputs": [
    {
     "data": {
      "text/plain": [
       "int"
      ]
     },
     "metadata": {},
     "output_type": "display_data"
    }
   ],
   "source": [
    "type(10)"
   ]
  },
  {
   "cell_type": "code",
   "execution_count": null,
   "metadata": {},
   "outputs": [
    {
     "data": {
      "text/plain": [
       "str"
      ]
     },
     "metadata": {},
     "output_type": "display_data"
    }
   ],
   "source": [
    "type(\"Alice\")"
   ]
  },
  {
   "cell_type": "markdown",
   "metadata": {},
   "source": [
    "We store values in **variables**. A variable is a name that refers to a value. We can use the `=` operator to assign a value to a variable."
   ]
  },
  {
   "cell_type": "code",
   "execution_count": null,
   "metadata": {},
   "outputs": [],
   "source": [
    "x = 10"
   ]
  },
  {
   "cell_type": "markdown",
   "metadata": {},
   "source": [
    "Now, `type(x)` returns the **type** of the **value** that `x` holds."
   ]
  },
  {
   "cell_type": "code",
   "execution_count": null,
   "metadata": {},
   "outputs": [
    {
     "data": {
      "text/plain": [
       "int"
      ]
     },
     "metadata": {},
     "output_type": "display_data"
    }
   ],
   "source": [
    "type(x)"
   ]
  },
  {
   "cell_type": "markdown",
   "metadata": {},
   "source": [
    "### Python typing system is dynamic\n",
    "\n",
    "Unlike **static typing** languages, Python allows you to change the type of a variable after it has been set. This is called **dynamic typing**."
   ]
  },
  {
   "cell_type": "code",
   "execution_count": null,
   "metadata": {},
   "outputs": [],
   "source": [
    "x = 1         # int\n",
    "x = 'hello'   # -> str\n",
    "x = [1, 2, 3] # -> list"
   ]
  },
  {
   "cell_type": "code",
   "execution_count": null,
   "metadata": {},
   "outputs": [
    {
     "data": {
      "text/plain": [
       "list"
      ]
     },
     "metadata": {},
     "output_type": "display_data"
    }
   ],
   "source": [
    "type(x)"
   ]
  },
  {
   "cell_type": "markdown",
   "metadata": {},
   "source": [
    "#### Exercise\n",
    "\n",
    "- What is the type of `3.14`?\n",
    "- What is the type of `\"5\" + \"5\"`?"
   ]
  },
  {
   "cell_type": "code",
   "execution_count": null,
   "metadata": {},
   "outputs": [],
   "source": [
    "# try it"
   ]
  },
  {
   "cell_type": "markdown",
   "metadata": {},
   "source": [
    "Remember:\n",
    "\n",
    "- **Expressions** evaluate to produce a **value**\n",
    "- Each **value** has a **type**"
   ]
  },
  {
   "cell_type": "code",
   "execution_count": null,
   "metadata": {},
   "outputs": [
    {
     "data": {
      "text/plain": [
       "int"
      ]
     },
     "metadata": {},
     "output_type": "display_data"
    }
   ],
   "source": [
    "type(4 + 2)"
   ]
  },
  {
   "cell_type": "code",
   "execution_count": null,
   "metadata": {},
   "outputs": [
    {
     "data": {
      "text/plain": [
       "str"
      ]
     },
     "metadata": {},
     "output_type": "display_data"
    }
   ],
   "source": [
    "type(\"alice\" + \" \" + \"bob\")"
   ]
  },
  {
   "cell_type": "code",
   "execution_count": null,
   "metadata": {},
   "outputs": [
    {
     "data": {
      "text/plain": [
       "bool"
      ]
     },
     "metadata": {},
     "output_type": "display_data"
    }
   ],
   "source": [
    "type(9 > 5)"
   ]
  },
  {
   "cell_type": "markdown",
   "metadata": {},
   "source": [
    "#### Exercise\n",
    "\n",
    "What is the type of the following expressions?\n",
    "\n",
    "- `10 + 5`\n",
    "- `\"Alice\" + \"Bob\"`\n",
    "- `True or False`"
   ]
  },
  {
   "cell_type": "code",
   "execution_count": null,
   "metadata": {},
   "outputs": [],
   "source": [
    "# try it"
   ]
  },
  {
   "cell_type": "markdown",
   "metadata": {},
   "source": [
    "## Variables"
   ]
  },
  {
   "cell_type": "markdown",
   "metadata": {},
   "source": [
    "Assignment takes values (and evaluated expressions) and assigns them to a variable:"
   ]
  },
  {
   "cell_type": "code",
   "execution_count": null,
   "metadata": {},
   "outputs": [
    {
     "name": "stdout",
     "output_type": "stream",
     "text": [
      "<class 'int'>\n",
      "<class 'str'>\n",
      "<class 'bool'>\n"
     ]
    }
   ],
   "source": [
    "num = 10\n",
    "name = \"Alice\" + \" \" + \"Bob\"\n",
    "b = 9 > 5\n",
    "\n",
    "print(type(num))   # int\n",
    "print(type(name))  # str\n",
    "print(type(b))     # bool"
   ]
  },
  {
   "cell_type": "markdown",
   "metadata": {},
   "source": [
    "The following code shows a variable assignment:\n",
    "- `x` is a ***variable***\n",
    "- `5` is a ***value***\n",
    "- `=` is an ***assignment operator***"
   ]
  },
  {
   "cell_type": "code",
   "execution_count": null,
   "metadata": {},
   "outputs": [],
   "source": [
    "x = 5"
   ]
  },
  {
   "cell_type": "markdown",
   "metadata": {},
   "source": [
    "The value `5` is stored in the memory address `x` which we can access later."
   ]
  },
  {
   "cell_type": "code",
   "execution_count": null,
   "metadata": {},
   "outputs": [
    {
     "name": "stdout",
     "output_type": "stream",
     "text": [
      "5\n"
     ]
    }
   ],
   "source": [
    "print(x)"
   ]
  },
  {
   "cell_type": "markdown",
   "metadata": {},
   "source": [
    "Note that a number string is not the same as a number:\n",
    "- The number `20` is a value of type `int`\n",
    "- The string `\"20\"` is a value of type `str`\n",
    "\n",
    "**Side note**: single quotes (`'A'`) and double quotes (`\"A\"`) are equivalent in Python."
   ]
  },
  {
   "cell_type": "code",
   "execution_count": null,
   "metadata": {},
   "outputs": [
    {
     "name": "stdout",
     "output_type": "stream",
     "text": [
      "20 <class 'int'>\n",
      "20 <class 'str'>\n"
     ]
    },
    {
     "ename": "TypeError",
     "evalue": "unsupported operand type(s) for +: 'int' and 'str'",
     "output_type": "error",
     "traceback": [
      "\u001b[1;31m---------------------------------------------------------------------------\u001b[0m\n",
      "\u001b[1;31mTypeError\u001b[0m                                 Traceback (most recent call last)\n",
      "Cell \u001b[1;32mIn[1], line 6\u001b[0m\n",
      "\u001b[0;32m      4\u001b[0m \u001b[38;5;28mprint\u001b[39m(x, \u001b[38;5;28mtype\u001b[39m(x))\n",
      "\u001b[0;32m      5\u001b[0m \u001b[38;5;28mprint\u001b[39m(y, \u001b[38;5;28mtype\u001b[39m(y))\n",
      "\u001b[1;32m----> 6\u001b[0m \u001b[38;5;28mprint\u001b[39m( \u001b[43mx\u001b[49m\u001b[43m \u001b[49m\u001b[38;5;241;43m+\u001b[39;49m\u001b[43m \u001b[49m\u001b[43my\u001b[49m)\n",
      "\n",
      "\u001b[1;31mTypeError\u001b[0m: unsupported operand type(s) for +: 'int' and 'str'"
     ]
    }
   ],
   "source": [
    "x = 20\n",
    "y = '20'\n",
    "\n",
    "print(x, type(x))\n",
    "print(y, type(y))\n",
    "print(x + y)"
   ]
  },
  {
   "cell_type": "markdown",
   "metadata": {},
   "source": [
    "The error is expected because we are trying to add a string to a number.\n",
    "\n",
    "We have to convert the string to a number before we can add it to another number."
   ]
  },
  {
   "cell_type": "code",
   "execution_count": null,
   "metadata": {},
   "outputs": [
    {
     "name": "stdout",
     "output_type": "stream",
     "text": [
      "20 <class 'int'>\n",
      "40\n"
     ]
    }
   ],
   "source": [
    "z = int(y)\n",
    "print(z, type(z))\n",
    "print(x + z)"
   ]
  },
  {
   "cell_type": "markdown",
   "metadata": {},
   "source": [
    "#### Exercise\n",
    "\n",
    "Calculate the area of a rectangle:\n",
    "\n",
    "- Use the `input` function to ask the user for `width` of a rectangle\n",
    "- Use the `input` function to ask the user for `height` of a rectangle\n",
    "- Calculate the area of the rectangle and store it in a variable called `area`\n",
    "- Print the area of the rectangle\n",
    "\n",
    "**Note**: you have to convert the `width` and `height` to numbers using the `int()` function."
   ]
  },
  {
   "cell_type": "code",
   "execution_count": null,
   "metadata": {},
   "outputs": [],
   "source": [
    "# try it"
   ]
  },
  {
   "cell_type": "markdown",
   "metadata": {},
   "source": [
    "#### Exercise\n",
    "\n",
    "Asks the user for their `age` and tell them how old they will be in 10 years."
   ]
  },
  {
   "cell_type": "code",
   "execution_count": null,
   "metadata": {},
   "outputs": [],
   "source": [
    "# try it"
   ]
  },
  {
   "cell_type": "markdown",
   "metadata": {},
   "source": [
    "### Rules for Naming Variables\n",
    "\n",
    "1. Variables are case-sensitive. Example:\n",
    "\n",
    "```python\n",
    "my_variable = 5\n",
    "My_Variable = 10\n",
    "```\n",
    "\n",
    "2. Variables cannot start with a number. Example:\n",
    "\n",
    "```python\n",
    "2my_variable = 5\n",
    "```\n",
    "\n",
    "3. You cannot use reserved keywords. Example: \n",
    "\n",
    "```python\n",
    "class = 5\n",
    "True = 1\n",
    "break = True\n",
    "```\n",
    "\n",
    "4. You should not use built-in function names. Example: \n",
    "\n",
    "```python\n",
    "sum = 5\n",
    "max = 10\n",
    "list = [10, 20, 30]\n",
    "```"
   ]
  },
  {
   "cell_type": "markdown",
   "metadata": {},
   "source": [
    "### Reserved Keywords\n",
    "\n",
    "| Category | Keyword | Description |\n",
    "|---|---|---|\n",
    "| Logical operators | `and`, `or`, `not`, `is` | Operators used to combine Boolean expressions. |\n",
    "| Conditional statements | `if`, `elif`, `else` | Keywords used to create conditional statements. |\n",
    "| Loops | `while`, `for`, `break`, `continue` | Keywords used to create loops. |\n",
    "| Exception handling | `try`, `except`, `finally` | Keywords used to handle exceptions. |\n",
    "| Functions and classes | `def`, `class`, `return`, `yield`, `lambda` | Keywords used to define functions and classes. |\n",
    "| Data types | `None`, `True`, `False` | Keywords used to represent special data types. |\n",
    "| Other | `import`, `from`, `as`, `assert`, `global`, `nonlocal`, `with`, `pass`  | Other keywords used for various purposes. |\n"
   ]
  },
  {
   "cell_type": "markdown",
   "metadata": {},
   "source": [
    "The following snippet has meaningless variable names. We provide a better alternative below to give context."
   ]
  },
  {
   "cell_type": "code",
   "execution_count": null,
   "metadata": {},
   "outputs": [],
   "source": [
    "x2 = 35.0\n",
    "y = 12.50\n",
    "mne = x2* y\n",
    "print(mne)"
   ]
  },
  {
   "cell_type": "markdown",
   "metadata": {},
   "source": [
    "\n",
    "\n",
    "We should use meaningful names, such as:"
   ]
  },
  {
   "cell_type": "code",
   "execution_count": null,
   "metadata": {},
   "outputs": [
    {
     "name": "stdout",
     "output_type": "stream",
     "text": [
      "437.5\n"
     ]
    }
   ],
   "source": [
    "hours = 35.0\n",
    "rate = 12.50\n",
    "pay = hours * rate\n",
    "print(pay)"
   ]
  },
  {
   "cell_type": "markdown",
   "metadata": {},
   "source": [
    "The intent of the code now is much clearer."
   ]
  },
  {
   "cell_type": "markdown",
   "metadata": {},
   "source": [
    "## Data Types: Overview\n",
    "\n",
    "Data types represents the kind of value that tells what operations can be performed on a particular data. For example:\n",
    "\n",
    "- numbers can be added, subtracted, multiplied\n",
    "- strings can be concatenated (joined) with another string.\n",
    "\n",
    "Here is a table of the most common data types in Python:\n",
    "\n",
    "| Type | Python Type | Assignment Example |\n",
    "|---|---|---|\n",
    "| **Text** | `str` | `message = \"Hello, world!\"` |\n",
    "| **Numeric** | `int`, `float`, `complex` | `number = 10`, `pi = 3.14`, `complex_number = 1 + 2j` |\n",
    "| **Sequence** | `list`, `tuple`, `range` | `my_list = [1, 2, 3, 4, 5]`, `my_tuple = (1, 2, 3, 4, 5)`, `my_range = range(10)` |\n",
    "| **Mapping** | `dict` | `my_dict = {\"name\": \"Alice\", \"age\": 25}` |\n",
    "| **Set** | `set`, `frozenset` | `my_set = {1, 2, 3, 4, 5}`, `my_frozenset = frozenset({1, 2, 3, 4, 5})` |\n",
    "| **Boolean** | `bool` | `is_true = True`, `is_false = False` |\n",
    "| **Binary** | `bytes`, `bytearray`, `memoryview` | `my_bytes = b\"Hello, world!\"`, `my_bytearray = bytearray(b\"Hello, world!\")`, `my_memoryview = memoryview(b\"Hello, world!\")` |\n",
    "| **None** | `NoneType` | `none = None` |\n",
    "\n",
    "Docs: https://docs.python.org/3/library/datatypes.html\n"
   ]
  }
 ],
 "metadata": {
  "kernelspec": {
   "display_name": "Python 3 (ipykernel)",
   "language": "python",
   "name": "python3"
  },
  "language_info": {
   "codemirror_mode": {
    "name": "ipython",
    "version": 3
   },
   "file_extension": ".py",
   "mimetype": "text/x-python",
   "name": "python",
   "nbconvert_exporter": "python",
   "pygments_lexer": "ipython3",
   "version": "3.10.11"
  }
 },
 "nbformat": 4,
 "nbformat_minor": 4
}
