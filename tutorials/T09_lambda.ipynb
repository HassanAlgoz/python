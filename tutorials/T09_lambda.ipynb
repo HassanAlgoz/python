{
 "cells": [
  {
   "cell_type": "markdown",
   "id": "de34a1bc",
   "metadata": {},
   "source": [
    "## Lambda $\\lambda$"
   ]
  },
  {
   "cell_type": "markdown",
   "id": "f0a3c374",
   "metadata": {},
   "source": [
    "Syntax: `lambda: <parameters>: <expression>`\n",
    "\n",
    "\n",
    "- A lambda function is a small anonymous function.\n",
    "- A lambda function can take any number of arguments, but can only have one expression."
   ]
  },
  {
   "cell_type": "code",
   "execution_count": 2,
   "id": "78737a45",
   "metadata": {},
   "outputs": [],
   "source": [
    "def square(x):\n",
    "  return x * x\n",
    "\n",
    "# same function as above, but using lambda\n",
    "square2 = lambda x: x * x"
   ]
  },
  {
   "cell_type": "code",
   "execution_count": null,
   "id": "f69ccd95",
   "metadata": {},
   "outputs": [],
   "source": [
    "for x in range(10):\n",
    "    print(square(x))\n",
    "\n",
    "for x in range(10):\n",
    "    print(square2(x))"
   ]
  },
  {
   "cell_type": "code",
   "execution_count": 3,
   "id": "a74f50f3",
   "metadata": {},
   "outputs": [
    {
     "name": "stdout",
     "output_type": "stream",
     "text": [
      "0 0\n",
      "1 1\n",
      "4 4\n",
      "9 9\n",
      "16 16\n",
      "25 25\n",
      "36 36\n",
      "49 49\n",
      "64 64\n",
      "81 81\n"
     ]
    }
   ],
   "source": [
    "for x in range(10):\n",
    "    print(square(x), square2(x))"
   ]
  },
  {
   "cell_type": "code",
   "execution_count": 22,
   "id": "29f19f97",
   "metadata": {},
   "outputs": [
    {
     "data": {
      "text/plain": [
       "[0, 1, 4, 9, 16]"
      ]
     },
     "execution_count": 22,
     "metadata": {},
     "output_type": "execute_result"
    }
   ],
   "source": [
    "list(map(square, range(5)))"
   ]
  },
  {
   "cell_type": "code",
   "execution_count": 23,
   "id": "1e2798a8",
   "metadata": {},
   "outputs": [
    {
     "name": "stdout",
     "output_type": "stream",
     "text": [
      "0 1 4 9 16 "
     ]
    }
   ],
   "source": [
    "l = map(square, range(5))\n",
    "    \n",
    "for x in l:\n",
    "    print(x, end=' ')"
   ]
  },
  {
   "cell_type": "code",
   "execution_count": 20,
   "id": "885a8857",
   "metadata": {},
   "outputs": [
    {
     "data": {
      "text/plain": [
       "<map at 0x21ba0da99f0>"
      ]
     },
     "execution_count": 20,
     "metadata": {},
     "output_type": "execute_result"
    }
   ],
   "source": [
    "l"
   ]
  },
  {
   "cell_type": "code",
   "execution_count": 5,
   "id": "e5ee65d2",
   "metadata": {},
   "outputs": [],
   "source": [
    "def big(s):\n",
    "    return s.upper()\n",
    "\n",
    "# same function as above, but using lambda\n",
    "big2 = lambda s: s.upper()"
   ]
  },
  {
   "cell_type": "code",
   "execution_count": 6,
   "id": "b43311bc",
   "metadata": {},
   "outputs": [
    {
     "name": "stdout",
     "output_type": "stream",
     "text": [
      "HELLO HELLO\n",
      "WORLD WORLD\n"
     ]
    }
   ],
   "source": [
    "for s in [\"hello\", \"world\"]:\n",
    "    print(big(s), big2(s))"
   ]
  },
  {
   "cell_type": "markdown",
   "id": "85601cc1",
   "metadata": {},
   "source": [
    "### `map` using a `lambda` function"
   ]
  },
  {
   "cell_type": "code",
   "execution_count": null,
   "metadata": {},
   "outputs": [
    {
     "name": "stdout",
     "output_type": "stream",
     "text": [
      "[1, 4, 9, 16, 25]\n"
     ]
    }
   ],
   "source": [
    "numbers = [1, 2, 3, 4, 5]\n",
    "\n",
    "squares = list(map(lambda x: x*x, numbers))\n",
    "\n",
    "print(squares)"
   ]
  },
  {
   "cell_type": "code",
   "execution_count": null,
   "metadata": {},
   "outputs": [
    {
     "name": "stdout",
     "output_type": "stream",
     "text": [
      "['HELLO', 'WORLD', 'PYTHON']\n"
     ]
    }
   ],
   "source": [
    "strings = [\"hello\", \"world\", \"python\"]\n",
    "\n",
    "uppers = list(map(lambda s: s.upper(), strings))\n",
    "\n",
    "print(uppers)"
   ]
  },
  {
   "cell_type": "markdown",
   "metadata": {},
   "source": [
    "### using list comprehension instead"
   ]
  },
  {
   "cell_type": "code",
   "execution_count": null,
   "metadata": {},
   "outputs": [
    {
     "name": "stdout",
     "output_type": "stream",
     "text": [
      "[1, 4, 9, 16, 25]\n"
     ]
    }
   ],
   "source": [
    "numbers = [1, 2, 3, 4, 5]\n",
    "\n",
    "# Using List comprehension\n",
    "squares = [x * x for x in numbers]\n",
    "\n",
    "print(squares)"
   ]
  },
  {
   "cell_type": "code",
   "execution_count": null,
   "metadata": {},
   "outputs": [
    {
     "name": "stdout",
     "output_type": "stream",
     "text": [
      "['HELLO', 'WORLD', 'PYTHON']\n"
     ]
    }
   ],
   "source": [
    "strings = [\"hello\", \"world\", \"python\"]\n",
    "\n",
    "# List comprehension\n",
    "uppers = [string.upper() for string in strings]\n",
    "\n",
    "print(uppers)"
   ]
  },
  {
   "cell_type": "code",
   "execution_count": 20,
   "id": "508418c6-0553-42f1-8980-04e2a0777257",
   "metadata": {
    "tags": []
   },
   "outputs": [],
   "source": [
    "tuples = [('A', 3), ('B', 1),\n",
    "          ('C', 2), ('D', 4)]\n",
    "\n",
    "for x in tuples:\n",
    "    print(x)\n",
    "\n",
    "def second_element(x):\n",
    "    return x[0]    \n",
    "\n",
    "tuples.sort(key=second_element)\n",
    "print(tuples)\n",
    "\n",
    "tuples.sort(key= lambda x: x[1])\n",
    "print(tuples)"
   ]
  },
  {
   "cell_type": "code",
   "execution_count": 34,
   "id": "06105491-7659-446d-a573-459c68a18dd4",
   "metadata": {
    "tags": []
   },
   "outputs": [
    {
     "name": "stdout",
     "output_type": "stream",
     "text": [
      "[('A', 3), ('B', 1), ('C', 2), ('D', 4)]\n"
     ]
    }
   ],
   "source": [
    "print(tuples)"
   ]
  },
  {
   "cell_type": "markdown",
   "id": "d23477d5",
   "metadata": {},
   "source": [
    "### `map` using a defined function"
   ]
  },
  {
   "cell_type": "code",
   "execution_count": 7,
   "id": "c4646d9a",
   "metadata": {},
   "outputs": [
    {
     "name": "stdout",
     "output_type": "stream",
     "text": [
      "[1, 4, 9, 16, 25]\n"
     ]
    }
   ],
   "source": [
    "numbers = [1, 2, 3, 4, 5]\n",
    "\n",
    "def square(x):\n",
    "  return x * x\n",
    "\n",
    "squares = list(map(square, numbers))\n",
    "\n",
    "print(squares)"
   ]
  },
  {
   "cell_type": "code",
   "execution_count": 8,
   "id": "e97a3f25",
   "metadata": {},
   "outputs": [
    {
     "name": "stdout",
     "output_type": "stream",
     "text": [
      "['HELLO', 'WORLD', 'PYTHON']\n"
     ]
    }
   ],
   "source": [
    "strings = [\"hello\", \"world\", \"python\"]\n",
    "\n",
    "def convert_to_uppercase(s):\n",
    "  return s.upper()\n",
    "\n",
    "uppercase_strings = list(map(convert_to_uppercase, strings))\n",
    "\n",
    "print(uppercase_strings)"
   ]
  }
 ],
 "metadata": {
  "kernelspec": {
   "display_name": "Python 3 (ipykernel)",
   "language": "python",
   "name": "python3"
  },
  "language_info": {
   "codemirror_mode": {
    "name": "ipython",
    "version": 3
   },
   "file_extension": ".py",
   "mimetype": "text/x-python",
   "name": "python",
   "nbconvert_exporter": "python",
   "pygments_lexer": "ipython3",
   "version": "3.10.11"
  }
 },
 "nbformat": 4,
 "nbformat_minor": 5
}
