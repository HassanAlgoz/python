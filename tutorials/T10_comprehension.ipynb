{
 "cells": [
  {
   "cell_type": "markdown",
   "id": "9d98c0e3-db8b-476e-a529-bc975db9bbb4",
   "metadata": {
    "tags": []
   },
   "source": [
    "## List Comprehensions"
   ]
  },
  {
   "cell_type": "markdown",
   "id": "e0a847cc-5027-4976-b288-70bfa67e8cdc",
   "metadata": {
    "tags": []
   },
   "source": [
    "Syntax: `new_list = [<expression> for <item> in <iterable> if <condition>]`\n",
    "\n",
    "In other words: `new_list = [<expression> <iteration> <condition>]`"
   ]
  },
  {
   "cell_type": "markdown",
   "id": "61e0b74b",
   "metadata": {},
   "source": [
    "Let's break it down:\n",
    "\n",
    "- `expression` in python are like `2 + 2` or `x + 1`\n",
    "- `item` is the variable name that represents the members of the iterable\n",
    "- `iterable` is the object that you will iterate over: usually a list, set, or dictionary\n",
    "- `condition` is the filter that you want to apply to the iterable"
   ]
  },
  {
   "cell_type": "code",
   "execution_count": 6,
   "id": "5c171ed2",
   "metadata": {},
   "outputs": [],
   "source": [
    "nums = [0, 1, 2, 3, 4, 5, 6, 7, 8, 9]"
   ]
  },
  {
   "cell_type": "code",
   "execution_count": 16,
   "id": "f94314fc",
   "metadata": {},
   "outputs": [
    {
     "name": "stdout",
     "output_type": "stream",
     "text": [
      "[6, 7, 8, 9]\n"
     ]
    }
   ],
   "source": [
    "copy = [n for n in nums if n > 5]\n",
    "print(copy)"
   ]
  },
  {
   "cell_type": "code",
   "execution_count": 4,
   "id": "9b6fb3fe",
   "metadata": {},
   "outputs": [
    {
     "data": {
      "text/plain": [
       "[0, 2, 4, 6, 8]"
      ]
     },
     "execution_count": 4,
     "metadata": {},
     "output_type": "execute_result"
    }
   ],
   "source": [
    "nums_even = [x for x in nums if x % 2 == 0]\n",
    "nums_even"
   ]
  },
  {
   "cell_type": "code",
   "execution_count": 5,
   "id": "1bb57706",
   "metadata": {},
   "outputs": [
    {
     "data": {
      "text/plain": [
       "[0, 1, 4, 9, 16, 25, 36, 49, 64, 81]"
      ]
     },
     "execution_count": 5,
     "metadata": {},
     "output_type": "execute_result"
    }
   ],
   "source": [
    "nums_squared = [x**2 for x in nums]\n",
    "nums_squared"
   ]
  },
  {
   "cell_type": "code",
   "execution_count": 6,
   "id": "e81fc435",
   "metadata": {},
   "outputs": [
    {
     "data": {
      "text/plain": [
       "[0, 4, 16, 36, 64]"
      ]
     },
     "execution_count": 6,
     "metadata": {},
     "output_type": "execute_result"
    }
   ],
   "source": [
    "nums_even_squared = [x**2 for x in nums if x % 2 == 0]\n",
    "nums_even_squared"
   ]
  },
  {
   "cell_type": "markdown",
   "id": "e584745d",
   "metadata": {},
   "source": [
    "- List comprehensions are meant to be concise and easy to read.\n",
    "- They may look a bit strange at first but are easy to get used to."
   ]
  },
  {
   "cell_type": "markdown",
   "id": "c43d32a8",
   "metadata": {},
   "source": [
    "- Just like the list `nums`, `range` is a function that returns an `iterable`.\n",
    "- Hence, we can use list comprehensions with `range` as well."
   ]
  },
  {
   "cell_type": "markdown",
   "id": "67a451c1",
   "metadata": {},
   "source": [
    "### Using list comprehensions with lists of strings"
   ]
  },
  {
   "cell_type": "code",
   "execution_count": 12,
   "id": "f377895d-2e5e-423d-9746-7ed0ae20ad54",
   "metadata": {
    "tags": []
   },
   "outputs": [
    {
     "name": "stdout",
     "output_type": "stream",
     "text": [
      "['apple', 'banana', 'mango']\n"
     ]
    }
   ],
   "source": [
    "# Based on a list of fruits, you want a new list, containing only the fruits with the letter \"a\" in the name.\n",
    "fruits = [\"apple\", \"banana\", \"cherry\", \"kiwi\", \"mango\"]\n",
    "newlist = []\n",
    "\n",
    "for x in fruits:\n",
    "    if \"a\" in x:\n",
    "        newlist.append(x)\n",
    "\n",
    "print(newlist)"
   ]
  },
  {
   "cell_type": "code",
   "execution_count": 40,
   "id": "4a78ec2d",
   "metadata": {},
   "outputs": [
    {
     "name": "stdout",
     "output_type": "stream",
     "text": [
      "['apple-apple', 'banana-banana', 'mango-mango']\n"
     ]
    }
   ],
   "source": [
    "fruits = [\"apple\", \"banana\", \"cherry\", \"kiwi\", \"mango\"]\n",
    "newlist = [f'{x}-{x}' for x in fruits if \"a\" in x]\n",
    "print(newlist)"
   ]
  },
  {
   "cell_type": "code",
   "execution_count": 12,
   "id": "94748909-7923-4e99-8bdb-0dabf1b4bc72",
   "metadata": {
    "tags": []
   },
   "outputs": [
    {
     "name": "stdout",
     "output_type": "stream",
     "text": [
      "['apple', 'banana', 'mango']\n"
     ]
    }
   ],
   "source": [
    "# With list comprehension you can do all that with only one line of code:\n",
    "fruits = [\"apple\", \"banana\", \"cherry\", \"kiwi\", \"mango\"]\n",
    "newlist = [x for x in fruits if \"a\" in x]\n",
    "print(newlist)"
   ]
  },
  {
   "cell_type": "markdown",
   "id": "7b81a854",
   "metadata": {},
   "source": [
    "### Exercise\n",
    "\n",
    "- write a list comprehension that upper cases a list of strings.\n",
    "    - input: ['hello', 'world']\n",
    "    - output: ['HELLO', 'WORLD']"
   ]
  },
  {
   "cell_type": "markdown",
   "id": "be9c2957",
   "metadata": {},
   "source": [
    "## Set Comprehension\n"
   ]
  },
  {
   "cell_type": "code",
   "execution_count": 44,
   "id": "a4fed02e",
   "metadata": {},
   "outputs": [
    {
     "data": {
      "text/plain": [
       "{0, 1, 2, 3, 4}"
      ]
     },
     "execution_count": 44,
     "metadata": {},
     "output_type": "execute_result"
    }
   ],
   "source": [
    "my_set = {x for x in range(5)}\n",
    "my_set"
   ]
  },
  {
   "cell_type": "code",
   "execution_count": 43,
   "id": "72a5e613",
   "metadata": {},
   "outputs": [
    {
     "data": {
      "text/plain": [
       "set"
      ]
     },
     "execution_count": 43,
     "metadata": {},
     "output_type": "execute_result"
    }
   ],
   "source": [
    "type(my_set)"
   ]
  },
  {
   "cell_type": "markdown",
   "id": "55e4da3b-c883-4fa7-be62-c906d542af8b",
   "metadata": {},
   "source": [
    "## Dictionary Comprehension\n",
    "\n",
    "Just like list comprehensions, dictionary comprehensions are a way to generate dictionaries using a single line of code.\n",
    "\n",
    "Syntax: `{<expression>: <expression> for (key, value) in <iterable>}`"
   ]
  },
  {
   "cell_type": "code",
   "execution_count": 12,
   "id": "7dc902bd",
   "metadata": {},
   "outputs": [],
   "source": [
    "# helper function to print dictionary\n",
    "def print_dict(d):\n",
    "    for k, v in d.items():\n",
    "        print(f'{k} -> {v}')"
   ]
  },
  {
   "cell_type": "code",
   "execution_count": 13,
   "id": "31de5ae1-f47c-42f5-a451-ba984fd15763",
   "metadata": {
    "tags": []
   },
   "outputs": [
    {
     "name": "stdout",
     "output_type": "stream",
     "text": [
      "1 -> 1\n",
      "2 -> 4\n",
      "3 -> 9\n",
      "4 -> 16\n",
      "5 -> 25\n"
     ]
    }
   ],
   "source": [
    "numbers = [1, 2, 3, 4, 5]\n",
    "squares = {x: x**2 for x in numbers}\n",
    "print_dict(squares)"
   ]
  },
  {
   "cell_type": "code",
   "execution_count": null,
   "id": "763d915a-e440-4517-9168-3ca335413748",
   "metadata": {
    "tags": []
   },
   "outputs": [
    {
     "name": "stdout",
     "output_type": "stream",
     "text": [
      "Alice -> ALICE\n",
      "Bob -> BOB\n",
      "Carol -> CAROL\n"
     ]
    }
   ],
   "source": [
    "strings = [\"Alice\", \"Bob\", \"Carol\"]\n",
    "lengths = {s: s.upper() for s in strings}\n",
    "print_dict(lengths)"
   ]
  },
  {
   "cell_type": "markdown",
   "id": "9cbf5555",
   "metadata": {},
   "source": [
    "### Exercise\n",
    "\n",
    "- write a list comprehension that counts the number of times the letter `l` occurs.\n",
    "    - input: ['bell', 'merald']\n",
    "    - output: {'bell': 2, 'merald': 1}"
   ]
  }
 ],
 "metadata": {
  "kernelspec": {
   "display_name": "Python 3 (ipykernel)",
   "language": "python",
   "name": "python3"
  },
  "language_info": {
   "codemirror_mode": {
    "name": "ipython",
    "version": 3
   },
   "file_extension": ".py",
   "mimetype": "text/x-python",
   "name": "python",
   "nbconvert_exporter": "python",
   "pygments_lexer": "ipython3",
   "version": "3.10.11"
  }
 },
 "nbformat": 4,
 "nbformat_minor": 5
}
