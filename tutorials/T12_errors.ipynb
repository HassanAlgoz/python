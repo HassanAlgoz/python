{
 "cells": [
  {
   "cell_type": "markdown",
   "id": "39b680cb-5d34-4c46-8be6-89ee25fc07a8",
   "metadata": {},
   "source": [
    "# How to read and fix errors"
   ]
  },
  {
   "cell_type": "markdown",
   "id": "fe9665d5",
   "metadata": {},
   "source": [
    "### Errors are your friends!"
   ]
  },
  {
   "cell_type": "markdown",
   "id": "f0335703",
   "metadata": {},
   "source": [
    "The following example shown an intentional use of undefined variable `x` inside of function `C()` to illustrate how the stack trace can be used to debug the error.\n"
   ]
  },
  {
   "cell_type": "code",
   "execution_count": 6,
   "id": "deea6782",
   "metadata": {},
   "outputs": [],
   "source": [
    "def C():\n",
    "    return x + 3\n",
    "\n",
    "def B():\n",
    "    return C() + 2\n",
    "\n",
    "def A():\n",
    "    return B() + 1"
   ]
  },
  {
   "cell_type": "code",
   "execution_count": 10,
   "id": "d152b0c3",
   "metadata": {},
   "outputs": [
    {
     "ename": "NameError",
     "evalue": "name 'x' is not defined",
     "output_type": "error",
     "traceback": [
      "\u001b[1;31m---------------------------------------------------------------------------\u001b[0m",
      "\u001b[1;31mNameError\u001b[0m                                 Traceback (most recent call last)",
      "Cell \u001b[1;32mIn[10], line 2\u001b[0m\n\u001b[0;32m      1\u001b[0m \u001b[38;5;66;03m# Call function A\u001b[39;00m\n\u001b[1;32m----> 2\u001b[0m \u001b[43mA\u001b[49m\u001b[43m(\u001b[49m\u001b[43m)\u001b[49m\n\u001b[0;32m      3\u001b[0m \u001b[38;5;28mprint\u001b[39m(\u001b[38;5;124m'\u001b[39m\u001b[38;5;124mthis will not be printed because of the error in function C()\u001b[39m\u001b[38;5;124m'\u001b[39m)\n",
      "Cell \u001b[1;32mIn[6], line 8\u001b[0m, in \u001b[0;36mA\u001b[1;34m()\u001b[0m\n\u001b[0;32m      7\u001b[0m \u001b[38;5;28;01mdef\u001b[39;00m \u001b[38;5;21mA\u001b[39m():\n\u001b[1;32m----> 8\u001b[0m     \u001b[38;5;28;01mreturn\u001b[39;00m \u001b[43mB\u001b[49m\u001b[43m(\u001b[49m\u001b[43m)\u001b[49m \u001b[38;5;241m+\u001b[39m \u001b[38;5;241m1\u001b[39m\n",
      "Cell \u001b[1;32mIn[6], line 5\u001b[0m, in \u001b[0;36mB\u001b[1;34m()\u001b[0m\n\u001b[0;32m      4\u001b[0m \u001b[38;5;28;01mdef\u001b[39;00m \u001b[38;5;21mB\u001b[39m():\n\u001b[1;32m----> 5\u001b[0m     \u001b[38;5;28;01mreturn\u001b[39;00m \u001b[43mC\u001b[49m\u001b[43m(\u001b[49m\u001b[43m)\u001b[49m \u001b[38;5;241m+\u001b[39m \u001b[38;5;241m2\u001b[39m\n",
      "Cell \u001b[1;32mIn[6], line 2\u001b[0m, in \u001b[0;36mC\u001b[1;34m()\u001b[0m\n\u001b[0;32m      1\u001b[0m \u001b[38;5;28;01mdef\u001b[39;00m \u001b[38;5;21mC\u001b[39m():\n\u001b[1;32m----> 2\u001b[0m     \u001b[38;5;28;01mreturn\u001b[39;00m \u001b[43mx\u001b[49m \u001b[38;5;241m+\u001b[39m \u001b[38;5;241m3\u001b[39m\n",
      "\u001b[1;31mNameError\u001b[0m: name 'x' is not defined"
     ]
    }
   ],
   "source": [
    "# Call function A\n",
    "A()\n",
    "print('this will not be printed because of the error in function C()')"
   ]
  },
  {
   "cell_type": "markdown",
   "id": "0943e23d",
   "metadata": {},
   "source": [
    "How to read a stack trace:\n",
    "\n",
    "- The bottom of the stack trace shows the error message, which is a `NameError` in this case.\n",
    "- The top of the stack trace shows the line of code that caused the error, which is line 6 in this case.\n",
    "- The middle of the stack trace shows the sequence of function calls that led to the error, which happend in `C()` -> `B()` -> `A()` in this case."
   ]
  },
  {
   "cell_type": "markdown",
   "id": "94927686",
   "metadata": {},
   "source": [
    "## Let's create errors and see how to fix them!\n",
    "\n",
    "- `NameError`\n",
    "- `TypeError`\n",
    "- `ValueError`\n",
    "- `IndexError`\n",
    "- `KeyError`\n",
    "- `AttributeError`"
   ]
  },
  {
   "cell_type": "markdown",
   "id": "3b0b6426",
   "metadata": {},
   "source": [
    "### `NameError`\n",
    "\n",
    "This error occurs when a variable or function name is used before it is defined. This can happen when a variable is misspelled or when a function is called before it is defined."
   ]
  },
  {
   "cell_type": "code",
   "execution_count": 11,
   "id": "1feb4049",
   "metadata": {},
   "outputs": [
    {
     "ename": "NameError",
     "evalue": "name 'something_we_never_defined' is not defined",
     "output_type": "error",
     "traceback": [
      "\u001b[1;31m---------------------------------------------------------------------------\u001b[0m",
      "\u001b[1;31mNameError\u001b[0m                                 Traceback (most recent call last)",
      "Cell \u001b[1;32mIn[11], line 3\u001b[0m\n\u001b[0;32m      1\u001b[0m \u001b[38;5;66;03m# make the error happen!\u001b[39;00m\n\u001b[0;32m      2\u001b[0m \u001b[38;5;66;03m# x is not defined\u001b[39;00m\n\u001b[1;32m----> 3\u001b[0m \u001b[38;5;28mprint\u001b[39m(\u001b[43msomething_we_never_defined\u001b[49m)\n",
      "\u001b[1;31mNameError\u001b[0m: name 'something_we_never_defined' is not defined"
     ]
    }
   ],
   "source": [
    "# make the error happen!\n",
    "# x is not defined\n",
    "print(something_we_never_defined)"
   ]
  },
  {
   "cell_type": "markdown",
   "id": "d59e6a66",
   "metadata": {},
   "source": [
    "Errors are not always bad. They are a great way to learn and improve your programming skills."
   ]
  },
  {
   "cell_type": "code",
   "execution_count": null,
   "id": "5f58ee3a",
   "metadata": {},
   "outputs": [],
   "source": [
    "# try it"
   ]
  },
  {
   "cell_type": "markdown",
   "id": "fe7450d0",
   "metadata": {},
   "source": [
    "### `TypeError`\n",
    "\n",
    "This error occurs when an operation is performed on an object of an inappropriate type. This can happen when a function is called with the wrong number or type of arguments, or when an operation is performed on an object that does not support it."
   ]
  },
  {
   "cell_type": "code",
   "execution_count": 14,
   "id": "1a3bee69",
   "metadata": {},
   "outputs": [
    {
     "ename": "TypeError",
     "evalue": "unsupported operand type(s) for ** or pow(): 'str' and 'int'",
     "output_type": "error",
     "traceback": [
      "\u001b[1;31m---------------------------------------------------------------------------\u001b[0m",
      "\u001b[1;31mTypeError\u001b[0m                                 Traceback (most recent call last)",
      "Cell \u001b[1;32mIn[14], line 5\u001b[0m\n\u001b[0;32m      2\u001b[0m \u001b[38;5;28;01mdef\u001b[39;00m \u001b[38;5;21msquare\u001b[39m(x):\n\u001b[0;32m      3\u001b[0m     \u001b[38;5;28mprint\u001b[39m(x \u001b[38;5;241m*\u001b[39m\u001b[38;5;241m*\u001b[39m \u001b[38;5;241m2\u001b[39m)\n\u001b[1;32m----> 5\u001b[0m \u001b[43msquare\u001b[49m\u001b[43m(\u001b[49m\u001b[38;5;124;43m'\u001b[39;49m\u001b[38;5;124;43ma\u001b[39;49m\u001b[38;5;124;43m'\u001b[39;49m\u001b[43m)\u001b[49m\n",
      "Cell \u001b[1;32mIn[14], line 3\u001b[0m, in \u001b[0;36msquare\u001b[1;34m(x)\u001b[0m\n\u001b[0;32m      2\u001b[0m \u001b[38;5;28;01mdef\u001b[39;00m \u001b[38;5;21msquare\u001b[39m(x):\n\u001b[1;32m----> 3\u001b[0m     \u001b[38;5;28mprint\u001b[39m(\u001b[43mx\u001b[49m\u001b[43m \u001b[49m\u001b[38;5;241;43m*\u001b[39;49m\u001b[38;5;241;43m*\u001b[39;49m\u001b[43m \u001b[49m\u001b[38;5;241;43m2\u001b[39;49m)\n",
      "\u001b[1;31mTypeError\u001b[0m: unsupported operand type(s) for ** or pow(): 'str' and 'int'"
     ]
    }
   ],
   "source": [
    "# make this error happen!\n",
    "def square(x):\n",
    "    print(x ** 2)\n",
    "\n",
    "square('a')"
   ]
  },
  {
   "cell_type": "markdown",
   "id": "381ec4a8",
   "metadata": {},
   "source": [
    "Try it out with another example of your own"
   ]
  },
  {
   "cell_type": "code",
   "execution_count": null,
   "id": "a16d9fca",
   "metadata": {},
   "outputs": [],
   "source": [
    "# try it"
   ]
  },
  {
   "cell_type": "markdown",
   "id": "ff664717",
   "metadata": {},
   "source": [
    "### `IndexError`\n",
    "\n",
    "This error occurs when an attempt is made to access an index that is outside the range of a list or other sequence."
   ]
  },
  {
   "cell_type": "code",
   "execution_count": 19,
   "id": "0bb28971",
   "metadata": {},
   "outputs": [
    {
     "ename": "IndexError",
     "evalue": "string index out of range",
     "output_type": "error",
     "traceback": [
      "\u001b[1;31m---------------------------------------------------------------------------\u001b[0m",
      "\u001b[1;31mIndexError\u001b[0m                                Traceback (most recent call last)",
      "Cell \u001b[1;32mIn[19], line 4\u001b[0m\n\u001b[0;32m      2\u001b[0m i \u001b[38;5;241m=\u001b[39m \u001b[38;5;241m3\u001b[39m\n\u001b[0;32m      3\u001b[0m my_str \u001b[38;5;241m=\u001b[39m \u001b[38;5;124m\"\u001b[39m\u001b[38;5;124mabc\u001b[39m\u001b[38;5;124m\"\u001b[39m\n\u001b[1;32m----> 4\u001b[0m \u001b[43mmy_str\u001b[49m\u001b[43m[\u001b[49m\u001b[43mi\u001b[49m\u001b[43m]\u001b[49m\n",
      "\u001b[1;31mIndexError\u001b[0m: string index out of range"
     ]
    }
   ],
   "source": [
    "# make this error happen!\n",
    "i = 3\n",
    "my_str = \"abc\"\n",
    "my_str[i]"
   ]
  },
  {
   "cell_type": "markdown",
   "id": "dc7bfd87",
   "metadata": {},
   "source": [
    "Believe it or not, this happen alot even to the best of us."
   ]
  },
  {
   "cell_type": "markdown",
   "id": "5482957f",
   "metadata": {},
   "source": [
    "- The error message indicates that the index 3 (i) is out of range for the sequence (string).\n",
    "- We usually fix this error by checking the length of the sequence (string) before accessing an index."
   ]
  },
  {
   "cell_type": "markdown",
   "id": "20838636",
   "metadata": {},
   "source": [
    "Now you try it out with another example of your own."
   ]
  },
  {
   "cell_type": "code",
   "execution_count": null,
   "id": "a738e550",
   "metadata": {},
   "outputs": [],
   "source": [
    "# try it\n",
    "my_list = [10, 20, 30]"
   ]
  },
  {
   "cell_type": "markdown",
   "id": "6b7a62f5",
   "metadata": {},
   "source": [
    "### `KeyError`\n",
    "\n",
    "This error occurs when an attempt is made to access a key that does not exist in a dictionary.\n",
    "\n",
    "This is similar to the `IndexError` but it occurs in a dictionary."
   ]
  },
  {
   "cell_type": "code",
   "execution_count": null,
   "id": "d6a9f3da",
   "metadata": {},
   "outputs": [],
   "source": [
    "# try it: make this error happen!\n",
    "my_dict = {'a': 1, 'b': 2}"
   ]
  }
 ],
 "metadata": {
  "kernelspec": {
   "display_name": "Python 3 (ipykernel)",
   "language": "python",
   "name": "python3"
  },
  "language_info": {
   "codemirror_mode": {
    "name": "ipython",
    "version": 3
   },
   "file_extension": ".py",
   "mimetype": "text/x-python",
   "name": "python",
   "nbconvert_exporter": "python",
   "pygments_lexer": "ipython3",
   "version": "3.10.11"
  }
 },
 "nbformat": 4,
 "nbformat_minor": 5
}
