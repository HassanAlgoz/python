{
 "cells": [
  {
   "cell_type": "markdown",
   "metadata": {},
   "source": [
    "# 1. Python's Interactive Mode\n"
   ]
  },
  {
   "cell_type": "markdown",
   "metadata": {},
   "source": [
    "Python has an interactive mode which allows you to type commands and get immediate feedback.\n",
    "\n",
    "If we just type `2 + 5` we will see the result immediately:"
   ]
  },
  {
   "cell_type": "code",
   "execution_count": 1,
   "metadata": {},
   "outputs": [
    {
     "data": {
      "text/plain": [
       "7"
      ]
     },
     "execution_count": 1,
     "metadata": {},
     "output_type": "execute_result"
    }
   ],
   "source": [
    "2 + 5"
   ]
  },
  {
   "cell_type": "markdown",
   "metadata": {},
   "source": [
    "#### Exercise:\n",
    "\n",
    "- Create a **code** cell below this one by clicking on this cell and then clicking the `+` button in the toolbar above.\n",
    "- Type `5 + 5` in the cell below and press `Ctrl + Enter` to run the code (make sure the cell is selected).\n",
    "- Note: if you press `Shift + Enter` it will run the code and move to the next cell"
   ]
  },
  {
   "cell_type": "code",
   "execution_count": null,
   "metadata": {},
   "outputs": [],
   "source": [
    "# try it"
   ]
  },
  {
   "cell_type": "markdown",
   "metadata": {},
   "source": [
    "Try out different mathematical operations in the cell below:\n",
    "\n",
    "- add: `5 + 5`\n",
    "- subtract: `9 - 4`\n",
    "- multily: `2 * 5`\n",
    "- divide: `5 / 5`\n",
    "- power: `2 ** 4`"
   ]
  },
  {
   "cell_type": "code",
   "execution_count": null,
   "metadata": {},
   "outputs": [],
   "source": [
    "# try it"
   ]
  },
  {
   "cell_type": "markdown",
   "metadata": {},
   "source": [
    "Note that if you place two commands in the same cell, only the last one will be printed. So, if you type `5 + 5` and then `9 - 4` only `9 - 4` will be printed. If you want to print both, you need to use the `print()` function, like so:"
   ]
  },
  {
   "cell_type": "code",
   "execution_count": null,
   "metadata": {},
   "outputs": [],
   "source": [
    "print(5 + 5)\n",
    "print(9 - 4)"
   ]
  },
  {
   "cell_type": "markdown",
   "metadata": {},
   "source": [
    "The `print()` function is used to print things to the screen. It can be used to print text, numbers, or the results of calculations.\n",
    "\n",
    "You can also print multiple things at once by separating them with commas, like so:"
   ]
  },
  {
   "cell_type": "code",
   "execution_count": 2,
   "metadata": {},
   "outputs": [
    {
     "name": "stdout",
     "output_type": "stream",
     "text": [
      "My age is: 40\n"
     ]
    }
   ],
   "source": [
    "print(\"My age is:\", 40)"
   ]
  },
  {
   "cell_type": "code",
   "execution_count": null,
   "metadata": {},
   "outputs": [],
   "source": [
    "# try it"
   ]
  },
  {
   "cell_type": "markdown",
   "metadata": {},
   "source": [
    "## Take input from the user\n",
    "\n",
    "We can use the `input()` function to take input from the user. The `input()` function will print a message to the screen and then wait for the user to type something and press `Enter`. Once the user presses `Enter`, the `input()` function will return whatever the user typed."
   ]
  },
  {
   "cell_type": "code",
   "execution_count": 3,
   "metadata": {},
   "outputs": [],
   "source": [
    "name = input(\"What is your name? \")"
   ]
  },
  {
   "cell_type": "markdown",
   "metadata": {},
   "source": [
    "We can now use the `name` variable to greet the user:"
   ]
  },
  {
   "cell_type": "code",
   "execution_count": 4,
   "metadata": {},
   "outputs": [
    {
     "name": "stdout",
     "output_type": "stream",
     "text": [
      "Hello and welcome John to the Python course\n"
     ]
    }
   ],
   "source": [
    "print(\"Welcome\", name, \"to the Python course\")"
   ]
  },
  {
   "cell_type": "markdown",
   "metadata": {},
   "source": [
    "We can also take numbers. However, since `input` always returns a string, we need to convert the string to a number using the `int()` function:"
   ]
  },
  {
   "cell_type": "code",
   "execution_count": 5,
   "metadata": {},
   "outputs": [],
   "source": [
    "str_age = input(\"Enter your age: \")\n",
    "age = int(str_age)"
   ]
  },
  {
   "cell_type": "code",
   "execution_count": 6,
   "metadata": {},
   "outputs": [
    {
     "name": "stdout",
     "output_type": "stream",
     "text": [
      "not enough\n"
     ]
    }
   ],
   "source": [
    "if age > 18:\n",
    "    print(\"You are old enough to vote\")\n",
    "else:\n",
    "    print(\"not enough\")"
   ]
  },
  {
   "cell_type": "markdown",
   "metadata": {},
   "source": [
    "#### Exercise:\n",
    "\n",
    "- Use the `input` function to ask the user for their first name and store it in a variable called `first_name`\n",
    "- Use the `input` function to ask the user for their last name and store it in a variable called `last_name`\n",
    "- Print a greeting to the user using their first and last name\n",
    "\n",
    "Write your code below:"
   ]
  },
  {
   "cell_type": "code",
   "execution_count": null,
   "metadata": {},
   "outputs": [],
   "source": [
    "# try it"
   ]
  },
  {
   "cell_type": "markdown",
   "metadata": {},
   "source": [
    "#### Exercise\n",
    "\n",
    "Calculate the area of a rectangle:\n",
    "\n",
    "- Use the `input` function to ask the user for `width` of a rectangle\n",
    "- Use the `input` function to ask the user for `height` of a rectangle\n",
    "- Calculate the area of the rectangle and store it in a variable called `area`\n",
    "- Print the area of the rectangle\n",
    "\n",
    "Don't forget to convert the `width` and `height` to numbers using the `int()` function.\n",
    "\n",
    "Write your code below:"
   ]
  },
  {
   "cell_type": "code",
   "execution_count": 7,
   "metadata": {},
   "outputs": [],
   "source": [
    "# try it"
   ]
  },
  {
   "cell_type": "markdown",
   "metadata": {},
   "source": [
    "#### Exercise\n",
    "\n",
    "Asks the user for their `age` and tell them how old they will be in 10 years."
   ]
  },
  {
   "cell_type": "code",
   "execution_count": 9,
   "metadata": {},
   "outputs": [],
   "source": [
    "# try it"
   ]
  },
  {
   "cell_type": "markdown",
   "metadata": {},
   "source": [
    "End of Tutorial."
   ]
  }
 ],
 "metadata": {
  "kernelspec": {
   "display_name": "Python 3",
   "language": "python",
   "name": "python3"
  },
  "language_info": {
   "codemirror_mode": {
    "name": "ipython",
    "version": 3
   },
   "file_extension": ".py",
   "mimetype": "text/x-python",
   "name": "python",
   "nbconvert_exporter": "python",
   "pygments_lexer": "ipython3",
   "version": "3.11.6"
  }
 },
 "nbformat": 4,
 "nbformat_minor": 2
}
