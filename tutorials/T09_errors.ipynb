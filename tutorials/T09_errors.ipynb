{
 "cells": [
  {
   "cell_type": "markdown",
   "id": "39b680cb-5d34-4c46-8be6-89ee25fc07a8",
   "metadata": {},
   "source": [
    "# Error Handling (exceptions)"
   ]
  },
  {
   "cell_type": "markdown",
   "id": "3ba6d2d7-4068-4319-8343-0069cf7895d5",
   "metadata": {},
   "source": [
    "### Three Categories of Errors\n",
    "\n",
    "### Syntax Errors\n",
    "\n",
    "***Syntax errors*** occur when the code you've written does not follow the correct syntax or **grammar** of the Python language. Syntax errors are often caused by missing parentheses, quotes, or semicolons, or by using an incorrect keyword or operator.\n",
    "\n",
    "An error in *syntax* is violation in grammar of the language. Syntax errors are the easiest to find and fix.\n",
    "\n",
    "```python\n",
    "# Missing colon after `if` statement\n",
    "if (x > 5)\n",
    "    print(\"x is greater than 5\")\n",
    "\n",
    "# Unbalanced quotes\n",
    "print(\"This)\n",
    "\n",
    "# Unbalanced parenthesis\n",
    "x = [1, 2, 3\n",
    "\n",
    "# Invalid variable name\n",
    "my-variable = 10\n",
    "      \n",
    "# No indentation\n",
    "if (x > 5):\n",
    "print(\"x is greater than 5\")\n",
    "\n",
    "# Too much indentation\n",
    "if (x > 5):\n",
    "        print(\"x is greater than 5\")\n",
    "\n",
    "# Almost right indentation\n",
    "if (x > 5):\n",
    "   print(\"x is greater than 5\") # <-- this is 3 spaces (has to be 4)\n",
    "\n",
    "if (x > 5):\n",
    " print(\"x is greater than 5\") # <-- this is 1 space (has to be 2)\n",
    "\n",
    "```"
   ]
  },
  {
   "cell_type": "markdown",
   "id": "dc3daedb",
   "metadata": {},
   "source": [
    "### 2. Logical Errors\n",
    "\n",
    "***Logical errors*** errors occur when the code runs **without raising an exception** but does not produce the expected output. These errors are often caused by errors in the algorithm or the logic of the program. Logical errors are difficult to detect and can be caused by incorrect assumptions about the data, incorrect calculations, or incorrect control structures.\n",
    "\n",
    "\n",
    "```python\n",
    "# Using the wrong function for the job\n",
    "square = math.sqrt(my_variable)\n",
    "\n",
    "# Checking for equality with a string literal\n",
    "if (x == \"10\"):\n",
    "    print(\"x is equal to 10\")\n",
    "\n",
    "# Trying to add an integer and a string\n",
    "x = 10 + \"5\"\n",
    "\n",
    "# Infinite loop\n",
    "while True:\n",
    "    print(\"This loop will never end!\")\n",
    "\n",
    "# Unintended indentation levels\n",
    "for i in range(10):\n",
    "    for j in range(10):\n",
    "        print(i)   \n",
    "    print(j)       # <-- should be indented inside the j-loop\n",
    "```\n",
    "\n",
    "In the above code, the function calculate_average() is expected to calculate the average of a list of numbers. However, it produces the wrong output because it divides the total by the count instead of the length of the list."
   ]
  },
  {
   "cell_type": "markdown",
   "id": "7f721f27",
   "metadata": {},
   "source": [
    "### 3. Runtime Errors\n",
    "\n",
    "***Runtime errors*** occur when the code is executed, and an unexpected event occurs that interrupts the normal flow of the program. These errors are often caused by external factors such as incorrect user input, unavailable resources, or network errors. Runtime errors are detected by the Python interpreter when the code is running.\n",
    "\n",
    "```python\n",
    "# Trying to divide by zero\n",
    "x = 10 / 0\n",
    "\n",
    "# Parsing errors\n",
    "x = int(input('Please enter a number: ')) # <-- suppose the user enters \"asdf\"\n",
    "\n",
    "# Trying to access an attribute of a non-object\n",
    "y = my_variable.name\n",
    "\n",
    "# Calling a function with the wrong number of arguments\n",
    "print(my_function(1, 2, 3, 4, 5))\n",
    "```"
   ]
  },
  {
   "cell_type": "markdown",
   "id": "1eb65584-a0ea-445b-abec-f6f150c78e23",
   "metadata": {},
   "source": [
    "# Runtime Errors\n",
    "\n",
    "Errors that happen at run-time, and may be handled by the programmer is called an `Exception`.\n",
    "\n",
    "***Exceptions*** are named as such because they interrupt the ideal happy path of the program, because it is interacting with the real-world; be it: user input, system files, network, or other programs.\n",
    "\n",
    "In Python, exceptions can be divided into two main categories: **built-in exceptions** and **user-defined exceptions**.\n",
    "\n",
    "### 1. Built-in Exceptions\n",
    "\n",
    "Python has many built-in exceptions that can be raised when an error occurs. Here are some common built-in exceptions:\n",
    "\n",
    "1. `SyntaxError`: Raised when there is a syntax error in the code.\n",
    "1. `IndentationError`: Raised when there is an incorrect indentation in the code.\n",
    "1. `NameError`: Raised when a variable or function is used before it has been defined.\n",
    "1. `TypeError`: Raised when a function or operation is applied to an object of the wrong type.\n",
    "1. `ValueError`: Raised when a function or operation is applied to an object of the correct type but with an invalid value.\n",
    "1. `ZeroDivisionError`: Raised when division by zero occurs.\n",
    "\n",
    "### 2. User-defined Exceptions:\n",
    "\n",
    "- In addition to built-in exceptions, Python allows you to create your own exceptions by defining a new class that inherits from the built-in `Exception` class or one of its subclasses.\n",
    "- User-defined exceptions are useful when you want to raise an exception that is specific to your application or domain.\n",
    "\n",
    "```python\n",
    "class MyException(Exception):\n",
    "    pass\n",
    "```"
   ]
  },
  {
   "cell_type": "markdown",
   "id": "9dd4f6e1",
   "metadata": {},
   "source": [
    "### Handle `ValueError` raised by the `int()` function"
   ]
  },
  {
   "cell_type": "markdown",
   "id": "b4cf8b75-0183-468f-ad13-56332477d374",
   "metadata": {},
   "source": [
    "The following code handles the case when the user is expected to enter a numeric value, such as `7`, but they enter something else instead, such as: `sadf`."
   ]
  },
  {
   "cell_type": "code",
   "execution_count": 6,
   "id": "a9c72544",
   "metadata": {},
   "outputs": [],
   "source": [
    "my_list = [\"Zero\", \"One\", \"Two\", \"Three\", \"Four\", \"Five\", \"Six\", \"Seven\", \"Eight\", \"Nine\"]"
   ]
  },
  {
   "cell_type": "code",
   "execution_count": 8,
   "id": "ca0d2993",
   "metadata": {},
   "outputs": [
    {
     "name": "stdout",
     "output_type": "stream",
     "text": [
      "user entered: pokwepork amsdfpom\n"
     ]
    },
    {
     "ename": "ValueError",
     "evalue": "invalid literal for int() with base 10: 'pokwepork amsdfpom'",
     "output_type": "error",
     "traceback": [
      "\u001b[1;31m---------------------------------------------------------------------------\u001b[0m",
      "\u001b[1;31mValueError\u001b[0m                                Traceback (most recent call last)",
      "Cell \u001b[1;32mIn[8], line 3\u001b[0m\n\u001b[0;32m      1\u001b[0m str_idx \u001b[38;5;241m=\u001b[39m \u001b[38;5;28minput\u001b[39m(\u001b[38;5;124m\"\u001b[39m\u001b[38;5;124mEnter an integer\u001b[39m\u001b[38;5;124m\"\u001b[39m)\n\u001b[0;32m      2\u001b[0m \u001b[38;5;28mprint\u001b[39m(\u001b[38;5;124m'\u001b[39m\u001b[38;5;124muser entered:\u001b[39m\u001b[38;5;124m'\u001b[39m, str_idx)\n\u001b[1;32m----> 3\u001b[0m idx \u001b[38;5;241m=\u001b[39m \u001b[38;5;28;43mint\u001b[39;49m\u001b[43m(\u001b[49m\u001b[43mstr_idx\u001b[49m\u001b[43m)\u001b[49m\n\u001b[0;32m      4\u001b[0m my_list[idx]\n",
      "\u001b[1;31mValueError\u001b[0m: invalid literal for int() with base 10: 'pokwepork amsdfpom'"
     ]
    }
   ],
   "source": [
    "str_idx = input(\"Enter an integer\")\n",
    "print('user entered:', str_idx)\n",
    "idx = int(str_idx)\n",
    "my_list[idx]"
   ]
  },
  {
   "cell_type": "code",
   "execution_count": 15,
   "id": "fa86fcdf-d94b-4473-b42b-517c99242129",
   "metadata": {
    "tags": []
   },
   "outputs": [
    {
     "name": "stdout",
     "output_type": "stream",
     "text": [
      "user entered: 55\n",
      "after conversion: 55\n"
     ]
    },
    {
     "ename": "IndexError",
     "evalue": "list index out of range",
     "output_type": "error",
     "traceback": [
      "\u001b[1;31m---------------------------------------------------------------------------\u001b[0m",
      "\u001b[1;31mIndexError\u001b[0m                                Traceback (most recent call last)",
      "Cell \u001b[1;32mIn[15], line 7\u001b[0m\n\u001b[0;32m      5\u001b[0m     idx \u001b[38;5;241m=\u001b[39m \u001b[38;5;28mint\u001b[39m(str_idx)\n\u001b[0;32m      6\u001b[0m     \u001b[38;5;28mprint\u001b[39m(\u001b[38;5;124m'\u001b[39m\u001b[38;5;124mafter conversion:\u001b[39m\u001b[38;5;124m'\u001b[39m, idx)\n\u001b[1;32m----> 7\u001b[0m     \u001b[43mmy_list\u001b[49m\u001b[43m[\u001b[49m\u001b[43midx\u001b[49m\u001b[43m]\u001b[49m\n\u001b[0;32m      8\u001b[0m \u001b[38;5;28;01mexcept\u001b[39;00m \u001b[38;5;167;01mValueError\u001b[39;00m:\n\u001b[0;32m      9\u001b[0m     \u001b[38;5;28mprint\u001b[39m(\u001b[38;5;124m'\u001b[39m\u001b[38;5;124mplease enter integer!!!\u001b[39m\u001b[38;5;124m'\u001b[39m)\n",
      "\u001b[1;31mIndexError\u001b[0m: list index out of range"
     ]
    }
   ],
   "source": [
    "str_idx = input(\"Enter an integer\")\n",
    "print('user entered:', str_idx)\n",
    "\n",
    "try:\n",
    "    idx = int(str_idx)\n",
    "    print('after conversion:', idx)\n",
    "except ValueError:\n",
    "    print('please enter integer!!!')"
   ]
  },
  {
   "cell_type": "markdown",
   "id": "3f0ea357",
   "metadata": {},
   "source": [
    "### Handle `IndexError` raised by the `list` type"
   ]
  },
  {
   "cell_type": "code",
   "execution_count": 17,
   "id": "f35ab351-7209-4c90-9940-58615858cc38",
   "metadata": {
    "tags": []
   },
   "outputs": [
    {
     "name": "stdout",
     "output_type": "stream",
     "text": [
      "index is out of range, please enter number from 0 to 9\n"
     ]
    }
   ],
   "source": [
    "str_idx = input(\"Enter a number from 0 to 9\")\n",
    "\n",
    "try:\n",
    "    idx = int(str_idx)\n",
    "except ValueError:\n",
    "    print('please enter integer!!!')\n",
    "\n",
    "try:\n",
    "    val = my_list[idx]\n",
    "    print('value is:', val)\n",
    "except IndexError:\n",
    "    print(\"index is out of range, please enter number from 0 to 9\")"
   ]
  },
  {
   "cell_type": "markdown",
   "id": "f75d0762-a374-4799-b31f-38c13e732d77",
   "metadata": {},
   "source": [
    "### Handle multiple exceptions"
   ]
  },
  {
   "cell_type": "code",
   "execution_count": 18,
   "id": "78c0d990-72ca-4ae8-8754-76e6379bd59a",
   "metadata": {},
   "outputs": [
    {
     "name": "stdout",
     "output_type": "stream",
     "text": [
      "Error: [Errno 2] No such file or directory: 'my_file.txt'\n"
     ]
    },
    {
     "ename": "NameError",
     "evalue": "name 'file' is not defined",
     "output_type": "error",
     "traceback": [
      "\u001b[1;31m---------------------------------------------------------------------------\u001b[0m",
      "\u001b[1;31mNameError\u001b[0m                                 Traceback (most recent call last)",
      "Cell \u001b[1;32mIn[18], line 20\u001b[0m\n\u001b[0;32m     17\u001b[0m     \u001b[38;5;28mprint\u001b[39m(\u001b[38;5;124m'\u001b[39m\u001b[38;5;124melse runs when no exception happens\u001b[39m\u001b[38;5;124m'\u001b[39m)\n\u001b[0;32m     19\u001b[0m \u001b[38;5;28;01mfinally\u001b[39;00m:\n\u001b[1;32m---> 20\u001b[0m     \u001b[43mfile\u001b[49m\u001b[38;5;241m.\u001b[39mclose()\n\u001b[0;32m     21\u001b[0m     \u001b[38;5;28mprint\u001b[39m(\u001b[38;5;124m'\u001b[39m\u001b[38;5;124mfinally runs either way\u001b[39m\u001b[38;5;124m'\u001b[39m)\n\u001b[0;32m     23\u001b[0m \u001b[38;5;28mprint\u001b[39m(\u001b[38;5;124m'\u001b[39m\u001b[38;5;124mlast line\u001b[39m\u001b[38;5;124m'\u001b[39m)\n",
      "\u001b[1;31mNameError\u001b[0m: name 'file' is not defined"
     ]
    }
   ],
   "source": [
    "try:\n",
    "    file = open('my_file.txt') # <-- file need to be closed\n",
    "    num = int(str_idx)\n",
    "    text = my_list[num]\n",
    "    print(text)\n",
    "\n",
    "except ValueError:\n",
    "    print(\"please enter an integer\")\n",
    "\n",
    "except IndexError:\n",
    "    print(\"index is out of range [0-9]\")\n",
    "\n",
    "except Exception as e:\n",
    "    print(f\"Error: {e}\")\n",
    "\n",
    "else:\n",
    "    print('else runs when no exception happens')\n",
    "\n",
    "finally:\n",
    "    file.close()\n",
    "    print('finally runs either way')\n",
    "\n",
    "print('last line')"
   ]
  },
  {
   "cell_type": "markdown",
   "id": "51fcb7e5-577d-4beb-baa3-660ef98e60e0",
   "metadata": {},
   "source": [
    "### How to `raise` exceptions"
   ]
  },
  {
   "cell_type": "code",
   "execution_count": 1,
   "id": "80182cf2-a6d0-489c-8228-ad329b658790",
   "metadata": {
    "tags": []
   },
   "outputs": [],
   "source": [
    "def only_positive(x):\n",
    "    if type(x) != int:\n",
    "        raise TypeError('plaese integer!')\n",
    "    if x < 0:\n",
    "        raise ValueError(f\"invalid number {x} must be positive\")"
   ]
  },
  {
   "cell_type": "code",
   "execution_count": 6,
   "id": "ea2911b7-9995-4e5e-80d4-461a82f32395",
   "metadata": {
    "tags": []
   },
   "outputs": [
    {
     "ename": "TypeError",
     "evalue": "plaese integer!",
     "output_type": "error",
     "traceback": [
      "\u001b[1;31m---------------------------------------------------------------------------\u001b[0m",
      "\u001b[1;31mTypeError\u001b[0m                                 Traceback (most recent call last)",
      "Cell \u001b[1;32mIn[6], line 1\u001b[0m\n\u001b[1;32m----> 1\u001b[0m \u001b[43monly_positive\u001b[49m\u001b[43m(\u001b[49m\u001b[38;5;124;43m'\u001b[39;49m\u001b[38;5;124;43m5\u001b[39;49m\u001b[38;5;124;43m'\u001b[39;49m\u001b[43m)\u001b[49m\n",
      "Cell \u001b[1;32mIn[1], line 3\u001b[0m, in \u001b[0;36monly_positive\u001b[1;34m(x)\u001b[0m\n\u001b[0;32m      1\u001b[0m \u001b[38;5;28;01mdef\u001b[39;00m \u001b[38;5;21monly_positive\u001b[39m(x):\n\u001b[0;32m      2\u001b[0m     \u001b[38;5;28;01mif\u001b[39;00m \u001b[38;5;28mtype\u001b[39m(x) \u001b[38;5;241m!=\u001b[39m \u001b[38;5;28mint\u001b[39m:\n\u001b[1;32m----> 3\u001b[0m         \u001b[38;5;28;01mraise\u001b[39;00m \u001b[38;5;167;01mTypeError\u001b[39;00m(\u001b[38;5;124m'\u001b[39m\u001b[38;5;124mplaese integer!\u001b[39m\u001b[38;5;124m'\u001b[39m)\n\u001b[0;32m      4\u001b[0m     \u001b[38;5;28;01mif\u001b[39;00m x \u001b[38;5;241m<\u001b[39m \u001b[38;5;241m0\u001b[39m:\n\u001b[0;32m      5\u001b[0m         \u001b[38;5;28;01mraise\u001b[39;00m \u001b[38;5;167;01mValueError\u001b[39;00m(\u001b[38;5;124mf\u001b[39m\u001b[38;5;124m\"\u001b[39m\u001b[38;5;124minvalid number \u001b[39m\u001b[38;5;132;01m{\u001b[39;00mx\u001b[38;5;132;01m}\u001b[39;00m\u001b[38;5;124m must be positive\u001b[39m\u001b[38;5;124m\"\u001b[39m)\n",
      "\u001b[1;31mTypeError\u001b[0m: plaese integer!"
     ]
    }
   ],
   "source": [
    "only_positive('5')"
   ]
  },
  {
   "cell_type": "code",
   "execution_count": null,
   "id": "eff344dc-a076-4475-85ed-559613fbb95d",
   "metadata": {},
   "outputs": [],
   "source": [
    "only_positive(2)"
   ]
  },
  {
   "cell_type": "code",
   "execution_count": null,
   "id": "32bb5637-5003-452b-8a6e-d35b2f9f28cf",
   "metadata": {},
   "outputs": [],
   "source": [
    "only_positive(-5)"
   ]
  },
  {
   "cell_type": "code",
   "execution_count": 23,
   "id": "a6c6cbce-f9f7-4a33-9c73-b4ebe0166cad",
   "metadata": {
    "tags": []
   },
   "outputs": [
    {
     "name": "stdout",
     "output_type": "stream",
     "text": [
      "invalid number -5 must be positive\n"
     ]
    }
   ],
   "source": [
    "try:\n",
    "    result = only_positive(-5)\n",
    "except ValueError as e:\n",
    "    print(e)"
   ]
  }
 ],
 "metadata": {
  "kernelspec": {
   "display_name": "Python 3 (ipykernel)",
   "language": "python",
   "name": "python3"
  },
  "language_info": {
   "codemirror_mode": {
    "name": "ipython",
    "version": 3
   },
   "file_extension": ".py",
   "mimetype": "text/x-python",
   "name": "python",
   "nbconvert_exporter": "python",
   "pygments_lexer": "ipython3",
   "version": "3.11.5"
  }
 },
 "nbformat": 4,
 "nbformat_minor": 5
}
