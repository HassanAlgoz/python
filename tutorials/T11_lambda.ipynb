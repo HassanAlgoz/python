{
 "cells": [
  {
   "cell_type": "markdown",
   "id": "de34a1bc",
   "metadata": {},
   "source": [
    "## Lambda $\\lambda$"
   ]
  },
  {
   "cell_type": "markdown",
   "id": "f0a3c374",
   "metadata": {},
   "source": [
    "Syntax: `lambda: <parameters>: <expression>`\n",
    "\n",
    "\n",
    "- A lambda function is a small anonymous function.\n",
    "- A lambda function can take any number of arguments, but can only have one expression."
   ]
  },
  {
   "cell_type": "code",
   "execution_count": 5,
   "id": "78737a45",
   "metadata": {},
   "outputs": [
    {
     "name": "stdout",
     "output_type": "stream",
     "text": [
      "200\n",
      "200\n"
     ]
    }
   ],
   "source": [
    "def mul(x, y):\n",
    "  return x * y\n",
    "\n",
    "# same function as above, but using lambda\n",
    "mul2 = lambda x, y: x * y\n",
    "\n",
    "print(mul(10, 20))\n",
    "print(mul2(10, 20))"
   ]
  },
  {
   "cell_type": "code",
   "execution_count": 7,
   "id": "e5ee65d2",
   "metadata": {},
   "outputs": [],
   "source": [
    "def big(s):\n",
    "    return s.upper()\n",
    "\n",
    "# same function as above, but using lambda\n",
    "big2 = lambda s: s.upper()"
   ]
  },
  {
   "cell_type": "code",
   "execution_count": 8,
   "id": "b43311bc",
   "metadata": {},
   "outputs": [
    {
     "name": "stdout",
     "output_type": "stream",
     "text": [
      "HELLO HELLO\n",
      "WORLD WORLD\n"
     ]
    }
   ],
   "source": [
    "for s in [\"hello\", \"world\"]:\n",
    "    print(big(s), big2(s))"
   ]
  },
  {
   "cell_type": "markdown",
   "id": "e74cad5e",
   "metadata": {},
   "source": [
    "#### Exercise\n",
    "\n",
    "Write the following using `lambda`:"
   ]
  },
  {
   "cell_type": "code",
   "execution_count": null,
   "id": "df962513",
   "metadata": {},
   "outputs": [],
   "source": [
    "def cube(x):\n",
    "  return x ** 3\n",
    "\n",
    "# ..."
   ]
  },
  {
   "cell_type": "code",
   "execution_count": null,
   "id": "33fa4e2c",
   "metadata": {},
   "outputs": [],
   "source": [
    "def small(s):\n",
    "    return s.lower()\n",
    "\n",
    "# ..."
   ]
  },
  {
   "cell_type": "markdown",
   "id": "f634c1a2",
   "metadata": {},
   "source": [
    "### Sorting with Lambda"
   ]
  },
  {
   "cell_type": "code",
   "execution_count": 18,
   "id": "84ce4618",
   "metadata": {},
   "outputs": [
    {
     "name": "stdout",
     "output_type": "stream",
     "text": [
      "[('B', 1), ('C', 2), ('A', 3), ('D', 4)]\n"
     ]
    }
   ],
   "source": [
    "tuples = [('A', 3), ('B', 1),\n",
    "          ('C', 2), ('D', 4)]\n",
    "\n",
    "tuples.sort(key=lambda t: t[1])\n",
    "print(tuples)"
   ]
  },
  {
   "cell_type": "code",
   "execution_count": 2,
   "id": "9c14afdd",
   "metadata": {},
   "outputs": [
    {
     "name": "stdout",
     "output_type": "stream",
     "text": [
      "[('B', 1), ('C', 2), ('A', 3), ('D', 4)]\n",
      "[('B', 1), ('C', 2), ('A', 3), ('D', 4)]\n"
     ]
    }
   ],
   "source": [
    "tuples = [('A', 3), ('B', 1),\n",
    "          ('C', 2), ('D', 4)]\n",
    "\n",
    "def second_element(x):\n",
    "    return x[1]    \n",
    "\n",
    "tuples.sort(key=second_element)\n",
    "print(tuples)\n",
    "\n",
    "tuples.sort(key= lambda x: x[1])\n",
    "print(tuples)"
   ]
  },
  {
   "cell_type": "markdown",
   "id": "85601cc1",
   "metadata": {},
   "source": [
    "### `map`\n",
    "\n",
    "- `map` applies a function to all the items in an input list."
   ]
  },
  {
   "cell_type": "code",
   "execution_count": null,
   "id": "cf440d1f",
   "metadata": {},
   "outputs": [],
   "source": [
    "numbers = [1, 2, 3, 4, 5]\n",
    "\n",
    "def square(x):\n",
    "    return x ** 2\n",
    "\n",
    "# without using map\n",
    "squares = []\n",
    "for n in numbers:\n",
    "    squares.append(square(n))\n",
    "print(squares)"
   ]
  },
  {
   "cell_type": "markdown",
   "id": "0960dc17",
   "metadata": {},
   "source": [
    "Let's use map."
   ]
  },
  {
   "cell_type": "code",
   "execution_count": 31,
   "id": "a2372c8b",
   "metadata": {},
   "outputs": [
    {
     "name": "stdout",
     "output_type": "stream",
     "text": [
      "[1, 2, 3, 4, 5]\n",
      "<class 'map'>\n",
      "<class 'list'>\n",
      "[]\n"
     ]
    }
   ],
   "source": [
    "m = map(square, numbers)\n",
    "\n",
    "print(numbers)\n",
    "print(list(m))"
   ]
  },
  {
   "cell_type": "code",
   "execution_count": 4,
   "id": "e3be59c8",
   "metadata": {},
   "outputs": [
    {
     "name": "stdout",
     "output_type": "stream",
     "text": [
      "[1, 4, 9, 16, 25]\n"
     ]
    }
   ],
   "source": [
    "def square(x):\n",
    "  return x * x\n",
    "\n",
    "numbers = [1, 2, 3, 4, 5]\n",
    "\n",
    "squares = list(map(square, numbers))\n",
    "print(squares)"
   ]
  },
  {
   "cell_type": "markdown",
   "id": "53683d18",
   "metadata": {},
   "source": [
    "#### Exercise\n",
    "\n",
    "1. Use `map` to convert the list of strings to a list of integers (length of each string).\n",
    "2. Use `map` to convert the list of strings to uppercase"
   ]
  },
  {
   "cell_type": "code",
   "execution_count": 7,
   "id": "ae84a033",
   "metadata": {},
   "outputs": [],
   "source": [
    "strings = [\"hello\", \"world\", \"python\"]"
   ]
  },
  {
   "cell_type": "markdown",
   "id": "6ad35fdd",
   "metadata": {},
   "source": [
    "### `map` with `lambda`"
   ]
  },
  {
   "cell_type": "code",
   "execution_count": 6,
   "metadata": {},
   "outputs": [
    {
     "name": "stdout",
     "output_type": "stream",
     "text": [
      "[1, 4, 9, 16, 25]\n"
     ]
    }
   ],
   "source": [
    "numbers = [1, 2, 3, 4, 5]\n",
    "\n",
    "squares = list(map(lambda x: x*x, numbers))\n",
    "\n",
    "print(squares)"
   ]
  },
  {
   "cell_type": "markdown",
   "id": "419dda86",
   "metadata": {},
   "source": [
    "#### Exercise\n",
    "\n",
    "1. Use `map` with `lambda` to convert the list of strings to a list of integers (length of each string).\n",
    "2. Use `map` with `lambda` to convert the list of strings to uppercase"
   ]
  },
  {
   "cell_type": "code",
   "execution_count": 8,
   "metadata": {},
   "outputs": [],
   "source": [
    "strings = [\"hello\", \"world\", \"python\"]"
   ]
  }
 ],
 "metadata": {
  "kernelspec": {
   "display_name": "Python 3 (ipykernel)",
   "language": "python",
   "name": "python3"
  },
  "language_info": {
   "codemirror_mode": {
    "name": "ipython",
    "version": 3
   },
   "file_extension": ".py",
   "mimetype": "text/x-python",
   "name": "python",
   "nbconvert_exporter": "python",
   "pygments_lexer": "ipython3",
   "version": "3.11.6"
  }
 },
 "nbformat": 4,
 "nbformat_minor": 5
}
