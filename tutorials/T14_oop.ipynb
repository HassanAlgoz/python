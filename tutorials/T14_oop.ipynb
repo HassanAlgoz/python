{
 "cells": [
  {
   "cell_type": "markdown",
   "id": "40ae90bb-f397-4fa6-a8c8-6fd013878aff",
   "metadata": {
    "tags": []
   },
   "source": [
    "# Object Oriented Programming in Python"
   ]
  },
  {
   "cell_type": "markdown",
   "id": "7b51caec",
   "metadata": {},
   "source": [
    "### Immutability\n",
    "\n",
    "- A Variable is a named place in the memory where a programmer can store data and later retrieve the data using the variable name\n",
    "- In Python, everything is an Object; that is, it has address, properties, and methods.\n",
    "- A variable stores the pointer to the object holding the value; and not literally the value.\n",
    "- When reassigning, we change the pointer and create another object."
   ]
  },
  {
   "cell_type": "code",
   "execution_count": 2,
   "id": "82551d50",
   "metadata": {},
   "outputs": [
    {
     "data": {
      "text/plain": [
       "'0x22764c40170'"
      ]
     },
     "execution_count": 2,
     "metadata": {},
     "output_type": "execute_result"
    }
   ],
   "source": [
    "x = 5\n",
    "hex(id(x))"
   ]
  },
  {
   "cell_type": "code",
   "execution_count": 3,
   "id": "4e05714e",
   "metadata": {},
   "outputs": [
    {
     "name": "stdout",
     "output_type": "stream",
     "text": [
      "0x22764c40170\n",
      "0x22764c40170\n",
      "0x22764c40210\n",
      "0x22764c40170\n"
     ]
    }
   ],
   "source": [
    "x = 5\n",
    "print(hex(id(x))) # print address instead of value\n",
    "\n",
    "y = x\n",
    "print(hex(id(y))) # same address as x\n",
    "\n",
    "x = 10\n",
    "print(hex(id(x))) # now x has different address\n",
    "print(hex(id(y))) # y still has the same address (pointing to that 5)"
   ]
  },
  {
   "cell_type": "markdown",
   "id": "e6b67d47",
   "metadata": {},
   "source": [
    "This may not look significant when looking at integers, but it is very important when dealing with large data structures like strings, lists, dictionaries, and sets."
   ]
  },
  {
   "cell_type": "markdown",
   "id": "4aefc089",
   "metadata": {},
   "source": [
    "## Classes and Objects\n",
    "\n",
    "- Python is an object oriented programming (OOP) language. Meaning that almost everything in Python is an object\n",
    "- Objects have: **properties** and **methods**\n",
    "- A **Class** is a \"blueprint\" for creating objects"
   ]
  },
  {
   "cell_type": "markdown",
   "id": "a261c47f-1ee7-42c7-81ac-e517e9451cda",
   "metadata": {},
   "source": [
    "### Object initialization\n",
    "\n",
    "- All classes have a function called `__init__()`, which is always executed when the class is being initiated.\n",
    "- The `__init__()` method is also known as: **Constructor**"
   ]
  },
  {
   "cell_type": "code",
   "execution_count": 2,
   "id": "91f1c94f-a20d-4ae1-8e8d-19da59b5f353",
   "metadata": {
    "tags": []
   },
   "outputs": [],
   "source": [
    "class Person:\n",
    "    # Constructor\n",
    "    def __init__(self, name, age):\n",
    "        self.name = name\n",
    "        self.age = age"
   ]
  },
  {
   "cell_type": "code",
   "execution_count": 3,
   "id": "0ead2b87",
   "metadata": {},
   "outputs": [],
   "source": [
    "p1 = Person(\"John\", 36)\n",
    "p2 = Person(\"Adam\", 25)"
   ]
  },
  {
   "cell_type": "code",
   "execution_count": 6,
   "id": "ed196394",
   "metadata": {},
   "outputs": [
    {
     "name": "stdout",
     "output_type": "stream",
     "text": [
      "John 36\n",
      "Adam 25\n"
     ]
    }
   ],
   "source": [
    "print(p1.name, p1.age)\n",
    "print(p2.name, p2.age)"
   ]
  },
  {
   "cell_type": "code",
   "execution_count": 7,
   "id": "730c19d4-c0a3-4857-91d2-4f7b244dfac1",
   "metadata": {
    "tags": []
   },
   "outputs": [],
   "source": [
    "# read this as: instantiate an object of class Person\n",
    "# passing arguments: 'Ahmad' and 19\n",
    "p1 = Person('Ahmad', 19)"
   ]
  },
  {
   "cell_type": "code",
   "execution_count": 8,
   "id": "52054bbd-e4ea-4129-8011-34a18d5e6e64",
   "metadata": {
    "tags": []
   },
   "outputs": [
    {
     "name": "stdout",
     "output_type": "stream",
     "text": [
      "<__main__.Person object at 0x00000280B018AAD0>\n"
     ]
    }
   ],
   "source": [
    "print(p1)"
   ]
  },
  {
   "cell_type": "code",
   "execution_count": 7,
   "id": "ecf83d23-4c7a-4740-8a94-3403710b4e09",
   "metadata": {
    "tags": []
   },
   "outputs": [
    {
     "name": "stdout",
     "output_type": "stream",
     "text": [
      "<class '__main__.Person'>\n",
      "True\n"
     ]
    }
   ],
   "source": [
    "# Two ways to check the type\n",
    "print(type(p1))\n",
    "print(isinstance(p1, Person))"
   ]
  },
  {
   "cell_type": "code",
   "execution_count": 8,
   "id": "0baa1f3b",
   "metadata": {},
   "outputs": [
    {
     "data": {
      "text/plain": [
       "int"
      ]
     },
     "execution_count": 8,
     "metadata": {},
     "output_type": "execute_result"
    }
   ],
   "source": [
    "type(14)"
   ]
  },
  {
   "cell_type": "code",
   "execution_count": 11,
   "id": "4e77e2e6-b16c-4904-bb1b-62901fb2fcc4",
   "metadata": {
    "tags": []
   },
   "outputs": [
    {
     "name": "stdout",
     "output_type": "stream",
     "text": [
      "Ahmad\n",
      "19\n"
     ]
    }
   ],
   "source": [
    "# access properties of an object\n",
    "print(p1.name)\n",
    "print(p1.age)"
   ]
  },
  {
   "cell_type": "code",
   "execution_count": 12,
   "id": "519455a9-8d30-48a7-8741-004b73870bb5",
   "metadata": {
    "tags": []
   },
   "outputs": [
    {
     "name": "stdout",
     "output_type": "stream",
     "text": [
      "42\n"
     ]
    }
   ],
   "source": [
    "# modify property\n",
    "p1.age = 42\n",
    "print(p1.age)"
   ]
  },
  {
   "cell_type": "code",
   "execution_count": 9,
   "id": "c065d290",
   "metadata": {},
   "outputs": [
    {
     "name": "stdout",
     "output_type": "stream",
     "text": [
      "<__main__.Person object at 0x000001BFA2C06390>\n"
     ]
    }
   ],
   "source": [
    "print(p1)"
   ]
  },
  {
   "cell_type": "markdown",
   "id": "5ed4f761-99a4-4b6a-b2c9-5be87827c471",
   "metadata": {},
   "source": [
    "### Object string and representation"
   ]
  },
  {
   "cell_type": "code",
   "execution_count": 4,
   "id": "184678a1-a17c-4212-8146-9dbec2d24e54",
   "metadata": {
    "tags": []
   },
   "outputs": [],
   "source": [
    "class Person:\n",
    "    # Constructor Function\n",
    "    def __init__(self, name, age):\n",
    "        self.name = name\n",
    "        self.age = age\n",
    "\n",
    "    def __str__(self):\n",
    "        return f\"{self.name} is {self.age} years old\"\n",
    "\n",
    "    def __repr__(self):\n",
    "        return f\"({self.name}, {self.age})\"\n",
    "    \n"
   ]
  },
  {
   "cell_type": "code",
   "execution_count": 5,
   "id": "c713e033-b1de-4f35-a7a3-dd093fe52375",
   "metadata": {
    "tags": []
   },
   "outputs": [],
   "source": [
    "p2 = Person(\"John\", 36)"
   ]
  },
  {
   "cell_type": "markdown",
   "id": "eeb326ee",
   "metadata": {},
   "source": [
    "The following invokes `__str__()` which provides the informal string representation of an object, aimed at the user."
   ]
  },
  {
   "cell_type": "code",
   "execution_count": 16,
   "id": "0e957a91-b568-4fc4-8f93-a61576d2c78d",
   "metadata": {
    "tags": []
   },
   "outputs": [
    {
     "name": "stdout",
     "output_type": "stream",
     "text": [
      "John is 36 years old\n"
     ]
    }
   ],
   "source": [
    "print(p2)"
   ]
  },
  {
   "cell_type": "markdown",
   "id": "a15aa4a7",
   "metadata": {},
   "source": [
    "The following invokes `__repr__()` which provides the official string representation of an object, aimed at the programmer."
   ]
  },
  {
   "cell_type": "code",
   "execution_count": 17,
   "id": "61dd8426-a025-46e1-98d6-b4e82cb6c796",
   "metadata": {
    "tags": []
   },
   "outputs": [
    {
     "data": {
      "text/plain": [
       "(John, 36)"
      ]
     },
     "execution_count": 17,
     "metadata": {},
     "output_type": "execute_result"
    }
   ],
   "source": [
    "p2"
   ]
  },
  {
   "cell_type": "markdown",
   "id": "d391b69a-7e8d-42ca-9e0c-dfb1e357f225",
   "metadata": {},
   "source": [
    "### Methods"
   ]
  },
  {
   "cell_type": "code",
   "execution_count": 8,
   "id": "9c93b1f1-b97a-4513-9b7f-98323986cb2d",
   "metadata": {
    "tags": []
   },
   "outputs": [],
   "source": [
    "class Person:\n",
    "    def __init__(self, name, rank):\n",
    "        self.name = name\n",
    "        self.rank = rank\n",
    "\n",
    "    def promote(self, steps):\n",
    "        self.rank += steps"
   ]
  },
  {
   "cell_type": "code",
   "execution_count": 9,
   "id": "0e29399b-b381-4af0-8086-ec4e1e21f8ae",
   "metadata": {
    "tags": []
   },
   "outputs": [],
   "source": [
    "p1 = Person(\"Ahmad\", 10)\n",
    "p2 = Person(\"Belal\", 10)"
   ]
  },
  {
   "cell_type": "code",
   "execution_count": 10,
   "id": "97f40401",
   "metadata": {},
   "outputs": [
    {
     "data": {
      "text/plain": [
       "10"
      ]
     },
     "execution_count": 10,
     "metadata": {},
     "output_type": "execute_result"
    }
   ],
   "source": [
    "p1.rank"
   ]
  },
  {
   "cell_type": "code",
   "execution_count": 11,
   "id": "5facc785-b81e-4a5f-85b1-15b5b699b8c7",
   "metadata": {
    "tags": []
   },
   "outputs": [],
   "source": [
    "p1.promote(5)"
   ]
  },
  {
   "cell_type": "code",
   "execution_count": 12,
   "id": "88f84fb6-b6e3-4408-be75-ca23193f15f5",
   "metadata": {
    "tags": []
   },
   "outputs": [
    {
     "name": "stdout",
     "output_type": "stream",
     "text": [
      "15\n"
     ]
    }
   ],
   "source": [
    "print(p1.rank)"
   ]
  },
  {
   "cell_type": "code",
   "execution_count": 13,
   "id": "4b0aad6c-5e27-4e05-b86f-d12b94c360f5",
   "metadata": {
    "tags": []
   },
   "outputs": [
    {
     "data": {
      "text/plain": [
       "10"
      ]
     },
     "execution_count": 13,
     "metadata": {},
     "output_type": "execute_result"
    }
   ],
   "source": [
    "p2.rank"
   ]
  },
  {
   "cell_type": "markdown",
   "id": "fc2e939a",
   "metadata": {},
   "source": [
    "#### Exercise\n",
    "\n",
    "- Create a class called `Point`, use the `__init__()` function to assign values for `x` and `y`.\n",
    "- Create a method `move()` which takes two parameters `dx` and `dy` and moves the point by adding `dx` to `x` and `dy` to `y`.\n",
    "- Create a method called `distance()` which calculates the distance between two points.\n",
    "- Create a method called `__repr__()` which returns the string representation of the object as: `(x, y)`."
   ]
  },
  {
   "cell_type": "code",
   "execution_count": 14,
   "id": "ed12ed00",
   "metadata": {},
   "outputs": [],
   "source": [
    "class Point:\n",
    "\n",
    "  def __init__(self, x, y):\n",
    "    pass # implement this\n",
    "\n",
    "  def move(self, dx, dy):\n",
    "    pass # implement this\n",
    "  \n",
    "  def distance(self, other):\n",
    "    pass # implement this\n",
    "  \n",
    "  def __repr__(self):\n",
    "    pass # implement this"
   ]
  },
  {
   "cell_type": "code",
   "execution_count": 15,
   "id": "98614968",
   "metadata": {},
   "outputs": [
    {
     "name": "stdout",
     "output_type": "stream",
     "text": [
      "Point created at (1, 2)\n",
      "Point created at (5, 3)\n"
     ]
    }
   ],
   "source": [
    "p1 = Point(1, 2)\n",
    "p2 = Point(5, 3)"
   ]
  },
  {
   "cell_type": "code",
   "execution_count": 59,
   "id": "94a0d388",
   "metadata": {},
   "outputs": [
    {
     "data": {
      "text/plain": [
       "(1, 2)"
      ]
     },
     "execution_count": 59,
     "metadata": {},
     "output_type": "execute_result"
    }
   ],
   "source": [
    "p1"
   ]
  },
  {
   "cell_type": "code",
   "execution_count": 60,
   "id": "9a38a012",
   "metadata": {},
   "outputs": [],
   "source": [
    "p1.move(2, 1)"
   ]
  },
  {
   "cell_type": "code",
   "execution_count": 61,
   "id": "b71ceed5",
   "metadata": {},
   "outputs": [
    {
     "data": {
      "text/plain": [
       "(3, 3)"
      ]
     },
     "execution_count": 61,
     "metadata": {},
     "output_type": "execute_result"
    }
   ],
   "source": [
    "p1"
   ]
  },
  {
   "cell_type": "code",
   "execution_count": 62,
   "id": "6bda6c2b",
   "metadata": {},
   "outputs": [
    {
     "data": {
      "text/plain": [
       "2.0"
      ]
     },
     "execution_count": 62,
     "metadata": {},
     "output_type": "execute_result"
    }
   ],
   "source": [
    "# Point.distance(p1, p2)\n",
    "p1.distance(p2)"
   ]
  },
  {
   "cell_type": "markdown",
   "id": "3658c3d6-bf23-4d17-8d04-5340e496b9b3",
   "metadata": {},
   "source": [
    "### Encapsulation: Setters and Getters\n",
    "\n",
    "The goal of encapsulation with setters and getters is to control access to and manipulation of the variable."
   ]
  },
  {
   "cell_type": "code",
   "execution_count": 7,
   "id": "1fbd89cc",
   "metadata": {},
   "outputs": [],
   "source": [
    "class Person:\n",
    "    def __init__(self, name, rank):\n",
    "        self.name = name   # public variable\n",
    "        self.__rank = rank # the __ makes the variable private (not accessible from outside)\n",
    "    \n",
    "    def promote(self, steps):\n",
    "        if steps > 0:\n",
    "            self.__rank += steps\n",
    "        else:\n",
    "            raise ValueError(\"steps must be positive\")\n",
    "    @property\n",
    "    def rank(self):\n",
    "        return self.__rank"
   ]
  },
  {
   "cell_type": "code",
   "execution_count": 16,
   "id": "ede9717b",
   "metadata": {},
   "outputs": [
    {
     "data": {
      "text/plain": [
       "15"
      ]
     },
     "execution_count": 16,
     "metadata": {},
     "output_type": "execute_result"
    }
   ],
   "source": [
    "p = Person(\"Ahmad\", 10)\n",
    "p.promote(5)\n",
    "p.rank"
   ]
  },
  {
   "cell_type": "code",
   "execution_count": 17,
   "id": "5beb2c9b",
   "metadata": {},
   "outputs": [
    {
     "ename": "ValueError",
     "evalue": "steps must be positive",
     "output_type": "error",
     "traceback": [
      "\u001b[1;31m---------------------------------------------------------------------------\u001b[0m",
      "\u001b[1;31mValueError\u001b[0m                                Traceback (most recent call last)",
      "Cell \u001b[1;32mIn[17], line 1\u001b[0m\n\u001b[1;32m----> 1\u001b[0m \u001b[43mp\u001b[49m\u001b[38;5;241;43m.\u001b[39;49m\u001b[43mpromote\u001b[49m\u001b[43m(\u001b[49m\u001b[38;5;241;43m-\u001b[39;49m\u001b[38;5;241;43m5\u001b[39;49m\u001b[43m)\u001b[49m\n",
      "Cell \u001b[1;32mIn[15], line 10\u001b[0m, in \u001b[0;36mPerson.promote\u001b[1;34m(self, steps)\u001b[0m\n\u001b[0;32m      8\u001b[0m     \u001b[38;5;28mself\u001b[39m\u001b[38;5;241m.\u001b[39m__rank \u001b[38;5;241m+\u001b[39m\u001b[38;5;241m=\u001b[39m steps\n\u001b[0;32m      9\u001b[0m \u001b[38;5;28;01melse\u001b[39;00m:\n\u001b[1;32m---> 10\u001b[0m     \u001b[38;5;28;01mraise\u001b[39;00m \u001b[38;5;167;01mValueError\u001b[39;00m(\u001b[38;5;124m\"\u001b[39m\u001b[38;5;124msteps must be positive\u001b[39m\u001b[38;5;124m\"\u001b[39m)\n",
      "\u001b[1;31mValueError\u001b[0m: steps must be positive"
     ]
    }
   ],
   "source": [
    "p.promote(-5)"
   ]
  },
  {
   "cell_type": "code",
   "execution_count": 16,
   "id": "05c8a026-06c4-4521-8bdf-a82d69cd8b92",
   "metadata": {
    "tags": []
   },
   "outputs": [],
   "source": [
    "class Person:\n",
    "    def __init__(self, name, rank):\n",
    "        self.name = name # public variable\n",
    "        self.__rank = rank # the __ makes the variable private (not accessible from outside)\n",
    "\n",
    "    def set_rank(self, new_rank):\n",
    "        if new_rank < 10:\n",
    "            self.__rank = new_rank\n",
    "        else:\n",
    "            self.__rank = 10\n",
    "    \n",
    "    def get_rank(self):\n",
    "        return self.__rank"
   ]
  },
  {
   "cell_type": "markdown",
   "id": "ddcaab7a",
   "metadata": {},
   "source": [
    "- `name` is now a public variable\n",
    "- `__rank` is now a private variable"
   ]
  },
  {
   "cell_type": "code",
   "execution_count": 17,
   "id": "10ed0802-a6c1-40c5-b7f5-51e6a0f6f6c3",
   "metadata": {
    "tags": []
   },
   "outputs": [],
   "source": [
    "p1 = Person(\"Ahmad\", 2)\n",
    "p2 = Person(\"Belal\", 1)"
   ]
  },
  {
   "cell_type": "code",
   "execution_count": 20,
   "id": "e76d9b99",
   "metadata": {},
   "outputs": [
    {
     "name": "stdout",
     "output_type": "stream",
     "text": [
      "John\n"
     ]
    }
   ],
   "source": [
    "p1.name = \"John\"\n",
    "print(p1.name)"
   ]
  },
  {
   "cell_type": "code",
   "execution_count": 24,
   "id": "259ebd3a-2142-4867-9db5-3eccadf6abec",
   "metadata": {
    "tags": []
   },
   "outputs": [],
   "source": [
    "p1.set_rank(99999)"
   ]
  },
  {
   "cell_type": "code",
   "execution_count": 25,
   "id": "7ae869b4-629d-4499-bdcc-b0d321e87494",
   "metadata": {
    "tags": []
   },
   "outputs": [
    {
     "data": {
      "text/plain": [
       "10"
      ]
     },
     "execution_count": 25,
     "metadata": {},
     "output_type": "execute_result"
    }
   ],
   "source": [
    "p1.get_rank()"
   ]
  },
  {
   "cell_type": "code",
   "execution_count": 26,
   "id": "88cc6414",
   "metadata": {},
   "outputs": [],
   "source": [
    "p1.set_rank(9)"
   ]
  },
  {
   "cell_type": "code",
   "execution_count": 27,
   "id": "f6d59cd7",
   "metadata": {},
   "outputs": [
    {
     "data": {
      "text/plain": [
       "9"
      ]
     },
     "execution_count": 27,
     "metadata": {},
     "output_type": "execute_result"
    }
   ],
   "source": [
    "p1.get_rank()"
   ]
  },
  {
   "cell_type": "markdown",
   "id": "2d1b93e5",
   "metadata": {},
   "source": [
    "Encapsulation means that we \"protect\" the variable from direct access:\n",
    "\n",
    "- If we try to access `rank` or `__rank` directly we get an error.\n",
    "- We can only access and modify through: `get_rank()` (the **getter**) and `set_rank()` (the **setter**)."
   ]
  },
  {
   "cell_type": "code",
   "execution_count": 12,
   "id": "a0d4c7f6-7e11-41cf-89a4-54cfdb81d608",
   "metadata": {
    "tags": []
   },
   "outputs": [
    {
     "ename": "AttributeError",
     "evalue": "'Person' object has no attribute 'rank'",
     "output_type": "error",
     "traceback": [
      "\u001b[1;31m---------------------------------------------------------------------------\u001b[0m",
      "\u001b[1;31mAttributeError\u001b[0m                            Traceback (most recent call last)",
      "Cell \u001b[1;32mIn[12], line 2\u001b[0m\n\u001b[0;32m      1\u001b[0m \u001b[38;5;66;03m# this will error!\u001b[39;00m\n\u001b[1;32m----> 2\u001b[0m \u001b[38;5;28mprint\u001b[39m(\u001b[43mp1\u001b[49m\u001b[38;5;241;43m.\u001b[39;49m\u001b[43mrank\u001b[49m)\n",
      "\u001b[1;31mAttributeError\u001b[0m: 'Person' object has no attribute 'rank'"
     ]
    }
   ],
   "source": [
    "# this will error!\n",
    "print(p1.rank)"
   ]
  },
  {
   "cell_type": "code",
   "execution_count": 13,
   "id": "fb56b1f4-1e7e-4803-b6a4-618938ac24f1",
   "metadata": {
    "tags": []
   },
   "outputs": [
    {
     "ename": "AttributeError",
     "evalue": "'Person' object has no attribute '__rank'",
     "output_type": "error",
     "traceback": [
      "\u001b[1;31m---------------------------------------------------------------------------\u001b[0m",
      "\u001b[1;31mAttributeError\u001b[0m                            Traceback (most recent call last)",
      "Cell \u001b[1;32mIn[13], line 2\u001b[0m\n\u001b[0;32m      1\u001b[0m \u001b[38;5;66;03m# this will error!\u001b[39;00m\n\u001b[1;32m----> 2\u001b[0m \u001b[43mp1\u001b[49m\u001b[38;5;241;43m.\u001b[39;49m\u001b[43m__rank\u001b[49m\n",
      "\u001b[1;31mAttributeError\u001b[0m: 'Person' object has no attribute '__rank'"
     ]
    }
   ],
   "source": [
    "# this will error!\n",
    "p1.__rank"
   ]
  },
  {
   "cell_type": "code",
   "execution_count": 14,
   "id": "29fbb19b-92b4-4472-8d35-d1025c63e6ff",
   "metadata": {
    "tags": []
   },
   "outputs": [],
   "source": [
    "p1.set_rank(7)"
   ]
  },
  {
   "cell_type": "code",
   "execution_count": 15,
   "id": "5894cca5-3316-47a9-b539-df3e5f505519",
   "metadata": {
    "tags": []
   },
   "outputs": [
    {
     "data": {
      "text/plain": [
       "7"
      ]
     },
     "execution_count": 15,
     "metadata": {},
     "output_type": "execute_result"
    }
   ],
   "source": [
    "p1.get_rank()"
   ]
  },
  {
   "cell_type": "markdown",
   "id": "a88aca6f-fd86-4c37-82ec-e5d2967785de",
   "metadata": {},
   "source": [
    "### Exercise: Account Balance\n",
    "\n",
    "Write class `Account` with property `balance` and encapsulated such that both `get_balance()` and `set_balance(value)` always `print` how much money is in the account."
   ]
  },
  {
   "cell_type": "code",
   "execution_count": 37,
   "id": "5d9233ce-0b23-4277-9c27-85e2921910c1",
   "metadata": {
    "tags": []
   },
   "outputs": [],
   "source": [
    "class Account:\n",
    "    def __init__(self, balance):\n",
    "        self.__balance = balance\n",
    "    \n",
    "    def get_balance(self):\n",
    "        # your code here...\n",
    "        return self.__balance\n",
    "    \n",
    "    def set_balance(self, balance):\n",
    "        # your code here...\n",
    "        self.__balance = balance"
   ]
  },
  {
   "cell_type": "code",
   "execution_count": 38,
   "id": "8e9469c3-d5ea-49dd-9259-55f23c1dc3be",
   "metadata": {
    "tags": []
   },
   "outputs": [
    {
     "data": {
      "text/plain": [
       "100.0"
      ]
     },
     "execution_count": 38,
     "metadata": {},
     "output_type": "execute_result"
    }
   ],
   "source": [
    "a = Account(100.0)\n",
    "a.get_balance()"
   ]
  },
  {
   "cell_type": "code",
   "execution_count": 39,
   "id": "f75af2e7-745d-41b6-bd68-86a26801d3f5",
   "metadata": {
    "tags": []
   },
   "outputs": [],
   "source": [
    "a.set_balance(10000000)"
   ]
  },
  {
   "cell_type": "code",
   "execution_count": 40,
   "id": "e559678e-306e-4b37-a4e2-18d638fac4a9",
   "metadata": {
    "tags": []
   },
   "outputs": [
    {
     "data": {
      "text/plain": [
       "10000000"
      ]
     },
     "execution_count": 40,
     "metadata": {},
     "output_type": "execute_result"
    }
   ],
   "source": [
    "a.get_balance()"
   ]
  },
  {
   "cell_type": "markdown",
   "id": "73ee1d14",
   "metadata": {},
   "source": [
    "### Exercise: Define a LimitedList class\n",
    "\n",
    "Create `class LimitedList` that acts like a regular list but restricts the number of items it can hold."
   ]
  },
  {
   "cell_type": "code",
   "execution_count": null,
   "id": "6772c71f",
   "metadata": {},
   "outputs": [],
   "source": [
    "# try it"
   ]
  },
  {
   "cell_type": "markdown",
   "id": "7473be36-427a-4927-b452-9a4d3cd3216f",
   "metadata": {
    "tags": []
   },
   "source": [
    "### Destructor"
   ]
  },
  {
   "cell_type": "code",
   "execution_count": 28,
   "id": "62a2045d-dea6-452c-853f-8b56604dd782",
   "metadata": {
    "tags": []
   },
   "outputs": [],
   "source": [
    "class Person:\n",
    "    # Construnctor Method\n",
    "    def __init__(self, name):\n",
    "        self.name = name\n",
    "\n",
    "    # Destructor\n",
    "    def __del__(self):\n",
    "        print(f\"{self.name} has been deleted.\")"
   ]
  },
  {
   "cell_type": "code",
   "execution_count": 29,
   "id": "62e627be-c698-4322-afa1-8c6709b5cbe5",
   "metadata": {
    "tags": []
   },
   "outputs": [
    {
     "name": "stdout",
     "output_type": "stream",
     "text": [
      "John Doe has been deleted.\n"
     ]
    }
   ],
   "source": [
    "# instantiate then delete the object\n",
    "p1 = Person(\"John Doe\")\n",
    "del p1"
   ]
  }
 ],
 "metadata": {
  "kernelspec": {
   "display_name": "Python 3 (ipykernel)",
   "language": "python",
   "name": "python3"
  },
  "language_info": {
   "codemirror_mode": {
    "name": "ipython",
    "version": 3
   },
   "file_extension": ".py",
   "mimetype": "text/x-python",
   "name": "python",
   "nbconvert_exporter": "python",
   "pygments_lexer": "ipython3",
   "version": "3.10.11"
  }
 },
 "nbformat": 4,
 "nbformat_minor": 5
}
