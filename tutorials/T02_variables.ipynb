{
 "cells": [
  {
   "cell_type": "markdown",
   "metadata": {},
   "source": [
    "# 1. Variables, expressions, and statements"
   ]
  },
  {
   "cell_type": "markdown",
   "metadata": {},
   "source": [
    "### Values and Types\n",
    "\n",
    "- **Values** are the basic building blocks of data in Python. They can be numbers, strings, lists, dictionaries, and other types of objects.\n",
    "- **Expressions**: the evaluation of an expression produces a value.\n",
    "- **Variables** are named locations in memory where values can be stored."
   ]
  },
  {
   "cell_type": "markdown",
   "metadata": {},
   "source": [
    "Here:\n",
    "\n",
    "- `10` is a value of type `int`\n",
    "- `\"Alice\"` is a value of type `str`"
   ]
  },
  {
   "cell_type": "code",
   "execution_count": 18,
   "metadata": {},
   "outputs": [
    {
     "data": {
      "text/plain": [
       "int"
      ]
     },
     "execution_count": 18,
     "metadata": {},
     "output_type": "execute_result"
    }
   ],
   "source": [
    "type(10)"
   ]
  },
  {
   "cell_type": "code",
   "execution_count": 19,
   "metadata": {},
   "outputs": [
    {
     "data": {
      "text/plain": [
       "str"
      ]
     },
     "execution_count": 19,
     "metadata": {},
     "output_type": "execute_result"
    }
   ],
   "source": [
    "type(\"Alice\")"
   ]
  },
  {
   "cell_type": "markdown",
   "metadata": {},
   "source": [
    "#### Exercise\n",
    "\n",
    "- What is the type of `3.14`?\n",
    "- What is the type of `\"5\" + \"5\"`?"
   ]
  },
  {
   "cell_type": "code",
   "execution_count": null,
   "metadata": {},
   "outputs": [],
   "source": [
    "# try it"
   ]
  },
  {
   "cell_type": "markdown",
   "metadata": {},
   "source": [
    "Expressions evaluate to produce a value:"
   ]
  },
  {
   "cell_type": "code",
   "execution_count": 21,
   "metadata": {},
   "outputs": [
    {
     "data": {
      "text/plain": [
       "int"
      ]
     },
     "execution_count": 21,
     "metadata": {},
     "output_type": "execute_result"
    }
   ],
   "source": [
    "type(4 + 2)"
   ]
  },
  {
   "cell_type": "code",
   "execution_count": 22,
   "metadata": {},
   "outputs": [
    {
     "data": {
      "text/plain": [
       "str"
      ]
     },
     "execution_count": 22,
     "metadata": {},
     "output_type": "execute_result"
    }
   ],
   "source": [
    "type(\"alice\" + \" \" + \"bob\")"
   ]
  },
  {
   "cell_type": "code",
   "execution_count": 23,
   "metadata": {},
   "outputs": [
    {
     "data": {
      "text/plain": [
       "bool"
      ]
     },
     "execution_count": 23,
     "metadata": {},
     "output_type": "execute_result"
    }
   ],
   "source": [
    "type(9 > 5)"
   ]
  },
  {
   "cell_type": "markdown",
   "metadata": {},
   "source": [
    "#### Exercise\n",
    "\n",
    "What is the type of the following expressions?\n",
    "\n",
    "- `10 + 5`\n",
    "- `\"Alice\" + \"Bob\"`\n",
    "- `True or False`"
   ]
  },
  {
   "cell_type": "code",
   "execution_count": 25,
   "metadata": {},
   "outputs": [],
   "source": [
    "# try it"
   ]
  },
  {
   "cell_type": "markdown",
   "metadata": {},
   "source": [
    "## Variables"
   ]
  },
  {
   "cell_type": "markdown",
   "metadata": {},
   "source": [
    "Assignment takes values (and evaluated expressions) and assigns them to a variable:"
   ]
  },
  {
   "cell_type": "code",
   "execution_count": 24,
   "metadata": {},
   "outputs": [
    {
     "name": "stdout",
     "output_type": "stream",
     "text": [
      "<class 'int'>\n",
      "<class 'str'>\n",
      "<class 'bool'>\n"
     ]
    }
   ],
   "source": [
    "num = 10\n",
    "name = \"Alice\" + \" \" + \"Bob\"\n",
    "b = 9 > 5\n",
    "\n",
    "print(type(num))   # int\n",
    "print(type(name))  # str\n",
    "print(type(b))     # bool"
   ]
  },
  {
   "cell_type": "markdown",
   "metadata": {},
   "source": [
    "The following code shows a variable assignment:\n",
    "- `x` is a ***variable***\n",
    "- `5` is a ***value***\n",
    "- `=` is an ***assignment operator***"
   ]
  },
  {
   "cell_type": "code",
   "execution_count": 8,
   "metadata": {},
   "outputs": [],
   "source": [
    "x = 5"
   ]
  },
  {
   "cell_type": "markdown",
   "metadata": {},
   "source": [
    "The value `5` is stored in the memory address `x` which we can access later."
   ]
  },
  {
   "cell_type": "code",
   "execution_count": 9,
   "metadata": {},
   "outputs": [
    {
     "name": "stdout",
     "output_type": "stream",
     "text": [
      "5\n"
     ]
    }
   ],
   "source": [
    "print(x)"
   ]
  },
  {
   "cell_type": "markdown",
   "metadata": {},
   "source": [
    "Note that a number string is not the same as a number:\n",
    "- The number `20` is a value of type `int`\n",
    "- The string `\"20\"` is a value of type `str`\n",
    "\n",
    "**Side note**: single quotes (`'A'`) and double quotes (`\"A\"`) are equivalent in Python."
   ]
  },
  {
   "cell_type": "code",
   "execution_count": 10,
   "metadata": {},
   "outputs": [
    {
     "name": "stdout",
     "output_type": "stream",
     "text": [
      "10 <class 'int'>\n",
      "20 <class 'str'>\n"
     ]
    }
   ],
   "source": [
    "x = 20\n",
    "y = '20'\n",
    "\n",
    "print(x, type(x))\n",
    "print(y, type(y))"
   ]
  },
  {
   "cell_type": "markdown",
   "metadata": {},
   "source": [
    "### Definitions\n",
    "\n",
    "1. A ***variable*** is a name that refers to a value.\n",
    "1. An ***assignment statement*** creates new variables and gives them values\n",
    "1. The ***assignment operator*** is `=`, not to be confused with the ***equality operator*** `==`\n",
    "1. The ***type*** of a variable is the type of the value it refers to.\n",
    "1. The `print` function displays the value of a variable."
   ]
  },
  {
   "cell_type": "markdown",
   "metadata": {},
   "source": [
    "#### Exercise\n",
    "\n",
    "1. Create a variable called `first_name` and assign it the value `\"Alice\"`.\n",
    "1. Create a variable called `last_name` and assign it the value `\"Smith\"`.\n",
    "1. Create a variable called `full_name` and assign it the value of `first_name` and `last_name` concatenated together with a space between them.\n",
    "1. Print the value of `full_name`."
   ]
  },
  {
   "cell_type": "code",
   "execution_count": null,
   "metadata": {},
   "outputs": [],
   "source": [
    "# Try it"
   ]
  },
  {
   "cell_type": "markdown",
   "metadata": {},
   "source": [
    "### Rules for Naming Variables\n",
    "\n",
    "1. Variables are case-sensitive. Example:\n",
    "\n",
    "```python\n",
    "my_variable = 5\n",
    "My_Variable = 10\n",
    "```\n",
    "\n",
    "2. Variables cannot start with a number. Example:\n",
    "\n",
    "```python\n",
    "2my_variable = 5\n",
    "```\n",
    "\n",
    "3. You cannot use reserved keywords. Example: \n",
    "\n",
    "```python\n",
    "class = 5\n",
    "True = 1\n",
    "break = True\n",
    "```\n",
    "\n",
    "4. You should not use built-in function names. Example: \n",
    "\n",
    "```python\n",
    "sum = 5\n",
    "max = 10\n",
    "list = [10, 20, 30]\n",
    "```"
   ]
  },
  {
   "cell_type": "markdown",
   "metadata": {},
   "source": [
    "### Reserved Keywords\n",
    "\n",
    "| Category | Keyword | Description |\n",
    "|---|---|---|\n",
    "| Logical operators | `and`, `or`, `not`, `is` | Operators used to combine Boolean expressions. |\n",
    "| Conditional statements | `if`, `elif`, `else` | Keywords used to create conditional statements. |\n",
    "| Loops | `while`, `for`, `break`, `continue` | Keywords used to create loops. |\n",
    "| Exception handling | `try`, `except`, `finally` | Keywords used to handle exceptions. |\n",
    "| Functions and classes | `def`, `class`, `return`, `yield`, `lambda` | Keywords used to define functions and classes. |\n",
    "| Data types | `None`, `True`, `False` | Keywords used to represent special data types. |\n",
    "| Other | `import`, `from`, `as`, `assert`, `global`, `nonlocal`, `with`, `pass`  | Other keywords used for various purposes. |\n"
   ]
  },
  {
   "cell_type": "markdown",
   "metadata": {},
   "source": [
    "The following snippet has meaningless variable names. We provide a better alternative below to give context."
   ]
  },
  {
   "cell_type": "code",
   "execution_count": null,
   "metadata": {},
   "outputs": [],
   "source": [
    "x2 = 35.0\n",
    "y = 12.50\n",
    "mne = x2* y\n",
    "print(mne)"
   ]
  },
  {
   "cell_type": "markdown",
   "metadata": {},
   "source": [
    "\n",
    "\n",
    "We should use meaningful names, such as:"
   ]
  },
  {
   "cell_type": "code",
   "execution_count": null,
   "metadata": {},
   "outputs": [
    {
     "name": "stdout",
     "output_type": "stream",
     "text": [
      "437.5\n"
     ]
    }
   ],
   "source": [
    "hours = 35.0\n",
    "rate = 12.50\n",
    "pay = hours * rate\n",
    "print(pay)"
   ]
  },
  {
   "cell_type": "markdown",
   "metadata": {},
   "source": [
    "The intent of the code now is much clearer."
   ]
  },
  {
   "cell_type": "markdown",
   "metadata": {},
   "source": [
    "## Exercises"
   ]
  },
  {
   "cell_type": "markdown",
   "metadata": {},
   "source": [
    "Ex: Write a program to prompt the user for hours and rate per hour to compute gross pay."
   ]
  },
  {
   "cell_type": "code",
   "execution_count": 27,
   "metadata": {},
   "outputs": [],
   "source": [
    "# your code here"
   ]
  },
  {
   "cell_type": "markdown",
   "metadata": {},
   "source": [
    "Ex: Write a program that prompts the user to input two integers. Display the product, sum, difference and quotient of the numbers."
   ]
  },
  {
   "cell_type": "code",
   "execution_count": null,
   "metadata": {},
   "outputs": [],
   "source": [
    "# your code here"
   ]
  },
  {
   "cell_type": "markdown",
   "metadata": {},
   "source": [
    "Ex: Write a program that prompts the user to input 3 lengths of 3 sides of a triangle. Calculate and display its perimeter and area."
   ]
  },
  {
   "cell_type": "code",
   "execution_count": null,
   "metadata": {},
   "outputs": [],
   "source": [
    "# your code here"
   ]
  },
  {
   "cell_type": "markdown",
   "metadata": {},
   "source": [
    "Ex: Write a program that accepts the radius of a circle from the user and computes the area and perimeter."
   ]
  },
  {
   "cell_type": "code",
   "execution_count": 28,
   "metadata": {},
   "outputs": [],
   "source": [
    "# your code here"
   ]
  },
  {
   "cell_type": "markdown",
   "metadata": {},
   "source": [
    "Ex: Write a program which prompts the user for a Celsius temperature, convert the temperature to Fahrenheit, and print out the converted temperature."
   ]
  },
  {
   "cell_type": "code",
   "execution_count": null,
   "metadata": {},
   "outputs": [],
   "source": [
    "# your code here"
   ]
  },
  {
   "cell_type": "markdown",
   "metadata": {},
   "source": [
    "## Data Types: Overview\n",
    "\n",
    "Data types represents the kind of value that tells what operations can be performed on a particular data. For example:\n",
    "\n",
    "- numbers can be added, subtracted, multiplied\n",
    "- strings can be concatenated (joined) with another string.\n",
    "\n",
    "Here is a table of the most common data types in Python:\n",
    "\n",
    "| Type | Python Type | Assignment Example |\n",
    "|---|---|---|\n",
    "| **Text** | `str` | `message = \"Hello, world!\"` |\n",
    "| **Numeric** | `int`, `float`, `complex` | `number = 10`, `pi = 3.14`, `complex_number = 1 + 2j` |\n",
    "| **Sequence** | `list`, `tuple`, `range` | `my_list = [1, 2, 3, 4, 5]`, `my_tuple = (1, 2, 3, 4, 5)`, `my_range = range(10)` |\n",
    "| **Mapping** | `dict` | `my_dict = {\"name\": \"Alice\", \"age\": 25}` |\n",
    "| **Set** | `set`, `frozenset` | `my_set = {1, 2, 3, 4, 5}`, `my_frozenset = frozenset({1, 2, 3, 4, 5})` |\n",
    "| **Boolean** | `bool` | `is_true = True`, `is_false = False` |\n",
    "| **Binary** | `bytes`, `bytearray`, `memoryview` | `my_bytes = b\"Hello, world!\"`, `my_bytearray = bytearray(b\"Hello, world!\")`, `my_memoryview = memoryview(b\"Hello, world!\")` |\n",
    "| **None** | `NoneType` | `none = None` |\n",
    "\n",
    "Docs: https://docs.python.org/3/library/datatypes.html\n"
   ]
  },
  {
   "cell_type": "markdown",
   "metadata": {},
   "source": [
    "### String: `str`"
   ]
  },
  {
   "cell_type": "code",
   "execution_count": null,
   "metadata": {},
   "outputs": [
    {
     "name": "stdout",
     "output_type": "stream",
     "text": [
      "<class 'str'>\n"
     ]
    }
   ],
   "source": [
    "# Text\n",
    "message = \"Hello, world!\"\n",
    "print(type(message))"
   ]
  },
  {
   "cell_type": "markdown",
   "metadata": {},
   "source": [
    "### Numeric: `int`, `float`"
   ]
  },
  {
   "cell_type": "code",
   "execution_count": null,
   "metadata": {},
   "outputs": [
    {
     "name": "stdout",
     "output_type": "stream",
     "text": [
      "<class 'int'>\n"
     ]
    }
   ],
   "source": [
    "number = 10\n",
    "print(type(number))"
   ]
  },
  {
   "cell_type": "code",
   "execution_count": null,
   "metadata": {},
   "outputs": [
    {
     "name": "stdout",
     "output_type": "stream",
     "text": [
      "<class 'float'>\n"
     ]
    }
   ],
   "source": [
    "pi = 3.14\n",
    "print(type(pi))"
   ]
  },
  {
   "cell_type": "markdown",
   "metadata": {},
   "source": [
    "### Sequence: `list`, `tuple`, `range`"
   ]
  },
  {
   "cell_type": "code",
   "execution_count": null,
   "metadata": {},
   "outputs": [
    {
     "name": "stdout",
     "output_type": "stream",
     "text": [
      "<class 'list'>\n"
     ]
    }
   ],
   "source": [
    "my_list = [1, 2, 3, 4, 5]\n",
    "print(type(my_list))"
   ]
  },
  {
   "cell_type": "code",
   "execution_count": null,
   "metadata": {},
   "outputs": [
    {
     "name": "stdout",
     "output_type": "stream",
     "text": [
      "<class 'tuple'>\n"
     ]
    }
   ],
   "source": [
    "my_tuple = (1, 2, 3, 4, 5)\n",
    "print(type(my_tuple))"
   ]
  },
  {
   "cell_type": "code",
   "execution_count": null,
   "metadata": {},
   "outputs": [
    {
     "name": "stdout",
     "output_type": "stream",
     "text": [
      "<class 'range'>\n"
     ]
    }
   ],
   "source": [
    "my_range = range(10)\n",
    "print(type(my_range))"
   ]
  },
  {
   "cell_type": "markdown",
   "metadata": {},
   "source": [
    "### Map: `dict`"
   ]
  },
  {
   "cell_type": "code",
   "execution_count": null,
   "metadata": {},
   "outputs": [
    {
     "name": "stdout",
     "output_type": "stream",
     "text": [
      "<class 'dict'>\n"
     ]
    }
   ],
   "source": [
    "# Mapping\n",
    "my_dict = {\n",
    "    \"name\": \"Alice\",\n",
    "    \"age\": 25,\n",
    "}\n",
    "print(type(my_dict))\n"
   ]
  },
  {
   "cell_type": "markdown",
   "metadata": {},
   "source": [
    "### Set: `set`"
   ]
  },
  {
   "cell_type": "code",
   "execution_count": null,
   "metadata": {},
   "outputs": [
    {
     "name": "stdout",
     "output_type": "stream",
     "text": [
      "<class 'set'>\n"
     ]
    }
   ],
   "source": [
    "# Set\n",
    "my_set = {1, 2, 3, 4, 5}\n",
    "print(type(my_set))"
   ]
  }
 ],
 "metadata": {
  "kernelspec": {
   "display_name": "Python 3",
   "language": "python",
   "name": "python3"
  },
  "language_info": {
   "codemirror_mode": {
    "name": "ipython",
    "version": 3
   },
   "file_extension": ".py",
   "mimetype": "text/x-python",
   "name": "python",
   "nbconvert_exporter": "python",
   "pygments_lexer": "ipython3",
   "version": "3.11.5"
  }
 },
 "nbformat": 4,
 "nbformat_minor": 2
}
