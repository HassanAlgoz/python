{
 "cells": [
  {
   "cell_type": "markdown",
   "metadata": {},
   "source": [
    "# Functions\n",
    "\n",
    "Functions are reusable pieces of code that can be called from anywhere in your program."
   ]
  },
  {
   "cell_type": "markdown",
   "metadata": {},
   "source": [
    "Recall that we have been using built-in functions like:\n",
    "\n",
    "- `print()`\n",
    "- `input()`\n",
    "- `int()`\n",
    "\n",
    "We also have seen some functions from the `math` module:\n",
    "\n",
    "- `math.sqrt()`\n",
    "- `math.pow()`"
   ]
  },
  {
   "cell_type": "markdown",
   "metadata": {},
   "source": [
    "### Naming Conventions\n",
    "\n",
    "Becareful not to pick names for your functions that are already used by Python. For example, don't name your function `sum`, `min`, `max`, `print` or `input` or `int` or `math`. If you do, you will not be able to use the built-in functions with those names."
   ]
  },
  {
   "cell_type": "markdown",
   "metadata": {},
   "source": [
    "Now, let us define our own functions."
   ]
  },
  {
   "cell_type": "markdown",
   "metadata": {},
   "source": [
    "The following is a function that takes 2 arguments and returns the sum of them."
   ]
  },
  {
   "cell_type": "code",
   "execution_count": 2,
   "metadata": {},
   "outputs": [],
   "source": [
    "\n",
    "def add(num1, num2):\n",
    "    result = num1 + num2\n",
    "    return result"
   ]
  },
  {
   "cell_type": "markdown",
   "metadata": {},
   "source": [
    "To call a defined function, we simply write the function name followed by parentheses and pass in the arguments (if any)."
   ]
  },
  {
   "cell_type": "code",
   "execution_count": 7,
   "metadata": {},
   "outputs": [
    {
     "data": {
      "text/plain": [
       "30"
      ]
     },
     "execution_count": 7,
     "metadata": {},
     "output_type": "execute_result"
    }
   ],
   "source": [
    "add(10, 20)"
   ]
  },
  {
   "cell_type": "code",
   "execution_count": 8,
   "metadata": {},
   "outputs": [
    {
     "data": {
      "text/plain": [
       "100"
      ]
     },
     "execution_count": 8,
     "metadata": {},
     "output_type": "execute_result"
    }
   ],
   "source": [
    "add(40, 60)"
   ]
  },
  {
   "cell_type": "markdown",
   "metadata": {},
   "source": [
    "The following is a function that takes no arguments and returns nothing. It only prints a message."
   ]
  },
  {
   "cell_type": "code",
   "execution_count": 15,
   "metadata": {},
   "outputs": [],
   "source": [
    "def show():\n",
    "    print(\"this is not a return, rather, it is a print statement.\")"
   ]
  },
  {
   "cell_type": "code",
   "execution_count": 14,
   "metadata": {},
   "outputs": [
    {
     "name": "stdout",
     "output_type": "stream",
     "text": [
      "this is not a return, rather, it is a print statement\n"
     ]
    }
   ],
   "source": [
    "show()"
   ]
  },
  {
   "cell_type": "markdown",
   "metadata": {},
   "source": [
    "The following is a function that takes 3 arguments and returns the mulitplication of them."
   ]
  },
  {
   "cell_type": "code",
   "execution_count": 4,
   "metadata": {},
   "outputs": [],
   "source": [
    "\n",
    "def multiply(num1, num2, num3):\n",
    "    result = num1 * num2 * num3\n",
    "    return result"
   ]
  },
  {
   "cell_type": "code",
   "execution_count": null,
   "metadata": {},
   "outputs": [
    {
     "data": {
      "text/plain": [
       "8"
      ]
     },
     "execution_count": 20,
     "metadata": {},
     "output_type": "execute_result"
    }
   ],
   "source": [
    "multiply(2, 2, 2)"
   ]
  },
  {
   "cell_type": "markdown",
   "metadata": {},
   "source": [
    "We can use function return values to assign them to variables:"
   ]
  },
  {
   "cell_type": "code",
   "execution_count": 5,
   "metadata": {},
   "outputs": [
    {
     "name": "stdout",
     "output_type": "stream",
     "text": [
      "Welcome to My App\n",
      "Multiplication Result is: 6\n"
     ]
    }
   ],
   "source": [
    "s1 = add(10, 20)\n",
    "s2 = add(11, 22)\n",
    "\n",
    "response = multiply(1, 2, 3)\n",
    "print(\"Multiplication Result is:\", response)"
   ]
  },
  {
   "cell_type": "markdown",
   "metadata": {},
   "source": [
    "#### Exercise\n",
    "\n",
    "Write a function that takes 2 arguments and returns the difference of them."
   ]
  },
  {
   "cell_type": "code",
   "execution_count": 21,
   "metadata": {},
   "outputs": [],
   "source": [
    "# try it"
   ]
  },
  {
   "cell_type": "markdown",
   "metadata": {},
   "source": [
    "Define a function that takes two arguments, name and age, and print their value."
   ]
  },
  {
   "cell_type": "code",
   "execution_count": null,
   "metadata": {},
   "outputs": [],
   "source": [
    "# try it"
   ]
  },
  {
   "cell_type": "markdown",
   "metadata": {},
   "source": [
    "Define a function `check_password_stength(password)` which returns 'Strong' if the password is more than 8 characters long. Otherwise, it returns 'Weak'.\n",
    "\n",
    "Hint: use `len(password)` to get the length of a string."
   ]
  },
  {
   "cell_type": "code",
   "execution_count": 22,
   "metadata": {},
   "outputs": [],
   "source": [
    "# try it"
   ]
  },
  {
   "cell_type": "markdown",
   "metadata": {},
   "source": [
    "## Default Arguments\n",
    "\n",
    "We can define default values for function arguments. If the caller does not pass in a value for that argument, the default value will be used."
   ]
  },
  {
   "cell_type": "code",
   "execution_count": 1,
   "metadata": {},
   "outputs": [
    {
     "name": "stdout",
     "output_type": "stream",
     "text": [
      "Hello John\n",
      "Hi Mary\n"
     ]
    }
   ],
   "source": [
    "# Default arguments\n",
    "def greet(name, greeting=\"Hello\"):\n",
    "  print(greeting, name)\n",
    "\n",
    "greet(\"John\") \n",
    "greet(\"Mary\", \"Hi\")"
   ]
  },
  {
   "cell_type": "markdown",
   "metadata": {},
   "source": [
    "#### Exercise\n",
    "\n",
    "Write a function that takes name and salary. If the employee's salary is not provided. It defaults to `9000`."
   ]
  },
  {
   "cell_type": "code",
   "execution_count": 4,
   "metadata": {},
   "outputs": [],
   "source": [
    "# try it"
   ]
  },
  {
   "cell_type": "markdown",
   "metadata": {},
   "source": [
    "## Returning multiple values"
   ]
  },
  {
   "cell_type": "code",
   "execution_count": 2,
   "metadata": {},
   "outputs": [
    {
     "name": "stdout",
     "output_type": "stream",
     "text": [
      "15 5\n"
     ]
    }
   ],
   "source": [
    "\n",
    "def calculate(num1, num2):\n",
    "  sum = num1 + num2\n",
    "  diff = num1 - num2\n",
    "  return sum, diff\n",
    "\n",
    "result_sum, result_diff = calculate(10, 5)\n",
    "print(result_sum, result_diff)"
   ]
  },
  {
   "cell_type": "markdown",
   "metadata": {},
   "source": [
    "#### Exercise\n",
    "\n",
    "Write a function that takes 2 arguments, `a` and `b`, and returns the square and cube of of them."
   ]
  },
  {
   "cell_type": "code",
   "execution_count": null,
   "metadata": {},
   "outputs": [],
   "source": [
    "# try it"
   ]
  },
  {
   "cell_type": "markdown",
   "metadata": {},
   "source": [
    "## Functions calling other functions"
   ]
  },
  {
   "cell_type": "code",
   "execution_count": 5,
   "metadata": {},
   "outputs": [
    {
     "name": "stdout",
     "output_type": "stream",
     "text": [
      "a: 14.385164807134505\n",
      "b: 13.47213595499958\n"
     ]
    }
   ],
   "source": [
    "import math\n",
    "\n",
    "p = 9\n",
    "\n",
    "def square_root(x):\n",
    "    return math.sqrt(x)\n",
    "\n",
    "def my_square(x, y):\n",
    "    z = square_root((x ** 2) + (y ** 2)) + p\n",
    "    return z\n",
    "\n",
    "a = my_square(2, 5)\n",
    "b = my_square(4, 2)\n",
    "\n",
    "print('a:', a)\n",
    "print('b:', b)"
   ]
  },
  {
   "cell_type": "markdown",
   "metadata": {},
   "source": [
    "## Variable Scope"
   ]
  },
  {
   "cell_type": "markdown",
   "metadata": {},
   "source": [
    "### Local scope\n",
    "\n",
    "A variable defined inside a function. It can only be accessed inside of the function in which it is defined."
   ]
  },
  {
   "cell_type": "code",
   "execution_count": null,
   "metadata": {},
   "outputs": [
    {
     "name": "stdout",
     "output_type": "stream",
     "text": [
      "Hello, Alice!\n"
     ]
    },
    {
     "ename": "NameError",
     "evalue": "name 'message' is not defined",
     "output_type": "error",
     "traceback": [
      "\u001b[1;31m---------------------------------------------------------------------------\u001b[0m\n",
      "\u001b[1;31mNameError\u001b[0m                                 Traceback (most recent call last)\n",
      "Cell \u001b[1;32mIn[53], line 9\u001b[0m\n",
      "\u001b[0;32m      6\u001b[0m greet(\u001b[38;5;124m\"\u001b[39m\u001b[38;5;124mAlice\u001b[39m\u001b[38;5;124m\"\u001b[39m)\n",
      "\u001b[0;32m      8\u001b[0m \u001b[38;5;66;03m# uncomment the following line and run it to see the error:\u001b[39;00m\n",
      "\u001b[1;32m----> 9\u001b[0m \u001b[38;5;28mprint\u001b[39m(message)\n",
      "\n",
      "\u001b[1;31mNameError\u001b[0m: name 'message' is not defined"
     ]
    }
   ],
   "source": [
    "def greet(name):\n",
    "    # Local variable\n",
    "    message = \"Hello, {}!\".format(name)\n",
    "    print(message)\n",
    "\n",
    "greet(\"Alice\")\n",
    "\n",
    "# uncomment the following line and run it to see the error:\n",
    "print(message) # NameError: name 'message' is not defined"
   ]
  },
  {
   "cell_type": "markdown",
   "metadata": {},
   "source": [
    "### Global scope\n",
    "\n",
    "A variable defined outside of any function (usually right after imports). It can be accessed from anywhere in the program."
   ]
  },
  {
   "cell_type": "code",
   "execution_count": null,
   "metadata": {},
   "outputs": [
    {
     "name": "stdout",
     "output_type": "stream",
     "text": [
      "Hello, world!\n"
     ]
    }
   ],
   "source": [
    "# Global variable (defined at the outer-level of indentation, usually right after imports)\n",
    "message2 = \"Hello, world!\"\n",
    "\n",
    "def greet():\n",
    "    print(message2)\n",
    "\n",
    "greet()"
   ]
  },
  {
   "cell_type": "markdown",
   "metadata": {},
   "source": [
    "### Built-in scope\n",
    "\n",
    "A variable or function that is predefined in Python. It can be accessed from anywhere in the program.\n",
    "\n",
    "See docs for a full list of built-in functions: https://docs.python.org/3/library/functions.html\n",
    "\n",
    "Functions like:\n",
    "\n",
    "- `print`\n",
    "- `len`"
   ]
  },
  {
   "cell_type": "code",
   "execution_count": null,
   "metadata": {},
   "outputs": [
    {
     "name": "stdout",
     "output_type": "stream",
     "text": [
      "13\n"
     ]
    }
   ],
   "source": [
    "x = len(\"Hello, world!\")\n",
    "print(x)"
   ]
  },
  {
   "cell_type": "markdown",
   "metadata": {},
   "source": [
    "#### Exercises"
   ]
  },
  {
   "cell_type": "markdown",
   "metadata": {},
   "source": [
    "Ex: Will the following code work? Why or why not?\n",
    "\n",
    "```py\n",
    "# Snippet 1\n",
    "x = 5\n",
    "\n",
    "def func1():\n",
    "  print(x)\n",
    "  \n",
    "func1()\n",
    "```"
   ]
  },
  {
   "cell_type": "code",
   "execution_count": null,
   "metadata": {},
   "outputs": [],
   "source": []
  },
  {
   "cell_type": "markdown",
   "metadata": {},
   "source": [
    "Ex: What will each print statement print in Snippet 2? Explain how the variable x is scoped.\n",
    "\n",
    "```py\n",
    "# Snippet 2\n",
    "x = 5\n",
    "\n",
    "def func2():\n",
    "  x = 10\n",
    "  print(x)\n",
    "  \n",
    "func2()\n",
    "print(x)\n",
    "```"
   ]
  },
  {
   "cell_type": "markdown",
   "metadata": {},
   "source": [
    "Ex: What will each print statement print in Snippet 3? Explain how the variable y is scoped.\n",
    "\n",
    "```py\n",
    "# Snippet 3  \n",
    "y = 10\n",
    "\n",
    "def func3():\n",
    "  global y\n",
    "  y = 20\n",
    "  print(y)\n",
    "  \n",
    "func3()\n",
    "print(y)\n",
    "```"
   ]
  }
 ],
 "metadata": {
  "kernelspec": {
   "display_name": "Python 3",
   "language": "python",
   "name": "python3"
  },
  "language_info": {
   "codemirror_mode": {
    "name": "ipython",
    "version": 3
   },
   "file_extension": ".py",
   "mimetype": "text/x-python",
   "name": "python",
   "nbconvert_exporter": "python",
   "pygments_lexer": "ipython3",
   "version": "3.11.5"
  }
 },
 "nbformat": 4,
 "nbformat_minor": 2
}
