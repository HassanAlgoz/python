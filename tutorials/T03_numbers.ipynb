{
 "cells": [
  {
   "cell_type": "markdown",
   "metadata": {},
   "source": [
    "## Numbers\n",
    "\n",
    "Docs: https://docs.python.org/3/library/math.html\n",
    "\n",
    "Python supports a variety of numeric data types, including integers, floats, and complex numbers.\n",
    "\n",
    "**Common use cases for numbers:**\n",
    "\n",
    "* Numbers can be used to represent quantities such as money, distance, and time.\n",
    "* Numbers can be used in mathematical formulas and calculations.\n",
    "* Numbers can be used for indexing and counting."
   ]
  },
  {
   "cell_type": "code",
   "execution_count": 1,
   "metadata": {},
   "outputs": [],
   "source": [
    "x = 5\n",
    "y = 2.5\n",
    "z = -10"
   ]
  },
  {
   "cell_type": "code",
   "execution_count": 2,
   "metadata": {},
   "outputs": [
    {
     "name": "stdout",
     "output_type": "stream",
     "text": [
      "<class 'int'>\n",
      "<class 'float'>\n",
      "<class 'int'>\n"
     ]
    }
   ],
   "source": [
    "print(type(x))\n",
    "print(type(y))\n",
    "print(type(z))"
   ]
  },
  {
   "cell_type": "code",
   "execution_count": 32,
   "metadata": {},
   "outputs": [
    {
     "name": "stdout",
     "output_type": "stream",
     "text": [
      "7.5\n",
      "2.5\n",
      "12.5\n",
      "2.0\n",
      "2.0\n",
      "0.0\n",
      "55.90169943749474\n"
     ]
    }
   ],
   "source": [
    "# Arithmetic operations\n",
    "print(x + y) # Addition\n",
    "print(x - y) # Subtraction\n",
    "print(x * y) # Multiplication\n",
    "print(x / y) # Division\n",
    "print(x // y) # Floor division \n",
    "print(x % y) # Modulus (remainder of the division of x by y)\n",
    "print(x ** y) # Exponentiation"
   ]
  },
  {
   "cell_type": "code",
   "execution_count": 19,
   "metadata": {},
   "outputs": [
    {
     "name": "stdout",
     "output_type": "stream",
     "text": [
      "False\n",
      "True\n",
      "True\n",
      "False\n",
      "True\n",
      "False\n"
     ]
    }
   ],
   "source": [
    "# Comparison operations  \n",
    "print(x == y) # Equal to\n",
    "print(x != y) # Not equal to\n",
    "print(x > y) # Greater than\n",
    "print(x < y) # Less than\n",
    "print(x >= y) # Greater than or equal to \n",
    "print(x <= y) # Less than or equal to\n"
   ]
  },
  {
   "cell_type": "code",
   "execution_count": 20,
   "metadata": {},
   "outputs": [
    {
     "name": "stdout",
     "output_type": "stream",
     "text": [
      "10\n",
      "55.90169943749474\n",
      "5\n",
      "2.5\n",
      "2\n"
     ]
    }
   ],
   "source": [
    "# Numeric built-in functions\n",
    "print(abs(z)) # Absolute value\n",
    "print(pow(x,y)) # x to the power of y \n",
    "print(max(x,y)) # Maximum of x and y\n",
    "print(min(x,y)) # Minimum of x and y \n",
    "print(round(y)) # Round to nearest integer"
   ]
  },
  {
   "cell_type": "code",
   "execution_count": 21,
   "metadata": {},
   "outputs": [
    {
     "name": "stdout",
     "output_type": "stream",
     "text": [
      "0x5\n",
      "0o5\n",
      "0b101\n",
      "-2.5\n"
     ]
    }
   ],
   "source": [
    "# Built-in functions  \n",
    "print(hex(x)) # Hex representation \n",
    "print(oct(x)) # Octal representation\n",
    "print(bin(x)) # Binary representation\n",
    "print(sum([x,y,z])) # Sum of all numbers in list"
   ]
  },
  {
   "cell_type": "markdown",
   "metadata": {},
   "source": [
    "### Order of precedence\n",
    "\n",
    "The order of precedence is the same as in math:\n",
    "\n",
    "1. Parentheses\n",
    "2. Exponents\n",
    "3. Multiplication and division\n",
    "4. Addition and subtraction"
   ]
  },
  {
   "cell_type": "markdown",
   "metadata": {},
   "source": [
    "#### Exercise\n",
    "\n",
    "Ex: Add parentheses to change the outcome:\n",
    "\n",
    "```python\n",
    "print(3 + 2 * 5)  # Output: 13, desired: 25\n",
    "print(8 - 4 / 2)  # Output: 6, desired: 2\n",
    "```"
   ]
  },
  {
   "cell_type": "code",
   "execution_count": 22,
   "metadata": {},
   "outputs": [],
   "source": [
    "# try it"
   ]
  },
  {
   "cell_type": "markdown",
   "metadata": {},
   "source": [
    "Example: we can calcualte the area of a rectangle with the following formula:\n",
    "\n",
    "$$\n",
    "area = length \\times width\n",
    "$$"
   ]
  },
  {
   "cell_type": "code",
   "execution_count": 23,
   "metadata": {},
   "outputs": [
    {
     "name": "stdout",
     "output_type": "stream",
     "text": [
      "50\n"
     ]
    }
   ],
   "source": [
    "# Calculate the area of a rectangule\n",
    "length, width = 10, 5\n",
    "area = length * width\n",
    "\n",
    "print(area)"
   ]
  },
  {
   "cell_type": "markdown",
   "metadata": {},
   "source": [
    "#### Exercise\n",
    "\n",
    "Ex: Write a program that asks the user for two numbers and prints their sum, difference, product, quotient and remainder. Use appropriate variable names and comments."
   ]
  },
  {
   "cell_type": "code",
   "execution_count": 24,
   "metadata": {},
   "outputs": [],
   "source": [
    "# try it"
   ]
  },
  {
   "cell_type": "markdown",
   "metadata": {},
   "source": [
    "Ex: calculate the area of a cube given by the following forumla: \n",
    "\n",
    "$$\n",
    "\\text{area} = \\text{width} \\times \\text{length} \\times \\text{height}\n",
    "$$\n",
    "\n",
    "- Assign the width, length, and height to variables.\n",
    "- Calculate the area using the formula.\n",
    "- Print the result."
   ]
  },
  {
   "cell_type": "code",
   "execution_count": 25,
   "metadata": {},
   "outputs": [],
   "source": [
    "# try it"
   ]
  },
  {
   "cell_type": "markdown",
   "metadata": {},
   "source": [
    "Ex: Write a program the calculates the area of a circle given by the following formula:\n",
    "\n",
    "$$\n",
    "\\text{area} = \\pi \\times \\text{radius}^2\n",
    "$$\n",
    "\n",
    "- Assign the radius to a variable.\n",
    "- Calculate the area using the formula.\n",
    "- Print the result.\n",
    "\n",
    "Hint: you can use the `math.pi` constant to get the value of $\\pi$."
   ]
  },
  {
   "cell_type": "markdown",
   "metadata": {},
   "source": [
    "Ex: Write a program to prompt the user for hours and rate per hour to compute gross pay."
   ]
  },
  {
   "cell_type": "code",
   "execution_count": 26,
   "metadata": {},
   "outputs": [],
   "source": [
    "# your code here"
   ]
  },
  {
   "cell_type": "markdown",
   "metadata": {},
   "source": [
    "Ex: Write a program that prompts the user to input 3 lengths of 3 sides of a triangle. Calculate and display its perimeter and area."
   ]
  },
  {
   "cell_type": "code",
   "execution_count": 27,
   "metadata": {},
   "outputs": [],
   "source": [
    "# your code here"
   ]
  },
  {
   "cell_type": "markdown",
   "metadata": {},
   "source": [
    "Ex: Write a program that accepts the radius of a circle from the user and computes the area and perimeter."
   ]
  },
  {
   "cell_type": "code",
   "execution_count": 28,
   "metadata": {},
   "outputs": [],
   "source": [
    "# your code here"
   ]
  },
  {
   "cell_type": "markdown",
   "metadata": {},
   "source": [
    "Ex: Write a program which prompts the user for a Celsius temperature, convert the temperature to Fahrenheit, and print out the converted temperature."
   ]
  },
  {
   "cell_type": "code",
   "execution_count": 29,
   "metadata": {},
   "outputs": [],
   "source": [
    "# your code here"
   ]
  }
 ],
 "metadata": {
  "kernelspec": {
   "display_name": "Python 3",
   "language": "python",
   "name": "python3"
  },
  "language_info": {
   "codemirror_mode": {
    "name": "ipython",
    "version": 3
   },
   "file_extension": ".py",
   "mimetype": "text/x-python",
   "name": "python",
   "nbconvert_exporter": "python",
   "pygments_lexer": "ipython3",
   "version": "3.10.11"
  }
 },
 "nbformat": 4,
 "nbformat_minor": 2
}
