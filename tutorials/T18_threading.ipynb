{
 "cells": [
  {
   "cell_type": "markdown",
   "metadata": {},
   "source": [
    "# Threading"
   ]
  },
  {
   "cell_type": "markdown",
   "metadata": {},
   "source": [
    "- Threading is a way to run multiple tasks at the same time.\n",
    "- It is a way to improve the performance of the program."
   ]
  },
  {
   "cell_type": "code",
   "execution_count": 5,
   "metadata": {},
   "outputs": [],
   "source": [
    "import time\n",
    "\n",
    "def download_file(url, filename):\n",
    "  print(f\"Downloading {filename} from {url}...\")\n",
    "  # Simulate download time (replace with actual download logic)\n",
    "  time.sleep(2)\n",
    "  print(f\"Download complete: {filename}\")"
   ]
  },
  {
   "cell_type": "code",
   "execution_count": 8,
   "metadata": {},
   "outputs": [
    {
     "name": "stdout",
     "output_type": "stream",
     "text": [
      "Main thread name: MainThread\n",
      "Downloading file1.txt from https://example.com/file1.txt...\n",
      "Downloading file2.zip from https://example.com/file2.zip...\n",
      "Downloading file3.jpg from https://example.com/file3.jpg...\n",
      "Download complete: file3.jpg\n",
      "Download complete: file2.zip\n",
      "Download complete: file1.txt\n",
      "All downloads completed! in 2.02 seconds\n"
     ]
    }
   ],
   "source": [
    "import threading\n",
    "\n",
    "print(\"Main thread name:\", threading.current_thread().name)\n",
    "\n",
    "# Define URLs and filenames\n",
    "urls = [\"https://example.com/file1.txt\", \"https://example.com/file2.zip\", \"https://example.com/file3.jpg\"]\n",
    "filenames = [\"file1.txt\", \"file2.zip\", \"file3.jpg\"]\n",
    "\n",
    "# Start time\n",
    "t_start = time.time()\n",
    "\n",
    "# Create and start download threads\n",
    "threads = []\n",
    "for i in range(len(urls)):\n",
    "    thread = threading.Thread(target=download_file, args=(urls[i], filenames[i]))\n",
    "    thread.start()\n",
    "    threads.append(thread)\n",
    "\n",
    "# Wait for all threads to finish\n",
    "for thread in threads:\n",
    "    thread.join()\n",
    "\n",
    "# Calculate duration\n",
    "t_duration = time.time() - t_start\n",
    "\n",
    "print(f\"All downloads completed! in {t_duration:.2f} seconds\")"
   ]
  }
 ],
 "metadata": {
  "kernelspec": {
   "display_name": "base",
   "language": "python",
   "name": "python3"
  },
  "language_info": {
   "codemirror_mode": {
    "name": "ipython",
    "version": 3
   },
   "file_extension": ".py",
   "mimetype": "text/x-python",
   "name": "python",
   "nbconvert_exporter": "python",
   "pygments_lexer": "ipython3",
   "version": "3.8.18"
  }
 },
 "nbformat": 4,
 "nbformat_minor": 2
}
