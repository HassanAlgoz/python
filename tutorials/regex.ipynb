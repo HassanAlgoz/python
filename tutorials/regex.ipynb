{
  "cells": [
    {
      "cell_type": "markdown",
      "metadata": {
        "id": "FvwYrRPeAict"
      },
      "source": [
        "# Regular Expressions in Python\n",
        "\n",
        "(التعبيرات العادية)\n",
        "\n",
        "- matching patterns (find)\n",
        "- manipulation (replace)"
      ]
    },
    {
      "cell_type": "markdown",
      "metadata": {},
      "source": [
        "### Introduction\n",
        "\n",
        "> Regular expressions (called REs, or regexes, or regex patterns) are essentially a tiny, highly specialized programming language embedded inside Python and made available through the `re` module.\n",
        "\n",
        "> You can then ask questions such as “Does this string match the pattern?”, or “Is there a **match for the pattern anywhere in this string**?”. You can also use REs to **modify** a string or to **split** it apart in various ways."
      ]
    },
    {
      "cell_type": "markdown",
      "metadata": {},
      "source": [
        "See:\n",
        "- [library/`re`](https://docs.python.org/3/library/re.html) for reference docs\n",
        "- [Regular Expression HOWTO](https://docs.python.org/3/howto/regex.html#regex-howto) for introductory tutorial"
      ]
    },
    {
      "cell_type": "markdown",
      "metadata": {},
      "source": [
        "**Objectives**:\n",
        "\n",
        "- Understand the concept and purpose of regex.\n",
        "- Learn common characters and metacharacters used in regex patterns\n",
        "- Use Python's `re` for regex matching and substitution\n",
        "\n",
        "A concise explanation of regex and their use cases (text searching, data validation, text manipulation)."
      ]
    },
    {
      "cell_type": "code",
      "execution_count": 1,
      "metadata": {
        "id": "De21GiWyAicy"
      },
      "outputs": [],
      "source": [
        "import re"
      ]
    },
    {
      "cell_type": "markdown",
      "metadata": {},
      "source": [
        "### Raw String Literals\n",
        "\n",
        "Raw string and bytes literals (prefixed with `'r'` or `'R'`) treat backslashes literally."
      ]
    },
    {
      "cell_type": "code",
      "execution_count": 2,
      "metadata": {},
      "outputs": [
        {
          "name": "stdout",
          "output_type": "stream",
          "text": [
            "I don't know\n",
            "I don\\'t know\n"
          ]
        }
      ],
      "source": [
        "print('I don\\'t know') # escape single quote\n",
        "print(r'I don\\'t know') # raw string"
      ]
    },
    {
      "cell_type": "code",
      "execution_count": 48,
      "metadata": {},
      "outputs": [
        {
          "name": "stdout",
          "output_type": "stream",
          "text": [
            "ab\n",
            "c\n",
            "ab\\nc\n"
          ]
        }
      ],
      "source": [
        "print('ab\\nc')\n",
        "print(r'ab\\nc') # raw string"
      ]
    },
    {
      "cell_type": "code",
      "execution_count": 6,
      "metadata": {},
      "outputs": [
        {
          "data": {
            "text/plain": [
              "True"
            ]
          },
          "execution_count": 6,
          "metadata": {},
          "output_type": "execute_result"
        }
      ],
      "source": [
        "len('ab\\nc') + 1 == len(r'ab\\nc')"
      ]
    },
    {
      "cell_type": "markdown",
      "metadata": {},
      "source": [
        "Read more on [escape sequences](https://docs.python.org/3/reference/lexical_analysis.html#escape-sequences)."
      ]
    },
    {
      "cell_type": "markdown",
      "metadata": {
        "id": "0VDoXZeDAicy"
      },
      "source": [
        "### Character and Meta-characters\n",
        "\n",
        "See: [Matching Characters](https://docs.python.org/3/howto/regex.html#matching-characters)"
      ]
    },
    {
      "cell_type": "code",
      "execution_count": 10,
      "metadata": {},
      "outputs": [
        {
          "data": {
            "text/plain": [
              "['am ', 'ar!', 'an5', 'ahi']"
            ]
          },
          "execution_count": 10,
          "metadata": {},
          "output_type": "execute_result"
        }
      ],
      "source": [
        "text = \"Adam Abrar! an5 Ibrahim\"\n",
        "pattern = 'a..'\n",
        "re.findall(pattern, text)"
      ]
    },
    {
      "cell_type": "code",
      "execution_count": 49,
      "metadata": {
        "id": "MGd6DRKDAicz",
        "outputId": "45ae154b-929a-4ca2-9661-1b7425ffb62e"
      },
      "outputs": [
        {
          "name": "stdout",
          "output_type": "stream",
          "text": [
            "['a', 'a', 'a', 'a']\n",
            "['A', 'A']\n",
            "['an5', 'ahi']\n",
            "['am ', 'ar!', 'an5', 'ahi']\n"
          ]
        }
      ],
      "source": [
        "text = \"Adam Abrar! an5 Ibrahim\"\n",
        "print(re.findall(r\"a\", text))\n",
        "print(re.findall(r\"A\", text)) # case sensitive\n",
        "print(re.findall(r\"a\\w\\w\", text)) # \\w is Any Alphanumeric character\n",
        "print(re.findall(r\"a..\", text))   # . is Any character except newline"
      ]
    },
    {
      "cell_type": "code",
      "execution_count": 50,
      "metadata": {
        "id": "LIDybRnzAicz",
        "outputId": "1c5212a7-12bb-45b7-983c-3827c26b83e8"
      },
      "outputs": [
        {
          "name": "stdout",
          "output_type": "stream",
          "text": [
            "['caaat']\n",
            "['caaat']\n",
            "[]\n"
          ]
        }
      ],
      "source": [
        "text = \"caaat\"\n",
        "print(re.findall(r\"ca+t\", text)) # \\w+ is one or more Alphanumeric character\n",
        "print(re.findall(r\"ca*t\", text)) # * is zero or more\n",
        "print(re.findall(r\"ca?t\", text)) # ? is zero or once"
      ]
    },
    {
      "cell_type": "code",
      "execution_count": 51,
      "metadata": {
        "id": "HtPRR2_9Aic0",
        "outputId": "435abed7-a121-47dc-feed-e7c8ff5779fe"
      },
      "outputs": [
        {
          "name": "stdout",
          "output_type": "stream",
          "text": [
            "['and']\n",
            "['Adam']\n",
            "['Ibrahim']\n"
          ]
        }
      ],
      "source": [
        "text = \"Adam Abrar and Ibrahim\"\n",
        "print(re.findall(r\"\\ba\\w\\w\\b\", text)) # \\b is Word Boundary\n",
        "print(re.findall(r\"^A\\w+\", text)) # ^ is Start of the string\n",
        "print(re.findall(r\"\\w+m$\", text)) # $ is End of the string"
      ]
    },
    {
      "cell_type": "markdown",
      "metadata": {
        "id": "Kncyk4xNAic0"
      },
      "source": [
        "#### The `\\w` metacharacter"
      ]
    },
    {
      "cell_type": "code",
      "execution_count": null,
      "metadata": {
        "id": "uqSFM8DZAic1",
        "outputId": "9053d85f-d68e-46d9-ea8d-c1e08ec37edc"
      },
      "outputs": [
        {
          "name": "stdout",
          "output_type": "stream",
          "text": [
            "['b', 'e', 't', 't', 'y', 'b', 'o', 'u', 'g', 'h', 't', 'a', 'b', 'i', 't', 'o', 'f', 'b', 'i', 't', 't', 'e', 'r', 'b', 'u', 't', 't', 'e', 'r']\n",
            "[' ', ' ', ' ', ' ', ' ', ' ']\n",
            "['b', 'e', 't', 't', 'y', ' ', 'b', 'o', 'u', 'g', 'h', 't', ' ', 'a', ' ', 'b', 'i', 't', ' ', 'o', 'f', ' ', 'b', 'i', 't', 't', 'e', 'r', ' ', 'b', 'u', 't', 't', 'e', 'r']\n"
          ]
        }
      ],
      "source": [
        "text = \"betty bought a bit of bitter butter\"\n",
        "print(re.findall(r\"\\w\", text))\n",
        "print(re.findall(r\"\\W\", text))\n",
        "print(re.findall(r\".\", text))"
      ]
    },
    {
      "cell_type": "markdown",
      "metadata": {
        "id": "eph05TM6Aic1"
      },
      "source": [
        "#### The `\\d` metacharacter"
      ]
    },
    {
      "cell_type": "code",
      "execution_count": 23,
      "metadata": {
        "id": "FOBRw3PFAic1",
        "outputId": "c38bfc04-99d2-4e75-8046-45916c742f60"
      },
      "outputs": [
        {
          "name": "stdout",
          "output_type": "stream",
          "text": [
            "['300']\n",
            "['this tree is ', ' years old']\n",
            "['this tree is 300 years old']\n"
          ]
        }
      ],
      "source": [
        "text = \"this tree is 300 years old\"\n",
        "print(re.findall(r\"\\d+\", text))\n",
        "print(re.findall(r\"\\D+\", text))\n",
        "print(re.findall(r\".+\", text))"
      ]
    },
    {
      "cell_type": "markdown",
      "metadata": {
        "id": "5Gw98e8mAic1"
      },
      "source": [
        "#### Character sets using `[]`"
      ]
    },
    {
      "cell_type": "code",
      "execution_count": null,
      "metadata": {
        "id": "D9eBZzXtAic1",
        "outputId": "00437c99-0ae1-43be-e29b-9f622ace44a2"
      },
      "outputs": [
        {
          "name": "stdout",
          "output_type": "stream",
          "text": [
            "['i', 'i', 't', 'u', 'p', 'u', 't', 'i', 't']\n",
            "['i', 'c', 'k', 'i', 't', 'u', 'p', 'u', 't', 'i', 't', 'd', 'o', 'w', 'n']\n",
            "['ick', 'it', 'up', 'ut', 'it', 'down']\n",
            "['P', 'P']\n",
            "['1', 'P', 'i', 'c', 'k', 'i', 't', 'u', 'p', '2', 'P', 'u', 't', 'i', 't', 'd', 'o', 'w', 'n']\n",
            "['\\n', '1', '.', ' ', ' ', ' ', '\\n', '2', '.', ' ', ' ', ' ', '\\n']\n"
          ]
        }
      ],
      "source": [
        "text = \"\"\"\n",
        "1. Pick it up\n",
        "2. Put it down\n",
        "\"\"\"\n",
        "\n",
        "print(re.findall(r\"[ptui]\", text)) # character set\n",
        "print(re.findall(r\"[a-z]\", text))  # character range\n",
        "print(re.findall(r\"[a-z]+\", text)) # quantifiers\n",
        "print(re.findall(r\"[A-Z]\", text))\n",
        "print(re.findall(r\"[a-zA-Z0-9]\", text)) # multiple ranges\n",
        "print(re.findall(r\"[^a-zA-Z]\", text)) # ^ in the set notation is negation"
      ]
    },
    {
      "cell_type": "markdown",
      "metadata": {
        "id": "CoQwSDl9Aic2"
      },
      "source": [
        "### Finding Digits"
      ]
    },
    {
      "cell_type": "code",
      "execution_count": 29,
      "metadata": {},
      "outputs": [
        {
          "name": "stdout",
          "output_type": "stream",
          "text": [
            "['20.15', '94.3125']\n"
          ]
        }
      ],
      "source": [
        "text = \"The product is $20.15 which is equivalent to 94.3125 SAR\"\n",
        "\n",
        "print(re.findall(r\"[0-9]+\\.[0-9]+\", text))  # \\d is Any Digit"
      ]
    },
    {
      "cell_type": "code",
      "execution_count": null,
      "metadata": {
        "id": "cPRq-phwAic2",
        "outputId": "cdf61ab0-da56-4598-e7a0-23519f433be6"
      },
      "outputs": [
        {
          "name": "stdout",
          "output_type": "stream",
          "text": [
            "['2', '0', '1', '5', '9', '4', '3', '1', '2', '5']\n",
            "['2', '0', '1', '5', '9', '4', '3', '1', '2', '5']\n",
            "['20', '15', '94', '31', '25']\n",
            "['3125']\n",
            "['20', '15', '94', '3125']\n",
            "['20.15', '94.3125']\n",
            "['$20.15']\n",
            "['94.3125 SAR']\n"
          ]
        }
      ],
      "source": [
        "text = \"The product is $20.15 which is equivalent to 94.3125 SAR\"\n",
        "\n",
        "print(re.findall(r\"\\d\", text))  # \\d is Any Digit\n",
        "print(re.findall(r\"[0-9]\", text))  # \\d is equivalent to [0-9]\n",
        "print(re.findall(r\"\\d\\d\", text))\n",
        "print(re.findall(r\"\\d{4}\", text))\n",
        "print(re.findall(r\"\\d+\", text)) # + is One or more\n",
        "print(re.findall(r\"\\d+\\.\\d+\", text))   # \\. is the \".\" Character since the \".\" is a meta-character matching: Any Character\n",
        "print(re.findall(r\"\\$\\d+\\.\\d+\", text)) # \\$ is the \"$\" Character since the \"$\" is a meta-character matching: End of Line\n",
        "print(re.findall(r\"\\d+\\.\\d+\\sSAR\", text)) # \\s is Any Whitespace Character"
      ]
    },
    {
      "cell_type": "markdown",
      "metadata": {
        "id": "jQhoqQKwAic2"
      },
      "source": [
        "### Grouping matches `()`\n",
        "\n",
        "[See docs](https://docs.python.org/3/howto/regex.html#grouping)."
      ]
    },
    {
      "cell_type": "code",
      "execution_count": 35,
      "metadata": {},
      "outputs": [
        {
          "data": {
            "text/plain": [
              "[('key1', 'value1'),\n",
              " ('key2', 'value2'),\n",
              " ('key3', 'value3'),\n",
              " ('key4', 'value4')]"
            ]
          },
          "execution_count": 35,
          "metadata": {},
          "output_type": "execute_result"
        }
      ],
      "source": [
        "text = r\"\"\"{key1:value1, key2: value2, key3:   value3, key4:\n",
        "value4}\"\"\"\n",
        "\n",
        "re.findall(r\"(\\w+):\\s*(\\w+)\", text)"
      ]
    },
    {
      "cell_type": "code",
      "execution_count": 33,
      "metadata": {
        "id": "2vPVzsOdAic2",
        "outputId": "43b34664-76ce-409f-9852-93d6939d9992"
      },
      "outputs": [
        {
          "name": "stdout",
          "output_type": "stream",
          "text": [
            "[('key2', 'value2'), ('key4', 'value4')]\n",
            "[('key1', 'value1'), ('key2', 'value2'), ('key3', 'value3'), ('key4', 'value4')]\n"
          ]
        }
      ],
      "source": [
        "# key value matching\n",
        "text = r\"\"\"{key1:value1, key2: value2, key3:   value3, key4:\n",
        "value4}\"\"\"\n",
        "\n",
        "print(re.findall(r\"(\\w+):\\s(\\w+)\", text)) # grouping the key and value\n",
        "print(re.findall(r\"(\\w+):\\s*(\\w+)\", text)) # \\s* is zero or more whitespace characters (including tabs and newlines)"
      ]
    },
    {
      "cell_type": "markdown",
      "metadata": {
        "id": "cGNOt6-LAic2"
      },
      "source": [
        "#### Using `|` (OR) Operator"
      ]
    },
    {
      "cell_type": "code",
      "execution_count": null,
      "metadata": {
        "id": "L0YY5rzyAic2",
        "outputId": "e860db04-85f2-47b6-b690-19435a3a20d4"
      },
      "outputs": [
        {
          "name": "stdout",
          "output_type": "stream",
          "text": [
            "['cats', 'horses']\n"
          ]
        }
      ],
      "source": [
        "text = \"\"\"\n",
        "I like cats\n",
        "I like horses\n",
        "I like trees\n",
        "\"\"\"\n",
        "\n",
        "print(re.findall(r\"I like (cats|horses)\", text)) # | is OR"
      ]
    },
    {
      "cell_type": "code",
      "execution_count": null,
      "metadata": {
        "id": "pEYzn9bFAic2",
        "outputId": "52138c12-3a7f-426e-bd0e-32e9a989c1a9"
      },
      "outputs": [
        {
          "name": "stdout",
          "output_type": "stream",
          "text": [
            "[('55', 'thousands'), ('77', 'hundereds')]\n"
          ]
        }
      ],
      "source": [
        "text = \"55 thousands, 77 hundereds\"\n",
        "\n",
        "print(re.findall(r\"(\\d+)\\s+(thousands|hundereds)\", text))"
      ]
    },
    {
      "cell_type": "markdown",
      "metadata": {},
      "source": [
        "### String literal concatenation"
      ]
    },
    {
      "cell_type": "code",
      "execution_count": 1,
      "metadata": {},
      "outputs": [],
      "source": [
        "# Note: adjacent string literals are concatenated\n",
        "assert (\"spam \" 'eggs') == \"spam eggs\"\n",
        "assert (\"spam \" \"eggs\") == \"spam eggs\""
      ]
    },
    {
      "cell_type": "markdown",
      "metadata": {},
      "source": [
        "\n",
        "\n",
        "This feature can be used to reduce the number of backslashes needed, to split long strings conveniently across long lines, or even **to add comments to parts of strings**, for example:"
      ]
    },
    {
      "cell_type": "code",
      "execution_count": 2,
      "metadata": {},
      "outputs": [
        {
          "data": {
            "text/plain": [
              "re.compile(r'[A-Za-z_][A-Za-z0-9_]*', re.UNICODE)"
            ]
          },
          "execution_count": 2,
          "metadata": {},
          "output_type": "execute_result"
        }
      ],
      "source": [
        "import re\n",
        "re.compile(\"[A-Za-z_]\"       # letter or underscore\n",
        "           \"[A-Za-z0-9_]*\"   # letter, digit or underscore\n",
        "          )"
      ]
    },
    {
      "cell_type": "markdown",
      "metadata": {},
      "source": [
        "See: https://docs.python.org/3/reference/lexical_analysis.html#string-literal-concatenation"
      ]
    },
    {
      "cell_type": "markdown",
      "metadata": {
        "id": "2K0AC66ZAic3"
      },
      "source": [
        "### Naming patterns\n",
        "\n",
        "We use `?P<pattern-name>` to name patterns."
      ]
    },
    {
      "cell_type": "code",
      "execution_count": null,
      "metadata": {
        "id": "3yChkujJAic3",
        "outputId": "2777c52b-7165-43ad-b0d5-11f79ca8541f"
      },
      "outputs": [
        {
          "name": "stdout",
          "output_type": "stream",
          "text": [
            "adam\n",
            "belal\n"
          ]
        }
      ],
      "source": [
        "text = \"my email is adam@example.com and yours is belal@example.com\"\n",
        "\n",
        "matches_iterator = re.finditer(r\"(?P<name>\\w+)@(?P<domain>\\w+)\\.(?P<tld>\\w+)\", text)\n",
        "for m in matches_iterator:\n",
        "    print(m.group(\"name\"))"
      ]
    },
    {
      "cell_type": "markdown",
      "metadata": {},
      "source": [
        "### Resources to Learn Regex"
      ]
    },
    {
      "cell_type": "markdown",
      "metadata": {},
      "source": [
        "**Tutorials with interactive exercises**\n",
        "\n",
        "- [RegexLearn](https://regexlearn.com/) - Interactive tutorial and practice problems.\n",
        "    - Languages: 🇺🇸, 🇹🇷, 🇷🇺, 🇪🇸, 🇨🇳, 🇩🇪, 🇺🇦, 🇫🇷, 🇵🇱, 🇰🇷, 🇧🇷, 🇨🇿, 🇬🇪.\n",
        "- [RegexOne](https://regexone.com/) - Interactive tutorial and practice problems.\n",
        "\n",
        "**Videos**\n",
        "\n",
        "- [*Demystifying Regular Expressions*](https://www.youtube.com/watch?v=M7vDtxaD7ZU) - Great presentation for beginners, by Lea Verou at HolyJS 2017 (1hr 12m).\n",
        "- [*Learn Regular Expressions In 20 Minutes*](https://www.youtube.com/watch?v=rhzKDrUiJVk) - Live syntax walkthrough in a regex tester, by Kyle Cook.\n",
        "\n",
        "**Other Resources**:\n",
        "- [**rexegg** Cheat Sheet](https://www.rexegg.com/regex-quickstart.php)\n",
        "- [Python Docs (Regex How to)](https://docs.python.org/3/howto/regex.html#regex-howto) is an introductory tutorial to using regular expressions in Python with the `re` module. It provides a gentler introduction than the corresponding section in the Library Reference."
      ]
    }
  ],
  "metadata": {
    "colab": {
      "provenance": []
    },
    "kernelspec": {
      "display_name": "ds",
      "language": "python",
      "name": "python3"
    },
    "language_info": {
      "codemirror_mode": {
        "name": "ipython",
        "version": 3
      },
      "file_extension": ".py",
      "mimetype": "text/x-python",
      "name": "python",
      "nbconvert_exporter": "python",
      "pygments_lexer": "ipython3",
      "version": "3.9.19"
    }
  },
  "nbformat": 4,
  "nbformat_minor": 0
}
