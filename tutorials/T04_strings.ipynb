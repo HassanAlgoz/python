{
 "cells": [
  {
   "cell_type": "markdown",
   "metadata": {},
   "source": [
    "# Text Sequence Type — str\n",
    "\n",
    "- **(Main Source)** Python Docs: [Text Sequence Type — str](https://docs.python.org/3/library/stdtypes.html#text-sequence-type-str)\n",
    "    - [String methods](https://docs.python.org/3/library/stdtypes.html#string-methods)\n",
    "    - [Text Processing Services](https://docs.python.org/3/library/text.html#textservices)\n",
    "    - [Common string operations](https://docs.python.org/3/library/string.html)"
   ]
  },
  {
   "cell_type": "markdown",
   "metadata": {},
   "source": [
    "## Character Encoding\n",
    "\n",
    "**Character encoding** is the process of assigning numbers to graphical characters, especially the written characters of human language, allowing them to be stored, transmitted, and transformed using digital computers.\n",
    "\n",
    "- **ASCII** codes represent text in digital devices\n",
    "- ASCII has just `128` code points, of which only `95` are printable characters (English-only)\n",
    "- The set of available punctuation had significant impact on the syntax of computer languages and text markup\n",
    "- **ANSII** contain further characters from `128` to `255`, which differ based on language\n",
    "- **Unicode** has over a **million code points**, but the first `128` of these are the same as ASCII\n",
    "    - Language like Arabic are included in the Unicode code points"
   ]
  },
  {
   "cell_type": "markdown",
   "metadata": {},
   "source": [
    "Figure below: showing that if we try to save Arabic text (Unicode) using ASCII (a subset of it), we get warning, and we lose our work.\n",
    "\n",
    "<img src=\"../assets/save_ascii_arabic.png\" title=\"Save Popup in Notepad\" width=\"400\" />\n",
    "\n",
    "Error reads: \"This file contains characters in Unicode format which will be lost if you save this\n",
    "file as an ANSI encoded text file. To keep the Unicode information, click Cancel below and then select one of the Unicode options from the Encoding drop down list. Continue?\""
   ]
  },
  {
   "cell_type": "code",
   "execution_count": 172,
   "metadata": {},
   "outputs": [
    {
     "name": "stdout",
     "output_type": "stream",
     "text": [
      "65 90\n",
      "97 122\n"
     ]
    }
   ],
   "source": [
    "# ASCII (English-only) characters are represented by numbers between 0 and 127\n",
    "print(ord(\"A\"), ord(\"Z\"))\n",
    "print(ord(\"a\"), ord(\"z\"))"
   ]
  },
  {
   "cell_type": "code",
   "execution_count": 3,
   "metadata": {},
   "outputs": [
    {
     "name": "stdout",
     "output_type": "stream",
     "text": [
      "1571 1576 1610 1614 1615\n"
     ]
    }
   ],
   "source": [
    "# Arabic Unicode points are between 1536 and 1791\n",
    "print(ord(\"أ\"), ord(\"ب\"), ord(\"ي\"), ord('َ'), ord('ُ'))"
   ]
  },
  {
   "cell_type": "markdown",
   "metadata": {},
   "source": [
    "See [Wikipedia: Arabic script in Unicode](https://en.wikipedia.org/wiki/Arabic_script_in_Unicode) for details."
   ]
  },
  {
   "cell_type": "code",
   "execution_count": 164,
   "metadata": {},
   "outputs": [
    {
     "data": {
      "text/plain": [
       "'abcdefghijklmnopqrstuvwxyzABCDEFGHIJKLMNOPQRSTUVWXYZ'"
      ]
     },
     "execution_count": 164,
     "metadata": {},
     "output_type": "execute_result"
    }
   ],
   "source": [
    "import string\n",
    "\n",
    "string.ascii_letters"
   ]
  },
  {
   "cell_type": "code",
   "execution_count": null,
   "metadata": {},
   "outputs": [
    {
     "data": {
      "text/plain": [
       "'!\"#$%&\\'()*+,-./:;<=>?@[\\\\]^_`{|}~'"
      ]
     },
     "metadata": {},
     "output_type": "display_data"
    }
   ],
   "source": [
    "string.punctuation"
   ]
  },
  {
   "cell_type": "markdown",
   "metadata": {},
   "source": [
    "### `string.printable`\n",
    "\n",
    "String of ASCII characters which are considered printable. This is a combination of [`digits`](https://docs.python.org/3/library/string.html#string.digits), [`ascii_letters`](https://docs.python.org/3/library/string.html#string.ascii_letters), [`punctuation`](https://docs.python.org/3/library/string.html#string.punctuation), and [`whitespace`](https://docs.python.org/3/library/string.html#string.whitespace)."
   ]
  },
  {
   "cell_type": "code",
   "execution_count": null,
   "metadata": {},
   "outputs": [
    {
     "data": {
      "text/plain": [
       "'0123456789abcdefghijklmnopqrstuvwxyzABCDEFGHIJKLMNOPQRSTUVWXYZ!\"#$%&\\'()*+,-./:;<=>?@[\\\\]^_`{|}~ \\t\\n\\r\\x0b\\x0c'"
      ]
     },
     "metadata": {},
     "output_type": "display_data"
    }
   ],
   "source": [
    "string.printable"
   ]
  },
  {
   "cell_type": "code",
   "execution_count": 11,
   "metadata": {},
   "outputs": [
    {
     "name": "stdout",
     "output_type": "stream",
     "text": [
      "A\tB\n"
     ]
    }
   ],
   "source": [
    "# Tab character: \"\\t\"\n",
    "print('A\\tB')"
   ]
  },
  {
   "cell_type": "code",
   "execution_count": 15,
   "metadata": {},
   "outputs": [
    {
     "name": "stdout",
     "output_type": "stream",
     "text": [
      "A\n",
      "B\n"
     ]
    }
   ],
   "source": [
    "# Newline character: '\\n'\n",
    "print('A\\nB')"
   ]
  },
  {
   "cell_type": "markdown",
   "metadata": {},
   "source": [
    "### Carriage Return `'\\r'` Character\n",
    "\n",
    "The \"carriage return\" character has that name because it refers to a command to return the (print) carriage to the beginning of the line."
   ]
  },
  {
   "cell_type": "markdown",
   "metadata": {},
   "source": [
    "<img src=\"../assets/type-writer.png\" width=\"300\">\n",
    "\n",
    "> You'd start a new paragraph by feeding in the paper and then - with your left hand - shoving the carriage (the part on top that has the paper) all the way to the right so the keys will be hitting the spot on the far left first. Then as you typed, the carriage would advance one space at a time. When it got all the way to the right (usually it went \"ding!\"), you'd have to push that carriage back again, and if you didn't also hit the line-feed lever, you'd start typing over the same line. So the line-feed lever is right there, mounted in the same spot you'd use to push the carriage back anyway, and you could combine both motions. -- [Answer by **nico** on english.stackexchange.com](https://english.stackexchange.com/a/36082)"
   ]
  },
  {
   "cell_type": "code",
   "execution_count": 227,
   "metadata": {},
   "outputs": [
    {
     "name": "stdout",
     "output_type": "stream",
     "text": [
      "B\n"
     ]
    }
   ],
   "source": [
    "print('A', end='\\r')\n",
    "print('B')"
   ]
  },
  {
   "cell_type": "code",
   "execution_count": 226,
   "metadata": {},
   "outputs": [
    {
     "name": "stdout",
     "output_type": "stream",
     "text": [
      "[10/10] ==============================>\r"
     ]
    }
   ],
   "source": [
    "import time\n",
    "# progress bar using the Carriage Return \"\\r\" character\n",
    "for x in range(10 + 1):\n",
    "    time.sleep(0.20)\n",
    "    print(f'[{x}/10] ' + '===' * x + '>', end='\\r')"
   ]
  },
  {
   "cell_type": "markdown",
   "metadata": {},
   "source": [
    "**Common use cases for strings:**\n",
    "\n",
    "- Strings can be used to represent text, such as:\n",
    "    - names\n",
    "    - addresses\n",
    "    - messages"
   ]
  },
  {
   "cell_type": "markdown",
   "metadata": {},
   "source": [
    "- Textual data in Python is handled with [`str`](https://docs.python.org/3/library/stdtypes.html#str) objects, or *strings*.\n",
    "- Strings are immutable [sequences](https://docs.python.org/3/library/stdtypes.html#typesseq) of Unicode code points."
   ]
  },
  {
   "cell_type": "markdown",
   "metadata": {},
   "source": [
    "Python has great support for strings:"
   ]
  },
  {
   "cell_type": "code",
   "execution_count": 237,
   "metadata": {},
   "outputs": [],
   "source": [
    "name = 'Adam' # String literals can use single quotes\n",
    "address = \"Riyadh, Saudi Arabia\" # or double quotes; it does not matter"
   ]
  },
  {
   "cell_type": "code",
   "execution_count": 238,
   "metadata": {},
   "outputs": [],
   "source": [
    "# Triple quoted strings may span multiple lines.\n",
    "# All associated whitespace will be included in the string literal.\n",
    "message = \"\"\"Hello everyone,\n",
    "I hope you are enjoying the course,\n",
    "\n",
    "Thank you.\n",
    "\"\"\""
   ]
  },
  {
   "cell_type": "markdown",
   "metadata": {},
   "source": [
    "Note: there is no separate “character” type"
   ]
  },
  {
   "cell_type": "code",
   "execution_count": 239,
   "metadata": {},
   "outputs": [
    {
     "data": {
      "text/plain": [
       "str"
      ]
     },
     "execution_count": 239,
     "metadata": {},
     "output_type": "execute_result"
    }
   ],
   "source": [
    "type('a')"
   ]
  },
  {
   "cell_type": "markdown",
   "metadata": {},
   "source": [
    "Length of a string:"
   ]
  },
  {
   "cell_type": "code",
   "execution_count": 242,
   "metadata": {},
   "outputs": [
    {
     "name": "stdout",
     "output_type": "stream",
     "text": [
      "14\n",
      "3\n"
     ]
    }
   ],
   "source": [
    "phone = \"00966555555555\"\n",
    "print(len(phone))\n",
    "print(len([15, 20, 10]))"
   ]
  },
  {
   "cell_type": "markdown",
   "metadata": {},
   "source": [
    "**Note**: that the length of a string is the number of characters in the string, including spaces and punctuation."
   ]
  },
  {
   "cell_type": "code",
   "execution_count": 39,
   "metadata": {},
   "outputs": [
    {
     "data": {
      "text/plain": [
       "True"
      ]
     },
     "execution_count": 39,
     "metadata": {},
     "output_type": "execute_result"
    }
   ],
   "source": [
    "len(address + '\\n\\t ') == len(address) + 3"
   ]
  },
  {
   "cell_type": "markdown",
   "metadata": {},
   "source": [
    "Repeating strings"
   ]
  },
  {
   "cell_type": "code",
   "execution_count": 4,
   "metadata": {},
   "outputs": [
    {
     "name": "stdout",
     "output_type": "stream",
     "text": [
      "Salam Salam Salam \n"
     ]
    }
   ],
   "source": [
    "s = \"Salam \" * 3\n",
    "print(s)"
   ]
  },
  {
   "cell_type": "code",
   "execution_count": 41,
   "metadata": {},
   "outputs": [
    {
     "data": {
      "text/plain": [
       "(str, '100000000')"
      ]
     },
     "execution_count": 41,
     "metadata": {},
     "output_type": "execute_result"
    }
   ],
   "source": [
    "zeros = \"0\" * 8\n",
    "x = \"1\" + zeros\n",
    "type(x), x"
   ]
  },
  {
   "cell_type": "code",
   "execution_count": 43,
   "metadata": {},
   "outputs": [
    {
     "data": {
      "text/plain": [
       "'100000000100000000'"
      ]
     },
     "execution_count": 43,
     "metadata": {},
     "output_type": "execute_result"
    }
   ],
   "source": [
    "x + x"
   ]
  },
  {
   "cell_type": "markdown",
   "metadata": {},
   "source": [
    "#### Exercise\n",
    "\n",
    "- find the length of the variable `phone`\n",
    "- find the length of the variable `message`"
   ]
  },
  {
   "cell_type": "code",
   "execution_count": null,
   "metadata": {},
   "outputs": [],
   "source": []
  },
  {
   "cell_type": "markdown",
   "metadata": {},
   "source": [
    "### membership operator: `in`\n",
    "\n",
    "The `in` operator is used to check if a value is present in a sequence (`str`, `list`, `range`, etc.)."
   ]
  },
  {
   "cell_type": "code",
   "execution_count": 6,
   "metadata": {},
   "outputs": [
    {
     "name": "stdout",
     "output_type": "stream",
     "text": [
      "True\n"
     ]
    }
   ],
   "source": [
    "vowels = \"aeiou\"\n",
    "print(\"a\" in vowels)"
   ]
  },
  {
   "cell_type": "code",
   "execution_count": 59,
   "metadata": {},
   "outputs": [
    {
     "name": "stdout",
     "output_type": "stream",
     "text": [
      "True\n"
     ]
    }
   ],
   "source": [
    "# same as above\n",
    "# since both are sequences in Python\n",
    "vowels = [\"a\", \"e\", \"i\", \"o\", \"u\"]\n",
    "print(\"a\" in vowels)"
   ]
  },
  {
   "cell_type": "markdown",
   "metadata": {},
   "source": [
    "In Python, Strings are **objects**.\n",
    "\n",
    "- Objects have **attributes** that can be **accessed** with the `.` operator.\n",
    "- Objects have **methods** that can be **called** using the `.` operator and the `()` parenthesis:\n",
    "- ... more on objects later."
   ]
  },
  {
   "cell_type": "code",
   "execution_count": 244,
   "metadata": {},
   "outputs": [
    {
     "name": "stdout",
     "output_type": "stream",
     "text": [
      "HELLO\n",
      "hello\n"
     ]
    }
   ],
   "source": [
    "print(\"hello\".upper())\n",
    "print(\"HeLLO\".lower())"
   ]
  },
  {
   "cell_type": "code",
   "execution_count": 245,
   "metadata": {},
   "outputs": [
    {
     "name": "stdout",
     "output_type": "stream",
     "text": [
      "John doe\n",
      "John Doe\n"
     ]
    }
   ],
   "source": [
    "name = \"john doe\"\n",
    "\n",
    "print(name.capitalize())\n",
    "print(name.title())"
   ]
  },
  {
   "cell_type": "code",
   "execution_count": 246,
   "metadata": {},
   "outputs": [
    {
     "name": "stdout",
     "output_type": "stream",
     "text": [
      "Help on method_descriptor:\n",
      "\n",
      "title(self, /)\n",
      "    Return a version of the string where each word is titlecased.\n",
      "    \n",
      "    More specifically, words start with uppercased characters and all remaining\n",
      "    cased characters have lower case.\n",
      "\n"
     ]
    }
   ],
   "source": [
    "help(str.title)\n",
    "# str.title? # in Jupyter"
   ]
  },
  {
   "cell_type": "code",
   "execution_count": 247,
   "metadata": {},
   "outputs": [
    {
     "name": "stdout",
     "output_type": "stream",
     "text": [
      "True\n",
      "False\n"
     ]
    }
   ],
   "source": [
    "# Check case\n",
    "print(name.islower())\n",
    "print(name.isupper())"
   ]
  },
  {
   "cell_type": "code",
   "execution_count": 252,
   "metadata": {},
   "outputs": [
    {
     "name": "stdout",
     "output_type": "stream",
     "text": [
      "2\n",
      "1\n",
      "jwhn dwe\n"
     ]
    }
   ],
   "source": [
    "# Count occurrences\n",
    "name = \"john doe\"\n",
    "\n",
    "print(name.count('o'))\n",
    "print(name.find('o')) # fist occurrence\n",
    "print(name.replace('o', 'w'))"
   ]
  },
  {
   "cell_type": "code",
   "execution_count": 98,
   "metadata": {},
   "outputs": [
    {
     "name": "stdout",
     "output_type": "stream",
     "text": [
      "jwhn doe\n"
     ]
    }
   ],
   "source": [
    "# 3rd argument is `count`\n",
    "# Maximum number of occurrences to replace.\n",
    "# -1 (the default value) means replace all occurrences\n",
    "print(name.replace('o', 'w', 1))"
   ]
  },
  {
   "cell_type": "markdown",
   "metadata": {},
   "source": [
    "### Whitespace Characters"
   ]
  },
  {
   "cell_type": "code",
   "execution_count": null,
   "metadata": {},
   "outputs": [
    {
     "data": {
      "text/plain": [
       "' \\t\\n\\r\\x0b\\x0c'"
      ]
     },
     "metadata": {},
     "output_type": "display_data"
    }
   ],
   "source": [
    "string.whitespace"
   ]
  },
  {
   "cell_type": "code",
   "execution_count": 235,
   "metadata": {},
   "outputs": [
    {
     "name": "stdout",
     "output_type": "stream",
     "text": [
      "\t hello    world \n",
      "\n",
      "\n",
      "\n"
     ]
    }
   ],
   "source": [
    "# note that this will remove leading and trailing whitespace,\n",
    "# but not whitespace in the middle of the string\n",
    "text = '\\t hello    world \\n\\n\\n'\n",
    "print(text)"
   ]
  },
  {
   "cell_type": "code",
   "execution_count": 233,
   "metadata": {},
   "outputs": [
    {
     "name": "stdout",
     "output_type": "stream",
     "text": [
      "hello   world\n"
     ]
    }
   ],
   "source": [
    "# Strip whitespaces\n",
    "print(text.strip())"
   ]
  },
  {
   "cell_type": "code",
   "execution_count": 114,
   "metadata": {},
   "outputs": [
    {
     "name": "stdout",
     "output_type": "stream",
     "text": [
      "['Hello,', 'world']\n"
     ]
    }
   ],
   "source": [
    "# Split\n",
    "print(\"Hello, world\".split()) # default is space"
   ]
  },
  {
   "cell_type": "code",
   "execution_count": 51,
   "metadata": {},
   "outputs": [
    {
     "name": "stdout",
     "output_type": "stream",
     "text": [
      "['He', '', 'o, wor', 'd']\n"
     ]
    }
   ],
   "source": [
    "print(\"Hello, world\".split(\"l\"))"
   ]
  },
  {
   "cell_type": "code",
   "execution_count": 118,
   "metadata": {},
   "outputs": [
    {
     "name": "stdout",
     "output_type": "stream",
     "text": [
      "['He', 'lo, world']\n"
     ]
    }
   ],
   "source": [
    "# `maxsplit` argument: Maximum number of splits to do.\n",
    "# -1 (the default value) means no limit.\n",
    "print(\"Hello, world\".split(\"l\", 1)) # 1 means split only once"
   ]
  },
  {
   "cell_type": "markdown",
   "metadata": {},
   "source": [
    "See: [Splitlines](https://docs.python.org/3/library/stdtypes.html#str.splitlines)"
   ]
  },
  {
   "cell_type": "code",
   "execution_count": 52,
   "metadata": {},
   "outputs": [],
   "source": [
    "# multi-line string\n",
    "text = '''\n",
    "Hello\n",
    "World\n",
    "\n",
    "How are you?\n",
    "'''"
   ]
  },
  {
   "cell_type": "code",
   "execution_count": 53,
   "metadata": {},
   "outputs": [
    {
     "data": {
      "text/plain": [
       "'\\nHello\\nWorld\\n\\nHow are you?\\n'"
      ]
     },
     "execution_count": 53,
     "metadata": {},
     "output_type": "execute_result"
    }
   ],
   "source": [
    "# displays the string as is (showing whitespace characters)\n",
    "text"
   ]
  },
  {
   "cell_type": "code",
   "execution_count": 54,
   "metadata": {},
   "outputs": [
    {
     "name": "stdout",
     "output_type": "stream",
     "text": [
      "\n",
      "Hello\n",
      "World\n",
      "\n",
      "How are you?\n",
      "\n"
     ]
    }
   ],
   "source": [
    "# follows control characters and prints visible characters\n",
    "print(text)"
   ]
  },
  {
   "cell_type": "code",
   "execution_count": 132,
   "metadata": {},
   "outputs": [
    {
     "data": {
      "text/plain": [
       "['', 'Hello', 'World', '', 'How are you?']"
      ]
     },
     "execution_count": 132,
     "metadata": {},
     "output_type": "execute_result"
    }
   ],
   "source": [
    "text.splitlines()"
   ]
  },
  {
   "cell_type": "code",
   "execution_count": 57,
   "metadata": {},
   "outputs": [
    {
     "name": "stdout",
     "output_type": "stream",
     "text": [
      "Adam,Belal,Camal\n"
     ]
    }
   ],
   "source": [
    "# Join\n",
    "names = [\"Adam\", \"Belal\", \"Camal\"]\n",
    "seperator = ','\n",
    "print(seperator.join(names)) "
   ]
  },
  {
   "cell_type": "code",
   "execution_count": 67,
   "metadata": {},
   "outputs": [
    {
     "data": {
      "text/plain": [
       "'AdamBelalCamal'"
      ]
     },
     "execution_count": 67,
     "metadata": {},
     "output_type": "execute_result"
    }
   ],
   "source": [
    "''.join(names)"
   ]
  },
  {
   "cell_type": "code",
   "execution_count": 66,
   "metadata": {},
   "outputs": [
    {
     "data": {
      "text/plain": [
       "'Adam + Belal + Camal'"
      ]
     },
     "execution_count": 66,
     "metadata": {},
     "output_type": "execute_result"
    }
   ],
   "source": [
    "' + '.join(names)"
   ]
  },
  {
   "cell_type": "code",
   "execution_count": 74,
   "metadata": {},
   "outputs": [
    {
     "name": "stdout",
     "output_type": "stream",
     "text": [
      "Name: {name}\n",
      "Name: John\n"
     ]
    }
   ],
   "source": [
    "# String formatting\n",
    "\n",
    "name = \"John\"\n",
    "\n",
    "print(\"Name: {name}\")\n",
    "print(f\"Name: {name}\")"
   ]
  },
  {
   "cell_type": "code",
   "execution_count": 20,
   "metadata": {},
   "outputs": [
    {
     "name": "stdout",
     "output_type": "stream",
     "text": [
      "john doe       \n",
      "    john doe   \n"
     ]
    }
   ],
   "source": [
    "# Alignment\n",
    "print(name.ljust(15)) \n",
    "print(name.center(15))"
   ]
  },
  {
   "cell_type": "code",
   "execution_count": 112,
   "metadata": {},
   "outputs": [
    {
     "name": "stdout",
     "output_type": "stream",
     "text": [
      "       100\n",
      "      1000\n",
      "     10000\n",
      "  100\n"
     ]
    }
   ],
   "source": [
    "# Padding\n",
    "print(f'{100:10}')\n",
    "print(f'{1000:10}')\n",
    "print(f'{10000:10}')\n",
    "\n",
    "num = 100\n",
    "print(f'{num:5}')"
   ]
  },
  {
   "cell_type": "code",
   "execution_count": 114,
   "metadata": {},
   "outputs": [
    {
     "name": "stdout",
     "output_type": "stream",
     "text": [
      "True\n",
      "True\n"
     ]
    }
   ],
   "source": [
    "# Check start/end\n",
    "name = 'mr. john.jpg'\n",
    "print(name.startswith('mr. '))\n",
    "print(name.endswith('jpg'))"
   ]
  },
  {
   "cell_type": "markdown",
   "metadata": {},
   "source": [
    "A fun way to decorate a string using `center` method:"
   ]
  },
  {
   "cell_type": "code",
   "execution_count": 118,
   "metadata": {},
   "outputs": [
    {
     "name": "stdout",
     "output_type": "stream",
     "text": [
      "********************\n",
      "********John********\n",
      "********************\n"
     ]
    }
   ],
   "source": [
    "name = 'John'\n",
    "width = 20\n",
    "decorator = '*'\n",
    "\n",
    "print(decorator * width)\n",
    "print(name.center(width, decorator))\n",
    "print(decorator * width)"
   ]
  },
  {
   "cell_type": "markdown",
   "metadata": {},
   "source": [
    "#### Exercise\n",
    "\n",
    "- Change the above code to print your `name`, in all uppercase\n",
    "- change the `width`\n",
    "- Change the `decorator` to some other character like `#`"
   ]
  },
  {
   "cell_type": "markdown",
   "metadata": {},
   "source": [
    "## Indexing and Slicing\n",
    "\n",
    "- A string is a sequence of characters\n",
    "- Sequences can be indxed using `[]`\n",
    "    - 1st element is at index `0`\n",
    "    - 2nd element is at index `1`\n",
    "    - last element is at index `-1`"
   ]
  },
  {
   "cell_type": "code",
   "execution_count": 120,
   "metadata": {},
   "outputs": [],
   "source": [
    "title = \"Pythonista\""
   ]
  },
  {
   "cell_type": "markdown",
   "metadata": {},
   "source": [
    "<img src=\"../assets/pythonista.png\">"
   ]
  },
  {
   "cell_type": "code",
   "execution_count": 121,
   "metadata": {},
   "outputs": [
    {
     "name": "stdout",
     "output_type": "stream",
     "text": [
      "thonista\n"
     ]
    }
   ],
   "source": [
    "print(title[2:]) # thonista"
   ]
  },
  {
   "cell_type": "code",
   "execution_count": 124,
   "metadata": {},
   "outputs": [
    {
     "name": "stdout",
     "output_type": "stream",
     "text": [
      "True\n",
      "True\n"
     ]
    }
   ],
   "source": [
    "print(title[0] == 'P')\n",
    "print(title[-1] == title[9] == 'a')\n",
    "# title[10] # IndexError: string index out of range"
   ]
  },
  {
   "cell_type": "code",
   "execution_count": 161,
   "metadata": {},
   "outputs": [],
   "source": [
    "# TODO: weired case that needs to be understood\n",
    "# print(title[None:-4:-1])"
   ]
  },
  {
   "cell_type": "markdown",
   "metadata": {},
   "source": [
    "### Slicing"
   ]
  },
  {
   "cell_type": "markdown",
   "metadata": {},
   "source": [
    "Sequences can also be sliced using `[start:end]`"
   ]
  },
  {
   "cell_type": "markdown",
   "metadata": {},
   "source": [
    "<img src=\"../assets/pythonista.png\">"
   ]
  },
  {
   "cell_type": "code",
   "execution_count": 125,
   "metadata": {},
   "outputs": [
    {
     "data": {
      "text/plain": [
       "True"
      ]
     },
     "execution_count": 125,
     "metadata": {},
     "output_type": "execute_result"
    }
   ],
   "source": [
    "title[0] == title[0:1] == 'P'"
   ]
  },
  {
   "cell_type": "markdown",
   "metadata": {},
   "source": [
    "<img src=\"../assets/pythonista.png\">"
   ]
  },
  {
   "cell_type": "code",
   "execution_count": null,
   "metadata": {},
   "outputs": [
    {
     "name": "stdout",
     "output_type": "stream",
     "text": [
      "tho\n",
      "Pytho\n",
      "ista\n",
      "ista\n"
     ]
    }
   ],
   "source": [
    "print(title[2:5]) #\n",
    "print(title[:5])\n",
    "print(title[-4:])\n",
    "print(title[-4:None])"
   ]
  },
  {
   "cell_type": "markdown",
   "metadata": {},
   "source": [
    "#### Exercise\n",
    "\n",
    "Ex: Given that `name = \"Johnson\"` What is the value of `name[0]`? `name[1]`? `name[-1]`? `name[-2]`?"
   ]
  },
  {
   "cell_type": "code",
   "execution_count": null,
   "metadata": {},
   "outputs": [],
   "source": [
    "# try it"
   ]
  },
  {
   "cell_type": "markdown",
   "metadata": {},
   "source": [
    "#### Exercise\n",
    "\n",
    "Ex: try `name[1:3]` and `name[3:5]`"
   ]
  },
  {
   "cell_type": "code",
   "execution_count": 31,
   "metadata": {},
   "outputs": [],
   "source": [
    "# try it"
   ]
  },
  {
   "cell_type": "markdown",
   "metadata": {},
   "source": [
    "### We can also add a step to slicing `[start:end:step]`"
   ]
  },
  {
   "cell_type": "code",
   "execution_count": 127,
   "metadata": {},
   "outputs": [],
   "source": [
    "s = \"ABCDEF\""
   ]
  },
  {
   "cell_type": "code",
   "execution_count": 134,
   "metadata": {},
   "outputs": [
    {
     "data": {
      "text/plain": [
       "True"
      ]
     },
     "execution_count": 134,
     "metadata": {},
     "output_type": "execute_result"
    }
   ],
   "source": [
    "s[0:len(s):1] == s[0:None:1] == s[::] # default values"
   ]
  },
  {
   "cell_type": "code",
   "execution_count": 139,
   "metadata": {},
   "outputs": [
    {
     "data": {
      "text/plain": [
       "'FEDCBA'"
      ]
     },
     "execution_count": 139,
     "metadata": {},
     "output_type": "execute_result"
    }
   ],
   "source": [
    "s[::-1]"
   ]
  },
  {
   "cell_type": "markdown",
   "metadata": {},
   "source": [
    "We can also omit the `start` or `end` of the slice, which would implicitly mean the beginning or end of the string:"
   ]
  },
  {
   "cell_type": "code",
   "execution_count": 34,
   "metadata": {},
   "outputs": [
    {
     "data": {
      "text/plain": [
       "'ACE'"
      ]
     },
     "execution_count": 34,
     "metadata": {},
     "output_type": "execute_result"
    }
   ],
   "source": [
    "s[0::2]"
   ]
  },
  {
   "cell_type": "code",
   "execution_count": 145,
   "metadata": {},
   "outputs": [
    {
     "data": {
      "text/plain": [
       "'FEDCB'"
      ]
     },
     "execution_count": 145,
     "metadata": {},
     "output_type": "execute_result"
    }
   ],
   "source": [
    "# s = \"ABCDEF\"\n",
    "# s[None:0:-1] # TODO: understand this weird case"
   ]
  },
  {
   "cell_type": "code",
   "execution_count": 36,
   "metadata": {},
   "outputs": [
    {
     "data": {
      "text/plain": [
       "'FDB'"
      ]
     },
     "execution_count": 36,
     "metadata": {},
     "output_type": "execute_result"
    }
   ],
   "source": [
    "s[-1:0:-2]"
   ]
  },
  {
   "cell_type": "markdown",
   "metadata": {},
   "source": [
    "\n",
    "Ex: run and try to understand the following code\n",
    "\n",
    "```python\n",
    "name = \"Johnson\"\n",
    "print(name[::2])\n",
    "print(name[::-1])\n",
    "print(name[1:5:2])\n",
    "```"
   ]
  },
  {
   "cell_type": "code",
   "execution_count": 37,
   "metadata": {},
   "outputs": [],
   "source": [
    "# try it"
   ]
  },
  {
   "cell_type": "markdown",
   "metadata": {},
   "source": [
    "\n",
    "Ex: For each of the following, specify the `start`, `end`, and `step`:\n",
    "\n",
    "- `name[::2]`\n",
    "- `name[::-1]`\n",
    "- `name[1:5:2]`"
   ]
  },
  {
   "cell_type": "markdown",
   "metadata": {},
   "source": [
    "Answer: ..."
   ]
  },
  {
   "cell_type": "markdown",
   "metadata": {},
   "source": [
    "#### Exercise"
   ]
  },
  {
   "cell_type": "markdown",
   "metadata": {},
   "source": [
    "\n",
    "Ex: Write a program that takes a string and prints the string in reverse.\n"
   ]
  },
  {
   "cell_type": "code",
   "execution_count": 38,
   "metadata": {},
   "outputs": [],
   "source": [
    "# try it"
   ]
  },
  {
   "cell_type": "markdown",
   "metadata": {},
   "source": [
    "\n",
    "Ex: Write a program that takes a string and prints every other character in the string. Example: `abcdef` -> `bdf`\n"
   ]
  },
  {
   "cell_type": "code",
   "execution_count": 39,
   "metadata": {},
   "outputs": [],
   "source": [
    "# try it"
   ]
  },
  {
   "cell_type": "markdown",
   "metadata": {},
   "source": [
    "Ex: Write a program that takes a string and prints the string in reverse order, but only every other character. It also must capitalize it. Example: `abcdef` -> `ECA`"
   ]
  },
  {
   "cell_type": "code",
   "execution_count": 40,
   "metadata": {},
   "outputs": [],
   "source": [
    "# try it"
   ]
  },
  {
   "cell_type": "markdown",
   "metadata": {},
   "source": [
    "Ex: Count the number of `o` in the string `hello world`. Hint: use the `.count()` method."
   ]
  },
  {
   "cell_type": "code",
   "execution_count": 41,
   "metadata": {},
   "outputs": [],
   "source": [
    "# try it"
   ]
  },
  {
   "cell_type": "markdown",
   "metadata": {},
   "source": [
    "## String formatting\n",
    "\n",
    "**(Main)** docs reference: [`printf`-style String Formatting](https://docs.python.org/3/library/stdtypes.html#printf-style-string-formatting)\n",
    "\n",
    "There are 3 different ways to concatenate strings in Python:\n",
    "\n",
    "1. Joining individual strings with + operator\n",
    "2. `format` string method\n",
    "3. f-strings"
   ]
  },
  {
   "cell_type": "code",
   "execution_count": 148,
   "metadata": {},
   "outputs": [
    {
     "name": "stdout",
     "output_type": "stream",
     "text": [
      "True\n",
      "My name is John and my age is 30\n"
     ]
    }
   ],
   "source": [
    "# Using the + operator\n",
    "name = \"John\"\n",
    "age = 30\n",
    "\n",
    "x1 = \"My name is \" + name + \" and my age is \" + str(age)\n",
    "x2 = \"My name is {} and my age is {}\".format(name, age)\n",
    "x3 = f\"My name is {name} and my age is {age}\"\n",
    "print(x1 == x2 == x3)\n",
    "print(x1)"
   ]
  },
  {
   "cell_type": "markdown",
   "metadata": {},
   "source": [
    "#### Exercise\n",
    "\n",
    "- concatenate the strings `first_name` and `last_name` using the + operator\n",
    "- concatenate the strings `first_name` and `last_name` using the `format` method\n",
    "- concatenate the strings `first_name` and `last_name` using f-strings"
   ]
  },
  {
   "cell_type": "code",
   "execution_count": 43,
   "metadata": {},
   "outputs": [],
   "source": [
    "# try it"
   ]
  },
  {
   "cell_type": "markdown",
   "metadata": {},
   "source": [
    "Ex: Use f-strings to print `Hello, my name is John Doe. and I am 30 years old`. Using the variables `first_name`, `last_name`, and `age`."
   ]
  },
  {
   "cell_type": "code",
   "execution_count": 44,
   "metadata": {},
   "outputs": [],
   "source": [
    "# try it"
   ]
  },
  {
   "cell_type": "markdown",
   "metadata": {},
   "source": [
    "Checkout: [PyFormat](https://pyformat.info/) for more."
   ]
  },
  {
   "cell_type": "markdown",
   "metadata": {},
   "source": [
    "## Numbers formatting"
   ]
  },
  {
   "cell_type": "code",
   "execution_count": 219,
   "metadata": {},
   "outputs": [
    {
     "name": "stdout",
     "output_type": "stream",
     "text": [
      "1000000\n",
      "1,000,000\n"
     ]
    }
   ],
   "source": [
    "# Thousands separator to integers\n",
    "assert 1_000_000 == 1000000\n",
    "\n",
    "big_num = 1_000_000 # syntactic sugar\n",
    "print(f'{big_num}')\n",
    "print(f'{big_num:,}')"
   ]
  },
  {
   "cell_type": "code",
   "execution_count": 221,
   "metadata": {},
   "outputs": [
    {
     "name": "stdout",
     "output_type": "stream",
     "text": [
      "1.00e-04\n"
     ]
    }
   ],
   "source": [
    "# Scientific Notation\n",
    "assert 1e-4 == 0.0001\n",
    "\n",
    "small_num = 1e-4\n",
    "print(f\"{small_num:.2e}\")"
   ]
  },
  {
   "cell_type": "code",
   "execution_count": 159,
   "metadata": {},
   "outputs": [
    {
     "name": "stdout",
     "output_type": "stream",
     "text": [
      "10.5689\n",
      "10.5689\n",
      "10.57\n",
      "11\n"
     ]
    }
   ],
   "source": [
    "# Number of decimal places\n",
    "num = 10.5689\n",
    "print(f'{num}')\n",
    "print(f'{num:.4f}')\n",
    "print(f'{num:.2f}')\n",
    "print(f'{num:.0f}')"
   ]
  },
  {
   "cell_type": "code",
   "execution_count": 182,
   "metadata": {},
   "outputs": [
    {
     "name": "stdout",
     "output_type": "stream",
     "text": [
      "$2,978.95\n"
     ]
    }
   ],
   "source": [
    "# Format currency (USD)\n",
    "price = 2978.95\n",
    "print(f\"${price:,.2f}\")"
   ]
  },
  {
   "cell_type": "markdown",
   "metadata": {},
   "source": [
    "Checkout: [PyFormat](https://pyformat.info/) for more."
   ]
  }
 ],
 "metadata": {
  "kernelspec": {
   "display_name": "Python 3",
   "language": "python",
   "name": "python3"
  },
  "language_info": {
   "codemirror_mode": {
    "name": "ipython",
    "version": 3
   },
   "file_extension": ".py",
   "mimetype": "text/x-python",
   "name": "python",
   "nbconvert_exporter": "python",
   "pygments_lexer": "ipython3",
   "version": "3.9.19"
  }
 },
 "nbformat": 4,
 "nbformat_minor": 2
}
