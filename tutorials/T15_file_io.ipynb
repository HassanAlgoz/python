{
 "cells": [
  {
   "cell_type": "markdown",
   "metadata": {},
   "source": [
    "# File Handling"
   ]
  },
  {
   "cell_type": "markdown",
   "metadata": {},
   "source": [
    "Resources:\n",
    "\n",
    "- https://docs.python.org/3/tutorial/stdlib.html\n",
    "- https://docs.python.org/3/tutorial/stdlib2.html\n",
    "- [Context Manager](https://docs.python.org/3/library/contextlib.html) (`with`); to also understand how open works with `with`: https://realpython.com/python-with-statement/"
   ]
  },
  {
   "cell_type": "markdown",
   "metadata": {},
   "source": [
    "### File Path\n",
    "\n",
    "A ***path*** is a string that gives the location of a file. It is made up of a directory path and a file name.\n",
    "\n",
    "For example, in the file path `C:\\Users\\john\\hello.txt`, `C:\\Users\\john` is the directory path and `hello.txt` is the file name."
   ]
  },
  {
   "cell_type": "markdown",
   "metadata": {},
   "source": [
    "### Careful about backward slashes\n",
    "\n",
    "Note that:\n",
    "\n",
    "- Windows uses backward slashes: `C:\\Users\\john\\hello.txt`\n",
    "- macOS use forward slashes: `/Users/john/hello.txt`\n",
    "\n",
    "When copying and pasting file paths, you should change the backward slash to forward slash.\n",
    "\n",
    "```python\n",
    "'C:/Users/john/hello.txt'\n",
    "```"
   ]
  },
  {
   "cell_type": "code",
   "execution_count": null,
   "metadata": {},
   "outputs": [],
   "source": [
    "import os.path\n",
    "\n",
    "windows_path = \"C:/Users/John/Documents/file.txt\"\n",
    "\n",
    "head, tail = os.path.split(windows_path)\n",
    "print(head)\n",
    "print(tail)"
   ]
  },
  {
   "cell_type": "code",
   "execution_count": null,
   "metadata": {},
   "outputs": [],
   "source": [
    "import os.path\n",
    "\n",
    "unix_path = \"/home/user/my_file.txt\"\n",
    "\n",
    "head, tail = os.path.split(unix_path)\n",
    "print(head)\n",
    "print(tail)"
   ]
  },
  {
   "cell_type": "markdown",
   "metadata": {},
   "source": [
    "### Raw String"
   ]
  },
  {
   "cell_type": "code",
   "execution_count": null,
   "metadata": {},
   "outputs": [],
   "source": [
    "just_str = 'hello\\nworld'\n",
    "print(just_str)"
   ]
  },
  {
   "cell_type": "code",
   "execution_count": null,
   "metadata": {},
   "outputs": [],
   "source": [
    "raw_str = r'hello\\nworld'\n",
    "print(raw_str)"
   ]
  },
  {
   "cell_type": "markdown",
   "metadata": {},
   "source": [
    "The following will error:"
   ]
  },
  {
   "cell_type": "code",
   "execution_count": null,
   "metadata": {},
   "outputs": [],
   "source": [
    "windows_path = \"C:\\Users\\John\\Documents\\file.txt\"\n",
    "print(windows_path)"
   ]
  },
  {
   "cell_type": "markdown",
   "metadata": {},
   "source": [
    "Raw strings are used to avoid escape characters"
   ]
  },
  {
   "cell_type": "code",
   "execution_count": null,
   "metadata": {},
   "outputs": [],
   "source": [
    "windows_path_raw = r\"C:\\Users\\John\\Documents\\file.txt\"\n",
    "print(windows_path_raw)"
   ]
  },
  {
   "cell_type": "markdown",
   "metadata": {},
   "source": [
    "#### Exercise\n",
    "\n",
    "Which of the following is invalid file path in Python?\n",
    "\n",
    "- `file_path_a = \"C:\\Users\\john\\hello.txt\"`\n",
    "- `file_path_b = \"C:\\\\Users\\\\john\\\\hello.txt\"`\n",
    "- `file_path_c = \"C:/Users/john/hello.txt\"`\n",
    "- `file_path_d = \"/Users/john/hello.txt\"`"
   ]
  },
  {
   "cell_type": "markdown",
   "metadata": {},
   "source": [
    "Answer: ..."
   ]
  },
  {
   "cell_type": "code",
   "execution_count": null,
   "metadata": {},
   "outputs": [],
   "source": [
    "import os\n",
    "\n",
    "os.mkdir('example')"
   ]
  },
  {
   "cell_type": "markdown",
   "metadata": {},
   "source": [
    "The following is a list of methods often used with files:\n",
    "\n",
    "```py\n",
    "\n",
    "import os\n",
    "\n",
    "# Create a directory\n",
    "os.mkdir('new_dir') \n",
    "\n",
    "# Get current directory \n",
    "current_dir = os.getcwd()\n",
    "\n",
    "# Change directory\n",
    "os.chdir('new_dir')\n",
    "\n",
    "# Create a new file\n",
    "with open('file.txt', 'w') as f:\n",
    "   f.write('Hello World!')\n",
    "   \n",
    "# Rename file   \n",
    "os.rename('file.txt', 'hello.txt') \n",
    "\n",
    "# Get file size\n",
    "file_size = os.path.getsize('hello.txt')\n",
    "\n",
    "# Check if file exists\n",
    "file_exists = os.path.isfile('hello.txt') \n",
    "\n",
    "# Delete file\n",
    "os.remove('hello.txt')\n",
    "\n",
    "# Delete directory \n",
    "os.rmdir('new_dir')\n",
    "\n",
    "# List files in directory  \n",
    "files = os.listdir('.')\n",
    "\n",
    "print(files)\n",
    "\n",
    "```"
   ]
  },
  {
   "cell_type": "markdown",
   "metadata": {},
   "source": [
    "### Current Working Directory `os.getcwd()`\n",
    "\n",
    "- Absolute file paths always begin with the root folder. Example: `C:\\` or `/`.\n",
    "\n",
    "- Relative file paths do not begin with the root folder. Example: `example.txt` or `./example.txt`.\n",
    "\n",
    "Run the following to get the current working directory:"
   ]
  },
  {
   "cell_type": "code",
   "execution_count": null,
   "metadata": {},
   "outputs": [],
   "source": [
    "import os\n",
    "\n",
    "os.getcwd()"
   ]
  },
  {
   "cell_type": "markdown",
   "metadata": {},
   "source": [
    "### What does the `.` and `..` mean in file paths\n",
    "\n",
    "- `.` means the current directory\n",
    "- `..` means the parent directory\n",
    "\n",
    "Hence, `os.listdir('.')` means list all files in the current directory."
   ]
  },
  {
   "cell_type": "markdown",
   "metadata": {},
   "source": [
    "#### Exercise\n",
    "\n",
    "- Use `os.listdir('.')`\n",
    "- Use `os.listdir('..')`"
   ]
  },
  {
   "cell_type": "code",
   "execution_count": null,
   "metadata": {},
   "outputs": [],
   "source": [
    "# try it"
   ]
  },
  {
   "cell_type": "markdown",
   "metadata": {},
   "source": [
    "### Create and remove file"
   ]
  },
  {
   "cell_type": "code",
   "execution_count": null,
   "metadata": {},
   "outputs": [],
   "source": [
    "f = open('example.txt', 'w')\n",
    "f.write('this is a test')\n",
    "f.close()"
   ]
  },
  {
   "cell_type": "code",
   "execution_count": null,
   "metadata": {},
   "outputs": [],
   "source": [
    "# Create a new file\n",
    "with open('example.txt', 'w') as f:\n",
    "   f.write('Hello World!')"
   ]
  },
  {
   "cell_type": "code",
   "execution_count": null,
   "metadata": {},
   "outputs": [],
   "source": [
    "# Check if a file exists\n",
    "file_path = \"./example.txt\"\n",
    "if os.path.exists(file_path):\n",
    "    print(\"Yes. Exists\")\n",
    "else:\n",
    "    print(\"Not Found\")"
   ]
  },
  {
   "cell_type": "code",
   "execution_count": null,
   "metadata": {},
   "outputs": [],
   "source": [
    "os.remove('example.txt')"
   ]
  },
  {
   "cell_type": "markdown",
   "metadata": {},
   "source": [
    "### Create and remove directory"
   ]
  },
  {
   "cell_type": "code",
   "execution_count": null,
   "metadata": {},
   "outputs": [],
   "source": [
    "import os\n",
    "\n",
    "os.mkdir(\"new_directory\")"
   ]
  },
  {
   "cell_type": "code",
   "execution_count": null,
   "metadata": {},
   "outputs": [],
   "source": [
    "# Check if a file exists\n",
    "file_path = \"new_directory\"\n",
    "if os.path.exists(file_path):\n",
    "    print(\"Yes. Exists\")\n",
    "else:\n",
    "    print(\"Not Found\")"
   ]
  },
  {
   "cell_type": "code",
   "execution_count": null,
   "metadata": {},
   "outputs": [],
   "source": [
    "os.rmdir(\"new_directory\")"
   ]
  },
  {
   "cell_type": "markdown",
   "metadata": {},
   "source": [
    "### Find files on your system"
   ]
  },
  {
   "cell_type": "code",
   "execution_count": null,
   "metadata": {},
   "outputs": [],
   "source": [
    "# Convert file sizes to MBs and GBs\n",
    "def get_file_size(file_path):\n",
    "    # see: https://stackoverflow.com/a/1392549\n",
    "    size = sum( os.path.getsize(os.path.join(dirpath,filename)) for dirpath, dirnames, filenames in os.walk( file_path ) for filename in filenames )\n",
    "    size_kb = size / 1024\n",
    "    size_mb = size_kb / 1024\n",
    "    size_gb = size_mb / 1024\n",
    "    if size_gb > 0.1:\n",
    "        return size_gb, \"GB\"\n",
    "    elif size_mb > 0.1:\n",
    "        return size_mb, \"MB\"\n",
    "    return size_kb, \"KB\""
   ]
  },
  {
   "cell_type": "code",
   "execution_count": null,
   "metadata": {},
   "outputs": [],
   "source": [
    "import os\n",
    "import platform\n",
    "\n",
    "def walk_directory(root_dir):\n",
    "    \"\"\"Walks through a directory and prints information about its files and subdirectories.\"\"\"\n",
    "\n",
    "    for root, directories, files in os.walk(root_dir):\n",
    "        print(f\"Root directory: {root}\")\n",
    "\n",
    "        # Print directories\n",
    "        for directory in directories:\n",
    "            print(f\"- Directory: {os.path.join(root, directory)}\")\n",
    "\n",
    "        # Print files\n",
    "        for file in files:\n",
    "            print(f\"- File: {os.path.join(root, file)}\")\n",
    "\n",
    "        print(\"-\" * 20)  # Separate entries for readability"
   ]
  },
  {
   "cell_type": "code",
   "execution_count": null,
   "metadata": {},
   "outputs": [],
   "source": [
    "# Operating system-specific file paths\n",
    "if platform.system() == \"Windows\":\n",
    "    user_folder = os.path.expanduser(\"~\")\n",
    "    downloads_folder = os.path.join(user_folder, \"Downloads\")\n",
    "    \n",
    "    system_root = os.environ.get(\"SystemRoot\", \"C:\\\\Windows\")\n",
    "    built_in_apps_folder = os.path.join(system_root, \"System32\")\n",
    "    \n",
    "    apps_folder = os.environ.get(\"ProgramFiles\", \"C:\\\\Program Files\")\n",
    "elif platform.system() == \"Darwin\":  # macOS\n",
    "    user_folder = os.path.expanduser(\"~\")\n",
    "    downloads_folder = os.path.join(user_folder, \"Downloads\")\n",
    "    \n",
    "    system_root = \"/\"\n",
    "    built_in_apps_folder = \"/System/Applications\"\n",
    "    \n",
    "    apps_folder = \"/Applications\"\n",
    "\n",
    "# Walk through common file paths\n",
    "print(f'{system_root}')\n",
    "print(os.listdir(system_root))\n",
    "\n",
    "print(f'{user_folder}')\n",
    "print(os.listdir(user_folder))\n",
    "\n",
    "# File Size\n",
    "size, unit = get_file_size(apps_folder)\n",
    "print(f\"Size of {apps_folder}: {size:.2f} {unit}\")\n",
    "\n",
    "size, unit = get_file_size(downloads_folder)\n",
    "print(f\"Size of {downloads_folder}: {size:.2f} {unit}\")\n",
    "\n",
    "size, unit = get_file_size(built_in_apps_folder)\n",
    "print(f\"Size of {built_in_apps_folder}: {size:.2f} {unit}\")\n",
    "\n",
    "# print('downloads folder:')\n",
    "# walk_directory(downloads_folder)"
   ]
  },
  {
   "cell_type": "markdown",
   "metadata": {},
   "source": [
    "# File I/O\n",
    "\n",
    "*Reading* and *writing* files is the primary way for a program to **interact with the real-world**:\n",
    "\n",
    "* `I: input:  read files`\n",
    "* `O: output: write files`\n",
    "\n",
    "The key function for working with files in Python is the `open()` function.\n",
    "\n",
    "The `open()` function takes two parameters; `<filename>`, and `<mode>` which accepts characters having the following meaning:"
   ]
  },
  {
   "cell_type": "markdown",
   "metadata": {},
   "source": [
    "| Character | Meaning |\n",
    "|---|---|\n",
    "| r | Open for reading (default) |\n",
    "| w | Open for writing, truncating the file first |\n",
    "| x | Open for exclusive creation, failing if the file already exists |\n",
    "| a | Open for writing, appending to the end of file if it exists |\n",
    "| b | Binary mode (e.g., images, audio, or video) |\n",
    "| t | Text mode (default) |\n",
    "| + | Open for updating (reading and writing) |"
   ]
  },
  {
   "cell_type": "markdown",
   "metadata": {},
   "source": [
    "### Read the file in one go\n",
    "\n",
    "`file.read()` reads the entire file and returns it as a string."
   ]
  },
  {
   "cell_type": "code",
   "execution_count": null,
   "metadata": {},
   "outputs": [],
   "source": [
    "file = open('./data/students.txt')\n",
    "print(file.read())\n",
    "file.close()"
   ]
  },
  {
   "cell_type": "markdown",
   "metadata": {},
   "source": [
    "### Read line by line\n",
    "\n",
    "`file.readline()` reads a single line from the file; a newline character (`\\n`) is left at the end of the string, and is only omitted on the last line of the file if the file doesn’t end in a newline."
   ]
  },
  {
   "cell_type": "code",
   "execution_count": null,
   "metadata": {},
   "outputs": [],
   "source": [
    "file = open('./data/students.txt')\n",
    "print(file.readline())\n",
    "print(file.readline())\n",
    "file.close()"
   ]
  },
  {
   "cell_type": "code",
   "execution_count": null,
   "metadata": {},
   "outputs": [],
   "source": [
    "file = open('./data/students.txt')\n",
    "while True:\n",
    "    line = file.readline()\n",
    "    line = line.rstrip() # remove the newline character \"\\n\"\n",
    "    if line == '':\n",
    "        break\n",
    "    print(line)\n",
    "file.close()"
   ]
  },
  {
   "cell_type": "markdown",
   "metadata": {},
   "source": [
    "### Automatically close files using the `with` block (Context Manager)"
   ]
  },
  {
   "cell_type": "code",
   "execution_count": null,
   "metadata": {},
   "outputs": [],
   "source": [
    "file_path = './data/students.txt'\n",
    "with open(file_path, \"r\") as f:\n",
    "    while True:\n",
    "        line = f.readline()\n",
    "        line = line.rstrip() # remove the newline character \"\\n\"\n",
    "        if line == '':\n",
    "            break\n",
    "        print(line)"
   ]
  },
  {
   "cell_type": "markdown",
   "metadata": {},
   "source": [
    "Let's now print the line number as well: `i` starting from `1`."
   ]
  },
  {
   "cell_type": "code",
   "execution_count": null,
   "metadata": {},
   "outputs": [],
   "source": [
    "file_path = './data/students.txt'\n",
    "i = 1\n",
    "with open(file_path, \"r\") as f:\n",
    "    while True:\n",
    "        line = f.readline()\n",
    "        line = line.rstrip() # remove the newline character \"\\n\"\n",
    "        if line == '':\n",
    "            break\n",
    "        print(i, line)\n",
    "        i += 1"
   ]
  },
  {
   "cell_type": "markdown",
   "metadata": {},
   "source": [
    "#### Exercise\n",
    "\n",
    "- Read the file `fewlines.txt` in the `data` folder and print it.\n",
    "- Count the number of **lines** in the file.\n",
    "- Count the number of **characters** in the file.\n",
    "- Count the number of **words** in the file."
   ]
  },
  {
   "cell_type": "code",
   "execution_count": null,
   "metadata": {},
   "outputs": [],
   "source": [
    "# try it"
   ]
  },
  {
   "cell_type": "markdown",
   "metadata": {},
   "source": [
    "### Custom Defined Context Manager"
   ]
  },
  {
   "cell_type": "code",
   "execution_count": null,
   "metadata": {},
   "outputs": [],
   "source": []
  },
  {
   "cell_type": "markdown",
   "metadata": {},
   "source": [
    "### Handle File Errors\n",
    "\n",
    "When working with files, it is important to handle errors that can occur. For example:\n",
    "\n",
    "1. the file may not exist\n",
    "1. the file may be write-protected\n",
    "\n",
    "To handle errors when working with files, you can use a `try...except` block. The `try` block contains the code that you want to execute. If an error occurs, the `except` block will be executed.\n",
    "\n",
    "Here is an example of how to handle errors when working with files in Python:"
   ]
  },
  {
   "cell_type": "code",
   "execution_count": null,
   "metadata": {},
   "outputs": [],
   "source": [
    "file_path = 'new_file.txt'\n",
    "with open(file_path, \"w\") as f:\n",
    "    f.write(\"zip zap\")"
   ]
  },
  {
   "cell_type": "code",
   "execution_count": null,
   "metadata": {},
   "outputs": [],
   "source": [
    "try:\n",
    "    with open(\"new_file.txt\", \"r\") as f:\n",
    "        contents = f.read()\n",
    "        print('success')\n",
    "except FileNotFoundError:\n",
    "    print(\"The file does not exist!\")\n",
    "except PermissionError:\n",
    "    print(\"The file is write-protected!\")\n",
    "except Exception as e:\n",
    "    print(\"some error happend:\", e)"
   ]
  },
  {
   "cell_type": "markdown",
   "metadata": {},
   "source": [
    "# The `csv` module\n",
    "\n",
    "CSV stands for: Comma Separated Values.\n",
    "\n",
    "The `csv` module implements classes to read and write tabular data in CSV format."
   ]
  },
  {
   "cell_type": "code",
   "execution_count": null,
   "metadata": {},
   "outputs": [],
   "source": [
    "import csv"
   ]
  },
  {
   "cell_type": "code",
   "execution_count": null,
   "metadata": {},
   "outputs": [],
   "source": [
    "data = []\n",
    "with open('./data/customers.csv', 'r') as f:\n",
    "    reader = csv.reader(f)\n",
    "    for row in reader:\n",
    "        data.append(row)\n",
    "\n",
    "print(data)"
   ]
  },
  {
   "cell_type": "code",
   "execution_count": null,
   "metadata": {},
   "outputs": [],
   "source": [
    "# Open the CSV file for reading.\n",
    "data = []\n",
    "with open('./data/customers.csv', \"r\") as f:\n",
    "    reader = csv.reader(f)\n",
    "\n",
    "    # Iterate over the rows of the CSV file.\n",
    "    for row in reader:\n",
    "        data.append(row)\n",
    "\n",
    "header = data[0]\n",
    "rows = data[1:]"
   ]
  },
  {
   "cell_type": "code",
   "execution_count": null,
   "metadata": {},
   "outputs": [],
   "source": [
    "print(header)\n",
    "print(rows)"
   ]
  },
  {
   "cell_type": "code",
   "execution_count": null,
   "metadata": {},
   "outputs": [],
   "source": [
    "# Open the CSV file for writing.\n",
    "with open(\"asdf.csv\", \"w\") as f:\n",
    "    writer = csv.writer(f)\n",
    "\n",
    "    # Write the header row.\n",
    "    writer.writerow([\"name\", \"age\"])\n",
    "\n",
    "    # Write the data rows.\n",
    "    rows = [\n",
    "        [\"Alice\", 25],\n",
    "        [\"Bob\", 30],\n",
    "    ]\n",
    "    writer.writerows(rows)"
   ]
  }
 ],
 "metadata": {
  "kernelspec": {
   "display_name": "Python 3",
   "language": "python",
   "name": "python3"
  },
  "language_info": {
   "codemirror_mode": {
    "name": "ipython",
    "version": 3
   },
   "file_extension": ".py",
   "mimetype": "text/x-python",
   "name": "python",
   "nbconvert_exporter": "python",
   "pygments_lexer": "ipython3",
   "version": "3.10.11"
  }
 },
 "nbformat": 4,
 "nbformat_minor": 2
}
