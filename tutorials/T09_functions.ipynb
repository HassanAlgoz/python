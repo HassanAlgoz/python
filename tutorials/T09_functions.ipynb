{
 "cells": [
  {
   "cell_type": "markdown",
   "metadata": {},
   "source": [
    "# Functions\n",
    "\n",
    "Functions are reusable pieces of code that can be called from anywhere in your program."
   ]
  },
  {
   "cell_type": "markdown",
   "metadata": {},
   "source": [
    "Recall that we have been using **built-in** functions like:\n",
    "\n",
    "- `print()`\n",
    "- `input()`\n",
    "- `int()`\n",
    "\n",
    "We also have seen some functions from the `math` **standard library** module:\n",
    "\n",
    "- `math.sqrt()`\n",
    "- `math.pow()`"
   ]
  },
  {
   "cell_type": "markdown",
   "metadata": {},
   "source": [
    "### Standard library functions"
   ]
  },
  {
   "cell_type": "markdown",
   "metadata": {},
   "source": [
    "To access additional math functions: we [`import math`](https://docs.python.org/3/library/math.html), and then use the `math.` prefix to access the functions."
   ]
  },
  {
   "cell_type": "code",
   "execution_count": 6,
   "metadata": {},
   "outputs": [
    {
     "name": "stdout",
     "output_type": "stream",
     "text": [
      "80.0\n"
     ]
    }
   ],
   "source": [
    "import math\n",
    "\n",
    "x = abs(-2) + math.pow(2, 3)\n",
    "y = math.sqrt(64)\n",
    "z = x * y\n",
    "print(z)"
   ]
  },
  {
   "cell_type": "markdown",
   "metadata": {},
   "source": [
    "To find out what functions are available in the `math` module, you can use the `dir()` function:\n"
   ]
  },
  {
   "cell_type": "code",
   "execution_count": 7,
   "metadata": {},
   "outputs": [
    {
     "data": {
      "text/plain": [
       "['__doc__',\n",
       " '__loader__',\n",
       " '__name__',\n",
       " '__package__',\n",
       " '__spec__',\n",
       " 'acos',\n",
       " 'acosh',\n",
       " 'asin',\n",
       " 'asinh',\n",
       " 'atan',\n",
       " 'atan2',\n",
       " 'atanh',\n",
       " 'ceil',\n",
       " 'comb',\n",
       " 'copysign',\n",
       " 'cos',\n",
       " 'cosh',\n",
       " 'degrees',\n",
       " 'dist',\n",
       " 'e',\n",
       " 'erf',\n",
       " 'erfc',\n",
       " 'exp',\n",
       " 'expm1',\n",
       " 'fabs',\n",
       " 'factorial',\n",
       " 'floor',\n",
       " 'fmod',\n",
       " 'frexp',\n",
       " 'fsum',\n",
       " 'gamma',\n",
       " 'gcd',\n",
       " 'hypot',\n",
       " 'inf',\n",
       " 'isclose',\n",
       " 'isfinite',\n",
       " 'isinf',\n",
       " 'isnan',\n",
       " 'isqrt',\n",
       " 'lcm',\n",
       " 'ldexp',\n",
       " 'lgamma',\n",
       " 'log',\n",
       " 'log10',\n",
       " 'log1p',\n",
       " 'log2',\n",
       " 'modf',\n",
       " 'nan',\n",
       " 'nextafter',\n",
       " 'perm',\n",
       " 'pi',\n",
       " 'pow',\n",
       " 'prod',\n",
       " 'radians',\n",
       " 'remainder',\n",
       " 'sin',\n",
       " 'sinh',\n",
       " 'sqrt',\n",
       " 'tan',\n",
       " 'tanh',\n",
       " 'tau',\n",
       " 'trunc',\n",
       " 'ulp']"
      ]
     },
     "execution_count": 7,
     "metadata": {},
     "output_type": "execute_result"
    }
   ],
   "source": [
    "dir(math)"
   ]
  },
  {
   "cell_type": "markdown",
   "metadata": {},
   "source": [
    "#### The `from import` syntax\n",
    "\n",
    "We can also use the `from` syntax to import specific functions from a module:\n",
    "\n",
    "```python\n",
    "from math import sqrt, pow\n",
    "```\n"
   ]
  },
  {
   "cell_type": "code",
   "execution_count": 7,
   "metadata": {},
   "outputs": [
    {
     "name": "stdout",
     "output_type": "stream",
     "text": [
      "8.0\n",
      "8.0\n"
     ]
    }
   ],
   "source": [
    "import math\n",
    "from math import sqrt, pow\n",
    "\n",
    "print(sqrt(64))\n",
    "print(math.sqrt(64))"
   ]
  },
  {
   "cell_type": "markdown",
   "metadata": {},
   "source": [
    "### User-defined functions\n",
    "\n",
    "Becareful not to pick names for your functions that are already used by Python. For example, don't name your function `sum`, `min`, `max`, `print` or `input` or `int` or `math`. If you do, you will not be able to use the built-in functions with those names."
   ]
  },
  {
   "cell_type": "markdown",
   "metadata": {},
   "source": [
    "Now, let us define our own functions.\n",
    "\n",
    "The syntax for defining a function is:\n",
    "\n",
    "```python\n",
    "def function_name(parameters):\n",
    "    # code block\n",
    "    return value\n",
    "```"
   ]
  },
  {
   "cell_type": "markdown",
   "metadata": {},
   "source": [
    "The following is a function that takes 2 arguments and returns the sum of them."
   ]
  },
  {
   "cell_type": "code",
   "execution_count": 8,
   "metadata": {},
   "outputs": [],
   "source": [
    "def add(num1, num2):\n",
    "    result = num1 + num2\n",
    "    return result\n",
    "    print('hello') # <-- ignored"
   ]
  },
  {
   "cell_type": "markdown",
   "metadata": {},
   "source": [
    "To call a defined function, we simply write the function name followed by parentheses and pass in the arguments (if any)."
   ]
  },
  {
   "cell_type": "code",
   "execution_count": 9,
   "metadata": {},
   "outputs": [
    {
     "data": {
      "text/plain": [
       "30"
      ]
     },
     "execution_count": 9,
     "metadata": {},
     "output_type": "execute_result"
    }
   ],
   "source": [
    "add(10, 20)"
   ]
  },
  {
   "cell_type": "code",
   "execution_count": 10,
   "metadata": {},
   "outputs": [
    {
     "data": {
      "text/plain": [
       "100"
      ]
     },
     "execution_count": 10,
     "metadata": {},
     "output_type": "execute_result"
    }
   ],
   "source": [
    "add(40, 60)"
   ]
  },
  {
   "cell_type": "markdown",
   "metadata": {},
   "source": [
    "We can use function return values to assign them to variables:"
   ]
  },
  {
   "cell_type": "code",
   "execution_count": 11,
   "metadata": {},
   "outputs": [],
   "source": [
    "s1 = add(10, 20)\n",
    "s2 = add(11, 22)"
   ]
  },
  {
   "cell_type": "markdown",
   "metadata": {},
   "source": [
    "### Void functions\n",
    "\n",
    "- Some functions do not return any value. They are called **void** functions.\n",
    "- They are used to perform an action, but do not return a value."
   ]
  },
  {
   "cell_type": "markdown",
   "metadata": {},
   "source": [
    "The following is a function that takes no arguments and returns nothing. It only prints a message."
   ]
  },
  {
   "cell_type": "code",
   "execution_count": 17,
   "metadata": {},
   "outputs": [],
   "source": [
    "def show(x):\n",
    "    print(x, \"this is not a return, rather, it is a print statement.\")\n",
    "    return None # <-- implicitly added"
   ]
  },
  {
   "cell_type": "code",
   "execution_count": 18,
   "metadata": {},
   "outputs": [
    {
     "name": "stdout",
     "output_type": "stream",
     "text": [
      "99 this is not a return, rather, it is a print statement.\n",
      "None\n"
     ]
    }
   ],
   "source": [
    "a = show(99)\n",
    "print(a)"
   ]
  },
  {
   "cell_type": "markdown",
   "metadata": {},
   "source": [
    "### Exercise\n",
    "\n",
    "Write the function $\\text{multiply}(a, b, c) = a \\times b \\times c$.\n",
    "\n",
    "Remember the syntax for defining a function:\n",
    "\n",
    "```python\n",
    "def function_name(argument1, argument2, ...):\n",
    "    # code\n",
    "    return something\n",
    "```"
   ]
  },
  {
   "cell_type": "markdown",
   "metadata": {},
   "source": [
    "Then, call the function with some arguments."
   ]
  },
  {
   "cell_type": "markdown",
   "metadata": {},
   "source": [
    "#### Exercise\n",
    "\n",
    "Write a function that takes 2 arguments and returns the difference of them."
   ]
  },
  {
   "cell_type": "code",
   "execution_count": 7,
   "metadata": {},
   "outputs": [],
   "source": [
    "# try it"
   ]
  },
  {
   "cell_type": "markdown",
   "metadata": {},
   "source": [
    "Define a function that takes two arguments, name and age, and print their value."
   ]
  },
  {
   "cell_type": "code",
   "execution_count": 8,
   "metadata": {},
   "outputs": [],
   "source": [
    "# try it"
   ]
  },
  {
   "cell_type": "markdown",
   "metadata": {},
   "source": [
    "Define a function `check_password_stength(password)` which returns 'Strong' if the password is more than 8 characters long. Otherwise, it returns 'Weak'.\n",
    "\n",
    "Hint: use `len(password)` to get the length of a string."
   ]
  },
  {
   "cell_type": "code",
   "execution_count": 9,
   "metadata": {},
   "outputs": [],
   "source": [
    "# try it"
   ]
  },
  {
   "cell_type": "markdown",
   "metadata": {},
   "source": [
    "## Returning multiple values\n",
    "\n",
    "- Python functions can return multiple values. This is done by separating the values with commas.\n",
    "- The values are returned as a tuple."
   ]
  },
  {
   "cell_type": "code",
   "execution_count": 20,
   "metadata": {},
   "outputs": [
    {
     "name": "stdout",
     "output_type": "stream",
     "text": [
      "(15, 5) <class 'tuple'>\n"
     ]
    }
   ],
   "source": [
    "\n",
    "def calculate(num1, num2):\n",
    "  sum = num1 + num2\n",
    "  diff = num1 - num2\n",
    "  return sum, diff\n",
    "\n",
    "val = calculate(10, 5)\n",
    "print(val, type(val))"
   ]
  },
  {
   "cell_type": "code",
   "execution_count": 11,
   "metadata": {},
   "outputs": [
    {
     "name": "stdout",
     "output_type": "stream",
     "text": [
      "15 5\n"
     ]
    }
   ],
   "source": [
    "result_sum, result_diff = calculate(10, 5)\n",
    "print(result_sum, result_diff)"
   ]
  },
  {
   "cell_type": "markdown",
   "metadata": {},
   "source": [
    "#### Exercise\n",
    "\n",
    "Write a function that takes 2 arguments, `a` and `b`, and returns the sum, difference of of them."
   ]
  },
  {
   "cell_type": "code",
   "execution_count": 12,
   "metadata": {},
   "outputs": [],
   "source": [
    "# try it"
   ]
  },
  {
   "cell_type": "markdown",
   "metadata": {},
   "source": [
    "#### Exercise\n",
    "\n",
    "Write a function that takes 2 arguments, `a` and `b`, and returns the uppercase and lowercase of of them."
   ]
  },
  {
   "cell_type": "code",
   "execution_count": 13,
   "metadata": {},
   "outputs": [],
   "source": [
    "# try it"
   ]
  },
  {
   "cell_type": "markdown",
   "metadata": {},
   "source": [
    "## Functions calling other functions"
   ]
  },
  {
   "cell_type": "code",
   "execution_count": 14,
   "metadata": {},
   "outputs": [
    {
     "name": "stdout",
     "output_type": "stream",
     "text": [
      "a: 14.385164807134505\n",
      "b: 13.47213595499958\n"
     ]
    }
   ],
   "source": [
    "import math\n",
    "\n",
    "p = 9\n",
    "\n",
    "def square_root(x):\n",
    "    return math.sqrt(x)\n",
    "\n",
    "def my_square(x, y):\n",
    "    z = square_root((x ** 2) + (y ** 2)) + p\n",
    "    return z\n",
    "\n",
    "a = my_square(2, 5)\n",
    "b = my_square(4, 2)\n",
    "\n",
    "print('a:', a)\n",
    "print('b:', b)"
   ]
  },
  {
   "cell_type": "markdown",
   "metadata": {},
   "source": [
    "## Default Arguments\n",
    "\n",
    "We can define default values for function arguments. If the caller does not pass in a value for that argument, the default value will be used."
   ]
  },
  {
   "cell_type": "code",
   "execution_count": 27,
   "metadata": {},
   "outputs": [
    {
     "name": "stdout",
     "output_type": "stream",
     "text": [
      "Salam Adam\n"
     ]
    }
   ],
   "source": [
    "def greet(name, greeting='Hello'):\n",
    "    print(greeting, name)\n",
    "    \n",
    "greet('Adam', greeting=\"Salam\")"
   ]
  },
  {
   "cell_type": "code",
   "execution_count": 15,
   "metadata": {},
   "outputs": [
    {
     "name": "stdout",
     "output_type": "stream",
     "text": [
      "Hello John\n",
      "Hi Mary\n"
     ]
    }
   ],
   "source": [
    "# Default arguments\n",
    "def greet(name, greeting=\"Hello\"):\n",
    "  print(greeting, name)\n",
    "\n",
    "greet(\"John\") \n",
    "greet(\"Mary\", \"Hi\")"
   ]
  },
  {
   "cell_type": "markdown",
   "metadata": {},
   "source": [
    "Note: `name` `name` is a **positional argument**; meaning that its position is important. Unlike `greeting`, which is a **keyword argument**."
   ]
  },
  {
   "cell_type": "markdown",
   "metadata": {},
   "source": [
    "#### Exercise\n",
    "\n",
    "Write a function that takes name and salary. If the employee's salary is not provided. It defaults to `9000`."
   ]
  },
  {
   "cell_type": "code",
   "execution_count": 16,
   "metadata": {},
   "outputs": [],
   "source": [
    "# try it"
   ]
  },
  {
   "cell_type": "markdown",
   "metadata": {},
   "source": [
    "## *Args and **Kwargs"
   ]
  },
  {
   "cell_type": "code",
   "execution_count": 14,
   "metadata": {},
   "outputs": [
    {
     "name": "stdout",
     "output_type": "stream",
     "text": [
      "1 2\n",
      "3\n",
      "4\n",
      "5\n",
      "6\n",
      "7\n",
      "8\n"
     ]
    }
   ],
   "source": [
    "def my_function(a, b, *args):\n",
    "    print(a, b)\n",
    "    for arg in args:\n",
    "        print(arg)\n",
    "\n",
    "my_function(1, 2, 3, 4, 5, 6, 7, 8)"
   ]
  },
  {
   "cell_type": "code",
   "execution_count": 15,
   "metadata": {},
   "outputs": [
    {
     "name": "stdout",
     "output_type": "stream",
     "text": [
      "1 2\n",
      "3\n",
      "4\n",
      "5\n",
      "six 6\n",
      "seven 7\n"
     ]
    }
   ],
   "source": [
    "def my_function(a, b, *args, **kwargs):\n",
    "    print(a, b)\n",
    "    for arg in args:\n",
    "        print(arg)\n",
    "    for key, value in kwargs.items():\n",
    "        print(key, value)\n",
    "\n",
    "my_function(1, 2, 3, 4, 5, six=6, seven=7)"
   ]
  },
  {
   "cell_type": "markdown",
   "metadata": {},
   "source": [
    "## Variable Scope"
   ]
  },
  {
   "cell_type": "markdown",
   "metadata": {},
   "source": [
    "Here, the variables `x` and `x` have the same name, but they have no relation whatsoever to each other, because they are in different **scopes**."
   ]
  },
  {
   "cell_type": "markdown",
   "metadata": {},
   "source": [
    "### Built-in scope\n",
    "\n",
    "A variable or function that is predefined in Python. It can be accessed from anywhere in the program.\n",
    "\n",
    "See docs for a full list of built-in functions: https://docs.python.org/3/library/functions.html\n",
    "\n",
    "Functions like:\n",
    "\n",
    "- `print`\n",
    "- `len`"
   ]
  },
  {
   "cell_type": "code",
   "execution_count": null,
   "metadata": {},
   "outputs": [
    {
     "name": "stdout",
     "output_type": "stream",
     "text": [
      "13\n"
     ]
    }
   ],
   "source": [
    "x = len(\"Hello, world!\")\n",
    "print(x)"
   ]
  },
  {
   "cell_type": "markdown",
   "metadata": {},
   "source": [
    "### Local scope\n",
    "\n",
    "A variable defined inside a function. It can only be accessed inside of the function in which it is defined."
   ]
  },
  {
   "cell_type": "code",
   "execution_count": null,
   "metadata": {},
   "outputs": [
    {
     "name": "stdout",
     "output_type": "stream",
     "text": [
      "Hello, Alice!\n"
     ]
    },
    {
     "ename": "NameError",
     "evalue": "name 'message' is not defined",
     "output_type": "error",
     "traceback": [
      "\u001b[1;31m---------------------------------------------------------------------------\u001b[0m\n",
      "\u001b[1;31mNameError\u001b[0m                                 Traceback (most recent call last)\n",
      "Cell \u001b[1;32mIn[24], line 9\u001b[0m\n",
      "\u001b[0;32m      6\u001b[0m greet(\u001b[38;5;124m\"\u001b[39m\u001b[38;5;124mAlice\u001b[39m\u001b[38;5;124m\"\u001b[39m)\n",
      "\u001b[0;32m      8\u001b[0m \u001b[38;5;66;03m# uncomment the following line and run it to see the error:\u001b[39;00m\n",
      "\u001b[1;32m----> 9\u001b[0m \u001b[38;5;28mprint\u001b[39m(\u001b[43mmessage\u001b[49m) \u001b[38;5;66;03m# NameError: name 'message' is not defined\u001b[39;00m\n",
      "\n",
      "\u001b[1;31mNameError\u001b[0m: name 'message' is not defined"
     ]
    }
   ],
   "source": [
    "def greet(name):\n",
    "    # Local variable\n",
    "    message = \"Hello, {}!\".format(name)\n",
    "    print(message)\n",
    "\n",
    "greet(\"Alice\")\n",
    "\n",
    "# uncomment the following line and run it to see the error:\n",
    "print(message) # NameError: name 'message' is not defined"
   ]
  },
  {
   "cell_type": "markdown",
   "metadata": {},
   "source": [
    "#### Conditional scope?"
   ]
  },
  {
   "cell_type": "code",
   "execution_count": null,
   "metadata": {},
   "outputs": [
    {
     "name": "stdout",
     "output_type": "stream",
     "text": [
      "5\n"
     ]
    }
   ],
   "source": [
    "cond = True or False\n",
    "\n",
    "if cond:\n",
    "    kkk = 5\n",
    "\n",
    "print(kkk)"
   ]
  },
  {
   "cell_type": "markdown",
   "metadata": {},
   "source": [
    "#### Function scope"
   ]
  },
  {
   "cell_type": "code",
   "execution_count": null,
   "metadata": {},
   "outputs": [],
   "source": [
    "x = 5\n",
    "y = 10"
   ]
  },
  {
   "cell_type": "code",
   "execution_count": null,
   "metadata": {},
   "outputs": [
    {
     "name": "stdout",
     "output_type": "stream",
     "text": [
      "0x7fff2aeb83a8\n",
      "0x7fff2aeb8448\n"
     ]
    }
   ],
   "source": [
    "print(hex(id(x)))\n",
    "print(hex(id(y)))"
   ]
  },
  {
   "cell_type": "code",
   "execution_count": 9,
   "metadata": {},
   "outputs": [
    {
     "name": "stdout",
     "output_type": "stream",
     "text": [
      "0x7fff2aeb8588\n",
      "20\n",
      "0x7fff2aeb86c8\n",
      "30\n"
     ]
    }
   ],
   "source": [
    "def A(a):\n",
    "    x = a + 10\n",
    "    print(hex(id(x)))\n",
    "    return x\n",
    "\n",
    "def B(b):\n",
    "    x = b + 20\n",
    "    print(hex(id(x)))\n",
    "    return x\n",
    "\n",
    "print(A(10))\n",
    "print(B(10))"
   ]
  },
  {
   "cell_type": "code",
   "execution_count": 23,
   "metadata": {},
   "outputs": [
    {
     "name": "stdout",
     "output_type": "stream",
     "text": [
      "0\n"
     ]
    }
   ],
   "source": [
    "# Global scope\n",
    "x = 0\n",
    "\n",
    "def outer():\n",
    "    # Enclosed scope\n",
    "    x = 1\n",
    "    def inner():\n",
    "        # Local scope\n",
    "        x = 2\n",
    "        \n",
    "print(x)"
   ]
  },
  {
   "cell_type": "markdown",
   "metadata": {},
   "source": [
    "### The `global` keyword"
   ]
  },
  {
   "cell_type": "code",
   "execution_count": null,
   "metadata": {},
   "outputs": [
    {
     "name": "stdout",
     "output_type": "stream",
     "text": [
      "100\n",
      "5\n"
     ]
    }
   ],
   "source": [
    "x = 100\n",
    "\n",
    "def outer():\n",
    "    global x\n",
    "    print(x)\n",
    "    x = 5\n",
    "\n",
    "outer()\n",
    "print(x)"
   ]
  },
  {
   "cell_type": "markdown",
   "metadata": {},
   "source": [
    "### Global scope\n",
    "\n",
    "A variable defined outside of any function (usually right after imports). It can be accessed from anywhere in the program."
   ]
  },
  {
   "cell_type": "code",
   "execution_count": null,
   "metadata": {},
   "outputs": [
    {
     "name": "stdout",
     "output_type": "stream",
     "text": [
      "Hello, world!\n"
     ]
    }
   ],
   "source": [
    "# Global variable (defined at the outer-level of indentation, usually right after imports)\n",
    "message2 = \"Hello, world!\"\n",
    "\n",
    "def greet():\n",
    "    print(message2)\n",
    "\n",
    "greet()"
   ]
  },
  {
   "cell_type": "markdown",
   "metadata": {},
   "source": [
    "## Scope LEGB rule\n",
    "\n",
    "In summary, Python uses a concept called LEGB rule (Local, Enclosing, Global, Built-in) to determine which variable to access when a name is encountered. It searches for variables in the following order:\n",
    "\n",
    "1. **Local scope:** The current function's code block.\n",
    "2. **Enclosing scopes:** Any functions or loops enclosing the current function.\n",
    "3. **Global scope:** The module's global namespace.\n",
    "4. **Built-in names:** Python's predefined functions and variables.\n",
    "\n",
    "By understanding scope, you can write cleaner and more predictable Python code."
   ]
  },
  {
   "cell_type": "markdown",
   "metadata": {},
   "source": [
    "### Exercises: Scope"
   ]
  },
  {
   "cell_type": "markdown",
   "metadata": {},
   "source": [
    "Ex: Will the following code work? Why or why not?\n",
    "\n",
    "```py\n",
    "# Snippet 1\n",
    "x = 5\n",
    "\n",
    "def func1():\n",
    "  print(x)\n",
    "  \n",
    "func1()\n",
    "```"
   ]
  },
  {
   "cell_type": "markdown",
   "metadata": {},
   "source": [
    "<details>\n",
    "<summary>Solution</summary>\n",
    "\n",
    "**Explanation:**\n",
    "\n",
    "- `x = 5` creates a global variable named `x` with the value 5. This variable is accessible throughout the entire Python program.\n",
    "- `def func1():` defines a function named `func1`.\n",
    "- Inside `func1()`, there's a statement `print(x)`. When `func1()` is called, Python looks for a variable named `x` within the current scope (which is the function's local scope in this case).\n",
    "- Since there's no `x` defined inside `func1()`, Python searches for it in the enclosing scopes (which means it goes outside the function).\n",
    "- It finds the global variable `x` with the value 5 and prints it.\n",
    "\n",
    "</details>"
   ]
  },
  {
   "cell_type": "markdown",
   "metadata": {},
   "source": [
    "Ex: What will each print statement print in Snippet 2? Explain how the variable x is scoped.\n",
    "\n",
    "```py\n",
    "# Snippet 2\n",
    "x = 5\n",
    "\n",
    "def func2():\n",
    "  x = 10\n",
    "  print(x)\n",
    "  \n",
    "func2()\n",
    "print(x)\n",
    "```"
   ]
  },
  {
   "cell_type": "markdown",
   "metadata": {},
   "source": [
    "<details>\n",
    "<summary>Solution</summary>\n",
    "\n",
    "**Explanation:**\n",
    "\n",
    "- `x = 5` creates a global variable named `x` with the value 5.\n",
    "- `def func2():` defines a function named `func2`.\n",
    "- Inside `func2()`, there's a statement `x = 10`. This creates a local variable named `x` within the function's scope and assigns the value 10 to it.\n",
    "- The `print(x)` statement inside `func2()` refers to the local `x` (which is 10) and prints it.\n",
    "- After `func2()` finishes execution, the local `x` is destroyed. The global `x` remains unchanged.\n",
    "- The final `print(x)` outside the function refers to the global `x`, so it prints 5.\n",
    "\n",
    "\n",
    "</details>"
   ]
  },
  {
   "cell_type": "markdown",
   "metadata": {},
   "source": [
    "Ex: What will each print statement print in Snippet 3? Explain how the variable y is scoped.\n",
    "\n",
    "```py\n",
    "# Snippet 3  \n",
    "y = 10\n",
    "\n",
    "def func3():\n",
    "  global y\n",
    "  y = 20\n",
    "  print(y)\n",
    "  \n",
    "func3()\n",
    "print(y)\n",
    "```"
   ]
  },
  {
   "cell_type": "markdown",
   "metadata": {},
   "source": [
    "<details>\n",
    "<summary>Solution</summary>\n",
    "\n",
    "**Explanation:**\n",
    "\n",
    "- `y = 10` creates a global variable named `y` with the value 10.\n",
    "- `def func3():` defines a function named `func3`.\n",
    "- Inside `func3()`, there's a statement `global y`. This tells Python that you want to modify the global variable `y`, not create a local one.\n",
    "- `y = 20` assigns the value 20 to the global `y`.\n",
    "- The `print(y)` statement inside `func3()` prints the modified value of the global `y` (which is 20).\n",
    "- The final `print(y)` outside the function also refers to the same global `y`, which now has the value 20, so it prints 20.\n",
    "\n",
    "</details>"
   ]
  }
 ],
 "metadata": {
  "kernelspec": {
   "display_name": "Python 3",
   "language": "python",
   "name": "python3"
  },
  "language_info": {
   "codemirror_mode": {
    "name": "ipython",
    "version": 3
   },
   "file_extension": ".py",
   "mimetype": "text/x-python",
   "name": "python",
   "nbconvert_exporter": "python",
   "pygments_lexer": "ipython3",
   "version": "3.10.11"
  }
 },
 "nbformat": 4,
 "nbformat_minor": 2
}
