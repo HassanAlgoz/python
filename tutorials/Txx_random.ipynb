{
 "cells": [
  {
   "cell_type": "markdown",
   "id": "4ce86b09-6eed-49c6-a1ae-e3b4d4146237",
   "metadata": {},
   "source": [
    "# Random"
   ]
  },
  {
   "cell_type": "markdown",
   "id": "91e1b47c",
   "metadata": {},
   "source": [
    "### Random Seed\n",
    "\n",
    "**Computers can't generate true randomness**, but they can create numbers that seem random. This is done with a special function called `seed()`.\n",
    "\n",
    "Think of `seed()` like a recipe for randomness. It takes a starting number (the seed) as an ingredient, and uses it to cook up a sequence of seemingly random numbers.\n",
    "\n",
    "By default, `seed()` uses the current time as the ingredient, which creates a different recipe every time you run your program. But here's the twist: if you use the same seed twice, you'll get the same sequence of random numbers – just like following the same recipe twice gives you the same dish.\n",
    "\n",
    "This predictability is useful when you want your program to behave the same way each time you run it, for example in simulations or games. You can set a specific seed to make sure you get the same \"random\" results every time you test your code."
   ]
  },
  {
   "cell_type": "code",
   "execution_count": 7,
   "id": "6f42c1e8",
   "metadata": {},
   "outputs": [
    {
     "data": {
      "text/plain": [
       "0.40853587925449375"
      ]
     },
     "execution_count": 7,
     "metadata": {},
     "output_type": "execute_result"
    }
   ],
   "source": [
    "import random\n",
    "\n",
    "random.seed(44)\n",
    "\n",
    "random.random() # <-- no matter how many times you run this, it will always return the same number"
   ]
  },
  {
   "cell_type": "code",
   "execution_count": 19,
   "id": "b5f199a2",
   "metadata": {},
   "outputs": [
    {
     "data": {
      "text/plain": [
       "0.37842657112328093"
      ]
     },
     "execution_count": 19,
     "metadata": {},
     "output_type": "execute_result"
    }
   ],
   "source": [
    "random.random() # <-- without reseeding, this will return a different number"
   ]
  },
  {
   "cell_type": "markdown",
   "id": "a8ef0cb0-173a-4f55-a326-63a01d0e7a86",
   "metadata": {},
   "source": [
    "### Generating random numbers"
   ]
  },
  {
   "cell_type": "code",
   "execution_count": 249,
   "id": "78bd0e48-3ef8-436e-bf00-cd563ae1ff42",
   "metadata": {
    "tags": []
   },
   "outputs": [
    {
     "name": "stdout",
     "output_type": "stream",
     "text": [
      "6\n",
      "0.8600400347618168\n"
     ]
    }
   ],
   "source": [
    "# Generate a random integer from 1 to 10.\n",
    "random_integer = random.randint(1, 10)\n",
    "print(random_integer)\n",
    "\n",
    "# Generate a random float between 0 and 1.\n",
    "random_float = random.random()\n",
    "print(random_float)"
   ]
  },
  {
   "cell_type": "code",
   "execution_count": 260,
   "id": "89eabe4e-5fcc-42c2-807c-ff9a6c2bde78",
   "metadata": {
    "tags": []
   },
   "outputs": [
    {
     "name": "stdout",
     "output_type": "stream",
     "text": [
      "2.1663264160717146\n"
     ]
    }
   ],
   "source": [
    "print(random.random() * random.randint(1, 10))"
   ]
  },
  {
   "cell_type": "markdown",
   "id": "2d8276e6-a22e-420b-8e0a-02be8950a1d0",
   "metadata": {},
   "source": [
    "### Generating random sequences"
   ]
  },
  {
   "cell_type": "code",
   "execution_count": 287,
   "id": "23728b14-8e25-46bc-9e92-19ee26754fd8",
   "metadata": {
    "tags": []
   },
   "outputs": [
    {
     "name": "stdout",
     "output_type": "stream",
     "text": [
      "[2, 9, 7, 2, 3, 6, 1, 10, 10, 9]\n"
     ]
    }
   ],
   "source": [
    "# A list of 10 random integers\n",
    "r1 = []\n",
    "for i in range(10):\n",
    "    r1.append(random.randint(1, 10))\n",
    "print(r1)"
   ]
  },
  {
   "cell_type": "code",
   "execution_count": 279,
   "id": "dfc47390-354b-4913-8006-54137f71f16d",
   "metadata": {
    "tags": []
   },
   "outputs": [
    {
     "data": {
      "text/plain": [
       "[0.6915180163495769,\n",
       " 0.5136105289201865,\n",
       " 0.8726777761304334,\n",
       " 0.22245283709346353,\n",
       " 0.892472484826977,\n",
       " 0.48185416078369536,\n",
       " 0.6647108536207187,\n",
       " 0.06211965457996549,\n",
       " 0.6708479477020125,\n",
       " 0.6964995323537033]"
      ]
     },
     "execution_count": 279,
     "metadata": {},
     "output_type": "execute_result"
    }
   ],
   "source": [
    "# A list of 10 random floats\n",
    "[random.random() for x in range(10)]"
   ]
  },
  {
   "cell_type": "code",
   "execution_count": 288,
   "id": "a40c9f70-d624-4a65-9e32-9469a21723e4",
   "metadata": {
    "tags": []
   },
   "outputs": [
    {
     "data": {
      "text/plain": [
       "[6, 3, 10, 2, 1, 4, 9, 5, 8, 7]"
      ]
     },
     "execution_count": 288,
     "metadata": {},
     "output_type": "execute_result"
    }
   ],
   "source": [
    "# Generate n unique samples (multiple items) from a sequence without repetition (Sample without replacement)\n",
    "r = range(1, 11)\n",
    "random_list = random.sample(r, 10)\n",
    "random_list"
   ]
  },
  {
   "cell_type": "code",
   "execution_count": 291,
   "id": "e20916e0-4b79-4f03-af2d-c61bd5b6b24a",
   "metadata": {
    "tags": []
   },
   "outputs": [
    {
     "name": "stdout",
     "output_type": "stream",
     "text": [
      "['e', 'r', 'b', 's', 'k', 's', 'y', 'k', 'o', 'i']\n"
     ]
    }
   ],
   "source": [
    "x = random.choices('abcdefghijklmnopqrstuvwxyz', k=10)\n",
    "print(x)"
   ]
  },
  {
   "cell_type": "code",
   "execution_count": 292,
   "id": "824acb8b-3592-41e9-8d0a-b7ac6cb4b8b1",
   "metadata": {
    "tags": []
   },
   "outputs": [
    {
     "data": {
      "text/plain": [
       "'y'"
      ]
     },
     "execution_count": 292,
     "metadata": {},
     "output_type": "execute_result"
    }
   ],
   "source": [
    "random.choice(x)"
   ]
  },
  {
   "cell_type": "code",
   "execution_count": 102,
   "id": "0247190c-1fa4-4932-9d5f-45fa35aac1e2",
   "metadata": {
    "tags": []
   },
   "outputs": [
    {
     "data": {
      "text/plain": [
       "'s---x---i---z---c---q---b---m---f---i'"
      ]
     },
     "execution_count": 102,
     "metadata": {},
     "output_type": "execute_result"
    }
   ],
   "source": [
    "y = '---'.join(x)\n",
    "y"
   ]
  },
  {
   "cell_type": "code",
   "execution_count": 103,
   "id": "2ae23356-c35a-4488-95dd-03bd7c5a665f",
   "metadata": {
    "tags": []
   },
   "outputs": [
    {
     "data": {
      "text/plain": [
       "['s', 'x', 'i', 'z', 'c', 'q', 'b', 'm', 'f', 'i']"
      ]
     },
     "execution_count": 103,
     "metadata": {},
     "output_type": "execute_result"
    }
   ],
   "source": [
    "y.split('---')"
   ]
  },
  {
   "cell_type": "code",
   "execution_count": 107,
   "id": "76190154-07cc-4c6c-9e2b-cf94406636be",
   "metadata": {
    "tags": []
   },
   "outputs": [
    {
     "data": {
      "text/plain": [
       "'w'"
      ]
     },
     "execution_count": 107,
     "metadata": {},
     "output_type": "execute_result"
    }
   ],
   "source": [
    "random.choice('abcdefghijklmnopqrstuvwxyz')"
   ]
  },
  {
   "cell_type": "code",
   "execution_count": 309,
   "id": "d9da22ad-1b17-4da0-ad54-3c114f17c1c6",
   "metadata": {
    "tags": []
   },
   "outputs": [
    {
     "name": "stdout",
     "output_type": "stream",
     "text": [
      "pqispqmluiawhljvcskpjrmlii\n"
     ]
    }
   ],
   "source": [
    "# Generate a random string of 10 characters.\n",
    "random_list = random.choices('abcdefghijklmnopqrstuvwxyz', k=26)\n",
    "random_string = ''\n",
    "for s in random_list:\n",
    "    random_string += s\n",
    "\n",
    "print(random_string)"
   ]
  },
  {
   "cell_type": "markdown",
   "id": "60e9f7e3-b8de-4c52-9ff9-c8c5136e64ff",
   "metadata": {},
   "source": [
    "### Simulating random events"
   ]
  },
  {
   "cell_type": "code",
   "execution_count": 316,
   "id": "07cc7a20-be70-42ee-8ea7-73e6b6ed9ddc",
   "metadata": {
    "tags": []
   },
   "outputs": [
    {
     "name": "stdout",
     "output_type": "stream",
     "text": [
      "tails\n"
     ]
    }
   ],
   "source": [
    "# Simulate a coin toss.\n",
    "coin_toss = random.choice(['heads', 'tails'])\n",
    "print(coin_toss)"
   ]
  },
  {
   "cell_type": "code",
   "execution_count": 329,
   "id": "a8d72e66-1278-4cc3-b056-b5d0b724c4b1",
   "metadata": {
    "tags": []
   },
   "outputs": [
    {
     "name": "stdout",
     "output_type": "stream",
     "text": [
      "4\n"
     ]
    }
   ],
   "source": [
    "die_roll = random.choice([1, 2, 3, 4, 5, 6])\n",
    "print(die_roll)"
   ]
  },
  {
   "cell_type": "code",
   "execution_count": 331,
   "id": "2e1509b4-8a1f-4e81-a539-999823385afd",
   "metadata": {
    "tags": []
   },
   "outputs": [
    {
     "name": "stdout",
     "output_type": "stream",
     "text": [
      "4\n"
     ]
    }
   ],
   "source": [
    "# Simulate the roll of a 6-sided die.\n",
    "die_roll = random.randint(1, 6)\n",
    "print(die_roll)"
   ]
  },
  {
   "cell_type": "markdown",
   "id": "abb7e349-1548-439f-a7ec-308972c8197f",
   "metadata": {
    "tags": []
   },
   "source": [
    "### Shuffling data"
   ]
  },
  {
   "cell_type": "code",
   "execution_count": 335,
   "id": "b26edffa-8ce9-4955-a617-33031b32ec26",
   "metadata": {
    "tags": []
   },
   "outputs": [],
   "source": [
    "# Shuffle a list of numbers.\n",
    "random_list = [1, 2, 3, 4, 5]"
   ]
  },
  {
   "cell_type": "code",
   "execution_count": 344,
   "id": "22906b11-c50e-4262-8cca-f70b7786f475",
   "metadata": {
    "tags": []
   },
   "outputs": [
    {
     "data": {
      "text/plain": [
       "[3, 4, 5, 2, 1]"
      ]
     },
     "execution_count": 344,
     "metadata": {},
     "output_type": "execute_result"
    }
   ],
   "source": [
    "random.shuffle(random_list)\n",
    "random_list"
   ]
  },
  {
   "cell_type": "markdown",
   "id": "4c91647a-0140-4255-a028-aff6275ee890",
   "metadata": {
    "tags": []
   },
   "source": [
    "### Sampling data"
   ]
  },
  {
   "cell_type": "code",
   "execution_count": 348,
   "id": "8c46f5ff-177e-4b01-8e41-88ba883597f5",
   "metadata": {
    "tags": []
   },
   "outputs": [
    {
     "data": {
      "text/plain": [
       "[7, 1, 5, 4, 9, 10, 6, 8, 3, 2]"
      ]
     },
     "execution_count": 348,
     "metadata": {},
     "output_type": "execute_result"
    }
   ],
   "source": [
    "# Take a random sample of 10 elements from a list.\n",
    "nums = [1, 2, 3, 4, 5, 6, 7, 8, 9, 10]\n",
    "random_sample = random.sample(nums, 10)\n",
    "random_sample"
   ]
  },
  {
   "cell_type": "code",
   "execution_count": 349,
   "id": "60cb3609-815a-4b4d-92e6-51474825d1b7",
   "metadata": {
    "tags": []
   },
   "outputs": [
    {
     "name": "stdout",
     "output_type": "stream",
     "text": [
      "Help on method sample in module random:\n",
      "\n",
      "sample(population, k, *, counts=None) method of random.Random instance\n",
      "    Chooses k unique random elements from a population sequence.\n",
      "    \n",
      "    Returns a new list containing elements from the population while\n",
      "    leaving the original population unchanged.  The resulting list is\n",
      "    in selection order so that all sub-slices will also be valid random\n",
      "    samples.  This allows raffle winners (the sample) to be partitioned\n",
      "    into grand prize and second place winners (the subslices).\n",
      "    \n",
      "    Members of the population need not be hashable or unique.  If the\n",
      "    population contains repeats, then each occurrence is a possible\n",
      "    selection in the sample.\n",
      "    \n",
      "    Repeated elements can be specified one at a time or with the optional\n",
      "    counts parameter.  For example:\n",
      "    \n",
      "        sample(['red', 'blue'], counts=[4, 2], k=5)\n",
      "    \n",
      "    is equivalent to:\n",
      "    \n",
      "        sample(['red', 'red', 'red', 'red', 'blue', 'blue'], k=5)\n",
      "    \n",
      "    To choose a sample from a range of integers, use range() for the\n",
      "    population argument.  This is especially fast and space efficient\n",
      "    for sampling from a large population:\n",
      "    \n",
      "        sample(range(10000000), 60)\n",
      "\n"
     ]
    }
   ],
   "source": [
    "help(random.sample)"
   ]
  },
  {
   "cell_type": "code",
   "execution_count": 111,
   "id": "737b24c6-15ed-4eb0-98dd-0a5b861863e7",
   "metadata": {
    "tags": []
   },
   "outputs": [
    {
     "data": {
      "text/plain": [
       "\u001b[1;31mSignature:\u001b[0m \u001b[0mrandom\u001b[0m\u001b[1;33m.\u001b[0m\u001b[0msample\u001b[0m\u001b[1;33m(\u001b[0m\u001b[0mpopulation\u001b[0m\u001b[1;33m,\u001b[0m \u001b[0mk\u001b[0m\u001b[1;33m,\u001b[0m \u001b[1;33m*\u001b[0m\u001b[1;33m,\u001b[0m \u001b[0mcounts\u001b[0m\u001b[1;33m=\u001b[0m\u001b[1;32mNone\u001b[0m\u001b[1;33m)\u001b[0m\u001b[1;33m\u001b[0m\u001b[1;33m\u001b[0m\u001b[0m\n",
       "\u001b[1;31mDocstring:\u001b[0m\n",
       "Chooses k unique random elements from a population sequence.\n",
       "\n",
       "Returns a new list containing elements from the population while\n",
       "leaving the original population unchanged.  The resulting list is\n",
       "in selection order so that all sub-slices will also be valid random\n",
       "samples.  This allows raffle winners (the sample) to be partitioned\n",
       "into grand prize and second place winners (the subslices).\n",
       "\n",
       "Members of the population need not be hashable or unique.  If the\n",
       "population contains repeats, then each occurrence is a possible\n",
       "selection in the sample.\n",
       "\n",
       "Repeated elements can be specified one at a time or with the optional\n",
       "counts parameter.  For example:\n",
       "\n",
       "    sample(['red', 'blue'], counts=[4, 2], k=5)\n",
       "\n",
       "is equivalent to:\n",
       "\n",
       "    sample(['red', 'red', 'red', 'red', 'blue', 'blue'], k=5)\n",
       "\n",
       "To choose a sample from a range of integers, use range() for the\n",
       "population argument.  This is especially fast and space efficient\n",
       "for sampling from a large population:\n",
       "\n",
       "    sample(range(10000000), 60)\n",
       "\u001b[1;31mFile:\u001b[0m      c:\\users\\hgoz\\anaconda3\\lib\\random.py\n",
       "\u001b[1;31mType:\u001b[0m      method"
      ]
     },
     "metadata": {},
     "output_type": "display_data"
    }
   ],
   "source": [
    "?random.sample"
   ]
  },
  {
   "cell_type": "markdown",
   "id": "4c5f674a-c6d7-49e7-a174-3bba0aea45fa",
   "metadata": {},
   "source": [
    "### Generating random data"
   ]
  },
  {
   "cell_type": "code",
   "execution_count": 5,
   "id": "7d1a7b6b-4822-40e8-9a38-9ce2c639bf35",
   "metadata": {
    "tags": []
   },
   "outputs": [],
   "source": [
    "import random\n",
    "\n",
    "def generate_random_password(length=12):\n",
    "    \"\"\"Generates a random password of the specified length.\"\"\"\n",
    "    characters = 'abcdefghijklmnopqrstuvwxyzABCDEFGHIJKLMNOPQRSTUVWXYZ0123456789!@#$%^&*()-+'\n",
    "    password = ''.join(random.choices(characters, k=length))\n",
    "    return password\n",
    "\n",
    "def generate_random_username(length=8):\n",
    "    \"\"\"Generates a random username of the specified length.\"\"\"\n",
    "    characters = 'abcdefghijklmnopqrstuvwxyzABCDEFGHIJKLMNOPQRSTUVWXYZ0123456789'\n",
    "    username = ''.join(random.choices(characters, k=length))\n",
    "    return username\n",
    "\n",
    "def generate_random_email_address(domain='example.com'):\n",
    "    \"\"\"Generates a random email address with the specified domain.\"\"\"\n",
    "    username = generate_random_username()\n",
    "    email_address = username + '@' + domain\n",
    "    return email_address"
   ]
  },
  {
   "cell_type": "code",
   "execution_count": 6,
   "id": "4d033095-5f70-4202-b181-d93598b06434",
   "metadata": {
    "tags": []
   },
   "outputs": [
    {
     "name": "stdout",
     "output_type": "stream",
     "text": [
      "password: +y!DfpFD5dMd-m@r0e\n",
      "username: PdEugROu\n",
      "email: dO9EiTRO@example.com\n"
     ]
    }
   ],
   "source": [
    "print('password:', generate_random_password(18))\n",
    "print('username:', generate_random_username(8))\n",
    "print('email:', generate_random_email_address('example.com'))"
   ]
  }
 ],
 "metadata": {
  "kernelspec": {
   "display_name": "Python 3 (ipykernel)",
   "language": "python",
   "name": "python3"
  },
  "language_info": {
   "codemirror_mode": {
    "name": "ipython",
    "version": 3
   },
   "file_extension": ".py",
   "mimetype": "text/x-python",
   "name": "python",
   "nbconvert_exporter": "python",
   "pygments_lexer": "ipython3",
   "version": "3.10.11"
  }
 },
 "nbformat": 4,
 "nbformat_minor": 5
}
