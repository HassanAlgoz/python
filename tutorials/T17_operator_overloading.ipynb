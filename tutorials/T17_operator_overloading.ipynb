{
 "cells": [
  {
   "cell_type": "markdown",
   "metadata": {},
   "source": [
    "# Operator Overloading"
   ]
  },
  {
   "cell_type": "markdown",
   "metadata": {},
   "source": [
    "See: https://docs.python.org/3/library/operator.html#mapping-operators-to-functions\n",
    "\n",
    "- What is: `[1, 2, 3] + [4, 5, 6]`? A student answered: element-wise addition. But it is actually **concatenation**.\n",
    "- What is: `[1, 2, 3] * 5`? A student answered: scalar multiplication on each element. But it is actually **repetition**.\n",
    "\n",
    "This feature in Python that allows the same operator to have different meaning according to the context is called ***Operator Overloading***."
   ]
  },
  {
   "cell_type": "code",
   "execution_count": null,
   "metadata": {},
   "outputs": [
    {
     "data": {
      "text/plain": [
       "[1, 2, 3, 4, 5, 6]"
      ]
     },
     "metadata": {},
     "output_type": "display_data"
    }
   ],
   "source": [
    "[1, 2, 3] + [4, 5, 6]"
   ]
  },
  {
   "cell_type": "code",
   "execution_count": null,
   "metadata": {},
   "outputs": [
    {
     "data": {
      "text/plain": [
       "[1, 2, 3, 1, 2, 3, 1, 2, 3, 1, 2, 3, 1, 2, 3]"
      ]
     },
     "metadata": {},
     "output_type": "display_data"
    }
   ],
   "source": [
    "[1, 2, 3] * 5"
   ]
  },
  {
   "cell_type": "markdown",
   "metadata": {},
   "source": [
    "We can define our own behavior for operators by defining methods in our class:\n",
    "\n",
    "- `__add__(self, other)` for `+`\n",
    "- `__sub__(self, other)` for `-`\n",
    "\n",
    "and so on."
   ]
  },
  {
   "cell_type": "code",
   "execution_count": null,
   "metadata": {},
   "outputs": [],
   "source": [
    "class Vector:\n",
    "    def __init__(self, x, y, z):\n",
    "        self.x = x\n",
    "        self.y = y\n",
    "        self.z = z\n",
    "    \n",
    "    # + operator overloading\n",
    "    def __add__(self, other):\n",
    "        return Vector(self.x + other.x, self.y + other.y, self.z + other.z)\n",
    "\n",
    "    def __repr__(self):\n",
    "        return f\"<{self.x}, {self.y}, {self.z}>\"\n",
    "\n",
    "v1 = Vector(1, 2, 3)\n",
    "v2 = Vector(6, 5, 4)"
   ]
  },
  {
   "cell_type": "code",
   "execution_count": null,
   "metadata": {},
   "outputs": [
    {
     "name": "stdout",
     "output_type": "stream",
     "text": [
      "sum is: <7, 7, 7>\n"
     ]
    }
   ],
   "source": [
    "v3 = v1 + v2\n",
    "print('sum is:', v3)"
   ]
  },
  {
   "cell_type": "markdown",
   "metadata": {},
   "source": [
    "### Exercise\n",
    "\n",
    "Implement the other methods for the `Vector` class:\n",
    "\n",
    "- `__add__(self, other)` for `+`\n",
    "- `__sub__(self, other)` for `-`\n",
    "- `__mul__(self, other)` for `*`\n",
    "- `__matmul__(self, other)` for `@`\n",
    "- `__getitem__(self, index)` for `[]`\n",
    "- `__len__(self)` for `len()`"
   ]
  },
  {
   "cell_type": "code",
   "execution_count": null,
   "metadata": {},
   "outputs": [],
   "source": [
    "class Vector:\n",
    "    def __init__(self, x, y, z):\n",
    "        self.x = x\n",
    "        self.y = y\n",
    "        self.z = z\n",
    "\n",
    "    def __repr__(self):\n",
    "        return f\"Vector({self.x}, {self.y}, {self.z})\"\n",
    "\n",
    "    # +\n",
    "    def __add__(self, other):\n",
    "        pass # implement this\n",
    "\n",
    "    # -\n",
    "    def __sub__(self, other):\n",
    "        pass # implement this\n",
    "\n",
    "    # *\n",
    "    def __mul__(self, other):\n",
    "        pass # implement this\n",
    "\n",
    "    # @\n",
    "    def __matmul__(self, other):\n",
    "        pass # implement this\n",
    "\n",
    "    # []\n",
    "    def __getitem__(self, idx):\n",
    "        return [self.x, self.y, self.z][idx]\n",
    "\n",
    "    # len()\n",
    "    def __len__(self):\n",
    "        return len(vars(self))"
   ]
  },
  {
   "cell_type": "code",
   "execution_count": null,
   "metadata": {},
   "outputs": [],
   "source": [
    "# Create two vectors.\n",
    "u = Vector(1, 2, 3)\n",
    "v = Vector(4, 5, 6)"
   ]
  },
  {
   "cell_type": "code",
   "execution_count": null,
   "metadata": {},
   "outputs": [
    {
     "name": "stdout",
     "output_type": "stream",
     "text": [
      "Vector(1, 2, 3)\n",
      "Vector(4, 5, 6)\n",
      "---------\n",
      "Vector(5, 7, 9) addition\n",
      "Vector(-3, -3, -3) subtraction\n",
      "Vector(4, 10, 18) multiplication\n",
      "32 dot product\n"
     ]
    }
   ],
   "source": [
    "print(u)\n",
    "print(v)\n",
    "print('---------')\n",
    "print(u + v, 'addition')\n",
    "print(u - v, 'subtraction')\n",
    "print(u * v, 'multiplication')\n",
    "print(u @ v, 'dot product')"
   ]
  },
  {
   "cell_type": "code",
   "execution_count": null,
   "metadata": {},
   "outputs": [
    {
     "name": "stdout",
     "output_type": "stream",
     "text": [
      "4\n",
      "5\n",
      "6\n"
     ]
    }
   ],
   "source": [
    "\n",
    "for c in v:\n",
    "    print(c)"
   ]
  },
  {
   "cell_type": "markdown",
   "metadata": {},
   "source": [
    "### (optional) Exercise: n-dimensional Vector\n",
    "\n",
    "Generalize the current 3D Vector class to be n-dimensional.\n",
    "\n",
    "Hint: use `*args`."
   ]
  },
  {
   "cell_type": "code",
   "execution_count": null,
   "metadata": {},
   "outputs": [],
   "source": [
    "# your code here..."
   ]
  },
  {
   "cell_type": "markdown",
   "metadata": {},
   "source": [
    "### (optional) Exercise: Matrix\n",
    "\n",
    "Write a class for a Matrix.\n",
    "\n",
    "Hint: You may want to reuse the Vector class."
   ]
  },
  {
   "cell_type": "code",
   "execution_count": null,
   "metadata": {},
   "outputs": [],
   "source": [
    "# your code here..."
   ]
  },
  {
   "cell_type": "markdown",
   "metadata": {},
   "source": [
    "Read more (optional) about operator overloading in this Article: https://mathspp.com/blog/pydonts/overloading-arithmetic-operators-with-dunder-methods"
   ]
  }
 ],
 "metadata": {
  "language_info": {
   "name": "python"
  }
 },
 "nbformat": 4,
 "nbformat_minor": 2
}
