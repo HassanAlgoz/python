{
 "cells": [
  {
   "cell_type": "markdown",
   "metadata": {},
   "source": [
    "# Strings"
   ]
  },
  {
   "cell_type": "markdown",
   "metadata": {},
   "source": [
    "Strings can be used to represent text, such as names, addresses, and messages."
   ]
  },
  {
   "cell_type": "code",
   "execution_count": 2,
   "metadata": {},
   "outputs": [],
   "source": [
    "first_name = \"John\"\n",
    "last_name = \"Doe\"\n",
    "address = \"Riyadh, Saudi Arabia\"\n",
    "phone = \"00966555555555\"\n",
    "\n",
    "message = \"\"\"Hello everyone,\n",
    "I hope you are enjoying the course,\n",
    "\n",
    "Thank you.\n",
    "\"\"\""
   ]
  },
  {
   "cell_type": "markdown",
   "metadata": {},
   "source": [
    "Length of a string:"
   ]
  },
  {
   "cell_type": "code",
   "execution_count": 4,
   "metadata": {},
   "outputs": [
    {
     "name": "stdout",
     "output_type": "stream",
     "text": [
      "8\n",
      "20\n"
     ]
    }
   ],
   "source": [
    "print(len(first_name))\n",
    "print(len(address))"
   ]
  },
  {
   "cell_type": "markdown",
   "metadata": {},
   "source": [
    "Repeating strings"
   ]
  },
  {
   "cell_type": "code",
   "execution_count": null,
   "metadata": {},
   "outputs": [
    {
     "name": "stdout",
     "output_type": "stream",
     "text": [
      "Salam Salam Salam \n",
      "100000000\n"
     ]
    }
   ],
   "source": [
    "s = \"Salam \" * 3\n",
    "print(s)"
   ]
  },
  {
   "cell_type": "code",
   "execution_count": null,
   "metadata": {},
   "outputs": [],
   "source": [
    "zeros = \"0\" * 8\n",
    "print(\"1\" + zeros)"
   ]
  },
  {
   "cell_type": "markdown",
   "metadata": {},
   "source": [
    "#### Exercise\n",
    "\n",
    "- find the length of the variable `phone`\n",
    "- find the length of the variable `message`"
   ]
  },
  {
   "cell_type": "markdown",
   "metadata": {},
   "source": [
    "### String operations and formatting\n",
    "\n",
    "There are 3 different ways to concatenate strings in Python:\n",
    "\n",
    "1. Joining individual strings with + operator\n",
    "2. `format` string method\n",
    "3. f-strings"
   ]
  },
  {
   "cell_type": "code",
   "execution_count": 19,
   "metadata": {},
   "outputs": [
    {
     "name": "stdout",
     "output_type": "stream",
     "text": [
      "My name is John and my age is 30\n",
      "My name is John and my age is 30\n",
      "My name is John and my age is 30\n"
     ]
    }
   ],
   "source": [
    "# Using the + operator\n",
    "name = \"John\"\n",
    "age = 30\n",
    "print(\"My name is \" + name + \" and my age is \" + str(age))\n",
    "print(\"My name is {} and my age is {}\".format(name, age))\n",
    "print(f\"My name is {name} and my age is {age}\")"
   ]
  },
  {
   "cell_type": "markdown",
   "metadata": {},
   "source": [
    "#### Exercise\n",
    "\n",
    "- concatenate the strings `first_name` and `last_name` using the + operator\n",
    "- concatenate the strings `first_name` and `last_name` using the `format` method\n",
    "- concatenate the strings `first_name` and `last_name` using f-strings"
   ]
  },
  {
   "cell_type": "code",
   "execution_count": null,
   "metadata": {},
   "outputs": [],
   "source": [
    "# try it"
   ]
  },
  {
   "cell_type": "markdown",
   "metadata": {},
   "source": [
    "Ex: Use f-strings to print `Hello, my name is John Doe. and I am 30 years old`. Using the variables `first_name`, `last_name`, and `age`."
   ]
  },
  {
   "cell_type": "code",
   "execution_count": null,
   "metadata": {},
   "outputs": [],
   "source": [
    "# try it"
   ]
  },
  {
   "cell_type": "markdown",
   "metadata": {},
   "source": [
    "### membership operator: `in`"
   ]
  },
  {
   "cell_type": "code",
   "execution_count": 21,
   "metadata": {},
   "outputs": [
    {
     "name": "stdout",
     "output_type": "stream",
     "text": [
      "True\n"
     ]
    }
   ],
   "source": [
    "vowels = \"aeiou\"\n",
    "print(\"a\" in vowels)"
   ]
  },
  {
   "cell_type": "markdown",
   "metadata": {},
   "source": [
    "In Python, Strings are objects. Objects have methods that can be called using the `.` operator:"
   ]
  },
  {
   "cell_type": "code",
   "execution_count": null,
   "metadata": {},
   "outputs": [
    {
     "data": {
      "text/plain": [
       "'HELLO'"
      ]
     },
     "metadata": {},
     "output_type": "display_data"
    }
   ],
   "source": [
    "\"hello\".upper()"
   ]
  },
  {
   "cell_type": "code",
   "execution_count": null,
   "metadata": {},
   "outputs": [
    {
     "data": {
      "text/plain": [
       "'hello'"
      ]
     },
     "metadata": {},
     "output_type": "display_data"
    }
   ],
   "source": [
    "\"HeLLO\".lower()"
   ]
  },
  {
   "cell_type": "code",
   "execution_count": 22,
   "metadata": {},
   "outputs": [
    {
     "name": "stdout",
     "output_type": "stream",
     "text": [
      "John doe\n",
      "John Doe\n",
      "True\n",
      "False\n",
      "2\n",
      "1\n",
      "jOwen doe\n",
      "john doe\n",
      "['hello', 'world']\n",
      "a,b,c\n",
      "Name: john doe\n",
      "john doe       \n",
      "    john doe   \n",
      "00123\n",
      "JOHN DOE\n",
      "john doe\n",
      "True\n",
      "True\n"
     ]
    }
   ],
   "source": [
    "name = \"john doe\"\n",
    "\n",
    "# Capitalize \n",
    "print(name.capitalize()) \n",
    "\n",
    "# Title case\n",
    "print(name.title())\n",
    "\n",
    "# Check case\n",
    "print(name.islower())\n",
    "print(name.isupper())\n",
    "\n",
    "# Count occurrences\n",
    "print(name.count('o')) \n",
    "\n",
    "# Find position \n",
    "print(name.find('ohn'))\n",
    "\n",
    "# Replace\n",
    "print(name.replace('ohn', 'Owen'))\n",
    "\n",
    "# Strip whitespaces\n",
    "print(name.strip())\n",
    "\n",
    "# Split \n",
    "print(\"hello,world\".split(\",\"))\n",
    "\n",
    "# Join\n",
    "print(\",\".join([\"a\",\"b\",\"c\"])) \n",
    "\n",
    "# String formatting\n",
    "print(f\"Name: {name}\")\n",
    "\n",
    "# Alignment\n",
    "print(name.ljust(15)) \n",
    "print(name.center(15))\n",
    "\n",
    "# Padding  \n",
    "print(format(123, \"05d\"))\n",
    "\n",
    "# Case conversion\n",
    "print(name.upper())\n",
    "print(name.lower())\n",
    "\n",
    "# Check start/end\n",
    "print(name.startswith('j'))\n",
    "print(name.endswith('e'))"
   ]
  },
  {
   "cell_type": "code",
   "execution_count": 16,
   "metadata": {},
   "outputs": [
    {
     "name": "stdout",
     "output_type": "stream",
     "text": [
      "********************\n",
      "********John********\n",
      "********************\n"
     ]
    }
   ],
   "source": [
    "name = 'John'\n",
    "width = 20\n",
    "decorator = '*'\n",
    "\n",
    "print(decorator * width)\n",
    "print(name.center(width, decorator))\n",
    "print(decorator * width)"
   ]
  },
  {
   "cell_type": "markdown",
   "metadata": {},
   "source": [
    "#### Exercise\n",
    "\n",
    "- Change the above code to print your `name`, in all uppercase\n",
    "- change the `width`\n",
    "- Change the `decorator` to some other character like `#`"
   ]
  },
  {
   "cell_type": "markdown",
   "metadata": {},
   "source": [
    "## Indexing and Slicing\n",
    "\n",
    "- A string is a sequence of characters\n",
    "- Sequences can be indxed using `[]`\n",
    "    - 1st element is at index `0`\n",
    "    - 2nd element is at index `1`\n",
    "    - last element is at index `-1`"
   ]
  },
  {
   "cell_type": "code",
   "execution_count": 5,
   "metadata": {},
   "outputs": [
    {
     "name": "stdout",
     "output_type": "stream",
     "text": [
      "J\n",
      "o\n",
      "e\n",
      "n\n"
     ]
    }
   ],
   "source": [
    "name = \"John Doe\"\n",
    "\n",
    "# Indexing\n",
    "print(name[0]) # J\n",
    "print(name[6]) # o\n",
    "\n",
    "# Negative indexing \n",
    "print(name[-1]) # e\n",
    "print(name[-5]) # o"
   ]
  },
  {
   "cell_type": "code",
   "execution_count": null,
   "metadata": {},
   "outputs": [],
   "source": [
    "name = \"Johnson\""
   ]
  },
  {
   "cell_type": "markdown",
   "metadata": {},
   "source": [
    "#### Exercise\n",
    "\n",
    "Ex: Given that `name = \"Johnson\"` What is the value of `name[0]`? `name[1]`? `name[-1]`? `name[-2]`?"
   ]
  },
  {
   "cell_type": "code",
   "execution_count": null,
   "metadata": {},
   "outputs": [],
   "source": [
    "# try it"
   ]
  },
  {
   "cell_type": "markdown",
   "metadata": {},
   "source": [
    "### Slicing"
   ]
  },
  {
   "cell_type": "markdown",
   "metadata": {},
   "source": [
    "Sequences can also be sliced using `[start:end]`"
   ]
  },
  {
   "cell_type": "code",
   "execution_count": 6,
   "metadata": {},
   "outputs": [
    {
     "name": "stdout",
     "output_type": "stream",
     "text": [
      "John\n"
     ]
    }
   ],
   "source": [
    "name = \"Johnson\"\n",
    "print(name[0:4])"
   ]
  },
  {
   "cell_type": "markdown",
   "metadata": {},
   "source": [
    "#### Exercise\n",
    "\n",
    "Ex: try `name[1:3]` and `name[3:5]`"
   ]
  },
  {
   "cell_type": "code",
   "execution_count": 10,
   "metadata": {},
   "outputs": [],
   "source": [
    "# try it"
   ]
  },
  {
   "cell_type": "markdown",
   "metadata": {},
   "source": [
    "We can also add a step to slicing `[start:end:step]`"
   ]
  },
  {
   "cell_type": "code",
   "execution_count": 8,
   "metadata": {},
   "outputs": [],
   "source": [
    "s = \"ABCDEF\""
   ]
  },
  {
   "cell_type": "code",
   "execution_count": 13,
   "metadata": {},
   "outputs": [
    {
     "data": {
      "text/plain": [
       "'ABCDEF'"
      ]
     },
     "execution_count": 13,
     "metadata": {},
     "output_type": "execute_result"
    }
   ],
   "source": [
    "s[0::1]"
   ]
  },
  {
   "cell_type": "markdown",
   "metadata": {},
   "source": [
    "We can also omit the `start` or `end` of the slice, which would implicitly mean the beginning or end of the string:"
   ]
  },
  {
   "cell_type": "code",
   "execution_count": 14,
   "metadata": {},
   "outputs": [
    {
     "data": {
      "text/plain": [
       "'ACE'"
      ]
     },
     "execution_count": 14,
     "metadata": {},
     "output_type": "execute_result"
    }
   ],
   "source": [
    "s[0::2]"
   ]
  },
  {
   "cell_type": "code",
   "execution_count": 17,
   "metadata": {},
   "outputs": [
    {
     "data": {
      "text/plain": [
       "'FEDCB'"
      ]
     },
     "execution_count": 17,
     "metadata": {},
     "output_type": "execute_result"
    }
   ],
   "source": [
    "s[-1:0:-1]"
   ]
  },
  {
   "cell_type": "code",
   "execution_count": 18,
   "metadata": {},
   "outputs": [
    {
     "data": {
      "text/plain": [
       "'FDB'"
      ]
     },
     "execution_count": 18,
     "metadata": {},
     "output_type": "execute_result"
    }
   ],
   "source": [
    "s[-1:0:-2]"
   ]
  },
  {
   "cell_type": "markdown",
   "metadata": {},
   "source": [
    "\n",
    "Ex: run and try to understand the following code\n",
    "\n",
    "```python\n",
    "name = \"Johnson\"\n",
    "print(name[::2])\n",
    "print(name[::-1])\n",
    "print(name[1:5:2])\n",
    "```"
   ]
  },
  {
   "cell_type": "code",
   "execution_count": null,
   "metadata": {},
   "outputs": [],
   "source": [
    "# try it"
   ]
  },
  {
   "cell_type": "markdown",
   "metadata": {},
   "source": [
    "\n",
    "Ex: For each of the following, specify the `start`, `end`, and `step`:\n",
    "\n",
    "- `name[::2]`\n",
    "- `name[::-1]`\n",
    "- `name[1:5:2]`"
   ]
  },
  {
   "cell_type": "markdown",
   "metadata": {},
   "source": [
    "Answer: ..."
   ]
  },
  {
   "cell_type": "markdown",
   "metadata": {},
   "source": [
    "#### Exercise"
   ]
  },
  {
   "cell_type": "markdown",
   "metadata": {},
   "source": [
    "\n",
    "Ex: Write a program that takes a string and prints the string in reverse.\n"
   ]
  },
  {
   "cell_type": "code",
   "execution_count": null,
   "metadata": {},
   "outputs": [],
   "source": [
    "# try it"
   ]
  },
  {
   "cell_type": "markdown",
   "metadata": {},
   "source": [
    "\n",
    "Ex: Write a program that takes a string and prints every other character in the string. Example: `abcdef` -> `bdf`\n"
   ]
  },
  {
   "cell_type": "code",
   "execution_count": null,
   "metadata": {},
   "outputs": [],
   "source": [
    "# try it"
   ]
  },
  {
   "cell_type": "markdown",
   "metadata": {},
   "source": [
    "Ex: Write a program that takes a string and prints the string in reverse order, but only every other character. It also must capitalize it. Example: `abcdef` -> `BDF`"
   ]
  },
  {
   "cell_type": "code",
   "execution_count": null,
   "metadata": {},
   "outputs": [],
   "source": [
    "# try it"
   ]
  },
  {
   "cell_type": "markdown",
   "metadata": {},
   "source": [
    "Ex: Count the number of `o` in the string `hello world`. Hint: use the `.count()` method."
   ]
  },
  {
   "cell_type": "code",
   "execution_count": 23,
   "metadata": {},
   "outputs": [],
   "source": [
    "# try it"
   ]
  }
 ],
 "metadata": {
  "kernelspec": {
   "display_name": "Python 3",
   "language": "python",
   "name": "python3"
  },
  "language_info": {
   "codemirror_mode": {
    "name": "ipython",
    "version": 3
   },
   "file_extension": ".py",
   "mimetype": "text/x-python",
   "name": "python",
   "nbconvert_exporter": "python",
   "pygments_lexer": "ipython3",
   "version": "3.11.5"
  }
 },
 "nbformat": 4,
 "nbformat_minor": 2
}
