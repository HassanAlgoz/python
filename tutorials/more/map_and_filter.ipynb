{
 "cells": [
  {
   "cell_type": "markdown",
   "id": "6a920b55-20c4-47fc-bce1-d84a9c261715",
   "metadata": {},
   "source": [
    "# Map and Filter\n",
    "\n",
    "> Guido van Rossum, the creator of Python, has said that list comprehensions are more concise and easier to read than map, filter, and reduce functions. He also said that list comprehensions are more Pythonic, which means that they are more in line with the Python programming style."
   ]
  },
  {
   "cell_type": "markdown",
   "id": "4bf774d4-7938-4278-98e6-9c0af4c16910",
   "metadata": {},
   "source": [
    "Syntax: `lambda <parameter_list>: <expression>`\n",
    "\n",
    "- `lambda` The keyword that introduces a lambda expression\n",
    "- `<parameter_list>` An optional comma-separated list of parameter names\n",
    "- `<expression>` An expression usually involving the names in <parameter_list>\n"
   ]
  },
  {
   "cell_type": "markdown",
   "id": "af80b968-da19-4396-9026-8bd4a0d94b2c",
   "metadata": {},
   "source": [
    "### Apply a function on an iterable: `map()`"
   ]
  },
  {
   "cell_type": "markdown",
   "id": "29f310b9-9c31-40a5-b9f2-4276e2cd5e1c",
   "metadata": {},
   "source": [
    "The `map(<f>, <iterable>)` function takes a function and an iterable as input and returns a new iterable with the function applied to each element of the input iterable."
   ]
  },
  {
   "cell_type": "code",
   "execution_count": 1,
   "id": "48184fdd",
   "metadata": {},
   "outputs": [],
   "source": [
    "def square(x):\n",
    "    return x ** 2"
   ]
  },
  {
   "cell_type": "code",
   "execution_count": 4,
   "id": "942821de",
   "metadata": {},
   "outputs": [
    {
     "name": "stdout",
     "output_type": "stream",
     "text": [
      "[1, 2, 3, 4, 5]\n",
      "[1, 4, 9, 16, 25]\n"
     ]
    }
   ],
   "source": [
    "list1 = [1, 2, 3, 4, 5]\n",
    "list2 = list(map(square, list1))\n",
    "print(list1)\n",
    "print(list2)"
   ]
  },
  {
   "cell_type": "code",
   "execution_count": 1,
   "id": "4af0711d-97e9-45f3-adfd-3c43429c3a5d",
   "metadata": {
    "tags": []
   },
   "outputs": [
    {
     "name": "stdout",
     "output_type": "stream",
     "text": [
      "[1, 4, 9, 16, 25]\n"
     ]
    }
   ],
   "source": [
    "# square each element in a list\n",
    "list1 = [1, 2, 3, 4, 5]\n",
    "squared_list = map(lambda x: x ** 2, list1)\n",
    "print(list(squared_list))"
   ]
  },
  {
   "cell_type": "code",
   "execution_count": 5,
   "id": "1c885028-0710-43ed-a47f-995f6a332a2e",
   "metadata": {
    "tags": []
   },
   "outputs": [
    {
     "name": "stdout",
     "output_type": "stream",
     "text": [
      "['HELLO', 'WORLD']\n"
     ]
    }
   ],
   "source": [
    "# converting a list of strings to uppercase\n",
    "list1 = [\"hello\", \"world\"]\n",
    "uppercased_list = map(lambda x: x.upper(), list1)\n",
    "print(list(uppercased_list))"
   ]
  },
  {
   "cell_type": "code",
   "execution_count": 6,
   "id": "eec3c30c-65f1-4c96-a227-45daac7c7acd",
   "metadata": {
    "tags": []
   },
   "outputs": [
    {
     "name": "stdout",
     "output_type": "stream",
     "text": [
      "[25, 30]\n"
     ]
    }
   ],
   "source": [
    "# Extracting a specific value from each element in a list:\n",
    "list1 = [{\"name\": \"Alice\", \"age\": 25}, {\"name\": \"Bob\", \"age\": 30}]\n",
    "ages = map(lambda x: x[\"age\"], list1)\n",
    "print(list(ages))"
   ]
  },
  {
   "cell_type": "code",
   "execution_count": 10,
   "id": "849ebd09-d321-4a1c-9bd2-7631d3690500",
   "metadata": {
    "tags": []
   },
   "outputs": [
    {
     "data": {
      "text/plain": [
       "'1+2+3+4+5'"
      ]
     },
     "execution_count": 10,
     "metadata": {},
     "output_type": "execute_result"
    }
   ],
   "source": [
    "# convert a list of numbers to strings before applying another function\n",
    "\"+\".join(map(str, [1, 2, 3, 4, 5]))"
   ]
  },
  {
   "cell_type": "markdown",
   "id": "d1ebaad0-273f-4e21-b29c-d6bdfcd79424",
   "metadata": {
    "tags": []
   },
   "source": [
    "### Selecting elements: `filter()`"
   ]
  },
  {
   "cell_type": "markdown",
   "id": "00e0594a-6cdf-4136-8dc8-2c405bf26c09",
   "metadata": {},
   "source": [
    "The `filter(<f>, <iterable>)` function takes a function and an iterable as input and returns a new iterable with the elements of the input iterable that satisfy the function."
   ]
  },
  {
   "cell_type": "code",
   "execution_count": 8,
   "id": "197d0eb2-a5ee-4189-b7e1-acbe536cd9f7",
   "metadata": {
    "tags": []
   },
   "outputs": [
    {
     "name": "stdout",
     "output_type": "stream",
     "text": [
      "[1, 3, 5]\n"
     ]
    }
   ],
   "source": [
    "# filter out all the even numbers from a list\n",
    "list1 = [1, 2, 3, 4, 5]\n",
    "odd_numbers = filter(lambda x: x % 2 != 0, list1)\n",
    "print(list(odd_numbers))"
   ]
  },
  {
   "cell_type": "code",
   "execution_count": 7,
   "id": "7073d3a8-619b-4dfa-b642-d926053e77ee",
   "metadata": {
    "tags": []
   },
   "outputs": [
    {
     "name": "stdout",
     "output_type": "stream",
     "text": [
      "['hello', 'world']\n"
     ]
    }
   ],
   "source": [
    "# Filtering out empty strings from a list\n",
    "list1 = [\"\", \"hello\", \"\", \"world\"]\n",
    "non_empty_strings = filter(lambda x: x != \"\", list1)\n",
    "print(list(non_empty_strings))"
   ]
  },
  {
   "cell_type": "code",
   "execution_count": 14,
   "id": "e9037545-075f-4422-9500-870a047444fb",
   "metadata": {
    "tags": []
   },
   "outputs": [
    {
     "data": {
      "text/plain": [
       "[111, 222, 333]"
      ]
     },
     "execution_count": 14,
     "metadata": {},
     "output_type": "execute_result"
    }
   ],
   "source": [
    "list(filter(lambda x: x > 100, [1, 111, 2, 222, 3, 333]))\n",
    "\n",
    "# it can be made more readable this way\n",
    "def greater_than_100(x):\n",
    "    return x > 100\n",
    "\n",
    "list(filter(greater_than_100, [1, 111, 2, 222, 3, 333]))"
   ]
  },
  {
   "cell_type": "code",
   "execution_count": 16,
   "id": "ed93633c-47e0-4136-a9e4-3a7596713d5b",
   "metadata": {
    "tags": []
   },
   "outputs": [
    {
     "data": {
      "text/plain": [
       "[0, 2, 4, 6, 8]"
      ]
     },
     "execution_count": 16,
     "metadata": {},
     "output_type": "execute_result"
    }
   ],
   "source": [
    "def is_even(x):\n",
    "    return x % 2 == 0\n",
    "\n",
    "list(filter(is_even, range(10)))"
   ]
  }
 ],
 "metadata": {
  "kernelspec": {
   "display_name": "Python 3 (ipykernel)",
   "language": "python",
   "name": "python3"
  },
  "language_info": {
   "codemirror_mode": {
    "name": "ipython",
    "version": 3
   },
   "file_extension": ".py",
   "mimetype": "text/x-python",
   "name": "python",
   "nbconvert_exporter": "python",
   "pygments_lexer": "ipython3",
   "version": "3.11.4"
  }
 },
 "nbformat": 4,
 "nbformat_minor": 5
}
