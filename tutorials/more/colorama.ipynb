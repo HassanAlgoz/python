{
 "cells": [
  {
   "cell_type": "code",
   "execution_count": null,
   "metadata": {},
   "outputs": [],
   "source": [
    "from colorama import Fore, Back, Style\n",
    "\n",
    "# Print different color text with different background\n",
    "print(f\"{Fore.RED}This text is red!{Style.RESET_ALL}\")\n",
    "print(f\"{Back.GREEN}This has a green background{Style.RESET_ALL}\")\n",
    "print(f\"{Fore.YELLOW}{Back.BLUE}This is yellow text on a blue background{Style.RESET_ALL}\")\n",
    "\n",
    "# Print with bold and italic styles\n",
    "print(f\"{Style.BRIGHT}This is bright text{Style.RESET_ALL}\")\n",
    "print(f\"{Style.DIM}This is dimmed text{Style.RESET_ALL}\")\n",
    "\n",
    "# Reset all styles at the end\n",
    "print(f\"{Style.RESET_ALL}This is back to default style\")\n"
   ]
  }
 ],
 "metadata": {
  "language_info": {
   "name": "python"
  }
 },
 "nbformat": 4,
 "nbformat_minor": 2
}
