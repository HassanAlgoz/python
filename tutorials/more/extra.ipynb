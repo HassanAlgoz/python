{
 "cells": [
  {
   "cell_type": "markdown",
   "metadata": {},
   "source": [
    "### Naming Conventions"
   ]
  },
  {
   "cell_type": "markdown",
   "metadata": {},
   "source": [
    "Here are some Python-specific rules and best practices for naming variables:\n",
    "\n",
    "- Use lowercase letters and underscores only \n",
    "  - no spaces, hyphens, or other punctuation\n",
    "  - `first_name` rather than `first name`, `first-name` or `first.name`\n",
    "\n",
    "- Use snake_case rather than camelCase or PascalCase\n",
    "  - `first_name` rather than `firstName` or `FirstName`\n",
    "\n",
    "- For class names, use CapWords notation (PascalCase) \n",
    "  - `Customer`, `Order`, `Product`\n",
    "\n",
    "- Names should be short but descriptive\n",
    "  - Use common abbreviations (e.g. `num` for `number`)\n",
    "  - Avoid unnecessary abbreviations. Use `user` instead of `usr`\n",
    "\n",
    "- Name boolean variables and functions with is/has prefixes\n",
    "  - `is_valid`, `has_payment`, `is_empty()`, `has_children()`\n",
    "\n",
    "- For single-letter variables, use meaningful names if possible \n",
    "  - i, j are okay in loops but x, y are less descriptive"
   ]
  }
 ],
 "metadata": {
  "language_info": {
   "name": "python"
  }
 },
 "nbformat": 4,
 "nbformat_minor": 2
}
