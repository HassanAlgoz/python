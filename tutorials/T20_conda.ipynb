{
 "cells": [
  {
   "cell_type": "markdown",
   "metadata": {},
   "source": [
    "## Why Virtual Environments?\n",
    "\n",
    "- **Sidestep Dependency Conflicts**:\n",
    "    - Virtual environments allow you to manage different versions of packages and libraries for different projects.\n",
    "    - This helps avoid conflicts between dependencies and ensures that each project has the specific versions it requires.\n",
    "- **Minimize Reproducibility Issues**:\n",
    "    - Virtual environments provide a way to recreate the exact environment in which your project was developed.\n",
    "    - By specifying the versions of packages used in the virtual environment, you can ensure that others can reproduce your work accurately."
   ]
  },
  {
   "cell_type": "markdown",
   "metadata": {},
   "source": [
    "<img src=\"../assets/venv.png\">"
   ]
  },
  {
   "cell_type": "markdown",
   "metadata": {},
   "source": [
    "## Steps to create virtual environment\n",
    "\n",
    "Step 1: install Conda: https://docs.conda.io/projects/conda/en/latest/user-guide/install/index.html\n",
    "\n",
    "Conda provdes a way to:\n",
    "\n",
    "1. create virtual environments\n",
    "2. manage packages (like `pip`)"
   ]
  },
  {
   "cell_type": "markdown",
   "metadata": {},
   "source": [
    "See: [Getting Started](https://conda.io/projects/conda/en/latest/user-guide/getting-started.html)"
   ]
  },
  {
   "cell_type": "markdown",
   "metadata": {
    "vscode": {
     "languageId": "plaintext"
    }
   },
   "source": [
    "Then you can just:\n",
    "\n",
    "```sh\n",
    "conda create -n t5 python=3.9 ipykernel numpy pandas scipy seaborn scikit-learn\n",
    "```\n",
    "\n",
    "Here:\n",
    "\n",
    "- `t5` is the environment name\n",
    "- `python=3.9` is specified\n",
    "- `ipykernel numpy ...` are the packages to install"
   ]
  },
  {
   "cell_type": "markdown",
   "metadata": {},
   "source": [
    "Let's break it down:"
   ]
  },
  {
   "cell_type": "markdown",
   "metadata": {},
   "source": [
    "Step 2: Create an environment with a specific version of Python:\n",
    "\n",
    "```sh\n",
    "conda create --name t5 python=3.9\n",
    "```\n",
    "\n",
    "Note: latest is not always the best. We chooce version `3.9` of Python, because it supports most of the packages and libraries we need in the course. "
   ]
  },
  {
   "cell_type": "markdown",
   "metadata": {},
   "source": [
    "***Important*** step: Before installing packages, or running any code, you need to make sure you are activating the right environment:\n",
    "\n",
    "```sh\n",
    "conda activate t5\n",
    "```\n",
    "\n",
    "Now try, `python --version` to see if you are using the right version of Python and pip.\n",
    "\n",
    "To see what environments we have on our machine:\n",
    "\n",
    "```sh\n",
    "conda info --envs\n",
    "```\n"
   ]
  },
  {
   "cell_type": "markdown",
   "metadata": {},
   "source": [
    "\n",
    "Step 3: Install packages\n",
    "\n",
    "```sh\n",
    "conda install numpy pandas scipy seaborn scikit-learn # active environment\n",
    "\n",
    "conda install --name t5 numpy pandas scipy seaborn scikit-learn # explicitly specify the environment\n",
    "```\n",
    "\n",
    "You can also install packages using `pip`:\n",
    "\n",
    "```sh\n",
    "pip install numpy pandas scipy seaborn scikit-learn\n",
    "```\n",
    "\n",
    "Alternatively, you can install packages to a specific environment using `conda`:\n",
    "\n"
   ]
  },
  {
   "cell_type": "markdown",
   "metadata": {},
   "source": [
    "To list all packages installed in the current environment:\n",
    "\n",
    "```sh\n",
    "conda list\n",
    "```"
   ]
  },
  {
   "cell_type": "markdown",
   "metadata": {},
   "source": [
    "### Share the environment\n",
    "\n",
    "To share the environment with someone else, you can export the environment to a file and then they can create the same environment on their machine:\n",
    "\n",
    "```sh\n",
    "# machine 1\n",
    "conda env export > env.yml\n",
    "\n",
    "# machine 2\n",
    "conda env create -f env.yml\n",
    "```"
   ]
  },
  {
   "cell_type": "markdown",
   "metadata": {},
   "source": [
    "### Errors are your friends\n",
    "\n",
    "> Remember: errors are your friends. They tell you what you need to fix.\n",
    "\n",
    "You will often see this `ModuleNotFoundError` error:\n",
    "\n",
    "```\n",
    "Traceback (most recent call last):\n",
    "  File \"my_script.py\", line 3, in <module>\n",
    "    import numpy\n",
    "ModuleNotFoundError: No module named 'numpy'\n",
    "```\n",
    "\n",
    "This means one of two:\n",
    "\n",
    "1. You have not installed the package.\n",
    "2. You are not in the right environment."
   ]
  }
 ],
 "metadata": {
  "language_info": {
   "name": "python"
  }
 },
 "nbformat": 4,
 "nbformat_minor": 2
}
