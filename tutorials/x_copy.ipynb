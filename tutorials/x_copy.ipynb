{
 "cells": [
  {
   "cell_type": "markdown",
   "metadata": {},
   "source": [
    "# Deep Copy vs. Shallow Copy"
   ]
  },
  {
   "cell_type": "markdown",
   "metadata": {},
   "source": [
    "Making a copy of a flat container is straightforward. However, when it comes to nested containers, it becomes a bit tricky. This is because the default copy operation creates a **shallow copy** of the container, which means that the container is duplicated, but the elements are not. This can lead to unexpected behavior, especially when the container contains mutable elements."
   ]
  },
  {
   "cell_type": "code",
   "execution_count": 18,
   "metadata": {},
   "outputs": [
    {
     "name": "stdout",
     "output_type": "stream",
     "text": [
      "True\n",
      "[1, 2, 3, 4]\n"
     ]
    }
   ],
   "source": [
    "l1 = [1, 2, 3]  # create list\n",
    "l2 = l1         # create another reference to l1\n",
    "print(l1 is l2) # True\n",
    "l2.append(4)    # modify l2\n",
    "print(l1)       # l1 has been changed as well"
   ]
  },
  {
   "cell_type": "code",
   "execution_count": 17,
   "metadata": {},
   "outputs": [
    {
     "name": "stdout",
     "output_type": "stream",
     "text": [
      "[1, 2, 3, 100]\n",
      "[1, 2, 3, 200]\n"
     ]
    }
   ],
   "source": [
    "l1 = [1, 2, 3] # create list\n",
    "l2 = l1.copy() # create a copy of the list\n",
    "\n",
    "l1.append(100) # modify l1\n",
    "l2.append(200) # modify l2\n",
    "print(l1)\n",
    "print(l2)\n",
    "# they are different now"
   ]
  },
  {
   "cell_type": "markdown",
   "metadata": {},
   "source": [
    "### Deep Copy"
   ]
  },
  {
   "cell_type": "markdown",
   "metadata": {},
   "source": [
    "Let's attempt to make a copy of a nested list using the default copy operation and see what happens."
   ]
  },
  {
   "cell_type": "code",
   "execution_count": 20,
   "metadata": {},
   "outputs": [
    {
     "name": "stdout",
     "output_type": "stream",
     "text": [
      "different\n",
      "None\n",
      "None\n",
      "[[1, 2, 3], [4, 5, 6], [7, 8, 9], [10, 11, 12]]\n",
      "[[1, 2, 3], [4, 5, 6], [7, 8, 9], [13, 14, 15]]\n"
     ]
    }
   ],
   "source": [
    "xs = [[1, 2, 3], [4, 5, 6], [7, 8, 9]]\n",
    "ys = xs.copy()  # Make a copy (shallow)\n",
    "print('same' if xs is ys else 'different')\n",
    "print(xs.append([10, 11, 12])) # Modify the original\n",
    "print(ys.append([13, 14, 15])) # Modify the copy\n",
    "print(xs)\n",
    "print(ys)"
   ]
  },
  {
   "cell_type": "markdown",
   "metadata": {},
   "source": [
    "This looks like it is working. Here is where it breaks:"
   ]
  },
  {
   "cell_type": "code",
   "execution_count": 21,
   "metadata": {},
   "outputs": [
    {
     "name": "stdout",
     "output_type": "stream",
     "text": [
      "[[100, 2, 3], [4, 5, 6], [7, 8, 9], [13, 14, 15]]\n"
     ]
    }
   ],
   "source": [
    "xs[0][0] = 100\n",
    "print(ys) # ys has been changed as well!"
   ]
  },
  {
   "cell_type": "markdown",
   "metadata": {},
   "source": [
    "Because the copy is shallow, it copied the references to the child objects, not a copy of the child objects themselves.\n",
    "\n",
    "Let's make a **Deep Copy** of the nested list and see what happens."
   ]
  },
  {
   "cell_type": "code",
   "execution_count": null,
   "metadata": {},
   "outputs": [],
   "source": []
  },
  {
   "cell_type": "code",
   "execution_count": 1,
   "metadata": {},
   "outputs": [
    {
     "name": "stdout",
     "output_type": "stream",
     "text": [
      "[[100, 2], [3, 4]]\n"
     ]
    }
   ],
   "source": [
    "xs = [[1, 2], [3, 4]]\n",
    "ys = xs.copy()\n",
    "ys[0][0] = 100\n",
    "print(xs)"
   ]
  },
  {
   "cell_type": "markdown",
   "metadata": {},
   "source": []
  },
  {
   "cell_type": "code",
   "execution_count": 1,
   "metadata": {},
   "outputs": [
    {
     "name": "stdout",
     "output_type": "stream",
     "text": [
      "[[1, 2], [4, 5], [7, 8], [99, 99]]\n",
      "[[1, 2], [4, 5], [7, 8]]\n",
      "[[1, 2], [4, 5], [7, 8]]\n"
     ]
    }
   ],
   "source": [
    "import copy\n",
    "\n",
    "xs = [[1, 2], [4, 5], [7, 8]]\n",
    "ys = xs.copy()         # shallow copy\n",
    "zs = copy.deepcopy(xs) # deep copy\n",
    "\n",
    "# Modify 1st level of the original\n",
    "xs.append([99, 99]) # modify the original\n",
    "print(xs) # xs has been changed\n",
    "print(ys) # ys has not changed\n",
    "print(zs) # zs has not changed"
   ]
  },
  {
   "cell_type": "code",
   "execution_count": 3,
   "metadata": {},
   "outputs": [
    {
     "name": "stdout",
     "output_type": "stream",
     "text": [
      "[[100, 2, 500], [4, 5], [7, 8], [99, 99]]\n",
      "[[100, 2, 500], [4, 5], [7, 8]]\n",
      "[[1, 2], [4, 5], [7, 8]]\n"
     ]
    }
   ],
   "source": [
    "# Modify 2nd level of the original\n",
    "xs[0].append(500) # modify the original\n",
    "print(xs) # xs has been changed\n",
    "print(ys) # ys has been changed\n",
    "print(zs) # zs has not changed"
   ]
  }
 ],
 "metadata": {
  "kernelspec": {
   "display_name": "Python 3",
   "language": "python",
   "name": "python3"
  },
  "language_info": {
   "codemirror_mode": {
    "name": "ipython",
    "version": 3
   },
   "file_extension": ".py",
   "mimetype": "text/x-python",
   "name": "python",
   "nbconvert_exporter": "python",
   "pygments_lexer": "ipython3",
   "version": "3.10.11"
  }
 },
 "nbformat": 4,
 "nbformat_minor": 2
}
