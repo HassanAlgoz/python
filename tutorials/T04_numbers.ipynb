{
 "cells": [
  {
   "cell_type": "markdown",
   "metadata": {},
   "source": [
    "## Numbers\n",
    "\n",
    "Docs: https://docs.python.org/3/library/math.html\n",
    "\n",
    "Python supports a variety of numeric data types, including integers, floats, and complex numbers.\n",
    "\n",
    "**Common use cases for numbers:**\n",
    "\n",
    "* Numbers can be used to represent quantities such as money, distance, and time.\n",
    "* Numbers can be used in mathematical formulas and calculations.\n",
    "* Numbers can be used for indexing and counting."
   ]
  },
  {
   "cell_type": "code",
   "execution_count": 2,
   "metadata": {},
   "outputs": [
    {
     "name": "stdout",
     "output_type": "stream",
     "text": [
      "7.5\n",
      "2.5\n",
      "12.5\n",
      "2.0\n",
      "2.0\n",
      "0.0\n",
      "55.90169943749474\n",
      "False\n",
      "True\n",
      "True\n",
      "False\n",
      "True\n",
      "False\n",
      "10\n",
      "55.90169943749474\n",
      "5\n",
      "2.5\n",
      "2\n",
      "2\n",
      "3\n",
      "-2.5\n",
      "0x5\n",
      "0o5\n",
      "0b101\n"
     ]
    }
   ],
   "source": [
    "# Declare numeric variables\n",
    "x = 5\n",
    "y = 2.5 \n",
    "z = -10\n",
    "\n",
    "# Arithmetic operations\n",
    "print(x + y) # Addition \n",
    "print(x - y) # Subtraction\n",
    "print(x * y) # Multiplication \n",
    "print(x / y) # Division\n",
    "print(x // y) # Floor division \n",
    "print(x % y) # Modulus\n",
    "print(x ** y) # Exponentiation\n",
    "\n",
    "# Comparison operations  \n",
    "print(x == y) # Equal to\n",
    "print(x != y) # Not equal to\n",
    "print(x > y) # Greater than\n",
    "print(x < y) # Less than\n",
    "print(x >= y) # Greater than or equal to \n",
    "print(x <= y) # Less than or equal to\n",
    "\n",
    "# Numeric methods\n",
    "print(abs(z)) # Absolute value\n",
    "print(pow(x,y)) # x to the power of y \n",
    "print(max(x,y)) # Maximum of x and y\n",
    "print(min(x,y)) # Minimum of x and y \n",
    "print(round(y)) # Round to nearest integer\n",
    "\n",
    "# Built-in functions  \n",
    "print(sum([x,y,z])) # Sum of all numbers in list\n",
    "print(hex(x)) # Hex representation \n",
    "print(oct(x)) # Octal representation\n",
    "print(bin(x)) # Binary representation"
   ]
  },
  {
   "cell_type": "markdown",
   "metadata": {},
   "source": [
    "Example: we can calcualte the area of a rectangle with the following formula:\n",
    "\n",
    "$$\n",
    "area = length \\times width\n",
    "$$"
   ]
  },
  {
   "cell_type": "code",
   "execution_count": null,
   "metadata": {},
   "outputs": [
    {
     "name": "stdout",
     "output_type": "stream",
     "text": [
      "50\n"
     ]
    }
   ],
   "source": [
    "# Calculate the area of a rectangule\n",
    "length, width = 10, 5\n",
    "area = length * width\n",
    "\n",
    "print(area)"
   ]
  },
  {
   "cell_type": "markdown",
   "metadata": {},
   "source": [
    "To access additional math functions: we [`import math`](https://docs.python.org/3/library/math.html), and then use the `math.` prefix to access the functions."
   ]
  },
  {
   "cell_type": "code",
   "execution_count": 6,
   "metadata": {},
   "outputs": [
    {
     "name": "stdout",
     "output_type": "stream",
     "text": [
      "80.0\n"
     ]
    }
   ],
   "source": [
    "import math\n",
    "\n",
    "x = abs(-2) + math.pow(2, 3)\n",
    "y = math.sqrt(64)\n",
    "z = x * y\n",
    "print(z)"
   ]
  },
  {
   "cell_type": "markdown",
   "metadata": {},
   "source": [
    "Note that some functions are directly accessible like `abs`, it doesn't need the math import. But some functions like `pow` and `sqrt` need the math import."
   ]
  },
  {
   "cell_type": "markdown",
   "metadata": {},
   "source": [
    "#### Exercise\n",
    "\n",
    "Ex: Write a program that asks the user for two numbers and prints their sum, difference, product, quotient and remainder. Use appropriate variable names and comments."
   ]
  },
  {
   "cell_type": "code",
   "execution_count": 7,
   "metadata": {},
   "outputs": [],
   "source": [
    "# try it"
   ]
  },
  {
   "cell_type": "markdown",
   "metadata": {},
   "source": [
    "Ex: calculate the area of a cube given by the following forumla: \n",
    "\n",
    "$$\n",
    "\\text{area} = \\text{width} \\times \\text{length} \\times \\text{height}\n",
    "$$\n",
    "\n",
    "- Assign the width, length, and height to variables.\n",
    "- Calculate the area using the formula.\n",
    "- Print the result."
   ]
  },
  {
   "cell_type": "code",
   "execution_count": null,
   "metadata": {},
   "outputs": [],
   "source": [
    "# try it"
   ]
  },
  {
   "cell_type": "markdown",
   "metadata": {},
   "source": [
    "Ex: Write a program the calculates the area of a circle given by the following formula:\n",
    "\n",
    "$$\n",
    "\\text{area} = \\pi \\times \\text{radius}^2\n",
    "$$\n",
    "\n",
    "- Assign the radius to a variable.\n",
    "- Calculate the area using the formula.\n",
    "- Print the result.\n",
    "\n",
    "Hint: you can use the `math.pi` constant to get the value of $\\pi$."
   ]
  },
  {
   "cell_type": "markdown",
   "metadata": {},
   "source": [
    "Ex: Write a program to calculate the quadratic formula given by the following formula:\n",
    "\n",
    "$$\n",
    "x = \\frac{-b \\pm \\sqrt{b^2 - 4ac}}{2a}\n",
    "$$\n",
    "\n",
    "Which is really two formulas:\n",
    "\n",
    "$$\n",
    "x_1 = \\frac{-b + \\sqrt{b^2 - 4ac}}{2a}\n",
    "$$\n",
    "\n",
    "$$\n",
    "x_2 = \\frac{-b - \\sqrt{b^2 - 4ac}}{2a}\n",
    "$$\n",
    "\n",
    "- Assign the values of `a`, `b`, and `c` to variables.\n",
    "- Calculate the two solutions (`x1` and `x2`) using the formula.\n",
    "- Print the results."
   ]
  },
  {
   "cell_type": "markdown",
   "metadata": {},
   "source": [
    "## Formatting Numbers\n"
   ]
  },
  {
   "cell_type": "code",
   "execution_count": 9,
   "metadata": {},
   "outputs": [
    {
     "name": "stdout",
     "output_type": "stream",
     "text": [
      "10.5679\n"
     ]
    }
   ],
   "source": [
    "# Basic number formatting\n",
    "num = 10.5679\n",
    "print(num) "
   ]
  },
  {
   "cell_type": "code",
   "execution_count": 20,
   "metadata": {},
   "outputs": [
    {
     "name": "stdout",
     "output_type": "stream",
     "text": [
      "10.57\n"
     ]
    }
   ],
   "source": [
    "# Limit decimal places to 2\n",
    "print(\"{:.2f}\".format(num))"
   ]
  },
  {
   "cell_type": "markdown",
   "metadata": {},
   "source": [
    "Instead of using the `.format()` function, can just use the `f`string to format numbers:"
   ]
  },
  {
   "cell_type": "code",
   "execution_count": 10,
   "metadata": {},
   "outputs": [
    {
     "name": "stdout",
     "output_type": "stream",
     "text": [
      "10.57\n"
     ]
    }
   ],
   "source": [
    "\n",
    "# Limit decimal places to 2\n",
    "print(f\"{num:.2f}\")\n"
   ]
  },
  {
   "cell_type": "code",
   "execution_count": 13,
   "metadata": {},
   "outputs": [
    {
     "name": "stdout",
     "output_type": "stream",
     "text": [
      "     10.57\n"
     ]
    }
   ],
   "source": [
    "\n",
    "# Right align\n",
    "print(f\"{num:>10.2f}\")\n"
   ]
  },
  {
   "cell_type": "code",
   "execution_count": 14,
   "metadata": {},
   "outputs": [
    {
     "name": "stdout",
     "output_type": "stream",
     "text": [
      "1,000,000\n"
     ]
    }
   ],
   "source": [
    "\n",
    "# Add thousands separator to integers\n",
    "big_num = 1000000\n",
    "print(f\"{big_num:,}\")\n"
   ]
  },
  {
   "cell_type": "code",
   "execution_count": 15,
   "metadata": {},
   "outputs": [
    {
     "name": "stdout",
     "output_type": "stream",
     "text": [
      "23.50%\n"
     ]
    }
   ],
   "source": [
    "# Format percent\n",
    "percent = 0.235\n",
    "print(f\"{percent:.2%}\")\n"
   ]
  },
  {
   "cell_type": "code",
   "execution_count": 16,
   "metadata": {},
   "outputs": [
    {
     "name": "stdout",
     "output_type": "stream",
     "text": [
      "$19.95\n"
     ]
    }
   ],
   "source": [
    "# Format currency (USD)\n",
    "price = 19.95\n",
    "print(f\"${price:,.2f}\")\n"
   ]
  },
  {
   "cell_type": "code",
   "execution_count": 22,
   "metadata": {},
   "outputs": [
    {
     "name": "stdout",
     "output_type": "stream",
     "text": [
      "9.00e+03\n"
     ]
    }
   ],
   "source": [
    "# Scientific Notation\n",
    "number = 9000\n",
    "print(f\"{number:.2e}\")"
   ]
  },
  {
   "cell_type": "markdown",
   "metadata": {},
   "source": [
    "### Order of precedence\n",
    "\n",
    "The order of precedence is the same as in math:\n",
    "\n",
    "1. Parentheses\n",
    "2. Exponents\n",
    "3. Multiplication and division\n",
    "4. Addition and subtraction"
   ]
  },
  {
   "cell_type": "markdown",
   "metadata": {},
   "source": [
    "#### Exercise\n",
    "\n",
    "Ex: Add parentheses to change the outcome:\n",
    "\n",
    "```python\n",
    "print(3 + 2 * 5)  # Output: 13, desired: 25\n",
    "print(8 - 4 / 2)  # Output: 6, desired: 2\n",
    "```"
   ]
  },
  {
   "cell_type": "code",
   "execution_count": 23,
   "metadata": {},
   "outputs": [],
   "source": [
    "# try it"
   ]
  },
  {
   "cell_type": "markdown",
   "metadata": {},
   "source": [
    "End of tutorial."
   ]
  }
 ],
 "metadata": {
  "kernelspec": {
   "display_name": "Python 3",
   "language": "python",
   "name": "python3"
  },
  "language_info": {
   "codemirror_mode": {
    "name": "ipython",
    "version": 3
   },
   "file_extension": ".py",
   "mimetype": "text/x-python",
   "name": "python",
   "nbconvert_exporter": "python",
   "pygments_lexer": "ipython3",
   "version": "3.11.5"
  }
 },
 "nbformat": 4,
 "nbformat_minor": 2
}
