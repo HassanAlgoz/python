{
 "cells": [
  {
   "cell_type": "markdown",
   "metadata": {},
   "source": [
    "#### Exercise: Naming Conventions\n",
    "\n",
    "Refactor the code to fix all naming convention violations based on the rules provided:\n",
    "\n",
    "- Change names to snake_case \n",
    "- Use descriptive names for x\n",
    "- Change class name to CapWords\n",
    "- Add is/has prefixes as needed\n",
    "- Fix other naming issues\n",
    "\n",
    "\n",
    "**Note: add a comment to specify the violation and the fix**.\n",
    "\n",
    "Following is the code snippet that you shall fix:"
   ]
  },
  {
   "cell_type": "markdown",
   "metadata": {},
   "source": [
    "Example:\n",
    "\n",
    "Before:\n",
    "```python\n",
    "def calculateAreaOfRectangle(l, w):\n",
    "    return l * w\n",
    "```\n",
    "\n",
    "After:\n",
    "```python\n",
    "# Function name should be in snake_case\n",
    "# Descriptive name for l and w\n",
    "def calculate_area_of_rectangle(length, width):\n",
    "    return length * width\n",
    "```\n",
    "\n",
    "Note that the solution includes adding the comments (`#`) to explain the changes."
   ]
  },
  {
   "cell_type": "code",
   "execution_count": null,
   "metadata": {},
   "outputs": [],
   "source": [
    "class product {\n",
    "  def __init__(self, namE, pric3):\n",
    "    self.naME = namE  \n",
    "    self.priC3 = pric3\n",
    "\n",
    "  def is_valid(self):\n",
    "          return True\n",
    "}\n",
    "\n",
    "x = 5\n",
    "first-name = \"John\"\n",
    "\n",
    "  hasKids = True"
   ]
  },
  {
   "cell_type": "code",
   "execution_count": null,
   "metadata": {},
   "outputs": [],
   "source": [
    "class product:\n",
    "\n",
    "  def __init__(self, name1, cost$):  \n",
    "    self.naMe=name1\n",
    "      self.cost$=cost$\n",
    "\n",
    "  def isVALID(self):  \n",
    "    return True\n",
    "\n",
    "x=5\n",
    "y = \"John's name\""
   ]
  }
 ],
 "metadata": {
  "language_info": {
   "name": "python"
  }
 },
 "nbformat": 4,
 "nbformat_minor": 2
}
